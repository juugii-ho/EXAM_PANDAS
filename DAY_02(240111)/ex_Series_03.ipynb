{
 "cells": [
  {
   "cell_type": "markdown",
   "id": "ed6703bd-799f-4955-91ae-b62e23f427eb",
   "metadata": {},
   "source": [
    "[ Series 객체 원소 인덱싱 & 슬라이싱 ]"
   ]
  },
  {
   "cell_type": "markdown",
   "id": "b289f2f1-9c69-4d3c-bb93-004cd893447e",
   "metadata": {},
   "source": [
    "(1) 모듈 로딩 -------------------------------\n"
   ]
  },
  {
   "cell_type": "code",
   "execution_count": 7,
   "id": "2cfed372-3f6f-417c-acc0-b8931cc31ec0",
   "metadata": {},
   "outputs": [],
   "source": [
    "from pandas import Series"
   ]
  },
  {
   "cell_type": "markdown",
   "id": "bda23d95-bc38-4a58-8f6f-e4d92c0c60ab",
   "metadata": {},
   "source": [
    "(2) 데이터 준비 -------------------------------"
   ]
  },
  {
   "cell_type": "code",
   "execution_count": 13,
   "id": "47ec873a-18d3-451f-8887-b69c9b1a9ad3",
   "metadata": {},
   "outputs": [],
   "source": [
    "datas = {'name':'홍길동', 'age':12, 'job':'도적'}"
   ]
  },
  {
   "cell_type": "markdown",
   "id": "dc7af30d-b173-49c0-911d-a31785361ac8",
   "metadata": {},
   "source": [
    "(3) Series 객체 생성 -------------------------------"
   ]
  },
  {
   "cell_type": "code",
   "execution_count": 12,
   "id": "b2a279cf-03af-40df-a86b-22cb78166f59",
   "metadata": {},
   "outputs": [],
   "source": [
    "sr1 = Series(datas)"
   ]
  },
  {
   "cell_type": "code",
   "execution_count": 10,
   "id": "d3d04a17-b66d-4c92-8ffd-845a935edd14",
   "metadata": {},
   "outputs": [
    {
     "data": {
      "text/plain": [
       "name    홍길동\n",
       "age      12\n",
       "job      도적\n",
       "dtype: object"
      ]
     },
     "execution_count": 10,
     "metadata": {},
     "output_type": "execute_result"
    }
   ],
   "source": [
    "sr1"
   ]
  },
  {
   "cell_type": "markdown",
   "id": "fab65728-74fc-4b31-a919-da55d43be50e",
   "metadata": {},
   "source": [
    "(4) 인덱싱으로 원소 읽기 -------------------------------"
   ]
  },
  {
   "cell_type": "markdown",
   "id": "22320bcb-6e67-440a-9e59-01aaa558583c",
   "metadata": {},
   "source": [
    "=> 1개 원소 읽기"
   ]
  },
  {
   "cell_type": "code",
   "execution_count": 14,
   "id": "45184d23-6e02-4112-af8b-4b7a6e390cda",
   "metadata": {},
   "outputs": [
    {
     "data": {
      "text/plain": [
       "(12, 12, Index(['name', 'age', 'job'], dtype='object'))"
      ]
     },
     "execution_count": 14,
     "metadata": {},
     "output_type": "execute_result"
    }
   ],
   "source": [
    "sr1['age'], sr1[1], sr1.index"
   ]
  },
  {
   "cell_type": "markdown",
   "id": "07a5526e-bb00-4c8a-8a65-d3d196f2c5c7",
   "metadata": {},
   "source": [
    "=> 2\n",
    "개 원소 읽기"
   ]
  },
  {
   "cell_type": "code",
   "execution_count": 16,
   "id": "a2b3092f-e6f6-417b-a9d0-9753acb5d224",
   "metadata": {},
   "outputs": [
    {
     "data": {
      "text/plain": [
       "('홍길동', '도적', '홍길동', '도적')"
      ]
     },
     "execution_count": 16,
     "metadata": {},
     "output_type": "execute_result"
    }
   ],
   "source": [
    "# 이름과 직업 데이터 읽기 ==> 원소 단위\n",
    "sr1['name'],sr1['job'],sr1[0],sr1[2]"
   ]
  },
  {
   "cell_type": "code",
   "execution_count": 19,
   "id": "d394458f-3ae5-4135-8aab-bd58c1bc8afd",
   "metadata": {},
   "outputs": [],
   "source": [
    "a = [1,2,3]\n",
    "b = (11,22,33)"
   ]
  },
  {
   "cell_type": "code",
   "execution_count": 21,
   "id": "7eb6867e-9573-46fd-a291-967367b2cb95",
   "metadata": {},
   "outputs": [
    {
     "data": {
      "text/plain": [
       "(1, int, [1], list)"
      ]
     },
     "execution_count": 21,
     "metadata": {},
     "output_type": "execute_result"
    }
   ],
   "source": [
    "a[0], type(a[0]), a[:1], type(a[:1])"
   ]
  },
  {
   "cell_type": "code",
   "execution_count": 27,
   "id": "5ef1dd1d-7f10-4175-afe8-eca75912015f",
   "metadata": {},
   "outputs": [
    {
     "data": {
      "text/plain": [
       "(pandas.core.series.Series,\n",
       " name    홍길동\n",
       " job      도적\n",
       " dtype: object)"
      ]
     },
     "execution_count": 27,
     "metadata": {},
     "output_type": "execute_result"
    }
   ],
   "source": [
    "# 이름과 직업 데이터 읽기 ==> 리스트 단위로 읽기 ==> 시리즈로 나옴\n",
    "ret=sr1[['name','job']]\n",
    "ret2=sr1[[0,2]]\n",
    "type(ret),ret"
   ]
  },
  {
   "cell_type": "code",
   "execution_count": 40,
   "id": "a7ed2578-fdfd-4a66-8521-662f462fb13b",
   "metadata": {},
   "outputs": [
    {
     "data": {
      "text/plain": [
       "(pandas.core.series.Series,\n",
       " name    홍길동\n",
       " job      도적\n",
       " dtype: object)"
      ]
     },
     "execution_count": 40,
     "metadata": {},
     "output_type": "execute_result"
    }
   ],
   "source": [
    "type(ret2),ret2"
   ]
  },
  {
   "cell_type": "markdown",
   "id": "73163bfd-3249-4a66-81bc-8fa82557b488",
   "metadata": {
    "jp-MarkdownHeadingCollapsed": true
   },
   "source": [
    " - 위치 인덱스로 슬라이싱 -------------------------"
   ]
  },
  {
   "cell_type": "code",
   "execution_count": 33,
   "id": "0bd97799-0cda-4da5-8e29-68b830f1e29b",
   "metadata": {},
   "outputs": [
    {
     "data": {
      "text/plain": [
       "name    홍길동\n",
       "dtype: object"
      ]
     },
     "execution_count": 33,
     "metadata": {},
     "output_type": "execute_result"
    }
   ],
   "source": [
    "sr1[:-2]"
   ]
  },
  {
   "cell_type": "code",
   "execution_count": 35,
   "id": "8e7d3b5e-d3c1-48cd-a8e1-a782cf1ee8b8",
   "metadata": {},
   "outputs": [
    {
     "data": {
      "text/plain": [
       "name    홍길동\n",
       "age      12\n",
       "dtype: object"
      ]
     },
     "execution_count": 35,
     "metadata": {},
     "output_type": "execute_result"
    }
   ],
   "source": [
    "sr1[:-1]"
   ]
  },
  {
   "cell_type": "code",
   "execution_count": 39,
   "id": "5d64ec12-2268-4843-ac00-3ce335c12900",
   "metadata": {},
   "outputs": [
    {
     "data": {
      "text/plain": [
       "age    12\n",
       "job    도적\n",
       "dtype: object"
      ]
     },
     "execution_count": 39,
     "metadata": {},
     "output_type": "execute_result"
    }
   ],
   "source": [
    "sr1[1:]"
   ]
  },
  {
   "cell_type": "markdown",
   "id": "47088158-3109-472b-a3a3-a5885833ef68",
   "metadata": {},
   "source": [
    "- 레이블 인덱스로 슬라이싱 -------------------------"
   ]
  },
  {
   "cell_type": "code",
   "execution_count": 41,
   "id": "5a540f04-e2cc-4413-8c8e-95432702ea76",
   "metadata": {},
   "outputs": [
    {
     "data": {
      "text/plain": [
       "name    홍길동\n",
       "age      12\n",
       "job      도적\n",
       "dtype: object"
      ]
     },
     "execution_count": 41,
     "metadata": {},
     "output_type": "execute_result"
    }
   ],
   "source": [
    "sr1['name':'job']       # 시작 <= ~ <= 끝 (포함됨, 닫힌 구간)"
   ]
  },
  {
   "cell_type": "code",
   "execution_count": 42,
   "id": "dc8b3bd7-ed8d-4a6b-8c90-0248f9fa001b",
   "metadata": {},
   "outputs": [
    {
     "data": {
      "text/plain": [
       "name    홍길동\n",
       "age      12\n",
       "dtype: object"
      ]
     },
     "execution_count": 42,
     "metadata": {},
     "output_type": "execute_result"
    }
   ],
   "source": [
    "sr1['name':'age']       # 시작 <= ~ <= 끝 (포함됨, 닫힌 구간)"
   ]
  },
  {
   "cell_type": "code",
   "execution_count": null,
   "id": "2ebce95e-cc15-4af9-a43c-99ade8b242a9",
   "metadata": {},
   "outputs": [],
   "source": []
  }
 ],
 "metadata": {
  "kernelspec": {
   "display_name": "Python 3 (ipykernel)",
   "language": "python",
   "name": "python3"
  },
  "language_info": {
   "codemirror_mode": {
    "name": "ipython",
    "version": 3
   },
   "file_extension": ".py",
   "mimetype": "text/x-python",
   "name": "python",
   "nbconvert_exporter": "python",
   "pygments_lexer": "ipython3",
   "version": "3.8.18"
  }
 },
 "nbformat": 4,
 "nbformat_minor": 5
}
