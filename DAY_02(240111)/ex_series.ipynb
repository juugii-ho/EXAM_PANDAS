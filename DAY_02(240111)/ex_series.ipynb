{
 "cells": [
  {
   "cell_type": "markdown",
   "id": "b4e69fb4",
   "metadata": {},
   "source": [
    "<h1>시리즈(Series) 살펴보기</h1>\n",
    "- 판다스에서 데이터를 저장하는 자료 구조 중 하나  \n",
    "\n",
    "- 동일한 타입의 데이터를 연속된 메모리 공간에 저장 함  \n",
    "\n",
    "- 구성 : 인덱스 + 데이터\n",
    "  \n",
    "- 생성 : Series() 생성자 메서드  "
   ]
  },
  {
   "cell_type": "markdown",
   "id": "05246389",
   "metadata": {},
   "source": [
    "(1) 모듈 로딩 ----------------------------"
   ]
  },
  {
   "cell_type": "code",
   "execution_count": 20,
   "id": "57e30993",
   "metadata": {},
   "outputs": [],
   "source": [
    "import pandas as pd"
   ]
  },
  {
   "cell_type": "markdown",
   "id": "0b26b030",
   "metadata": {},
   "source": [
    "(2) 시리즈 객체 생성 ---------------------"
   ]
  },
  {
   "cell_type": "code",
   "execution_count": 21,
   "id": "d83970a4",
   "metadata": {},
   "outputs": [],
   "source": [
    "# 객체 생성에 사용되는 메서드 => 생성자(Constructor)\n",
    "# 데이터 타입과 동일한 이름의 메서드 => Series()\n",
    "sr=pd.Series([11,22,33])"
   ]
  },
  {
   "cell_type": "code",
   "execution_count": null,
   "id": "1490fe19-215d-433f-8025-3e4fc94b1003",
   "metadata": {},
   "outputs": [],
   "source": []
  },
  {
   "cell_type": "code",
   "execution_count": 31,
   "id": "bf66fc7e",
   "metadata": {
    "scrolled": true
   },
   "outputs": [
    {
     "data": {
      "text/plain": [
       "A    11\n",
       "B    22\n",
       "C    33\n",
       "dtype: int64"
      ]
     },
     "execution_count": 31,
     "metadata": {},
     "output_type": "execute_result"
    }
   ],
   "source": [
    "sr"
   ]
  },
  {
   "cell_type": "markdown",
   "id": "161a130c-2b89-4dcd-8231-3d6e0f68e50b",
   "metadata": {},
   "source": [
    "Series 객체의 속성(attributes)/필드(field) 살펴보기\n",
    "- 기본 : data, index,dtype\n",
    "- 읽기 : 객체변수명, 속성명\n",
    "- 쓰기 : 객체변수명, 속성명 = 새로운 값"
   ]
  },
  {
   "cell_type": "code",
   "execution_count": null,
   "id": "1f8f732e-03c0-4ef4-b805-97be2488c1c4",
   "metadata": {},
   "outputs": [],
   "source": []
  },
  {
   "cell_type": "code",
   "execution_count": 23,
   "id": "22b795ba",
   "metadata": {},
   "outputs": [
    {
     "data": {
      "text/plain": [
       "RangeIndex(start=0, stop=3, step=1)"
      ]
     },
     "execution_count": 23,
     "metadata": {},
     "output_type": "execute_result"
    }
   ],
   "source": [
    "sr.index"
   ]
  },
  {
   "cell_type": "code",
   "execution_count": 24,
   "id": "b8b04380-c2a4-42dc-8562-0e4e4388160d",
   "metadata": {},
   "outputs": [
    {
     "data": {
      "text/plain": [
       "array([11, 22, 33])"
      ]
     },
     "execution_count": 24,
     "metadata": {},
     "output_type": "execute_result"
    }
   ],
   "source": [
    "sr.values"
   ]
  },
  {
   "cell_type": "code",
   "execution_count": 25,
   "id": "6a2fd080-e6f1-497b-a5c9-5b29fff99b95",
   "metadata": {},
   "outputs": [],
   "source": [
    "# array([11,22,33], dtype=int64)"
   ]
  },
  {
   "cell_type": "code",
   "execution_count": 26,
   "id": "a135c2c7-1226-48d6-8fba-02beaa8c3d94",
   "metadata": {},
   "outputs": [],
   "source": [
    "# 시리즈 객체의 인덱스 변경\n",
    "sr.index=[100, 200, 300]"
   ]
  },
  {
   "cell_type": "code",
   "execution_count": 27,
   "id": "209f47b6-e1ac-4c36-970b-28553c12c3e3",
   "metadata": {},
   "outputs": [
    {
     "data": {
      "text/plain": [
       "100    11\n",
       "200    22\n",
       "300    33\n",
       "dtype: int64"
      ]
     },
     "execution_count": 27,
     "metadata": {},
     "output_type": "execute_result"
    }
   ],
   "source": [
    "sr"
   ]
  },
  {
   "cell_type": "code",
   "execution_count": 28,
   "id": "8dd956b5-ea97-40ef-a4bf-770f2107089e",
   "metadata": {},
   "outputs": [
    {
     "data": {
      "text/plain": [
       "A    11\n",
       "B    22\n",
       "C    33\n",
       "dtype: int64"
      ]
     },
     "execution_count": 28,
     "metadata": {},
     "output_type": "execute_result"
    }
   ],
   "source": [
    "sr.index=['A','B','C']\n",
    "sr"
   ]
  },
  {
   "cell_type": "code",
   "execution_count": 33,
   "id": "9fe1608d-8d1a-461e-9a5c-312e5824e9b6",
   "metadata": {},
   "outputs": [],
   "source": [
    "# sr.values=[777,888,999]\n",
    "# sr"
   ]
  },
  {
   "cell_type": "markdown",
   "id": "bf090d00-83ad-4d00-a191-e51b63a76392",
   "metadata": {},
   "source": [
    "- 시리즈 객체의 요소 데이터/값 제어  \n",
    "    - 읽기 : 객체변수명[인덱스]\n",
    "    - 쓰기 : 객체변수명[인덱스] = 새로운 값"
   ]
  },
  {
   "cell_type": "code",
   "execution_count": 35,
   "id": "0156d64e-f130-4284-8409-579ff9665525",
   "metadata": {},
   "outputs": [
    {
     "data": {
      "text/plain": [
       "11"
      ]
     },
     "execution_count": 35,
     "metadata": {},
     "output_type": "execute_result"
    }
   ],
   "source": [
    "sr['A']"
   ]
  },
  {
   "cell_type": "code",
   "execution_count": 36,
   "id": "e50a877f-0999-4519-b20b-f41889879e4a",
   "metadata": {},
   "outputs": [],
   "source": [
    "sr['A'] = 2024"
   ]
  },
  {
   "cell_type": "code",
   "execution_count": 37,
   "id": "77e24d6c-869b-48c0-a866-f630b19f36c6",
   "metadata": {},
   "outputs": [
    {
     "data": {
      "text/plain": [
       "A    2024\n",
       "B      22\n",
       "C      33\n",
       "dtype: int64"
      ]
     },
     "execution_count": 37,
     "metadata": {},
     "output_type": "execute_result"
    }
   ],
   "source": [
    "sr"
   ]
  },
  {
   "cell_type": "code",
   "execution_count": 38,
   "id": "35177d89-d55f-4f26-b4c4-d544f9d6a671",
   "metadata": {},
   "outputs": [
    {
     "data": {
      "text/plain": [
       "Index(['A', 'B', 'C'], dtype='object')"
      ]
     },
     "execution_count": 38,
     "metadata": {},
     "output_type": "execute_result"
    }
   ],
   "source": [
    "sr.index"
   ]
  },
  {
   "cell_type": "code",
   "execution_count": 39,
   "id": "78a5df9b-0c63-4824-b875-dc3d60695e32",
   "metadata": {},
   "outputs": [
    {
     "data": {
      "text/plain": [
       "2024"
      ]
     },
     "execution_count": 39,
     "metadata": {},
     "output_type": "execute_result"
    }
   ],
   "source": [
    "sr[0]"
   ]
  },
  {
   "cell_type": "code",
   "execution_count": 40,
   "id": "c5069593-4a7b-448b-a4cf-d397eb83212d",
   "metadata": {
    "scrolled": true
   },
   "outputs": [
    {
     "data": {
      "text/plain": [
       "numpy.int64"
      ]
     },
     "execution_count": 40,
     "metadata": {},
     "output_type": "execute_result"
    }
   ],
   "source": [
    "type(sr[0])"
   ]
  },
  {
   "cell_type": "code",
   "execution_count": 42,
   "id": "6d52ed16-4695-4a9e-b04f-92ff73185b47",
   "metadata": {},
   "outputs": [],
   "source": [
    "sr.index=[11,22,33]"
   ]
  },
  {
   "cell_type": "code",
   "execution_count": 44,
   "id": "05101981-daa8-482f-b9fb-ffa3ac83935d",
   "metadata": {},
   "outputs": [
    {
     "data": {
      "text/plain": [
       "Index([11, 22, 33], dtype='int64')"
      ]
     },
     "execution_count": 44,
     "metadata": {},
     "output_type": "execute_result"
    }
   ],
   "source": [
    "sr.index"
   ]
  },
  {
   "cell_type": "code",
   "execution_count": 46,
   "id": "b6542f4d-50fc-4a39-b728-28cea90ddf05",
   "metadata": {},
   "outputs": [],
   "source": [
    "# sr[0]"
   ]
  },
  {
   "cell_type": "code",
   "execution_count": 49,
   "id": "360c5def-2a1e-451b-9651-5d3d68dce28c",
   "metadata": {},
   "outputs": [
    {
     "name": "stdout",
     "output_type": "stream",
     "text": [
      "11 2024\n",
      "22 22\n",
      "33 33\n"
     ]
    }
   ],
   "source": [
    "for idx in sr.index:\n",
    "    print(idx, sr[idx])\n",
    "    sr[idx] = sr[idx]+1"
   ]
  },
  {
   "cell_type": "code",
   "execution_count": 53,
   "id": "d2c4a7a0-d5ac-418c-af5c-cab0ced088bd",
   "metadata": {},
   "outputs": [],
   "source": [
    "sr.index=['1','2','3']"
   ]
  },
  {
   "cell_type": "code",
   "execution_count": 55,
   "id": "2ced614c-0c61-4031-85c1-9af8b9c03277",
   "metadata": {},
   "outputs": [
    {
     "data": {
      "text/plain": [
       "(2024, 2024)"
      ]
     },
     "execution_count": 55,
     "metadata": {},
     "output_type": "execute_result"
    }
   ],
   "source": [
    "sr['1'],sr[0]"
   ]
  },
  {
   "cell_type": "code",
   "execution_count": 56,
   "id": "0d8b6756-f05a-435f-b91a-648846c99766",
   "metadata": {},
   "outputs": [
    {
     "data": {
      "text/plain": [
       "22"
      ]
     },
     "execution_count": 56,
     "metadata": {},
     "output_type": "execute_result"
    }
   ],
   "source": [
    "# 정수형 숫자로 라벨 인덱스 변경\n",
    "sr[1]"
   ]
  },
  {
   "cell_type": "code",
   "execution_count": 61,
   "id": "cd90f418-6ded-4387-b723-0467fc903286",
   "metadata": {},
   "outputs": [],
   "source": [
    "# 숫자 라벨 인덱스 지정하면 정수 위치 인덱스 => 정수 위치 인덱스 사용 불가!\n",
    "sr.index=[1,2,3]\n",
    "# sr[0]"
   ]
  },
  {
   "cell_type": "code",
   "execution_count": null,
   "id": "72c4417a-9002-468a-8fd5-22965a4b08a6",
   "metadata": {},
   "outputs": [],
   "source": []
  }
 ],
 "metadata": {
  "kernelspec": {
   "display_name": "Python 3 (ipykernel)",
   "language": "python",
   "name": "python3"
  },
  "language_info": {
   "codemirror_mode": {
    "name": "ipython",
    "version": 3
   },
   "file_extension": ".py",
   "mimetype": "text/x-python",
   "name": "python",
   "nbconvert_exporter": "python",
   "pygments_lexer": "ipython3",
   "version": "3.8.18"
  }
 },
 "nbformat": 4,
 "nbformat_minor": 5
}
