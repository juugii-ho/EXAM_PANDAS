{
 "cells": [
  {
   "cell_type": "markdown",
   "id": "64f0dc77-e7f1-41eb-89bc-0aa2d8269212",
   "metadata": {},
   "source": [
    "[ 다양한 Series 객체 생성 ]\n"
   ]
  },
  {
   "cell_type": "markdown",
   "id": "20e1a176-08dd-48cd-8107-59e34f84a22e",
   "metadata": {},
   "source": [
    "(1) 모듈 로딩"
   ]
  },
  {
   "cell_type": "code",
   "execution_count": 4,
   "id": "7b5c722a-fb2f-4835-98e9-f8957bd419c8",
   "metadata": {},
   "outputs": [],
   "source": [
    "import pandas as pd"
   ]
  },
  {
   "cell_type": "markdown",
   "id": "29137a8c-5aec-4841-99c9-31974f00ff42",
   "metadata": {},
   "source": [
    "### (2) Series 객체 생성 - 방법 1\n",
    "- Series( data, index=지정)\n"
   ]
  },
  {
   "cell_type": "code",
   "execution_count": null,
   "id": "67b57550-c12c-4f49-b0af-18dfbe8bde0d",
   "metadata": {},
   "outputs": [],
   "source": []
  },
  {
   "cell_type": "code",
   "execution_count": 7,
   "id": "0ca601d0-c962-4024-a342-de16a6918c49",
   "metadata": {},
   "outputs": [],
   "source": [
    "sr1 = pd.Series([11,22,33], index=['one', 'two', 'three'])"
   ]
  },
  {
   "cell_type": "code",
   "execution_count": 9,
   "id": "6d9f3e44-8e60-431e-a3d3-8e62de904c00",
   "metadata": {},
   "outputs": [
    {
     "data": {
      "text/plain": [
       "one      11\n",
       "two      22\n",
       "three    33\n",
       "dtype: int64"
      ]
     },
     "execution_count": 9,
     "metadata": {},
     "output_type": "execute_result"
    }
   ],
   "source": [
    "sr1"
   ]
  },
  {
   "cell_type": "markdown",
   "id": "53465336-1875-4e14-81c0-9dd2c3ccca16",
   "metadata": {},
   "source": [
    "### (2) Series 객체 생성 - 방법 2"
   ]
  },
  {
   "cell_type": "code",
   "execution_count": null,
   "id": "08c21be0-1054-4be1-b0db-5275aeedc0a8",
   "metadata": {},
   "outputs": [],
   "source": []
  },
  {
   "cell_type": "code",
   "execution_count": null,
   "id": "e4c36b6f-f27d-42ba-ae25-531421cc9d55",
   "metadata": {},
   "outputs": [],
   "source": []
  },
  {
   "cell_type": "code",
   "execution_count": 12,
   "id": "63a68884-561b-4459-8cd8-cf1446a8d1dd",
   "metadata": {},
   "outputs": [
    {
     "data": {
      "text/plain": [
       "one      11\n",
       "two      22\n",
       "three    33\n",
       "Name: jumsu, dtype: int64"
      ]
     },
     "execution_count": 12,
     "metadata": {},
     "output_type": "execute_result"
    }
   ],
   "source": [
    "sr1 = pd.Series([11,22,33], index=['one', 'two', 'three'], name='jumsu')\n",
    "sr1"
   ]
  },
  {
   "cell_type": "markdown",
   "id": "bfe535c7-3aaa-4700-9119-f7915e02471a",
   "metadata": {},
   "source": [
    "### (2) Series 객체 생성 - 방법 3\n"
   ]
  },
  {
   "cell_type": "code",
   "execution_count": 17,
   "id": "c808a832-dd10-49e6-87da-13dff0da0c1e",
   "metadata": {},
   "outputs": [
    {
     "data": {
      "text/plain": [
       "one      11\n",
       "two      22\n",
       "three    33\n",
       "Name: type, dtype: uint8"
      ]
     },
     "execution_count": 17,
     "metadata": {},
     "output_type": "execute_result"
    }
   ],
   "source": [
    "sr1=pd.Series([11,22,33], index=['one', 'two', 'three'], name='type', dtype='uint8')  #uint8은 0~128까지\n",
    "sr1    "
   ]
  },
  {
   "cell_type": "markdown",
   "id": "9da5f81f-0f9e-4b9d-a152-0c566c1c0f33",
   "metadata": {},
   "source": [
    "### (2) Series 객체 생성 - 방법 4 => 저장되는 데이터 dict\n",
    "\n"
   ]
  },
  {
   "cell_type": "code",
   "execution_count": 27,
   "id": "e8461bff-98b1-48d5-9137-e7c36958b25a",
   "metadata": {},
   "outputs": [
    {
     "data": {
      "text/plain": [
       "data    홍길동\n",
       "age      12\n",
       "job      도적\n",
       "dtype: object"
      ]
     },
     "execution_count": 27,
     "metadata": {},
     "output_type": "execute_result"
    }
   ],
   "source": [
    "data = {'data':'홍길동', 'age':12, 'job':'도적'}\n",
    "\n",
    "sr1 = pd.Series(data)\n",
    "sr1"
   ]
  },
  {
   "cell_type": "code",
   "execution_count": null,
   "id": "3c767b70-3ced-4bc6-810f-41f155336e0d",
   "metadata": {},
   "outputs": [],
   "source": []
  },
  {
   "cell_type": "markdown",
   "id": "ca8979e2-98f5-485f-b67d-390acc884cae",
   "metadata": {},
   "source": [
    "key가 전부 index가 됨\n"
   ]
  },
  {
   "cell_type": "code",
   "execution_count": 22,
   "id": "13e5fd23-833e-419f-941c-e77638ce70dc",
   "metadata": {},
   "outputs": [
    {
     "name": "stdout",
     "output_type": "stream",
     "text": [
      "Index(['data', 'age', 'job'], dtype='object')\n",
      "['홍길동' 12 '도적']\n"
     ]
    }
   ],
   "source": [
    "# 속성 확인하기\n",
    "print(sr1.index, sr1.values, sep='\\n')"
   ]
  },
  {
   "cell_type": "code",
   "execution_count": 24,
   "id": "25ce5dc0-d093-4d8d-8db5-8943ad2d7a26",
   "metadata": {},
   "outputs": [
    {
     "data": {
      "text/plain": [
       "(Index(['data', 'age', 'job'], dtype='object'),\n",
       " array(['홍길동', 12, '도적'], dtype=object))"
      ]
     },
     "execution_count": 24,
     "metadata": {},
     "output_type": "execute_result"
    }
   ],
   "source": [
    "sr1.index, sr1.values\n",
    "# 문자열과 숫자가 함께 있기 때문에 dtype이 object가 됨"
   ]
  },
  {
   "cell_type": "code",
   "execution_count": null,
   "id": "34725857-39fc-46b5-9ba9-edab1531bc67",
   "metadata": {},
   "outputs": [],
   "source": []
  },
  {
   "cell_type": "markdown",
   "id": "1964c0a6-65a5-4fd7-a2a2-dc6456cd4455",
   "metadata": {},
   "source": [
    "### (2) Series 객체 생성 - 방법 5 => 저장되는 데이터 set\n"
   ]
  },
  {
   "cell_type": "code",
   "execution_count": 30,
   "id": "7888f6ad-76e9-404f-8973-05d488a3d6da",
   "metadata": {},
   "outputs": [],
   "source": [
    "# data = {'홍길동', 12, '도적') #순서 없는 데이터, 중복 불허\n",
    "\n",
    "# sr1 = pd.Series(data)\n",
    "# sr1"
   ]
  },
  {
   "cell_type": "code",
   "execution_count": 33,
   "id": "1ca60fe3-f073-478f-b3a8-1e080b075348",
   "metadata": {},
   "outputs": [
    {
     "data": {
      "text/plain": [
       "1     도적\n",
       "2    홍길동\n",
       "3     12\n",
       "dtype: object"
      ]
     },
     "execution_count": 33,
     "metadata": {},
     "output_type": "execute_result"
    }
   ],
   "source": [
    "data = {'홍길동', 12, '도적'} #순서 없는 데이터, 중복 불허\n",
    "\n",
    "# 형변환 후 객체 생성 가능\n",
    "sr1 = pd.Series(list(data), index=[1,2,3] )\n",
    "sr1"
   ]
  },
  {
   "cell_type": "code",
   "execution_count": null,
   "id": "330bfbe3-7f47-433c-8fd5-b011192c6e53",
   "metadata": {},
   "outputs": [],
   "source": []
  }
 ],
 "metadata": {
  "kernelspec": {
   "display_name": "Python 3 (ipykernel)",
   "language": "python",
   "name": "python3"
  },
  "language_info": {
   "codemirror_mode": {
    "name": "ipython",
    "version": 3
   },
   "file_extension": ".py",
   "mimetype": "text/x-python",
   "name": "python",
   "nbconvert_exporter": "python",
   "pygments_lexer": "ipython3",
   "version": "3.11.5"
  }
 },
 "nbformat": 4,
 "nbformat_minor": 5
}
