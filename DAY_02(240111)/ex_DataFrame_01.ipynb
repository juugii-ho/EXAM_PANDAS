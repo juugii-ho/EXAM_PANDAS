{
 "cells": [
  {
   "cell_type": "markdown",
   "id": "676a2d1a-8735-4c51-b56a-1d49ae3a1634",
   "metadata": {},
   "source": [
    "# [ DataFrame 살펴보기 ]\n",
    "* 데이터를 테이블 즉, 표 형태로 저장하는 자료 구조\n",
    "* 구성 : 행 + 열\n",
    "* 생성 : pandas.DataFrame() 생성자 메서드"
   ]
  },
  {
   "cell_type": "markdown",
   "id": "b6b25596-d79c-4d24-a9d0-56d6b6ee6685",
   "metadata": {},
   "source": [
    "(1) 모듈 로딩 -------------------"
   ]
  },
  {
   "cell_type": "code",
   "execution_count": 234,
   "id": "07c5bdcc-4553-426c-9fbe-ce7c2109a8dc",
   "metadata": {},
   "outputs": [],
   "source": [
    "from pandas import DataFrame"
   ]
  },
  {
   "cell_type": "markdown",
   "id": "2a0193cc-ac1a-4a30-b30f-5bc179937929",
   "metadata": {},
   "source": [
    "(2) 데이터 준비 -"
   ]
  },
  {
   "cell_type": "code",
   "execution_count": 235,
   "id": "e60c3bdd-1b8c-436e-bdd6-e92be3095420",
   "metadata": {},
   "outputs": [],
   "source": [
    "data = [ [11,22,33], [44,55,66]] # 행마다 들어감"
   ]
  },
  {
   "cell_type": "markdown",
   "id": "3235483d-2a66-4db6-a324-7f356feb6e32",
   "metadata": {},
   "source": [
    "(3) DataFrame으로 저장 즉, DataFrame 객체 생성-----------"
   ]
  },
  {
   "cell_type": "code",
   "execution_count": 236,
   "id": "d8d79678-09d7-437e-b379-489146e108af",
   "metadata": {},
   "outputs": [
    {
     "data": {
      "text/html": [
       "<div>\n",
       "<style scoped>\n",
       "    .dataframe tbody tr th:only-of-type {\n",
       "        vertical-align: middle;\n",
       "    }\n",
       "\n",
       "    .dataframe tbody tr th {\n",
       "        vertical-align: top;\n",
       "    }\n",
       "\n",
       "    .dataframe thead th {\n",
       "        text-align: right;\n",
       "    }\n",
       "</style>\n",
       "<table border=\"1\" class=\"dataframe\">\n",
       "  <thead>\n",
       "    <tr style=\"text-align: right;\">\n",
       "      <th></th>\n",
       "      <th>0</th>\n",
       "      <th>1</th>\n",
       "      <th>2</th>\n",
       "    </tr>\n",
       "  </thead>\n",
       "  <tbody>\n",
       "    <tr>\n",
       "      <th>0</th>\n",
       "      <td>11</td>\n",
       "      <td>22</td>\n",
       "      <td>33</td>\n",
       "    </tr>\n",
       "    <tr>\n",
       "      <th>1</th>\n",
       "      <td>44</td>\n",
       "      <td>55</td>\n",
       "      <td>66</td>\n",
       "    </tr>\n",
       "  </tbody>\n",
       "</table>\n",
       "</div>"
      ],
      "text/plain": [
       "    0   1   2\n",
       "0  11  22  33\n",
       "1  44  55  66"
      ]
     },
     "execution_count": 236,
     "metadata": {},
     "output_type": "execute_result"
    }
   ],
   "source": [
    "df1 = DataFrame(data)\n",
    "df1"
   ]
  },
  {
   "cell_type": "markdown",
   "id": "6f164b00-1702-4f1e-b16e-42a6e3256634",
   "metadata": {},
   "source": [
    "(4) DataFrame의 속성 읽기 => 객체 변수명.속성명 --------"
   ]
  },
  {
   "cell_type": "code",
   "execution_count": 237,
   "id": "34508d16-7667-4eb2-8c0a-5af69999be09",
   "metadata": {},
   "outputs": [
    {
     "data": {
      "text/plain": [
       "RangeIndex(start=0, stop=2, step=1)"
      ]
     },
     "execution_count": 237,
     "metadata": {},
     "output_type": "execute_result"
    }
   ],
   "source": [
    "df1.index # 몇 행인지"
   ]
  },
  {
   "cell_type": "code",
   "execution_count": 238,
   "id": "9836f537-c2ac-4717-bbfd-b291042ac48a",
   "metadata": {},
   "outputs": [
    {
     "data": {
      "text/plain": [
       "RangeIndex(start=0, stop=3, step=1)"
      ]
     },
     "execution_count": 238,
     "metadata": {},
     "output_type": "execute_result"
    }
   ],
   "source": [
    "df1.columns #몇 열인지"
   ]
  },
  {
   "cell_type": "code",
   "execution_count": 239,
   "id": "9ec8680c-643c-4fea-9ee5-13a6ee91ebcb",
   "metadata": {},
   "outputs": [
    {
     "data": {
      "text/plain": [
       "array([[11, 22, 33],\n",
       "       [44, 55, 66]])"
      ]
     },
     "execution_count": 239,
     "metadata": {},
     "output_type": "execute_result"
    }
   ],
   "source": [
    "df1.values # 행별 정렬"
   ]
  },
  {
   "cell_type": "code",
   "execution_count": 240,
   "id": "f0331d61-2dc8-495b-8c3d-a4e0d6b94926",
   "metadata": {},
   "outputs": [
    {
     "data": {
      "text/plain": [
       "(2, 3)"
      ]
     },
     "execution_count": 240,
     "metadata": {},
     "output_type": "execute_result"
    }
   ],
   "source": [
    "# 데이터가 저장된 표의 형태\n",
    "df1.shape #2행 3열"
   ]
  },
  {
   "cell_type": "code",
   "execution_count": 241,
   "id": "fdde861f-e2d5-47a2-b815-076ed3ae5b48",
   "metadata": {},
   "outputs": [
    {
     "data": {
      "text/plain": [
       "2"
      ]
     },
     "execution_count": 241,
     "metadata": {},
     "output_type": "execute_result"
    }
   ],
   "source": [
    "# 데이터의 차원정보 n-dimention\n",
    "df1.ndim"
   ]
  },
  {
   "cell_type": "code",
   "execution_count": 242,
   "id": "ee9e1420-8048-402c-988a-f6a59fbe45dc",
   "metadata": {},
   "outputs": [
    {
     "data": {
      "text/plain": [
       "0    int64\n",
       "1    int64\n",
       "2    int64\n",
       "dtype: object"
      ]
     },
     "execution_count": 242,
     "metadata": {},
     "output_type": "execute_result"
    }
   ],
   "source": [
    "# 컬럼별 데이터 타입\n",
    "df1.dtypes  # 열별 타입"
   ]
  },
  {
   "cell_type": "markdown",
   "id": "12ffdc26-34e6-4eb3-9a59-f89220c7ff7f",
   "metadata": {},
   "source": [
    "(5) 원소 읽기 ==> 행과 열 지정 ===> 1개 원소"
   ]
  },
  {
   "cell_type": "markdown",
   "id": "94d53b64-c1f8-42c5-9a8e-5663d2392909",
   "metadata": {},
   "source": [
    "- 컬럼 즉, 열(column) 읽기"
   ]
  },
  {
   "cell_type": "code",
   "execution_count": 243,
   "id": "3d2402af-ec5e-4d6b-8185-8a318f202aa8",
   "metadata": {},
   "outputs": [
    {
     "data": {
      "text/html": [
       "<div>\n",
       "<style scoped>\n",
       "    .dataframe tbody tr th:only-of-type {\n",
       "        vertical-align: middle;\n",
       "    }\n",
       "\n",
       "    .dataframe tbody tr th {\n",
       "        vertical-align: top;\n",
       "    }\n",
       "\n",
       "    .dataframe thead th {\n",
       "        text-align: right;\n",
       "    }\n",
       "</style>\n",
       "<table border=\"1\" class=\"dataframe\">\n",
       "  <thead>\n",
       "    <tr style=\"text-align: right;\">\n",
       "      <th></th>\n",
       "      <th>0</th>\n",
       "      <th>1</th>\n",
       "      <th>2</th>\n",
       "    </tr>\n",
       "  </thead>\n",
       "  <tbody>\n",
       "    <tr>\n",
       "      <th>0</th>\n",
       "      <td>11</td>\n",
       "      <td>22</td>\n",
       "      <td>33</td>\n",
       "    </tr>\n",
       "    <tr>\n",
       "      <th>1</th>\n",
       "      <td>44</td>\n",
       "      <td>55</td>\n",
       "      <td>66</td>\n",
       "    </tr>\n",
       "  </tbody>\n",
       "</table>\n",
       "</div>"
      ],
      "text/plain": [
       "    0   1   2\n",
       "0  11  22  33\n",
       "1  44  55  66"
      ]
     },
     "execution_count": 243,
     "metadata": {},
     "output_type": "execute_result"
    }
   ],
   "source": [
    "df1"
   ]
  },
  {
   "cell_type": "code",
   "execution_count": 244,
   "id": "98cc35ef-9a14-4cd5-8639-9a6165cf8c56",
   "metadata": {},
   "outputs": [
    {
     "data": {
      "text/plain": [
       "0    11\n",
       "1    44\n",
       "Name: 0, dtype: int64"
      ]
     },
     "execution_count": 244,
     "metadata": {},
     "output_type": "execute_result"
    }
   ],
   "source": [
    "df1[0]\n"
   ]
  },
  {
   "cell_type": "code",
   "execution_count": 245,
   "id": "9ba99812-9963-4229-86d9-a338c6f098d2",
   "metadata": {},
   "outputs": [
    {
     "data": {
      "text/plain": [
       "0    33\n",
       "1    66\n",
       "Name: 2, dtype: int64"
      ]
     },
     "execution_count": 245,
     "metadata": {},
     "output_type": "execute_result"
    }
   ],
   "source": [
    "df1[2]"
   ]
  },
  {
   "cell_type": "code",
   "execution_count": 246,
   "id": "38ae6391-579a-4494-8588-8c8a728a898f",
   "metadata": {},
   "outputs": [],
   "source": [
    "#df1[-2] 음수는 에러"
   ]
  },
  {
   "cell_type": "code",
   "execution_count": 247,
   "id": "4adf9734-4e56-44c1-8532-2ede2f8a17f4",
   "metadata": {},
   "outputs": [
    {
     "data": {
      "text/html": [
       "<div>\n",
       "<style scoped>\n",
       "    .dataframe tbody tr th:only-of-type {\n",
       "        vertical-align: middle;\n",
       "    }\n",
       "\n",
       "    .dataframe tbody tr th {\n",
       "        vertical-align: top;\n",
       "    }\n",
       "\n",
       "    .dataframe thead th {\n",
       "        text-align: right;\n",
       "    }\n",
       "</style>\n",
       "<table border=\"1\" class=\"dataframe\">\n",
       "  <thead>\n",
       "    <tr style=\"text-align: right;\">\n",
       "      <th></th>\n",
       "      <th>A</th>\n",
       "      <th>B</th>\n",
       "      <th>C</th>\n",
       "    </tr>\n",
       "  </thead>\n",
       "  <tbody>\n",
       "    <tr>\n",
       "      <th>0</th>\n",
       "      <td>11</td>\n",
       "      <td>22</td>\n",
       "      <td>33</td>\n",
       "    </tr>\n",
       "    <tr>\n",
       "      <th>1</th>\n",
       "      <td>44</td>\n",
       "      <td>55</td>\n",
       "      <td>66</td>\n",
       "    </tr>\n",
       "  </tbody>\n",
       "</table>\n",
       "</div>"
      ],
      "text/plain": [
       "    A   B   C\n",
       "0  11  22  33\n",
       "1  44  55  66"
      ]
     },
     "execution_count": 247,
     "metadata": {},
     "output_type": "execute_result"
    }
   ],
   "source": [
    "## 컬럼 변경 ===============================\n",
    "df1.columns=['A','B','C']\n",
    "df1"
   ]
  },
  {
   "cell_type": "code",
   "execution_count": 248,
   "id": "441d001e-bbcd-487b-af98-c5fda9c5dfef",
   "metadata": {},
   "outputs": [
    {
     "data": {
      "text/plain": [
       "0    11\n",
       "1    44\n",
       "Name: A, dtype: int64"
      ]
     },
     "execution_count": 248,
     "metadata": {},
     "output_type": "execute_result"
    }
   ],
   "source": [
    "df1['A']"
   ]
  },
  {
   "cell_type": "code",
   "execution_count": 249,
   "id": "7d8c81bf-5a6b-46a0-b735-e998a384e038",
   "metadata": {},
   "outputs": [
    {
     "data": {
      "text/plain": [
       "0    11\n",
       "1    44\n",
       "Name: A, dtype: int64"
      ]
     },
     "execution_count": 249,
     "metadata": {},
     "output_type": "execute_result"
    }
   ],
   "source": [
    "df1.A"
   ]
  },
  {
   "cell_type": "code",
   "execution_count": 250,
   "id": "46848472-b3b5-4366-b3d3-de33d277c629",
   "metadata": {},
   "outputs": [],
   "source": [
    "# df1[0] columns에서는 문자열을 부여하면 자동부여 정수 인덱스는 작동 안 함"
   ]
  },
  {
   "cell_type": "code",
   "execution_count": 251,
   "id": "9d360ad5-154c-409d-a59c-18bd49dfa657",
   "metadata": {},
   "outputs": [],
   "source": [
    "df1.columns=[0,1,2]"
   ]
  },
  {
   "cell_type": "code",
   "execution_count": 252,
   "id": "054d90e3-e842-4754-8b93-46ea2e223e50",
   "metadata": {},
   "outputs": [
    {
     "data": {
      "text/html": [
       "<div>\n",
       "<style scoped>\n",
       "    .dataframe tbody tr th:only-of-type {\n",
       "        vertical-align: middle;\n",
       "    }\n",
       "\n",
       "    .dataframe tbody tr th {\n",
       "        vertical-align: top;\n",
       "    }\n",
       "\n",
       "    .dataframe thead th {\n",
       "        text-align: right;\n",
       "    }\n",
       "</style>\n",
       "<table border=\"1\" class=\"dataframe\">\n",
       "  <thead>\n",
       "    <tr style=\"text-align: right;\">\n",
       "      <th></th>\n",
       "      <th>0</th>\n",
       "      <th>1</th>\n",
       "      <th>2</th>\n",
       "    </tr>\n",
       "  </thead>\n",
       "  <tbody>\n",
       "    <tr>\n",
       "      <th>0</th>\n",
       "      <td>11</td>\n",
       "      <td>22</td>\n",
       "      <td>33</td>\n",
       "    </tr>\n",
       "    <tr>\n",
       "      <th>1</th>\n",
       "      <td>44</td>\n",
       "      <td>55</td>\n",
       "      <td>66</td>\n",
       "    </tr>\n",
       "  </tbody>\n",
       "</table>\n",
       "</div>"
      ],
      "text/plain": [
       "    0   1   2\n",
       "0  11  22  33\n",
       "1  44  55  66"
      ]
     },
     "execution_count": 252,
     "metadata": {},
     "output_type": "execute_result"
    }
   ],
   "source": [
    "df1"
   ]
  },
  {
   "cell_type": "code",
   "execution_count": 253,
   "id": "bbea25de-189e-4c9e-b0e9-f073e29dc78e",
   "metadata": {},
   "outputs": [
    {
     "data": {
      "text/plain": [
       "0    11\n",
       "1    44\n",
       "Name: 0, dtype: int64"
      ]
     },
     "execution_count": 253,
     "metadata": {},
     "output_type": "execute_result"
    }
   ],
   "source": [
    "df1[0]"
   ]
  },
  {
   "cell_type": "code",
   "execution_count": 254,
   "id": "07220671-2cc6-4fe4-8558-6fb2b4b90b9e",
   "metadata": {},
   "outputs": [],
   "source": [
    "# df1.0 은 원래 안됨"
   ]
  },
  {
   "cell_type": "markdown",
   "id": "34b6fd12-494c-4e09-93fd-2dfb01db937e",
   "metadata": {},
   "source": [
    "- 로우 즉, 행(row) 읽기 ==> 방법 2가지\n",
    "  * 위  치 인덱스로 읽기 : 객체변수명.iloc[인덱스]\n",
    "  * 레이블 인덱스로 읽기 : 객체변수명.loc[인덱스]"
   ]
  },
  {
   "cell_type": "code",
   "execution_count": 255,
   "id": "c829da3b-58b4-42d4-a34f-befab609b11f",
   "metadata": {},
   "outputs": [
    {
     "data": {
      "text/html": [
       "<div>\n",
       "<style scoped>\n",
       "    .dataframe tbody tr th:only-of-type {\n",
       "        vertical-align: middle;\n",
       "    }\n",
       "\n",
       "    .dataframe tbody tr th {\n",
       "        vertical-align: top;\n",
       "    }\n",
       "\n",
       "    .dataframe thead th {\n",
       "        text-align: right;\n",
       "    }\n",
       "</style>\n",
       "<table border=\"1\" class=\"dataframe\">\n",
       "  <thead>\n",
       "    <tr style=\"text-align: right;\">\n",
       "      <th></th>\n",
       "      <th>0</th>\n",
       "      <th>1</th>\n",
       "      <th>2</th>\n",
       "    </tr>\n",
       "  </thead>\n",
       "  <tbody>\n",
       "    <tr>\n",
       "      <th>one</th>\n",
       "      <td>11</td>\n",
       "      <td>22</td>\n",
       "      <td>33</td>\n",
       "    </tr>\n",
       "    <tr>\n",
       "      <th>two</th>\n",
       "      <td>44</td>\n",
       "      <td>55</td>\n",
       "      <td>66</td>\n",
       "    </tr>\n",
       "  </tbody>\n",
       "</table>\n",
       "</div>"
      ],
      "text/plain": [
       "      0   1   2\n",
       "one  11  22  33\n",
       "two  44  55  66"
      ]
     },
     "execution_count": 255,
     "metadata": {},
     "output_type": "execute_result"
    }
   ],
   "source": [
    "df1.index=['one', 'two']\n",
    "df1"
   ]
  },
  {
   "cell_type": "code",
   "execution_count": 256,
   "id": "63625ab8-db6a-42ea-8133-397eac7ce5fb",
   "metadata": {},
   "outputs": [
    {
     "data": {
      "text/plain": [
       "0    11\n",
       "1    22\n",
       "2    33\n",
       "Name: one, dtype: int64"
      ]
     },
     "execution_count": 256,
     "metadata": {},
     "output_type": "execute_result"
    }
   ],
   "source": [
    "df1.loc['one']"
   ]
  },
  {
   "cell_type": "code",
   "execution_count": 257,
   "id": "91170b46-35fb-405c-bc0f-a14ee2f98d0c",
   "metadata": {},
   "outputs": [],
   "source": [
    "one = df1.loc['one']"
   ]
  },
  {
   "cell_type": "code",
   "execution_count": 258,
   "id": "597b7b19-4f0f-434e-9e5d-4778c3a9357f",
   "metadata": {},
   "outputs": [
    {
     "data": {
      "text/plain": [
       "pandas.core.series.Series"
      ]
     },
     "execution_count": 258,
     "metadata": {},
     "output_type": "execute_result"
    }
   ],
   "source": [
    "type(one)"
   ]
  },
  {
   "cell_type": "code",
   "execution_count": 259,
   "id": "94af34b1-a3bd-41b7-9b92-ebfbe8b771b2",
   "metadata": {},
   "outputs": [
    {
     "data": {
      "text/plain": [
       "0    11\n",
       "1    22\n",
       "2    33\n",
       "Name: one, dtype: int64"
      ]
     },
     "execution_count": 259,
     "metadata": {},
     "output_type": "execute_result"
    }
   ],
   "source": [
    "df1.iloc[0]"
   ]
  },
  {
   "cell_type": "code",
   "execution_count": 260,
   "id": "34146fa6-ad6b-4a82-b545-af6ef649169a",
   "metadata": {},
   "outputs": [],
   "source": [
    "zero = df1.iloc[0]"
   ]
  },
  {
   "cell_type": "code",
   "execution_count": 261,
   "id": "e6c8bf4a-1610-44ec-9478-6d2fca436816",
   "metadata": {},
   "outputs": [
    {
     "data": {
      "text/plain": [
       "pandas.core.series.Series"
      ]
     },
     "execution_count": 261,
     "metadata": {},
     "output_type": "execute_result"
    }
   ],
   "source": [
    "type(zero)"
   ]
  },
  {
   "cell_type": "markdown",
   "id": "e8cc293b-0f39-4044-b34a-c7e982736bb4",
   "metadata": {},
   "source": [
    "(6) 모든 원소를 한 번에 한 개씩만 출력"
   ]
  },
  {
   "cell_type": "code",
   "execution_count": 262,
   "id": "3082fe1c-5f72-424a-8ca2-029f5e59239c",
   "metadata": {},
   "outputs": [
    {
     "data": {
      "text/html": [
       "<div>\n",
       "<style scoped>\n",
       "    .dataframe tbody tr th:only-of-type {\n",
       "        vertical-align: middle;\n",
       "    }\n",
       "\n",
       "    .dataframe tbody tr th {\n",
       "        vertical-align: top;\n",
       "    }\n",
       "\n",
       "    .dataframe thead th {\n",
       "        text-align: right;\n",
       "    }\n",
       "</style>\n",
       "<table border=\"1\" class=\"dataframe\">\n",
       "  <thead>\n",
       "    <tr style=\"text-align: right;\">\n",
       "      <th></th>\n",
       "      <th>0</th>\n",
       "      <th>1</th>\n",
       "      <th>2</th>\n",
       "    </tr>\n",
       "  </thead>\n",
       "  <tbody>\n",
       "    <tr>\n",
       "      <th>one</th>\n",
       "      <td>11</td>\n",
       "      <td>22</td>\n",
       "      <td>33</td>\n",
       "    </tr>\n",
       "    <tr>\n",
       "      <th>two</th>\n",
       "      <td>44</td>\n",
       "      <td>55</td>\n",
       "      <td>66</td>\n",
       "    </tr>\n",
       "  </tbody>\n",
       "</table>\n",
       "</div>"
      ],
      "text/plain": [
       "      0   1   2\n",
       "one  11  22  33\n",
       "two  44  55  66"
      ]
     },
     "execution_count": 262,
     "metadata": {},
     "output_type": "execute_result"
    }
   ],
   "source": [
    "df1"
   ]
  },
  {
   "cell_type": "code",
   "execution_count": 263,
   "id": "12760749-41f1-43c0-81e0-33451aa8e363",
   "metadata": {},
   "outputs": [
    {
     "data": {
      "text/plain": [
       "0    11\n",
       "1    22\n",
       "2    33\n",
       "Name: one, dtype: int64"
      ]
     },
     "execution_count": 263,
     "metadata": {},
     "output_type": "execute_result"
    }
   ],
   "source": [
    "df1.iloc[0]"
   ]
  },
  {
   "cell_type": "code",
   "execution_count": 264,
   "id": "41c935a9-8472-4958-a441-4881f1cbb14a",
   "metadata": {},
   "outputs": [
    {
     "name": "stdout",
     "output_type": "stream",
     "text": [
      "11\n",
      "22\n"
     ]
    }
   ],
   "source": [
    "one = df1.loc['one']\n",
    "one\n",
    "for i in range(2):\n",
    "    print(one[i])"
   ]
  },
  {
   "cell_type": "code",
   "execution_count": 265,
   "id": "5509fd15-2a47-4f1e-a31d-e7e76f7c1c61",
   "metadata": {},
   "outputs": [
    {
     "name": "stdout",
     "output_type": "stream",
     "text": [
      "11\n",
      "22\n",
      "33\n",
      "44\n",
      "55\n",
      "66\n"
     ]
    }
   ],
   "source": [
    "for i in list(df1.index):\n",
    "    for j in list(df1.columns):\n",
    "        print(df1[j][i]) # col, row"
   ]
  },
  {
   "cell_type": "markdown",
   "id": "02c44984-c426-4327-9150-1728a015306e",
   "metadata": {},
   "source": [
    "- 객체변수명.iloc[행 인덱스, 열 인덱스] / 객체변수명.loc[행레이블, 열 인덱스 or 열 레이블]"
   ]
  },
  {
   "cell_type": "code",
   "execution_count": 266,
   "id": "4a9420d4-425d-4de0-a4ec-b20b3f337625",
   "metadata": {},
   "outputs": [
    {
     "data": {
      "text/plain": [
       "(11, 22, 33)"
      ]
     },
     "execution_count": 266,
     "metadata": {},
     "output_type": "execute_result"
    }
   ],
   "source": [
    "df1.iloc[0,0], df1.iloc[0,1], df1.iloc[0,2]"
   ]
  },
  {
   "cell_type": "code",
   "execution_count": 267,
   "id": "da04ff9e-754e-4d30-9562-12bacfef099b",
   "metadata": {},
   "outputs": [
    {
     "data": {
      "text/plain": [
       "11"
      ]
     },
     "execution_count": 267,
     "metadata": {},
     "output_type": "execute_result"
    }
   ],
   "source": [
    "df1.loc['one',0]"
   ]
  },
  {
   "cell_type": "code",
   "execution_count": 268,
   "id": "c29da72e-4109-417d-abdd-85a8dd8b18d8",
   "metadata": {},
   "outputs": [
    {
     "data": {
      "text/plain": [
       "(11, 22, 33, 44, 55, 66)"
      ]
     },
     "execution_count": 268,
     "metadata": {},
     "output_type": "execute_result"
    }
   ],
   "source": [
    "df1.loc['one',0], df1.loc['one', 1], df1.loc['one',2], df1.loc['two',0], df1.loc['two',1], df1.loc['two',2]"
   ]
  },
  {
   "cell_type": "code",
   "execution_count": 269,
   "id": "4c839308-0e13-458b-875a-6b9eaf1e232c",
   "metadata": {},
   "outputs": [
    {
     "data": {
      "text/html": [
       "<div>\n",
       "<style scoped>\n",
       "    .dataframe tbody tr th:only-of-type {\n",
       "        vertical-align: middle;\n",
       "    }\n",
       "\n",
       "    .dataframe tbody tr th {\n",
       "        vertical-align: top;\n",
       "    }\n",
       "\n",
       "    .dataframe thead th {\n",
       "        text-align: right;\n",
       "    }\n",
       "</style>\n",
       "<table border=\"1\" class=\"dataframe\">\n",
       "  <thead>\n",
       "    <tr style=\"text-align: right;\">\n",
       "      <th></th>\n",
       "      <th>A</th>\n",
       "      <th>B</th>\n",
       "      <th>C</th>\n",
       "    </tr>\n",
       "  </thead>\n",
       "  <tbody>\n",
       "    <tr>\n",
       "      <th>one</th>\n",
       "      <td>11</td>\n",
       "      <td>22</td>\n",
       "      <td>33</td>\n",
       "    </tr>\n",
       "    <tr>\n",
       "      <th>two</th>\n",
       "      <td>44</td>\n",
       "      <td>55</td>\n",
       "      <td>66</td>\n",
       "    </tr>\n",
       "  </tbody>\n",
       "</table>\n",
       "</div>"
      ],
      "text/plain": [
       "      A   B   C\n",
       "one  11  22  33\n",
       "two  44  55  66"
      ]
     },
     "execution_count": 269,
     "metadata": {},
     "output_type": "execute_result"
    }
   ],
   "source": [
    "df1.columns=['A','B','C']\n",
    "df1"
   ]
  },
  {
   "cell_type": "code",
   "execution_count": 270,
   "id": "1781100c-1f3f-4895-a008-2ea4643380a7",
   "metadata": {},
   "outputs": [
    {
     "data": {
      "text/plain": [
       "(22, 66)"
      ]
     },
     "execution_count": 270,
     "metadata": {},
     "output_type": "execute_result"
    }
   ],
   "source": [
    "df1.loc['one']['B'], df1.loc['two']['C']"
   ]
  },
  {
   "cell_type": "code",
   "execution_count": 271,
   "id": "a7f278b6-c2a8-4b22-a5cd-a18ad027e636",
   "metadata": {},
   "outputs": [
    {
     "name": "stdout",
     "output_type": "stream",
     "text": [
      "A    11\n",
      "B    22\n",
      "C    33\n",
      "Name: one, dtype: int64\n",
      "A    44\n",
      "B    55\n",
      "C    66\n",
      "Name: two, dtype: int64\n"
     ]
    }
   ],
   "source": [
    "for i in range(2):\n",
    "    print(df1.iloc[i])"
   ]
  },
  {
   "cell_type": "code",
   "execution_count": 272,
   "id": "49e137af-2781-4706-be00-115ad2bf6ae4",
   "metadata": {},
   "outputs": [
    {
     "data": {
      "text/plain": [
       "A    11\n",
       "B    22\n",
       "C    33\n",
       "Name: one, dtype: int64"
      ]
     },
     "execution_count": 272,
     "metadata": {},
     "output_type": "execute_result"
    }
   ],
   "source": [
    "df1.iloc[0]"
   ]
  },
  {
   "cell_type": "code",
   "execution_count": 273,
   "id": "2657c011-5cf3-4724-a2d3-75d185ab7266",
   "metadata": {},
   "outputs": [
    {
     "data": {
      "text/plain": [
       "(22, 66)"
      ]
     },
     "execution_count": 273,
     "metadata": {},
     "output_type": "execute_result"
    }
   ],
   "source": [
    "df1.iloc[0, 1], df1.iloc[1,2]"
   ]
  },
  {
   "cell_type": "code",
   "execution_count": 274,
   "id": "a6a2ed49-6478-4a82-b42a-650562fea365",
   "metadata": {},
   "outputs": [
    {
     "data": {
      "text/plain": [
       "(22, 66)"
      ]
     },
     "execution_count": 274,
     "metadata": {},
     "output_type": "execute_result"
    }
   ],
   "source": [
    "df1.iloc[0][1], df1.iloc[1][2]"
   ]
  },
  {
   "cell_type": "code",
   "execution_count": 275,
   "id": "26db88b6-f3af-4ec3-a00c-d6e6cf98f3a6",
   "metadata": {},
   "outputs": [
    {
     "data": {
      "text/plain": [
       "A    11\n",
       "B    22\n",
       "C    33\n",
       "Name: one, dtype: int64"
      ]
     },
     "execution_count": 275,
     "metadata": {},
     "output_type": "execute_result"
    }
   ],
   "source": [
    "zero = df1.iloc[0]\n",
    "zero"
   ]
  },
  {
   "cell_type": "code",
   "execution_count": 276,
   "id": "f3f65720-7730-4d49-86d7-d921fefc3c73",
   "metadata": {},
   "outputs": [
    {
     "data": {
      "text/plain": [
       "one    22\n",
       "two    55\n",
       "Name: B, dtype: int64"
      ]
     },
     "execution_count": 276,
     "metadata": {},
     "output_type": "execute_result"
    }
   ],
   "source": [
    "b=df1['B']\n",
    "b"
   ]
  },
  {
   "cell_type": "markdown",
   "id": "9300944b-ea75-423c-bdf4-e9c6f27813ae",
   "metadata": {},
   "source": [
    "개-멍청하다 진짜....\n",
    "for문 안에 print() 안해서 안 나오다니"
   ]
  },
  {
   "cell_type": "code",
   "execution_count": 277,
   "id": "99d08dae-bf82-4da4-a742-a3cc4df79261",
   "metadata": {},
   "outputs": [
    {
     "data": {
      "text/plain": [
       "(Index(['one', 'two'], dtype='object'), Index(['A', 'B', 'C'], dtype='object'))"
      ]
     },
     "execution_count": 277,
     "metadata": {},
     "output_type": "execute_result"
    }
   ],
   "source": [
    "df1.index, df1.columns"
   ]
  },
  {
   "cell_type": "code",
   "execution_count": 278,
   "id": "d2e585e9-1b58-4d55-bd9a-63744399282b",
   "metadata": {},
   "outputs": [
    {
     "data": {
      "text/plain": [
       "(2, 3)"
      ]
     },
     "execution_count": 278,
     "metadata": {},
     "output_type": "execute_result"
    }
   ],
   "source": [
    "df1.shape[0], df1.shape[1]"
   ]
  },
  {
   "cell_type": "markdown",
   "id": "27cc2742-1974-4896-a4c7-5fc4221ebce1",
   "metadata": {},
   "source": [
    "- iloc를 활용한 모든 원소 출력 == 행과 열의 번호 필요"
   ]
  },
  {
   "cell_type": "code",
   "execution_count": 279,
   "id": "9f01f6e1-8701-4eb4-9665-774194446c1e",
   "metadata": {},
   "outputs": [
    {
     "name": "stdout",
     "output_type": "stream",
     "text": [
      "11\n",
      "22\n",
      "33\n",
      "44\n",
      "55\n",
      "66\n"
     ]
    }
   ],
   "source": [
    "for row in range(df1.shape[0]):\n",
    "    # print(row)\n",
    "    for col in range(df1.shape[1]):\n",
    "        # print(row, col)\n",
    "        print(df1.iloc[row][col])"
   ]
  },
  {
   "cell_type": "code",
   "execution_count": 280,
   "id": "fca4c07d-391b-4d61-87e8-a664153a56f3",
   "metadata": {},
   "outputs": [
    {
     "name": "stdout",
     "output_type": "stream",
     "text": [
      "11\n",
      "22\n",
      "33\n",
      "44\n",
      "55\n",
      "66\n"
     ]
    }
   ],
   "source": [
    "for i in range(df1.shape[0]):\n",
    "    for j in range(df1.shape[1]):\n",
    "        print(df1.iloc[i][j])"
   ]
  },
  {
   "cell_type": "markdown",
   "id": "a73a0614-cfab-4339-8095-adccf20a0620",
   "metadata": {},
   "source": [
    "- loc를 활용한 모든 원소 출력 ==> 행 레이블/이름과 열 레이블/이름 필요\n"
   ]
  },
  {
   "cell_type": "code",
   "execution_count": 281,
   "id": "d674eb81-8bb2-446e-8186-da6eb0589918",
   "metadata": {},
   "outputs": [
    {
     "data": {
      "text/plain": [
       "(Index(['one', 'two'], dtype='object'), Index(['A', 'B', 'C'], dtype='object'))"
      ]
     },
     "execution_count": 281,
     "metadata": {},
     "output_type": "execute_result"
    }
   ],
   "source": [
    "df1.index, df1.columns"
   ]
  },
  {
   "cell_type": "code",
   "execution_count": 283,
   "id": "9efa1e1a-f9db-43b9-8c86-08d86e0922ec",
   "metadata": {},
   "outputs": [
    {
     "name": "stdout",
     "output_type": "stream",
     "text": [
      "11 22 33 44 55 66 "
     ]
    }
   ],
   "source": [
    "for i in df1.index:\n",
    "    for j in df1.columns:\n",
    "        print(df1.loc[i][j], end=' ')"
   ]
  },
  {
   "cell_type": "markdown",
   "id": "9a00ba4b-ab5f-4950-ab19-86f356fa2b1a",
   "metadata": {},
   "source": [
    "#### [ 문제 ] one, three 행을 선택 후 저장"
   ]
  },
  {
   "cell_type": "code",
   "execution_count": 289,
   "id": "7ca1a8f1-d5dd-4d1c-8dbf-1894047558fe",
   "metadata": {},
   "outputs": [
    {
     "data": {
      "text/html": [
       "<div>\n",
       "<style scoped>\n",
       "    .dataframe tbody tr th:only-of-type {\n",
       "        vertical-align: middle;\n",
       "    }\n",
       "\n",
       "    .dataframe tbody tr th {\n",
       "        vertical-align: top;\n",
       "    }\n",
       "\n",
       "    .dataframe thead th {\n",
       "        text-align: right;\n",
       "    }\n",
       "</style>\n",
       "<table border=\"1\" class=\"dataframe\">\n",
       "  <thead>\n",
       "    <tr style=\"text-align: right;\">\n",
       "      <th></th>\n",
       "      <th>0</th>\n",
       "      <th>1</th>\n",
       "      <th>2</th>\n",
       "    </tr>\n",
       "  </thead>\n",
       "  <tbody>\n",
       "    <tr>\n",
       "      <th>0</th>\n",
       "      <td>11</td>\n",
       "      <td>22</td>\n",
       "      <td>33</td>\n",
       "    </tr>\n",
       "    <tr>\n",
       "      <th>1</th>\n",
       "      <td>44</td>\n",
       "      <td>55</td>\n",
       "      <td>66</td>\n",
       "    </tr>\n",
       "    <tr>\n",
       "      <th>2</th>\n",
       "      <td>77</td>\n",
       "      <td>88</td>\n",
       "      <td>99</td>\n",
       "    </tr>\n",
       "  </tbody>\n",
       "</table>\n",
       "</div>"
      ],
      "text/plain": [
       "    0   1   2\n",
       "0  11  22  33\n",
       "1  44  55  66\n",
       "2  77  88  99"
      ]
     },
     "execution_count": 289,
     "metadata": {},
     "output_type": "execute_result"
    }
   ],
   "source": [
    "data1 = [[11, 22, 33], [44, 55, 66], [77, 88, 99] ]\n",
    "data1 = DataFrame(data1)\n",
    "data1"
   ]
  },
  {
   "cell_type": "code",
   "execution_count": 290,
   "id": "94fc65c6-4ace-4b32-a52b-d618038a440f",
   "metadata": {},
   "outputs": [
    {
     "data": {
      "text/html": [
       "<div>\n",
       "<style scoped>\n",
       "    .dataframe tbody tr th:only-of-type {\n",
       "        vertical-align: middle;\n",
       "    }\n",
       "\n",
       "    .dataframe tbody tr th {\n",
       "        vertical-align: top;\n",
       "    }\n",
       "\n",
       "    .dataframe thead th {\n",
       "        text-align: right;\n",
       "    }\n",
       "</style>\n",
       "<table border=\"1\" class=\"dataframe\">\n",
       "  <thead>\n",
       "    <tr style=\"text-align: right;\">\n",
       "      <th></th>\n",
       "      <th>A</th>\n",
       "      <th>B</th>\n",
       "      <th>C</th>\n",
       "    </tr>\n",
       "  </thead>\n",
       "  <tbody>\n",
       "    <tr>\n",
       "      <th>one</th>\n",
       "      <td>11</td>\n",
       "      <td>22</td>\n",
       "      <td>33</td>\n",
       "    </tr>\n",
       "    <tr>\n",
       "      <th>two</th>\n",
       "      <td>44</td>\n",
       "      <td>55</td>\n",
       "      <td>66</td>\n",
       "    </tr>\n",
       "    <tr>\n",
       "      <th>three</th>\n",
       "      <td>77</td>\n",
       "      <td>88</td>\n",
       "      <td>99</td>\n",
       "    </tr>\n",
       "  </tbody>\n",
       "</table>\n",
       "</div>"
      ],
      "text/plain": [
       "        A   B   C\n",
       "one    11  22  33\n",
       "two    44  55  66\n",
       "three  77  88  99"
      ]
     },
     "execution_count": 290,
     "metadata": {},
     "output_type": "execute_result"
    }
   ],
   "source": [
    "data1.columns=['A','B','C']\n",
    "data1.index=['one', 'two', 'three']\n",
    "data1"
   ]
  },
  {
   "cell_type": "code",
   "execution_count": 295,
   "id": "44e33e3b-37c1-4223-96c8-b8aa592b8311",
   "metadata": {},
   "outputs": [
    {
     "data": {
      "text/html": [
       "<div>\n",
       "<style scoped>\n",
       "    .dataframe tbody tr th:only-of-type {\n",
       "        vertical-align: middle;\n",
       "    }\n",
       "\n",
       "    .dataframe tbody tr th {\n",
       "        vertical-align: top;\n",
       "    }\n",
       "\n",
       "    .dataframe thead th {\n",
       "        text-align: right;\n",
       "    }\n",
       "</style>\n",
       "<table border=\"1\" class=\"dataframe\">\n",
       "  <thead>\n",
       "    <tr style=\"text-align: right;\">\n",
       "      <th></th>\n",
       "      <th>A</th>\n",
       "      <th>B</th>\n",
       "      <th>C</th>\n",
       "    </tr>\n",
       "  </thead>\n",
       "  <tbody>\n",
       "    <tr>\n",
       "      <th>one</th>\n",
       "      <td>11</td>\n",
       "      <td>22</td>\n",
       "      <td>33</td>\n",
       "    </tr>\n",
       "    <tr>\n",
       "      <th>three</th>\n",
       "      <td>77</td>\n",
       "      <td>88</td>\n",
       "      <td>99</td>\n",
       "    </tr>\n",
       "  </tbody>\n",
       "</table>\n",
       "</div>"
      ],
      "text/plain": [
       "        A   B   C\n",
       "one    11  22  33\n",
       "three  77  88  99"
      ]
     },
     "execution_count": 295,
     "metadata": {},
     "output_type": "execute_result"
    }
   ],
   "source": [
    "d1 = data1.loc[['one', 'three']]\n",
    "d1"
   ]
  },
  {
   "cell_type": "code",
   "execution_count": 297,
   "id": "919bf31f-3418-4c3a-a2f6-44a42605efec",
   "metadata": {},
   "outputs": [
    {
     "data": {
      "text/html": [
       "<div>\n",
       "<style scoped>\n",
       "    .dataframe tbody tr th:only-of-type {\n",
       "        vertical-align: middle;\n",
       "    }\n",
       "\n",
       "    .dataframe tbody tr th {\n",
       "        vertical-align: top;\n",
       "    }\n",
       "\n",
       "    .dataframe thead th {\n",
       "        text-align: right;\n",
       "    }\n",
       "</style>\n",
       "<table border=\"1\" class=\"dataframe\">\n",
       "  <thead>\n",
       "    <tr style=\"text-align: right;\">\n",
       "      <th></th>\n",
       "      <th>A</th>\n",
       "      <th>B</th>\n",
       "      <th>C</th>\n",
       "    </tr>\n",
       "  </thead>\n",
       "  <tbody>\n",
       "    <tr>\n",
       "      <th>one</th>\n",
       "      <td>11</td>\n",
       "      <td>22</td>\n",
       "      <td>33</td>\n",
       "    </tr>\n",
       "  </tbody>\n",
       "</table>\n",
       "</div>"
      ],
      "text/plain": [
       "      A   B   C\n",
       "one  11  22  33"
      ]
     },
     "execution_count": 297,
     "metadata": {},
     "output_type": "execute_result"
    }
   ],
   "source": [
    "d2 = data1.loc[['one']]\n",
    "d2"
   ]
  },
  {
   "cell_type": "code",
   "execution_count": 299,
   "id": "2ca4d1b0-5cbd-4126-b34c-134bce2718ea",
   "metadata": {},
   "outputs": [
    {
     "data": {
      "text/plain": [
       "A    11\n",
       "B    22\n",
       "C    33\n",
       "Name: one, dtype: int64"
      ]
     },
     "execution_count": 299,
     "metadata": {},
     "output_type": "execute_result"
    }
   ],
   "source": [
    "d3 = data1.loc['one']\n",
    "d3"
   ]
  },
  {
   "cell_type": "code",
   "execution_count": 300,
   "id": "b4fdcf1b-04f9-4c0a-b418-cc72bdf6c4d7",
   "metadata": {},
   "outputs": [
    {
     "data": {
      "text/html": [
       "<div>\n",
       "<style scoped>\n",
       "    .dataframe tbody tr th:only-of-type {\n",
       "        vertical-align: middle;\n",
       "    }\n",
       "\n",
       "    .dataframe tbody tr th {\n",
       "        vertical-align: top;\n",
       "    }\n",
       "\n",
       "    .dataframe thead th {\n",
       "        text-align: right;\n",
       "    }\n",
       "</style>\n",
       "<table border=\"1\" class=\"dataframe\">\n",
       "  <thead>\n",
       "    <tr style=\"text-align: right;\">\n",
       "      <th></th>\n",
       "      <th>A</th>\n",
       "      <th>B</th>\n",
       "      <th>C</th>\n",
       "    </tr>\n",
       "  </thead>\n",
       "  <tbody>\n",
       "    <tr>\n",
       "      <th>one</th>\n",
       "      <td>11</td>\n",
       "      <td>22</td>\n",
       "      <td>33</td>\n",
       "    </tr>\n",
       "    <tr>\n",
       "      <th>two</th>\n",
       "      <td>44</td>\n",
       "      <td>55</td>\n",
       "      <td>66</td>\n",
       "    </tr>\n",
       "    <tr>\n",
       "      <th>three</th>\n",
       "      <td>77</td>\n",
       "      <td>88</td>\n",
       "      <td>99</td>\n",
       "    </tr>\n",
       "  </tbody>\n",
       "</table>\n",
       "</div>"
      ],
      "text/plain": [
       "        A   B   C\n",
       "one    11  22  33\n",
       "two    44  55  66\n",
       "three  77  88  99"
      ]
     },
     "execution_count": 300,
     "metadata": {},
     "output_type": "execute_result"
    }
   ],
   "source": [
    "data = [[11, 22, 33], [44, 55, 66], [77, 88, 99]]\n",
    "df1 = DataFrame(data, [\"one\", \"two\", \"three\"], [\"A\", \"B\", \"C\"])\n",
    "df1"
   ]
  },
  {
   "cell_type": "code",
   "execution_count": null,
   "id": "2eb55efa-a4a2-475d-8faa-504eda98dc7f",
   "metadata": {},
   "outputs": [],
   "source": []
  }
 ],
 "metadata": {
  "kernelspec": {
   "display_name": "Python 3 (ipykernel)",
   "language": "python",
   "name": "python3"
  },
  "language_info": {
   "codemirror_mode": {
    "name": "ipython",
    "version": 3
   },
   "file_extension": ".py",
   "mimetype": "text/x-python",
   "name": "python",
   "nbconvert_exporter": "python",
   "pygments_lexer": "ipython3",
   "version": "3.11.5"
  }
 },
 "nbformat": 4,
 "nbformat_minor": 5
}
