{
 "cells": [
  {
   "cell_type": "code",
   "execution_count": 1,
   "id": "7a9c722a",
   "metadata": {},
   "outputs": [],
   "source": [
    "# file 은 매개변수\n",
    "# mode, encoding은 고정 매개변수\n",
    "\n",
    "# -------------------------------------------------------------------------------------------\n",
    "# 파일 입출력 => 출력 즉, 읽기(Read)\n",
    "# - 사용 내장 함수 : open()\n",
    "# -------------------------------------------------------------------------------------------\n",
    "\n",
    "\n",
    "# (1) open\n",
    "file = open('message.txt')\n",
    "print(f'file => {type(file)},{file}')\n",
    "# file. read / write / close\n",
    "# file = open('message.txt') 맥은 UTF-8 기본인 듯. 윈도우는 cp-949라서 encoding=utf8로 해야 보이는 듯\n",
    "\n",
    "\n",
    "# (2) IO => read : 파일 안에 모든 내용 다 읽어오기\n",
    "# fdata = file.read()\n",
    "# print(f'data => {type(fdata)},{fdata}')\n",
    "\n",
    "# (2) IO => read(n) : 지정된 숫자 만큼 문자를 파일에서 읽어오기\n",
    "# fdata = file.read(5)  # 지정된 숫자 만큼 문자 읽기\n",
    "#__n: int-1이 기본값인데 다 읽어라는 뜻이고, 5는 5바이트까지만\n",
    "# print(f'data => {type(fdata)},{fdata}')\n",
    "# 윗 줄 (2) IO => read 파트 막으면 5바이트까지만 나옴\n",
    "\n",
    "# fdata = file.read(5)\n",
    "# print(f'data => {type(fdata)},{fdata}')\n",
    "# Happy 끝난 위치에서부터 시작해 5바이트인' new ' 나옴\n",
    "\n",
    "# (2) 10 => feadline() : '\\n'기준으로 한 줄 읽어오기\n",
    "# datas = []\n",
    "# while True:\n",
    "#     fline = file.readline()\n",
    "#     if not fline: break\n",
    "#     print(f'fline => {type(fline)},{fline}', end='')\n",
    "#     # 원래 텍스트 파일에 줄바꿈\\n + print의 매개변수 \\n 있어서 두 줄로 넘어가는 것\n",
    "#     # end=''해줘서 print의 매개변수를 바꾸면 한 줄 줄바꿈으로 바뀜\n",
    "#     datas.append(fline)\n",
    "# ㄴ 한 줄씩 받는 법 - 일부 생략하고 받을 때 필요함\n",
    "\n",
    "datas = file.readlines()\n",
    "# 위의 while문을 담아둔 readlines\n",
    "print(datas)\n",
    "\n",
    "# offset : 왼쪽에서부터 몇 칸 띄워졌는지 \n",
    "#012345678 ':'는 offset 8 위치\n",
    "\n",
    "# (3) close\n",
    "file.close()"
   ]
  },
  {
   "cell_type": "code",
   "execution_count": null,
   "id": "77e77f96",
   "metadata": {},
   "outputs": [],
   "source": []
  }
 ],
 "metadata": {
  "kernelspec": {
   "display_name": "Python 3 (ipykernel)",
   "language": "python",
   "name": "python3"
  },
  "language_info": {
   "codemirror_mode": {
    "name": "ipython",
    "version": 3
   },
   "file_extension": ".py",
   "mimetype": "text/x-python",
   "name": "python",
   "nbconvert_exporter": "python",
   "pygments_lexer": "ipython3",
   "version": "3.11.5"
  }
 },
 "nbformat": 4,
 "nbformat_minor": 5
}
