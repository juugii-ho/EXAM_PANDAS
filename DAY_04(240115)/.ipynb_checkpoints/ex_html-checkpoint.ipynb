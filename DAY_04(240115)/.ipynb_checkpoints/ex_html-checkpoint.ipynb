{
 "cells": [
  {
   "cell_type": "markdown",
   "id": "09941e3d",
   "metadata": {},
   "source": [
    "# [ HTML ==> DataFrame으로 저장]"
   ]
  },
  {
   "cell_type": "markdown",
   "id": "5220916a",
   "metadata": {},
   "source": [
    "## <hr> (1) 모듈 로딩"
   ]
  },
  {
   "cell_type": "code",
   "execution_count": 14,
   "id": "c7f457b1",
   "metadata": {},
   "outputs": [],
   "source": [
    "import pandas as pd\n",
    "import lxml"
   ]
  },
  {
   "cell_type": "markdown",
   "id": "a008e5e4",
   "metadata": {},
   "source": [
    "## <hr> (2) 데이터 준비"
   ]
  },
  {
   "cell_type": "code",
   "execution_count": 15,
   "id": "1ecac5d4",
   "metadata": {},
   "outputs": [],
   "source": [
    "file = '../DATA/test.html'"
   ]
  },
  {
   "cell_type": "markdown",
   "id": "aa9ccad9",
   "metadata": {},
   "source": [
    "## <hr> (3) 데이터 저장 : HTML => DataFrame 저장하기"
   ]
  },
  {
   "cell_type": "code",
   "execution_count": 16,
   "id": "f820b809",
   "metadata": {},
   "outputs": [
    {
     "data": {
      "text/plain": [
       "[        0                1       2\n",
       " 0  ë²í¸           ì´ë¦  ì ê³µ\n",
       " 1       1        íê¸¸ë  ìì \n",
       " 2       2        ë§ì§ê°  ë¡ë´\n",
       " 3       4        ë² í¸ë§¨  ë°ì¥\n",
       " 4       5  ì¤íì´ëë§¨  ê±°ë¯¸,\n",
       "            0       1       2\n",
       " 0   ê³¼ì¼ëª  ê°ê²©  ìë\n",
       " 1     ì¬ê³¼    1000      32\n",
       " 2  ë°ëë    3000      10\n",
       " 3     ìë°    5800       2]"
      ]
     },
     "execution_count": 16,
     "metadata": {},
     "output_type": "execute_result"
    }
   ],
   "source": [
    "testDF = pd.read_html(file)\n",
    "testDF"
   ]
  },
  {
   "cell_type": "code",
   "execution_count": null,
   "id": "62efebd1",
   "metadata": {},
   "outputs": [],
   "source": []
  },
  {
   "cell_type": "code",
   "execution_count": null,
   "id": "9d8eb882",
   "metadata": {},
   "outputs": [],
   "source": []
  }
 ],
 "metadata": {
  "kernelspec": {
   "display_name": "Python 3 (ipykernel)",
   "language": "python",
   "name": "python3"
  },
  "language_info": {
   "codemirror_mode": {
    "name": "ipython",
    "version": 3
   },
   "file_extension": ".py",
   "mimetype": "text/x-python",
   "name": "python",
   "nbconvert_exporter": "python",
   "pygments_lexer": "ipython3",
   "version": "3.11.5"
  }
 },
 "nbformat": 4,
 "nbformat_minor": 5
}
