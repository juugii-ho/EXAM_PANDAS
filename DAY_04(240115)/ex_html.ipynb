{
 "cells": [
  {
   "cell_type": "markdown",
   "id": "09941e3d",
   "metadata": {},
   "source": [
    "# [ HTML ==> DataFrame으로 저장]"
   ]
  },
  {
   "cell_type": "markdown",
   "id": "5220916a",
   "metadata": {},
   "source": [
    "## <hr> (1) 모듈 로딩"
   ]
  },
  {
   "cell_type": "code",
   "execution_count": 7,
   "id": "c7f457b1",
   "metadata": {},
   "outputs": [],
   "source": [
    "import pandas as pd\n",
    "import lxml"
   ]
  },
  {
   "cell_type": "markdown",
   "id": "a008e5e4",
   "metadata": {},
   "source": [
    "## <hr> (2) 데이터 준비"
   ]
  },
  {
   "cell_type": "code",
   "execution_count": 8,
   "id": "1ecac5d4",
   "metadata": {},
   "outputs": [],
   "source": [
    "file = '../DATA/test.html'"
   ]
  },
  {
   "cell_type": "markdown",
   "id": "aa9ccad9",
   "metadata": {},
   "source": [
    "## <hr> (3) 데이터 저장 : HTML => DataFrame 저장하기"
   ]
  },
  {
   "cell_type": "code",
   "execution_count": 5,
   "id": "f820b809",
   "metadata": {},
   "outputs": [
    {
     "data": {
      "text/plain": [
       "[    0      1   2\n",
       " 0  번호     이름  전공\n",
       " 1   1    홍길동  의적\n",
       " 2   2    마징가  로봇\n",
       " 3   4    베트맨  박쥐\n",
       " 4   5  스파이더맨  거미,\n",
       "      0     1   2\n",
       " 0  과일명    가격  수량\n",
       " 1   사과  1000  32\n",
       " 2  바나나  3000  10\n",
       " 3   수박  5800   2]"
      ]
     },
     "execution_count": 5,
     "metadata": {},
     "output_type": "execute_result"
    }
   ],
   "source": [
    "testDF = pd.read_html(file, encoding=\"utf8\")  #pd.read_html은 표형태만 불러옴\n",
    "testDF"
   ]
  },
  {
   "cell_type": "code",
   "execution_count": 6,
   "id": "62efebd1",
   "metadata": {},
   "outputs": [
    {
     "data": {
      "text/plain": [
       "list"
      ]
     },
     "execution_count": 6,
     "metadata": {},
     "output_type": "execute_result"
    }
   ],
   "source": [
    "type(testDF)"
   ]
  },
  {
   "cell_type": "code",
   "execution_count": null,
   "id": "9d8eb882",
   "metadata": {},
   "outputs": [],
   "source": [
    "# # 파일 저장 함수\n",
    "# csv_file = Pandas.to_csv(\"파일경로(이름).csv\")\n",
    "# json_file = Pandas.to_json(\"파일경로(이름).csv\")\n",
    "# excel_file = Pandas.to_excel(\"파일경로(이름).csv\")"
   ]
  },
  {
   "cell_type": "markdown",
   "id": "f7639721-bb6f-42a2-b487-24588a2c9b14",
   "metadata": {},
   "source": []
  }
 ],
 "metadata": {
  "kernelspec": {
   "display_name": "Python 3 (ipykernel)",
   "language": "python",
   "name": "python3"
  },
  "language_info": {
   "codemirror_mode": {
    "name": "ipython",
    "version": 3
   },
   "file_extension": ".py",
   "mimetype": "text/x-python",
   "name": "python",
   "nbconvert_exporter": "python",
   "pygments_lexer": "ipython3",
   "version": "3.8.18"
  }
 },
 "nbformat": 4,
 "nbformat_minor": 5
}
