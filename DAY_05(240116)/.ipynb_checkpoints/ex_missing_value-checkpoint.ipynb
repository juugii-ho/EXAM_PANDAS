{
 "cells": [
  {
   "cell_type": "markdown",
   "id": "368e3b64",
   "metadata": {},
   "source": [
    "# [ 결측치 Missing Value 처리 ]\n",
    "    - 데이터 미입력 또는 저장 과정에서 지워진 데이터\n",
    "    - 빈칸 의미\n",
    "    - 표시 : NaN (Not A Number, NaT (Not A Text)\n",
    "    - 표현 : numpy 모듈의 nan, math 모듈의 nan 사용"
   ]
  },
  {
   "cell_type": "markdown",
   "id": "5220916a",
   "metadata": {},
   "source": [
    "## <hr> (1) 모듈 로딩"
   ]
  },
  {
   "cell_type": "code",
   "execution_count": 1,
   "id": "c7f457b1",
   "metadata": {},
   "outputs": [],
   "source": [
    "import pandas as pd"
   ]
  },
  {
   "cell_type": "markdown",
   "id": "a008e5e4",
   "metadata": {},
   "source": [
    "## <hr> (2) 데이터 준비"
   ]
  },
  {
   "cell_type": "code",
   "execution_count": 3,
   "id": "1ecac5d4",
   "metadata": {},
   "outputs": [],
   "source": [
    "file1 = '../DATA/employees.csv.xlsx'"
   ]
  },
  {
   "cell_type": "markdown",
   "id": "2f79f2d0",
   "metadata": {},
   "source": [
    "데이터를 불러오기 전에 파일을 열어서 \n",
    "\n",
    "1. 0번 행이 header인지 확인\n",
    "2. 행 인덱스로 사용할 수 있는 컬럼 찾기\n",
    "    - 빈칸 없어야\n",
    "    - 중복 없어야\n",
    "3. 구분자 확인"
   ]
  },
  {
   "cell_type": "markdown",
   "id": "aa9ccad9",
   "metadata": {},
   "source": [
    "## <hr> (3) 데이터 저장 : Excel => DataFrame 저장하기"
   ]
  },
  {
   "cell_type": "code",
   "execution_count": null,
   "id": "4230df86",
   "metadata": {},
   "outputs": [],
   "source": []
  }
 ],
 "metadata": {
  "kernelspec": {
   "display_name": "Python 3 (ipykernel)",
   "language": "python",
   "name": "python3"
  },
  "language_info": {
   "codemirror_mode": {
    "name": "ipython",
    "version": 3
   },
   "file_extension": ".py",
   "mimetype": "text/x-python",
   "name": "python",
   "nbconvert_exporter": "python",
   "pygments_lexer": "ipython3",
   "version": "3.11.5"
  }
 },
 "nbformat": 4,
 "nbformat_minor": 5
}
