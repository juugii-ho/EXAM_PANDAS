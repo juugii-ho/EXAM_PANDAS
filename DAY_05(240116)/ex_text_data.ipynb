{
 "cells": [
  {
   "cell_type": "markdown",
   "id": "368e3b64",
   "metadata": {},
   "source": [
    "# [ 텍스트 데이터 처리 ]\n",
    "    - 다양한 형태의 텍스트 데이터를 정리하기 위한 방법들\n",
    "    - Series에 str 속성을 활용해서 str제공 전용 메서드 사용 가능\n",
    "    - 사용 방법 : Series 객체변수명.str.메서드()"
   ]
  },
  {
   "cell_type": "markdown",
   "id": "47b74ec0",
   "metadata": {},
   "source": [
    "#### - 문자열 관련 메서드들 살펴보기\n",
    "#### (1) 공백 제거 관련 메서드 => stip(), lstrip(), rstrip()"
   ]
  },
  {
   "cell_type": "code",
   "execution_count": 170,
   "id": "ace3e135",
   "metadata": {},
   "outputs": [],
   "source": [
    "msg = \"   Merry Christmas      \""
   ]
  },
  {
   "cell_type": "code",
   "execution_count": 171,
   "id": "4ecc207a",
   "metadata": {},
   "outputs": [
    {
     "data": {
      "text/plain": [
       "24"
      ]
     },
     "execution_count": 171,
     "metadata": {},
     "output_type": "execute_result"
    }
   ],
   "source": [
    "len(msg)"
   ]
  },
  {
   "cell_type": "code",
   "execution_count": 172,
   "id": "be114ae6",
   "metadata": {},
   "outputs": [
    {
     "data": {
      "text/plain": [
       "(15, 21, 18)"
      ]
     },
     "execution_count": 172,
     "metadata": {},
     "output_type": "execute_result"
    }
   ],
   "source": [
    "msg1, msg2, msg3 = msg.strip(), msg.lstrip(), msg.rstrip()\n",
    "len(msg1), len(msg2), len(msg3)"
   ]
  },
  {
   "cell_type": "markdown",
   "id": "5220916a",
   "metadata": {},
   "source": [
    "## <hr> (1) 모듈 로딩"
   ]
  },
  {
   "cell_type": "code",
   "execution_count": 173,
   "id": "c7f457b1",
   "metadata": {},
   "outputs": [],
   "source": [
    "import pandas as pd\n",
    "import numpy as np"
   ]
  },
  {
   "cell_type": "markdown",
   "id": "a008e5e4",
   "metadata": {},
   "source": [
    "## <hr> (2) 데이터 준비"
   ]
  },
  {
   "cell_type": "code",
   "execution_count": 174,
   "id": "1ecac5d4",
   "metadata": {},
   "outputs": [],
   "source": [
    "file = '../DATA/chicago_food_inspections.csv'"
   ]
  },
  {
   "cell_type": "markdown",
   "id": "aa9ccad9",
   "metadata": {},
   "source": [
    "## <hr> (3) 데이터 저장"
   ]
  },
  {
   "cell_type": "code",
   "execution_count": 175,
   "id": "8f06e8dd",
   "metadata": {},
   "outputs": [],
   "source": [
    "chicagoDF=pd.read_csv(file)"
   ]
  },
  {
   "cell_type": "markdown",
   "id": "70b6679b",
   "metadata": {},
   "source": [
    "## <hr> (4) 데이터 확인"
   ]
  },
  {
   "cell_type": "code",
   "execution_count": 176,
   "id": "b0090c19",
   "metadata": {},
   "outputs": [
    {
     "name": "stdout",
     "output_type": "stream",
     "text": [
      "<class 'pandas.core.frame.DataFrame'>\n",
      "RangeIndex: 153810 entries, 0 to 153809\n",
      "Data columns (total 2 columns):\n",
      " #   Column  Non-Null Count   Dtype \n",
      "---  ------  --------------   ----- \n",
      " 0   Name    153810 non-null  object\n",
      " 1   Risk    153744 non-null  object\n",
      "dtypes: object(2)\n",
      "memory usage: 2.3+ MB\n"
     ]
    }
   ],
   "source": [
    "chicagoDF.info()"
   ]
  },
  {
   "cell_type": "code",
   "execution_count": 177,
   "id": "8a206e7d",
   "metadata": {},
   "outputs": [
    {
     "data": {
      "text/html": [
       "<div>\n",
       "<style scoped>\n",
       "    .dataframe tbody tr th:only-of-type {\n",
       "        vertical-align: middle;\n",
       "    }\n",
       "\n",
       "    .dataframe tbody tr th {\n",
       "        vertical-align: top;\n",
       "    }\n",
       "\n",
       "    .dataframe thead th {\n",
       "        text-align: right;\n",
       "    }\n",
       "</style>\n",
       "<table border=\"1\" class=\"dataframe\">\n",
       "  <thead>\n",
       "    <tr style=\"text-align: right;\">\n",
       "      <th></th>\n",
       "      <th>Name</th>\n",
       "      <th>Risk</th>\n",
       "    </tr>\n",
       "  </thead>\n",
       "  <tbody>\n",
       "    <tr>\n",
       "      <th>0</th>\n",
       "      <td>MARRIOT MARQUIS CHICAGO</td>\n",
       "      <td>Risk 1 (High)</td>\n",
       "    </tr>\n",
       "    <tr>\n",
       "      <th>1</th>\n",
       "      <td>JETS PIZZA</td>\n",
       "      <td>Risk 2 (Medium)</td>\n",
       "    </tr>\n",
       "    <tr>\n",
       "      <th>2</th>\n",
       "      <td>ROOM 1520</td>\n",
       "      <td>Risk 3 (Low)</td>\n",
       "    </tr>\n",
       "    <tr>\n",
       "      <th>3</th>\n",
       "      <td>MARRIOT MARQUIS CHICAGO</td>\n",
       "      <td>Risk 1 (High)</td>\n",
       "    </tr>\n",
       "    <tr>\n",
       "      <th>4</th>\n",
       "      <td>CHARTWELLS</td>\n",
       "      <td>Risk 1 (High)</td>\n",
       "    </tr>\n",
       "  </tbody>\n",
       "</table>\n",
       "</div>"
      ],
      "text/plain": [
       "                          Name             Risk\n",
       "0   MARRIOT MARQUIS CHICAGO       Risk 1 (High)\n",
       "1                  JETS PIZZA   Risk 2 (Medium)\n",
       "2                   ROOM 1520      Risk 3 (Low)\n",
       "3    MARRIOT MARQUIS CHICAGO      Risk 1 (High)\n",
       "4                CHARTWELLS       Risk 1 (High)"
      ]
     },
     "execution_count": 177,
     "metadata": {},
     "output_type": "execute_result"
    }
   ],
   "source": [
    "chicagoDF.head()"
   ]
  },
  {
   "cell_type": "markdown",
   "id": "47386674",
   "metadata": {},
   "source": [
    "#### - [문제] Name 컬럼에서 공백제거 처리"
   ]
  },
  {
   "cell_type": "code",
   "execution_count": 178,
   "id": "10120a66",
   "metadata": {},
   "outputs": [
    {
     "data": {
      "text/html": [
       "<div>\n",
       "<style scoped>\n",
       "    .dataframe tbody tr th:only-of-type {\n",
       "        vertical-align: middle;\n",
       "    }\n",
       "\n",
       "    .dataframe tbody tr th {\n",
       "        vertical-align: top;\n",
       "    }\n",
       "\n",
       "    .dataframe thead th {\n",
       "        text-align: right;\n",
       "    }\n",
       "</style>\n",
       "<table border=\"1\" class=\"dataframe\">\n",
       "  <thead>\n",
       "    <tr style=\"text-align: right;\">\n",
       "      <th></th>\n",
       "      <th>Name</th>\n",
       "      <th>Risk</th>\n",
       "    </tr>\n",
       "  </thead>\n",
       "  <tbody>\n",
       "    <tr>\n",
       "      <th>0</th>\n",
       "      <td>MARRIOT MARQUIS CHICAGO</td>\n",
       "      <td>Risk 1 (High)</td>\n",
       "    </tr>\n",
       "    <tr>\n",
       "      <th>1</th>\n",
       "      <td>JETS PIZZA</td>\n",
       "      <td>Risk 2 (Medium)</td>\n",
       "    </tr>\n",
       "    <tr>\n",
       "      <th>2</th>\n",
       "      <td>ROOM 1520</td>\n",
       "      <td>Risk 3 (Low)</td>\n",
       "    </tr>\n",
       "    <tr>\n",
       "      <th>3</th>\n",
       "      <td>MARRIOT MARQUIS CHICAGO</td>\n",
       "      <td>Risk 1 (High)</td>\n",
       "    </tr>\n",
       "    <tr>\n",
       "      <th>4</th>\n",
       "      <td>CHARTWELLS</td>\n",
       "      <td>Risk 1 (High)</td>\n",
       "    </tr>\n",
       "    <tr>\n",
       "      <th>...</th>\n",
       "      <td>...</td>\n",
       "      <td>...</td>\n",
       "    </tr>\n",
       "    <tr>\n",
       "      <th>153805</th>\n",
       "      <td>WOLCOTT'S</td>\n",
       "      <td>Risk 1 (High)</td>\n",
       "    </tr>\n",
       "    <tr>\n",
       "      <th>153806</th>\n",
       "      <td>DUNKIN DONUTS/BASKIN-ROBBINS</td>\n",
       "      <td>Risk 2 (Medium)</td>\n",
       "    </tr>\n",
       "    <tr>\n",
       "      <th>153807</th>\n",
       "      <td>Cafe 608</td>\n",
       "      <td>Risk 1 (High)</td>\n",
       "    </tr>\n",
       "    <tr>\n",
       "      <th>153808</th>\n",
       "      <td>mr.daniel's</td>\n",
       "      <td>Risk 1 (High)</td>\n",
       "    </tr>\n",
       "    <tr>\n",
       "      <th>153809</th>\n",
       "      <td>TEMPO CAFE</td>\n",
       "      <td>Risk 1 (High)</td>\n",
       "    </tr>\n",
       "  </tbody>\n",
       "</table>\n",
       "<p>153810 rows × 2 columns</p>\n",
       "</div>"
      ],
      "text/plain": [
       "                                Name             Risk\n",
       "0            MARRIOT MARQUIS CHICAGO    Risk 1 (High)\n",
       "1                         JETS PIZZA  Risk 2 (Medium)\n",
       "2                          ROOM 1520     Risk 3 (Low)\n",
       "3            MARRIOT MARQUIS CHICAGO    Risk 1 (High)\n",
       "4                         CHARTWELLS    Risk 1 (High)\n",
       "...                              ...              ...\n",
       "153805                     WOLCOTT'S    Risk 1 (High)\n",
       "153806  DUNKIN DONUTS/BASKIN-ROBBINS  Risk 2 (Medium)\n",
       "153807                      Cafe 608    Risk 1 (High)\n",
       "153808                   mr.daniel's    Risk 1 (High)\n",
       "153809                    TEMPO CAFE    Risk 1 (High)\n",
       "\n",
       "[153810 rows x 2 columns]"
      ]
     },
     "execution_count": 178,
     "metadata": {},
     "output_type": "execute_result"
    }
   ],
   "source": [
    "chicagoDF['Name'] = chicagoDF['Name'].str.strip()\n",
    "chicagoDF"
   ]
  },
  {
   "cell_type": "code",
   "execution_count": 179,
   "id": "aa9248b6",
   "metadata": {},
   "outputs": [
    {
     "data": {
      "text/plain": [
       "Index(['Name', 'Risk'], dtype='object')"
      ]
     },
     "execution_count": 179,
     "metadata": {},
     "output_type": "execute_result"
    }
   ],
   "source": [
    "chicagoDF.columns"
   ]
  },
  {
   "cell_type": "code",
   "execution_count": 180,
   "id": "ac866815",
   "metadata": {},
   "outputs": [
    {
     "data": {
      "text/plain": [
       "0    marriot marquis chicago\n",
       "1                 jets pizza\n",
       "2                  room 1520\n",
       "3    marriot marquis chicago\n",
       "4                 chartwells\n",
       "Name: Name, dtype: object"
      ]
     },
     "execution_count": 180,
     "metadata": {},
     "output_type": "execute_result"
    }
   ],
   "source": [
    "chicagoDF[\"Name\"].str.lower().head()"
   ]
  },
  {
   "cell_type": "code",
   "execution_count": 181,
   "id": "19be972b",
   "metadata": {},
   "outputs": [
    {
     "data": {
      "text/plain": [
       "0    MARRIOT MARQUIS CHICAGO\n",
       "1                 JETS PIZZA\n",
       "2                  ROOM 1520\n",
       "3    MARRIOT MARQUIS CHICAGO\n",
       "4                 CHARTWELLS\n",
       "Name: Name, dtype: object"
      ]
     },
     "execution_count": 181,
     "metadata": {},
     "output_type": "execute_result"
    }
   ],
   "source": [
    "chicagoDF[\"Name\"].str.upper().head()"
   ]
  },
  {
   "cell_type": "code",
   "execution_count": 182,
   "id": "bf0e7111",
   "metadata": {},
   "outputs": [
    {
     "data": {
      "text/plain": [
       "0    Marriot marquis chicago\n",
       "1                 Jets pizza\n",
       "2                  Room 1520\n",
       "3    Marriot marquis chicago\n",
       "4                 Chartwells\n",
       "Name: Name, dtype: object"
      ]
     },
     "execution_count": 182,
     "metadata": {},
     "output_type": "execute_result"
    }
   ],
   "source": [
    "chicagoDF[\"Name\"].str.capitalize().head()"
   ]
  },
  {
   "cell_type": "code",
   "execution_count": 183,
   "id": "13cdec60",
   "metadata": {},
   "outputs": [
    {
     "data": {
      "text/plain": [
       "0    Marriot Marquis Chicago\n",
       "1                 Jets Pizza\n",
       "2                  Room 1520\n",
       "3    Marriot Marquis Chicago\n",
       "4                 Chartwells\n",
       "Name: Name, dtype: object"
      ]
     },
     "execution_count": 183,
     "metadata": {},
     "output_type": "execute_result"
    }
   ],
   "source": [
    "chicagoDF[\"Name\"].str.title().head()"
   ]
  },
  {
   "cell_type": "markdown",
   "id": "5a30d169",
   "metadata": {},
   "source": [
    "#### [문제] Risk 컬럼에서 문자열 나누기 => Risk 숫자 => Risk와 숫자 분리"
   ]
  },
  {
   "cell_type": "code",
   "execution_count": 184,
   "id": "fa1d1e7f",
   "metadata": {},
   "outputs": [
    {
     "data": {
      "text/plain": [
       "0      Risk 1 (High)\n",
       "1    Risk 2 (Medium)\n",
       "2       Risk 3 (Low)\n",
       "3      Risk 1 (High)\n",
       "4      Risk 1 (High)\n",
       "Name: Risk, dtype: object"
      ]
     },
     "execution_count": 184,
     "metadata": {},
     "output_type": "execute_result"
    }
   ],
   "source": [
    "chicagoDF[\"Risk\"].head()"
   ]
  },
  {
   "cell_type": "code",
   "execution_count": 185,
   "id": "98a70bbf",
   "metadata": {},
   "outputs": [
    {
     "data": {
      "text/plain": [
       "153810"
      ]
     },
     "execution_count": 185,
     "metadata": {},
     "output_type": "execute_result"
    }
   ],
   "source": [
    "len(chicagoDF)"
   ]
  },
  {
   "cell_type": "code",
   "execution_count": 186,
   "id": "b9865b6b",
   "metadata": {},
   "outputs": [
    {
     "data": {
      "text/plain": [
       "(4,\n",
       " array(['Risk 1 (High)', 'Risk 2 (Medium)', 'Risk 3 (Low)', 'All', nan],\n",
       "       dtype=object))"
      ]
     },
     "execution_count": 186,
     "metadata": {},
     "output_type": "execute_result"
    }
   ],
   "source": [
    "chicagoDF[\"Risk\"].nunique(), chicagoDF[\"Risk\"].unique()"
   ]
  },
  {
   "cell_type": "code",
   "execution_count": 187,
   "id": "065ed31e",
   "metadata": {},
   "outputs": [
    {
     "data": {
      "text/plain": [
       "(66,\n",
       " Name     0\n",
       " Risk    66\n",
       " dtype: int64)"
      ]
     },
     "execution_count": 187,
     "metadata": {},
     "output_type": "execute_result"
    }
   ],
   "source": [
    "chicagoDF[\"Risk\"].isna().sum(), chicagoDF.isna().sum()"
   ]
  },
  {
   "cell_type": "code",
   "execution_count": 188,
   "id": "96c33559",
   "metadata": {},
   "outputs": [
    {
     "data": {
      "text/plain": [
       "(153744, 2)"
      ]
     },
     "execution_count": 188,
     "metadata": {},
     "output_type": "execute_result"
    }
   ],
   "source": [
    "# 기본 => 행 방향, 행 내에 한 개라도 NaN이 있으면 삭제\n",
    "chicagoDF.dropna().shape"
   ]
  },
  {
   "cell_type": "code",
   "execution_count": 189,
   "id": "5c6f59eb",
   "metadata": {},
   "outputs": [
    {
     "data": {
      "text/plain": [
       "(153744, 2)"
      ]
     },
     "execution_count": 189,
     "metadata": {},
     "output_type": "execute_result"
    }
   ],
   "source": [
    "# Risk 컬럼이 NaN인 행 삭제 => subset 파라미터 적용\n",
    "chicagoDF.dropna(subset = [\"Risk\"]).shape\n"
   ]
  },
  {
   "cell_type": "code",
   "execution_count": 190,
   "id": "d60c0bf8",
   "metadata": {},
   "outputs": [
    {
     "data": {
      "text/plain": [
       "0           Risk 1 (High)\n",
       "1         Risk 2 (Medium)\n",
       "2            Risk 3 (Low)\n",
       "3           Risk 1 (High)\n",
       "4           Risk 1 (High)\n",
       "               ...       \n",
       "153805      Risk 1 (High)\n",
       "153806    Risk 2 (Medium)\n",
       "153807      Risk 1 (High)\n",
       "153808      Risk 1 (High)\n",
       "153809      Risk 1 (High)\n",
       "Name: Risk, Length: 153810, dtype: object"
      ]
     },
     "execution_count": 190,
     "metadata": {},
     "output_type": "execute_result"
    }
   ],
   "source": [
    "# 원소의 데이터 값이 'all' => 'Risk 4 (Extreme)' 변경\n",
    "chicagoDF[\"Risk\"].replace('all', 'Risk 4(Extreme)')"
   ]
  },
  {
   "cell_type": "code",
   "execution_count": 192,
   "id": "4fc65222",
   "metadata": {},
   "outputs": [
    {
     "data": {
      "text/plain": [
       "0         1\n",
       "1         2\n",
       "2         3\n",
       "3         1\n",
       "4         1\n",
       "         ..\n",
       "153805    1\n",
       "153806    2\n",
       "153807    1\n",
       "153808    1\n",
       "153809    1\n",
       "Name: Risk, Length: 153810, dtype: object"
      ]
     },
     "execution_count": 192,
     "metadata": {},
     "output_type": "execute_result"
    }
   ],
   "source": [
    "chicagoDF['Risk'].str.slice(5,6)"
   ]
  },
  {
   "cell_type": "code",
   "execution_count": 193,
   "id": "c423c3be",
   "metadata": {},
   "outputs": [
    {
     "data": {
      "text/plain": [
       "0           HIGH\n",
       "1         MEDIUM\n",
       "2            LOW\n",
       "3           HIGH\n",
       "4           HIGH\n",
       "           ...  \n",
       "153805      HIGH\n",
       "153806    MEDIUM\n",
       "153807      HIGH\n",
       "153808      HIGH\n",
       "153809      HIGH\n",
       "Name: Risk, Length: 153810, dtype: object"
      ]
     },
     "execution_count": 193,
     "metadata": {},
     "output_type": "execute_result"
    }
   ],
   "source": [
    "chicagoDF['Risk'].str.slice(8,-1).str.upper()"
   ]
  },
  {
   "cell_type": "code",
   "execution_count": null,
   "id": "4451ae38",
   "metadata": {},
   "outputs": [],
   "source": []
  }
 ],
 "metadata": {
  "kernelspec": {
   "display_name": "Python 3 (ipykernel)",
   "language": "python",
   "name": "python3"
  },
  "language_info": {
   "codemirror_mode": {
    "name": "ipython",
    "version": 3
   },
   "file_extension": ".py",
   "mimetype": "text/x-python",
   "name": "python",
   "nbconvert_exporter": "python",
   "pygments_lexer": "ipython3",
   "version": "3.11.5"
  }
 },
 "nbformat": 4,
 "nbformat_minor": 5
}
