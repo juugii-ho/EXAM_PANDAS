{
 "cells": [
  {
   "cell_type": "markdown",
   "id": "6441b97c",
   "metadata": {},
   "source": [
    "# 6"
   ]
  },
  {
   "cell_type": "markdown",
   "id": "f4883d66",
   "metadata": {},
   "source": [
    "## 6.1"
   ]
  },
  {
   "cell_type": "code",
   "execution_count": 167,
   "id": "1f080c3b",
   "metadata": {},
   "outputs": [],
   "source": [
    "import pandas as pd"
   ]
  },
  {
   "cell_type": "code",
   "execution_count": 168,
   "id": "b5bf6b36",
   "metadata": {},
   "outputs": [
    {
     "data": {
      "text/html": [
       "<div>\n",
       "<style scoped>\n",
       "    .dataframe tbody tr th:only-of-type {\n",
       "        vertical-align: middle;\n",
       "    }\n",
       "\n",
       "    .dataframe tbody tr th {\n",
       "        vertical-align: top;\n",
       "    }\n",
       "\n",
       "    .dataframe thead th {\n",
       "        text-align: right;\n",
       "    }\n",
       "</style>\n",
       "<table border=\"1\" class=\"dataframe\">\n",
       "  <thead>\n",
       "    <tr style=\"text-align: right;\">\n",
       "      <th></th>\n",
       "      <th>Name</th>\n",
       "      <th>Risk</th>\n",
       "    </tr>\n",
       "  </thead>\n",
       "  <tbody>\n",
       "    <tr>\n",
       "      <th>0</th>\n",
       "      <td>MARRIOT MARQUIS CHICAGO</td>\n",
       "      <td>Risk 1 (High)</td>\n",
       "    </tr>\n",
       "    <tr>\n",
       "      <th>1</th>\n",
       "      <td>JETS PIZZA</td>\n",
       "      <td>Risk 2 (Medium)</td>\n",
       "    </tr>\n",
       "    <tr>\n",
       "      <th>2</th>\n",
       "      <td>ROOM 1520</td>\n",
       "      <td>Risk 3 (Low)</td>\n",
       "    </tr>\n",
       "    <tr>\n",
       "      <th>3</th>\n",
       "      <td>MARRIOT MARQUIS CHICAGO</td>\n",
       "      <td>Risk 1 (High)</td>\n",
       "    </tr>\n",
       "    <tr>\n",
       "      <th>4</th>\n",
       "      <td>CHARTWELLS</td>\n",
       "      <td>Risk 1 (High)</td>\n",
       "    </tr>\n",
       "    <tr>\n",
       "      <th>...</th>\n",
       "      <td>...</td>\n",
       "      <td>...</td>\n",
       "    </tr>\n",
       "    <tr>\n",
       "      <th>153805</th>\n",
       "      <td>WOLCOTT'S</td>\n",
       "      <td>Risk 1 (High)</td>\n",
       "    </tr>\n",
       "    <tr>\n",
       "      <th>153806</th>\n",
       "      <td>DUNKIN DONUTS/BASKIN-ROBBINS</td>\n",
       "      <td>Risk 2 (Medium)</td>\n",
       "    </tr>\n",
       "    <tr>\n",
       "      <th>153807</th>\n",
       "      <td>Cafe 608</td>\n",
       "      <td>Risk 1 (High)</td>\n",
       "    </tr>\n",
       "    <tr>\n",
       "      <th>153808</th>\n",
       "      <td>mr.daniel's</td>\n",
       "      <td>Risk 1 (High)</td>\n",
       "    </tr>\n",
       "    <tr>\n",
       "      <th>153809</th>\n",
       "      <td>TEMPO CAFE</td>\n",
       "      <td>Risk 1 (High)</td>\n",
       "    </tr>\n",
       "  </tbody>\n",
       "</table>\n",
       "<p>153810 rows × 2 columns</p>\n",
       "</div>"
      ],
      "text/plain": [
       "                                      Name             Risk\n",
       "0               MARRIOT MARQUIS CHICAGO       Risk 1 (High)\n",
       "1                              JETS PIZZA   Risk 2 (Medium)\n",
       "2                               ROOM 1520      Risk 3 (Low)\n",
       "3                MARRIOT MARQUIS CHICAGO      Risk 1 (High)\n",
       "4                            CHARTWELLS       Risk 1 (High)\n",
       "...                                    ...              ...\n",
       "153805                         WOLCOTT'S      Risk 1 (High)\n",
       "153806     DUNKIN DONUTS/BASKIN-ROBBINS     Risk 2 (Medium)\n",
       "153807                           Cafe 608     Risk 1 (High)\n",
       "153808                        mr.daniel's     Risk 1 (High)\n",
       "153809                         TEMPO CAFE     Risk 1 (High)\n",
       "\n",
       "[153810 rows x 2 columns]"
      ]
     },
     "execution_count": 168,
     "metadata": {},
     "output_type": "execute_result"
    }
   ],
   "source": [
    "inspections = pd.read_csv(\"../DATA/chicago_food_inspections.csv\")\n",
    "inspections"
   ]
  },
  {
   "cell_type": "code",
   "execution_count": 169,
   "id": "59b38332",
   "metadata": {},
   "outputs": [
    {
     "data": {
      "text/plain": [
       "0     MARRIOT MARQUIS CHICAGO   \n",
       "1                    JETS PIZZA \n",
       "2                     ROOM 1520 \n",
       "3      MARRIOT MARQUIS CHICAGO  \n",
       "4                  CHARTWELLS   \n",
       "Name: Name, dtype: object"
      ]
     },
     "execution_count": 169,
     "metadata": {},
     "output_type": "execute_result"
    }
   ],
   "source": [
    "inspections[\"Name\"].head()"
   ]
  },
  {
   "cell_type": "code",
   "execution_count": 170,
   "id": "e4820319",
   "metadata": {},
   "outputs": [
    {
     "data": {
      "text/plain": [
       "array([' MARRIOT MARQUIS CHICAGO   ', ' JETS PIZZA ', '   ROOM 1520 ',\n",
       "       ..., ' Cafe 608 ', \"  mr.daniel's \", '   TEMPO CAFE '],\n",
       "      dtype=object)"
      ]
     },
     "execution_count": 170,
     "metadata": {},
     "output_type": "execute_result"
    }
   ],
   "source": [
    "inspections[\"Name\"].values"
   ]
  },
  {
   "cell_type": "code",
   "execution_count": 171,
   "id": "da18b089",
   "metadata": {},
   "outputs": [
    {
     "data": {
      "text/plain": [
       "<pandas.core.strings.accessor.StringMethods at 0x29cfd8490>"
      ]
     },
     "execution_count": 171,
     "metadata": {},
     "output_type": "execute_result"
    }
   ],
   "source": [
    "inspections[\"Name\"].str"
   ]
  },
  {
   "cell_type": "code",
   "execution_count": 172,
   "id": "058ed019",
   "metadata": {},
   "outputs": [
    {
     "data": {
      "text/plain": [
       "'cheesecake   '"
      ]
     },
     "execution_count": 172,
     "metadata": {},
     "output_type": "execute_result"
    }
   ],
   "source": [
    "dessert = \"   cheesecake   \"\n",
    "dessert.lstrip()"
   ]
  },
  {
   "cell_type": "code",
   "execution_count": 173,
   "id": "cc46458a",
   "metadata": {},
   "outputs": [
    {
     "data": {
      "text/plain": [
       "'   cheesecake'"
      ]
     },
     "execution_count": 173,
     "metadata": {},
     "output_type": "execute_result"
    }
   ],
   "source": [
    "dessert.rstrip()"
   ]
  },
  {
   "cell_type": "code",
   "execution_count": 174,
   "id": "00c198be",
   "metadata": {},
   "outputs": [
    {
     "data": {
      "text/plain": [
       "'cheesecake'"
      ]
     },
     "execution_count": 174,
     "metadata": {},
     "output_type": "execute_result"
    }
   ],
   "source": [
    "dessert.strip()"
   ]
  },
  {
   "cell_type": "code",
   "execution_count": 175,
   "id": "0ad1636a",
   "metadata": {},
   "outputs": [
    {
     "data": {
      "text/plain": [
       "0    MARRIOT MARQUIS CHICAGO   \n",
       "1                   JETS PIZZA \n",
       "2                    ROOM 1520 \n",
       "3     MARRIOT MARQUIS CHICAGO  \n",
       "4                 CHARTWELLS   \n",
       "Name: Name, dtype: object"
      ]
     },
     "execution_count": 175,
     "metadata": {},
     "output_type": "execute_result"
    }
   ],
   "source": [
    "inspections[\"Name\"].str.lstrip().head()"
   ]
  },
  {
   "cell_type": "code",
   "execution_count": 176,
   "id": "ba115434",
   "metadata": {},
   "outputs": [
    {
     "data": {
      "text/plain": [
       "0      MARRIOT MARQUIS CHICAGO\n",
       "1                   JETS PIZZA\n",
       "2                    ROOM 1520\n",
       "3      MARRIOT MARQUIS CHICAGO\n",
       "4                   CHARTWELLS\n",
       "Name: Name, dtype: object"
      ]
     },
     "execution_count": 176,
     "metadata": {},
     "output_type": "execute_result"
    }
   ],
   "source": [
    "inspections[\"Name\"].str.rstrip().head()"
   ]
  },
  {
   "cell_type": "code",
   "execution_count": 177,
   "id": "cb71b11b",
   "metadata": {},
   "outputs": [
    {
     "data": {
      "text/plain": [
       "0    MARRIOT MARQUIS CHICAGO\n",
       "1                 JETS PIZZA\n",
       "2                  ROOM 1520\n",
       "3    MARRIOT MARQUIS CHICAGO\n",
       "4                 CHARTWELLS\n",
       "Name: Name, dtype: object"
      ]
     },
     "execution_count": 177,
     "metadata": {},
     "output_type": "execute_result"
    }
   ],
   "source": [
    "inspections[\"Name\"].str.strip().head()"
   ]
  },
  {
   "cell_type": "code",
   "execution_count": 178,
   "id": "79fce045",
   "metadata": {},
   "outputs": [],
   "source": [
    "inspections[\"Name\"] = inspections[\"Name\"].str.strip()"
   ]
  },
  {
   "cell_type": "code",
   "execution_count": 179,
   "id": "284f0c93",
   "metadata": {},
   "outputs": [
    {
     "data": {
      "text/plain": [
       "Index(['Name', 'Risk'], dtype='object')"
      ]
     },
     "execution_count": 179,
     "metadata": {},
     "output_type": "execute_result"
    }
   ],
   "source": [
    "inspections.columns"
   ]
  },
  {
   "cell_type": "code",
   "execution_count": 180,
   "id": "70fdcb1c",
   "metadata": {},
   "outputs": [],
   "source": [
    "for column in inspections.columns:\n",
    "    inspections[column] = inspections[column].str.strip()"
   ]
  },
  {
   "cell_type": "code",
   "execution_count": 181,
   "id": "4f2d5adf",
   "metadata": {},
   "outputs": [
    {
     "data": {
      "text/plain": [
       "0    marriot marquis chicago\n",
       "1                 jets pizza\n",
       "2                  room 1520\n",
       "3    marriot marquis chicago\n",
       "4                 chartwells\n",
       "Name: Name, dtype: object"
      ]
     },
     "execution_count": 181,
     "metadata": {},
     "output_type": "execute_result"
    }
   ],
   "source": [
    "inspections[\"Name\"].str.lower().head()"
   ]
  },
  {
   "cell_type": "code",
   "execution_count": 182,
   "id": "c44a55f2",
   "metadata": {},
   "outputs": [
    {
     "data": {
      "text/plain": [
       "0     porterhouse\n",
       "1    filet mignon\n",
       "2          ribeye\n",
       "dtype: object"
      ]
     },
     "execution_count": 182,
     "metadata": {},
     "output_type": "execute_result"
    }
   ],
   "source": [
    "steaks = pd.Series([\"porterhouse\", \"filet mignon\", \"ribeye\"])\n",
    "steaks"
   ]
  },
  {
   "cell_type": "code",
   "execution_count": 183,
   "id": "8f3bc88e",
   "metadata": {},
   "outputs": [
    {
     "data": {
      "text/plain": [
       "0     PORTERHOUSE\n",
       "1    FILET MIGNON\n",
       "2          RIBEYE\n",
       "dtype: object"
      ]
     },
     "execution_count": 183,
     "metadata": {},
     "output_type": "execute_result"
    }
   ],
   "source": [
    "steaks.str.upper()"
   ]
  },
  {
   "cell_type": "code",
   "execution_count": 184,
   "id": "10bbab1d",
   "metadata": {},
   "outputs": [
    {
     "data": {
      "text/plain": [
       "0    Marriot marquis chicago\n",
       "1                 Jets pizza\n",
       "2                  Room 1520\n",
       "3    Marriot marquis chicago\n",
       "4                 Chartwells\n",
       "Name: Name, dtype: object"
      ]
     },
     "execution_count": 184,
     "metadata": {},
     "output_type": "execute_result"
    }
   ],
   "source": [
    "inspections[\"Name\"].str.capitalize().head()"
   ]
  },
  {
   "cell_type": "code",
   "execution_count": 185,
   "id": "f5dc642d",
   "metadata": {},
   "outputs": [
    {
     "data": {
      "text/plain": [
       "0    Marriot Marquis Chicago\n",
       "1                 Jets Pizza\n",
       "2                  Room 1520\n",
       "3    Marriot Marquis Chicago\n",
       "4                 Chartwells\n",
       "Name: Name, dtype: object"
      ]
     },
     "execution_count": 185,
     "metadata": {},
     "output_type": "execute_result"
    }
   ],
   "source": [
    "inspections[\"Name\"].str.title().head()"
   ]
  },
  {
   "cell_type": "code",
   "execution_count": 186,
   "id": "64b6d603",
   "metadata": {},
   "outputs": [
    {
     "data": {
      "text/plain": [
       "0      Risk 1 (High)\n",
       "1    Risk 2 (Medium)\n",
       "2       Risk 3 (Low)\n",
       "3      Risk 1 (High)\n",
       "4      Risk 1 (High)\n",
       "Name: Risk, dtype: object"
      ]
     },
     "execution_count": 186,
     "metadata": {},
     "output_type": "execute_result"
    }
   ],
   "source": [
    "inspections[\"Risk\"].head()"
   ]
  },
  {
   "cell_type": "code",
   "execution_count": 187,
   "id": "3dafa14a",
   "metadata": {},
   "outputs": [
    {
     "data": {
      "text/plain": [
       "153810"
      ]
     },
     "execution_count": 187,
     "metadata": {},
     "output_type": "execute_result"
    }
   ],
   "source": [
    "len(inspections)"
   ]
  },
  {
   "cell_type": "code",
   "execution_count": 188,
   "id": "c5b840d1",
   "metadata": {},
   "outputs": [
    {
     "data": {
      "text/plain": [
       "array(['Risk 1 (High)', 'Risk 2 (Medium)', 'Risk 3 (Low)', 'All', nan],\n",
       "      dtype=object)"
      ]
     },
     "execution_count": 188,
     "metadata": {},
     "output_type": "execute_result"
    }
   ],
   "source": [
    "inspections[\"Risk\"].unique()"
   ]
  },
  {
   "cell_type": "code",
   "execution_count": 189,
   "id": "6515d288",
   "metadata": {},
   "outputs": [],
   "source": [
    "inspections = inspections.dropna(subset = [\"Risk\"])"
   ]
  },
  {
   "cell_type": "code",
   "execution_count": 190,
   "id": "cc3d13d9",
   "metadata": {},
   "outputs": [
    {
     "data": {
      "text/plain": [
       "array(['Risk 1 (High)', 'Risk 2 (Medium)', 'Risk 3 (Low)', 'All'],\n",
       "      dtype=object)"
      ]
     },
     "execution_count": 190,
     "metadata": {},
     "output_type": "execute_result"
    }
   ],
   "source": [
    "inspections[\"Risk\"].unique()"
   ]
  },
  {
   "cell_type": "code",
   "execution_count": 191,
   "id": "202b1b63",
   "metadata": {},
   "outputs": [],
   "source": [
    "inspections = inspections.replace(\n",
    "    to_replace = \"All\", value = \"Risk 4 (Extreme)\")"
   ]
  },
  {
   "cell_type": "code",
   "execution_count": 192,
   "id": "f7d3eff4",
   "metadata": {},
   "outputs": [
    {
     "data": {
      "text/plain": [
       "array(['Risk 1 (High)', 'Risk 2 (Medium)', 'Risk 3 (Low)',\n",
       "       'Risk 4 (Extreme)'], dtype=object)"
      ]
     },
     "execution_count": 192,
     "metadata": {},
     "output_type": "execute_result"
    }
   ],
   "source": [
    "inspections[\"Risk\"].unique()"
   ]
  },
  {
   "cell_type": "code",
   "execution_count": 193,
   "id": "9ad99686",
   "metadata": {},
   "outputs": [
    {
     "data": {
      "text/plain": [
       "0    1\n",
       "1    2\n",
       "2    3\n",
       "3    1\n",
       "4    1\n",
       "Name: Risk, dtype: object"
      ]
     },
     "execution_count": 193,
     "metadata": {},
     "output_type": "execute_result"
    }
   ],
   "source": [
    "inspections[\"Risk\"].str.slice(5,6).head()"
   ]
  },
  {
   "cell_type": "code",
   "execution_count": 194,
   "id": "1fad0d51",
   "metadata": {},
   "outputs": [
    {
     "data": {
      "text/plain": [
       "0    1\n",
       "1    2\n",
       "2    3\n",
       "3    1\n",
       "4    1\n",
       "Name: Risk, dtype: object"
      ]
     },
     "execution_count": 194,
     "metadata": {},
     "output_type": "execute_result"
    }
   ],
   "source": [
    "inspections[\"Risk\"].str[5:6].head()"
   ]
  },
  {
   "cell_type": "code",
   "execution_count": 195,
   "id": "1e7c3f09",
   "metadata": {},
   "outputs": [
    {
     "data": {
      "text/plain": [
       "0      High)\n",
       "1    Medium)\n",
       "2       Low)\n",
       "3      High)\n",
       "4      High)\n",
       "Name: Risk, dtype: object"
      ]
     },
     "execution_count": 195,
     "metadata": {},
     "output_type": "execute_result"
    }
   ],
   "source": [
    "inspections[\"Risk\"].str.slice(8).head()"
   ]
  },
  {
   "cell_type": "code",
   "execution_count": 196,
   "id": "3c45b961",
   "metadata": {},
   "outputs": [
    {
     "data": {
      "text/plain": [
       "0      High)\n",
       "1    Medium)\n",
       "2       Low)\n",
       "3      High)\n",
       "4      High)\n",
       "Name: Risk, dtype: object"
      ]
     },
     "execution_count": 196,
     "metadata": {},
     "output_type": "execute_result"
    }
   ],
   "source": [
    "inspections[\"Risk\"].str[8:].head()"
   ]
  },
  {
   "cell_type": "code",
   "execution_count": 197,
   "id": "25fbea55",
   "metadata": {},
   "outputs": [
    {
     "data": {
      "text/plain": [
       "0      High\n",
       "1    Medium\n",
       "2       Low\n",
       "3      High\n",
       "4      High\n",
       "Name: Risk, dtype: object"
      ]
     },
     "execution_count": 197,
     "metadata": {},
     "output_type": "execute_result"
    }
   ],
   "source": [
    "inspections[\"Risk\"].str.slice(8,-1).head()"
   ]
  },
  {
   "cell_type": "code",
   "execution_count": 198,
   "id": "3b291ab1",
   "metadata": {},
   "outputs": [
    {
     "data": {
      "text/plain": [
       "0      High\n",
       "1    Medium\n",
       "2       Low\n",
       "3      High\n",
       "4      High\n",
       "Name: Risk, dtype: object"
      ]
     },
     "execution_count": 198,
     "metadata": {},
     "output_type": "execute_result"
    }
   ],
   "source": [
    "inspections[\"Risk\"].str[8:-1].head()"
   ]
  },
  {
   "cell_type": "code",
   "execution_count": 199,
   "id": "2dbb5e93",
   "metadata": {},
   "outputs": [
    {
     "data": {
      "text/plain": [
       "0      High\n",
       "1    Medium\n",
       "2       Low\n",
       "3      High\n",
       "4      High\n",
       "Name: Risk, dtype: object"
      ]
     },
     "execution_count": 199,
     "metadata": {},
     "output_type": "execute_result"
    }
   ],
   "source": [
    "inspections[\"Risk\"].str.slice(8).str.replace(\")\",\"\").head()"
   ]
  },
  {
   "cell_type": "markdown",
   "id": "0b5a1600",
   "metadata": {},
   "source": [
    "## 6.4"
   ]
  },
  {
   "cell_type": "code",
   "execution_count": 200,
   "id": "e6e48bdb",
   "metadata": {},
   "outputs": [
    {
     "data": {
      "text/plain": [
       "True"
      ]
     },
     "execution_count": 200,
     "metadata": {},
     "output_type": "execute_result"
    }
   ],
   "source": [
    "\"Pizza\" in \"Jets Pizza\""
   ]
  },
  {
   "cell_type": "code",
   "execution_count": 201,
   "id": "6a499523",
   "metadata": {},
   "outputs": [
    {
     "data": {
      "text/plain": [
       "False"
      ]
     },
     "execution_count": 201,
     "metadata": {},
     "output_type": "execute_result"
    }
   ],
   "source": [
    "\"pizza\" in \"Jets Pizza\""
   ]
  },
  {
   "cell_type": "code",
   "execution_count": 202,
   "id": "6146045e",
   "metadata": {},
   "outputs": [
    {
     "data": {
      "text/plain": [
       "0    False\n",
       "1    False\n",
       "2    False\n",
       "3    False\n",
       "4    False\n",
       "Name: Risk, dtype: bool"
      ]
     },
     "execution_count": 202,
     "metadata": {},
     "output_type": "execute_result"
    }
   ],
   "source": [
    "inspections[\"Risk\"].str.lower().str.contains(\"pizza\").head()"
   ]
  },
  {
   "cell_type": "code",
   "execution_count": 203,
   "id": "b84e6398",
   "metadata": {},
   "outputs": [
    {
     "data": {
      "text/html": [
       "<div>\n",
       "<style scoped>\n",
       "    .dataframe tbody tr th:only-of-type {\n",
       "        vertical-align: middle;\n",
       "    }\n",
       "\n",
       "    .dataframe tbody tr th {\n",
       "        vertical-align: top;\n",
       "    }\n",
       "\n",
       "    .dataframe thead th {\n",
       "        text-align: right;\n",
       "    }\n",
       "</style>\n",
       "<table border=\"1\" class=\"dataframe\">\n",
       "  <thead>\n",
       "    <tr style=\"text-align: right;\">\n",
       "      <th></th>\n",
       "      <th>Name</th>\n",
       "      <th>Risk</th>\n",
       "    </tr>\n",
       "  </thead>\n",
       "  <tbody>\n",
       "    <tr>\n",
       "      <th>1</th>\n",
       "      <td>JETS PIZZA</td>\n",
       "      <td>Risk 2 (Medium)</td>\n",
       "    </tr>\n",
       "    <tr>\n",
       "      <th>19</th>\n",
       "      <td>NANCY'S HOME OF STUFFED PIZZA</td>\n",
       "      <td>Risk 1 (High)</td>\n",
       "    </tr>\n",
       "    <tr>\n",
       "      <th>27</th>\n",
       "      <td>NARY'S GRILL &amp; PIZZA ,INC.</td>\n",
       "      <td>Risk 1 (High)</td>\n",
       "    </tr>\n",
       "    <tr>\n",
       "      <th>29</th>\n",
       "      <td>NARYS GRILL &amp; PIZZA</td>\n",
       "      <td>Risk 1 (High)</td>\n",
       "    </tr>\n",
       "    <tr>\n",
       "      <th>68</th>\n",
       "      <td>COLUTAS PIZZA</td>\n",
       "      <td>Risk 1 (High)</td>\n",
       "    </tr>\n",
       "    <tr>\n",
       "      <th>...</th>\n",
       "      <td>...</td>\n",
       "      <td>...</td>\n",
       "    </tr>\n",
       "    <tr>\n",
       "      <th>153756</th>\n",
       "      <td>ANGELO'S STUFFED PIZZA CORP</td>\n",
       "      <td>Risk 1 (High)</td>\n",
       "    </tr>\n",
       "    <tr>\n",
       "      <th>153764</th>\n",
       "      <td>COCHIAROS PIZZA #2</td>\n",
       "      <td>Risk 1 (High)</td>\n",
       "    </tr>\n",
       "    <tr>\n",
       "      <th>153772</th>\n",
       "      <td>FERNANDO'S MEXICAN GRILL &amp; PIZZA</td>\n",
       "      <td>Risk 1 (High)</td>\n",
       "    </tr>\n",
       "    <tr>\n",
       "      <th>153788</th>\n",
       "      <td>REGGIO'S PIZZA EXPRESS</td>\n",
       "      <td>Risk 1 (High)</td>\n",
       "    </tr>\n",
       "    <tr>\n",
       "      <th>153801</th>\n",
       "      <td>State Street Pizza Company</td>\n",
       "      <td>Risk 1 (High)</td>\n",
       "    </tr>\n",
       "  </tbody>\n",
       "</table>\n",
       "<p>3992 rows × 2 columns</p>\n",
       "</div>"
      ],
      "text/plain": [
       "                                    Name             Risk\n",
       "1                             JETS PIZZA  Risk 2 (Medium)\n",
       "19         NANCY'S HOME OF STUFFED PIZZA    Risk 1 (High)\n",
       "27            NARY'S GRILL & PIZZA ,INC.    Risk 1 (High)\n",
       "29                   NARYS GRILL & PIZZA    Risk 1 (High)\n",
       "68                         COLUTAS PIZZA    Risk 1 (High)\n",
       "...                                  ...              ...\n",
       "153756       ANGELO'S STUFFED PIZZA CORP    Risk 1 (High)\n",
       "153764                COCHIAROS PIZZA #2    Risk 1 (High)\n",
       "153772  FERNANDO'S MEXICAN GRILL & PIZZA    Risk 1 (High)\n",
       "153788            REGGIO'S PIZZA EXPRESS    Risk 1 (High)\n",
       "153801        State Street Pizza Company    Risk 1 (High)\n",
       "\n",
       "[3992 rows x 2 columns]"
      ]
     },
     "execution_count": 203,
     "metadata": {},
     "output_type": "execute_result"
    }
   ],
   "source": [
    "has_pizza = inspections[\"Name\"].str.lower().str.contains(\"pizza\")\n",
    "inspections[has_pizza]"
   ]
  },
  {
   "cell_type": "code",
   "execution_count": 204,
   "id": "8cf94b44",
   "metadata": {},
   "outputs": [
    {
     "data": {
      "text/plain": [
       "0    False\n",
       "1    False\n",
       "2    False\n",
       "3    False\n",
       "4    False\n",
       "Name: Risk, dtype: bool"
      ]
     },
     "execution_count": 204,
     "metadata": {},
     "output_type": "execute_result"
    }
   ],
   "source": [
    "inspections[\"Risk\"].str.lower().str.startswith(\"tacos\").head()"
   ]
  },
  {
   "cell_type": "code",
   "execution_count": 205,
   "id": "0c0478ae",
   "metadata": {},
   "outputs": [
    {
     "data": {
      "text/html": [
       "<div>\n",
       "<style scoped>\n",
       "    .dataframe tbody tr th:only-of-type {\n",
       "        vertical-align: middle;\n",
       "    }\n",
       "\n",
       "    .dataframe tbody tr th {\n",
       "        vertical-align: top;\n",
       "    }\n",
       "\n",
       "    .dataframe thead th {\n",
       "        text-align: right;\n",
       "    }\n",
       "</style>\n",
       "<table border=\"1\" class=\"dataframe\">\n",
       "  <thead>\n",
       "    <tr style=\"text-align: right;\">\n",
       "      <th></th>\n",
       "      <th>Name</th>\n",
       "      <th>Risk</th>\n",
       "    </tr>\n",
       "  </thead>\n",
       "  <tbody>\n",
       "    <tr>\n",
       "      <th>69</th>\n",
       "      <td>TACOS NIETOS</td>\n",
       "      <td>Risk 1 (High)</td>\n",
       "    </tr>\n",
       "    <tr>\n",
       "      <th>556</th>\n",
       "      <td>TACOS EL TIO 2 INC.</td>\n",
       "      <td>Risk 1 (High)</td>\n",
       "    </tr>\n",
       "    <tr>\n",
       "      <th>675</th>\n",
       "      <td>TACOS DON GABINO</td>\n",
       "      <td>Risk 1 (High)</td>\n",
       "    </tr>\n",
       "    <tr>\n",
       "      <th>958</th>\n",
       "      <td>TACOS EL TIO 2 INC.</td>\n",
       "      <td>Risk 1 (High)</td>\n",
       "    </tr>\n",
       "    <tr>\n",
       "      <th>1036</th>\n",
       "      <td>TACOS EL TIO 2 INC.</td>\n",
       "      <td>Risk 1 (High)</td>\n",
       "    </tr>\n",
       "    <tr>\n",
       "      <th>...</th>\n",
       "      <td>...</td>\n",
       "      <td>...</td>\n",
       "    </tr>\n",
       "    <tr>\n",
       "      <th>143587</th>\n",
       "      <td>TACOS DE LUNA</td>\n",
       "      <td>Risk 1 (High)</td>\n",
       "    </tr>\n",
       "    <tr>\n",
       "      <th>144026</th>\n",
       "      <td>TACOS GARCIA</td>\n",
       "      <td>Risk 1 (High)</td>\n",
       "    </tr>\n",
       "    <tr>\n",
       "      <th>146174</th>\n",
       "      <td>Tacos Place's 1</td>\n",
       "      <td>Risk 1 (High)</td>\n",
       "    </tr>\n",
       "    <tr>\n",
       "      <th>147810</th>\n",
       "      <td>TACOS MARIO'S LIMITED</td>\n",
       "      <td>Risk 1 (High)</td>\n",
       "    </tr>\n",
       "    <tr>\n",
       "      <th>151191</th>\n",
       "      <td>TACOS REYNA</td>\n",
       "      <td>Risk 1 (High)</td>\n",
       "    </tr>\n",
       "  </tbody>\n",
       "</table>\n",
       "<p>105 rows × 2 columns</p>\n",
       "</div>"
      ],
      "text/plain": [
       "                         Name           Risk\n",
       "69               TACOS NIETOS  Risk 1 (High)\n",
       "556       TACOS EL TIO 2 INC.  Risk 1 (High)\n",
       "675          TACOS DON GABINO  Risk 1 (High)\n",
       "958       TACOS EL TIO 2 INC.  Risk 1 (High)\n",
       "1036      TACOS EL TIO 2 INC.  Risk 1 (High)\n",
       "...                       ...            ...\n",
       "143587          TACOS DE LUNA  Risk 1 (High)\n",
       "144026           TACOS GARCIA  Risk 1 (High)\n",
       "146174        Tacos Place's 1  Risk 1 (High)\n",
       "147810  TACOS MARIO'S LIMITED  Risk 1 (High)\n",
       "151191            TACOS REYNA  Risk 1 (High)\n",
       "\n",
       "[105 rows x 2 columns]"
      ]
     },
     "execution_count": 205,
     "metadata": {},
     "output_type": "execute_result"
    }
   ],
   "source": [
    "starts_with_tacos = (\n",
    "    inspections[\"Name\"].str.lower().str.startswith(\"tacos\"))\n",
    "inspections[starts_with_tacos]"
   ]
  },
  {
   "cell_type": "code",
   "execution_count": 206,
   "id": "301a0936",
   "metadata": {},
   "outputs": [
    {
     "data": {
      "text/html": [
       "<div>\n",
       "<style scoped>\n",
       "    .dataframe tbody tr th:only-of-type {\n",
       "        vertical-align: middle;\n",
       "    }\n",
       "\n",
       "    .dataframe tbody tr th {\n",
       "        vertical-align: top;\n",
       "    }\n",
       "\n",
       "    .dataframe thead th {\n",
       "        text-align: right;\n",
       "    }\n",
       "</style>\n",
       "<table border=\"1\" class=\"dataframe\">\n",
       "  <thead>\n",
       "    <tr style=\"text-align: right;\">\n",
       "      <th></th>\n",
       "      <th>Name</th>\n",
       "      <th>Risk</th>\n",
       "    </tr>\n",
       "  </thead>\n",
       "  <tbody>\n",
       "    <tr>\n",
       "      <th>382</th>\n",
       "      <td>LAZO'S TACOS</td>\n",
       "      <td>Risk 1 (High)</td>\n",
       "    </tr>\n",
       "    <tr>\n",
       "      <th>569</th>\n",
       "      <td>LAZO'S TACOS</td>\n",
       "      <td>Risk 1 (High)</td>\n",
       "    </tr>\n",
       "    <tr>\n",
       "      <th>2652</th>\n",
       "      <td>FLYING TACOS</td>\n",
       "      <td>Risk 3 (Low)</td>\n",
       "    </tr>\n",
       "    <tr>\n",
       "      <th>3250</th>\n",
       "      <td>JONY'S TACOS</td>\n",
       "      <td>Risk 1 (High)</td>\n",
       "    </tr>\n",
       "    <tr>\n",
       "      <th>3812</th>\n",
       "      <td>PACO'S TACOS</td>\n",
       "      <td>Risk 1 (High)</td>\n",
       "    </tr>\n",
       "    <tr>\n",
       "      <th>...</th>\n",
       "      <td>...</td>\n",
       "      <td>...</td>\n",
       "    </tr>\n",
       "    <tr>\n",
       "      <th>151121</th>\n",
       "      <td>REYES TACOS</td>\n",
       "      <td>Risk 1 (High)</td>\n",
       "    </tr>\n",
       "    <tr>\n",
       "      <th>151318</th>\n",
       "      <td>EL MACHO TACOS</td>\n",
       "      <td>Risk 1 (High)</td>\n",
       "    </tr>\n",
       "    <tr>\n",
       "      <th>151801</th>\n",
       "      <td>EL MACHO TACOS</td>\n",
       "      <td>Risk 1 (High)</td>\n",
       "    </tr>\n",
       "    <tr>\n",
       "      <th>153087</th>\n",
       "      <td>RAYMOND'S TACOS</td>\n",
       "      <td>Risk 1 (High)</td>\n",
       "    </tr>\n",
       "    <tr>\n",
       "      <th>153504</th>\n",
       "      <td>MIS TACOS</td>\n",
       "      <td>Risk 1 (High)</td>\n",
       "    </tr>\n",
       "  </tbody>\n",
       "</table>\n",
       "<p>304 rows × 2 columns</p>\n",
       "</div>"
      ],
      "text/plain": [
       "                   Name           Risk\n",
       "382        LAZO'S TACOS  Risk 1 (High)\n",
       "569        LAZO'S TACOS  Risk 1 (High)\n",
       "2652       FLYING TACOS   Risk 3 (Low)\n",
       "3250       JONY'S TACOS  Risk 1 (High)\n",
       "3812       PACO'S TACOS  Risk 1 (High)\n",
       "...                 ...            ...\n",
       "151121      REYES TACOS  Risk 1 (High)\n",
       "151318   EL MACHO TACOS  Risk 1 (High)\n",
       "151801   EL MACHO TACOS  Risk 1 (High)\n",
       "153087  RAYMOND'S TACOS  Risk 1 (High)\n",
       "153504        MIS TACOS  Risk 1 (High)\n",
       "\n",
       "[304 rows x 2 columns]"
      ]
     },
     "execution_count": 206,
     "metadata": {},
     "output_type": "execute_result"
    }
   ],
   "source": [
    "ends_with_tacos = (\n",
    "    inspections[\"Name\"].str.lower().str.endswith(\"tacos\"))\n",
    "inspections[ends_with_tacos]"
   ]
  },
  {
   "cell_type": "markdown",
   "id": "7af3a2eb",
   "metadata": {},
   "source": [
    "## 6.5"
   ]
  },
  {
   "cell_type": "code",
   "execution_count": 207,
   "id": "124bf2d1",
   "metadata": {},
   "outputs": [
    {
     "data": {
      "text/html": [
       "<div>\n",
       "<style scoped>\n",
       "    .dataframe tbody tr th:only-of-type {\n",
       "        vertical-align: middle;\n",
       "    }\n",
       "\n",
       "    .dataframe tbody tr th {\n",
       "        vertical-align: top;\n",
       "    }\n",
       "\n",
       "    .dataframe thead th {\n",
       "        text-align: right;\n",
       "    }\n",
       "</style>\n",
       "<table border=\"1\" class=\"dataframe\">\n",
       "  <thead>\n",
       "    <tr style=\"text-align: right;\">\n",
       "      <th></th>\n",
       "      <th>Name</th>\n",
       "      <th>Address</th>\n",
       "    </tr>\n",
       "  </thead>\n",
       "  <tbody>\n",
       "    <tr>\n",
       "      <th>0</th>\n",
       "      <td>Frank Manning</td>\n",
       "      <td>6461 Quinn Groves, East Matthew, New Hampshire...</td>\n",
       "    </tr>\n",
       "    <tr>\n",
       "      <th>1</th>\n",
       "      <td>Elizabeth Johnson</td>\n",
       "      <td>1360 Tracey Ports Apt. 419, Kyleport, Vermont,...</td>\n",
       "    </tr>\n",
       "    <tr>\n",
       "      <th>2</th>\n",
       "      <td>Donald Stephens</td>\n",
       "      <td>19120 Fleming Manors, Prestonstad, Montana, 23495</td>\n",
       "    </tr>\n",
       "    <tr>\n",
       "      <th>3</th>\n",
       "      <td>Michael Vincent III</td>\n",
       "      <td>441 Olivia Creek, Jimmymouth, Georgia, 82991</td>\n",
       "    </tr>\n",
       "    <tr>\n",
       "      <th>4</th>\n",
       "      <td>Jasmine Zamora</td>\n",
       "      <td>4246 Chelsey Ford Apt. 310, Karamouth, Utah, 7...</td>\n",
       "    </tr>\n",
       "  </tbody>\n",
       "</table>\n",
       "</div>"
      ],
      "text/plain": [
       "                  Name                                            Address\n",
       "0        Frank Manning  6461 Quinn Groves, East Matthew, New Hampshire...\n",
       "1    Elizabeth Johnson  1360 Tracey Ports Apt. 419, Kyleport, Vermont,...\n",
       "2      Donald Stephens  19120 Fleming Manors, Prestonstad, Montana, 23495\n",
       "3  Michael Vincent III       441 Olivia Creek, Jimmymouth, Georgia, 82991\n",
       "4       Jasmine Zamora  4246 Chelsey Ford Apt. 310, Karamouth, Utah, 7..."
      ]
     },
     "execution_count": 207,
     "metadata": {},
     "output_type": "execute_result"
    }
   ],
   "source": [
    "customers = pd.read_csv(\"../DATA/customers.csv\")\n",
    "customers.head()"
   ]
  },
  {
   "cell_type": "code",
   "execution_count": 208,
   "id": "f0ddfbb3",
   "metadata": {},
   "outputs": [
    {
     "data": {
      "text/plain": [
       "['555', '123', '4567']"
      ]
     },
     "execution_count": 208,
     "metadata": {},
     "output_type": "execute_result"
    }
   ],
   "source": [
    "phone_number = \"555-123-4567\"\n",
    "phone_number.split(\"-\")"
   ]
  },
  {
   "cell_type": "code",
   "execution_count": 209,
   "id": "264318a4",
   "metadata": {},
   "outputs": [
    {
     "data": {
      "text/plain": [
       "0           [Frank, Manning]\n",
       "1       [Elizabeth, Johnson]\n",
       "2         [Donald, Stephens]\n",
       "3    [Michael, Vincent, III]\n",
       "4          [Jasmine, Zamora]\n",
       "Name: Name, dtype: object"
      ]
     },
     "execution_count": 209,
     "metadata": {},
     "output_type": "execute_result"
    }
   ],
   "source": [
    "# 다음 두 줄은 결과가 동일합니다.\n",
    "customers[\"Name\"].str.split(pat = \" \").head()"
   ]
  },
  {
   "cell_type": "code",
   "execution_count": 210,
   "id": "8ef8bfe9",
   "metadata": {},
   "outputs": [
    {
     "data": {
      "text/plain": [
       "0           [Frank, Manning]\n",
       "1       [Elizabeth, Johnson]\n",
       "2         [Donald, Stephens]\n",
       "3    [Michael, Vincent, III]\n",
       "4          [Jasmine, Zamora]\n",
       "Name: Name, dtype: object"
      ]
     },
     "execution_count": 210,
     "metadata": {},
     "output_type": "execute_result"
    }
   ],
   "source": [
    "customers[\"Name\"].str.split(\" \").head()"
   ]
  },
  {
   "cell_type": "code",
   "execution_count": 211,
   "id": "f5d8a5bb",
   "metadata": {},
   "outputs": [
    {
     "data": {
      "text/plain": [
       "0    2\n",
       "1    2\n",
       "2    2\n",
       "3    3\n",
       "4    2\n",
       "Name: Name, dtype: int64"
      ]
     },
     "execution_count": 211,
     "metadata": {},
     "output_type": "execute_result"
    }
   ],
   "source": [
    "customers[\"Name\"].str.split(\" \").str.len().head()"
   ]
  },
  {
   "cell_type": "code",
   "execution_count": 212,
   "id": "c179fa7e",
   "metadata": {},
   "outputs": [
    {
     "data": {
      "text/plain": [
       "0          [Frank, Manning]\n",
       "1      [Elizabeth, Johnson]\n",
       "2        [Donald, Stephens]\n",
       "3    [Michael, Vincent III]\n",
       "4         [Jasmine, Zamora]\n",
       "Name: Name, dtype: object"
      ]
     },
     "execution_count": 212,
     "metadata": {},
     "output_type": "execute_result"
    }
   ],
   "source": [
    "customers[\"Name\"].str.split(pat = \" \", n=1).head()"
   ]
  },
  {
   "cell_type": "code",
   "execution_count": 213,
   "id": "da14cf82",
   "metadata": {},
   "outputs": [
    {
     "data": {
      "text/plain": [
       "0        Frank\n",
       "1    Elizabeth\n",
       "2       Donald\n",
       "3      Michael\n",
       "4      Jasmine\n",
       "Name: Name, dtype: object"
      ]
     },
     "execution_count": 213,
     "metadata": {},
     "output_type": "execute_result"
    }
   ],
   "source": [
    "customers[\"Name\"].str.split(pat = \" \", n = 1).str.get(0).head()"
   ]
  },
  {
   "cell_type": "code",
   "execution_count": 214,
   "id": "f4961758",
   "metadata": {},
   "outputs": [
    {
     "data": {
      "text/plain": [
       "0        Manning\n",
       "1        Johnson\n",
       "2       Stephens\n",
       "3    Vincent III\n",
       "4         Zamora\n",
       "Name: Name, dtype: object"
      ]
     },
     "execution_count": 214,
     "metadata": {},
     "output_type": "execute_result"
    }
   ],
   "source": [
    "customers[\"Name\"].str.split(pat = \" \", n = 1).str.get(1).head()"
   ]
  },
  {
   "cell_type": "code",
   "execution_count": 215,
   "id": "92df1c3a",
   "metadata": {},
   "outputs": [
    {
     "data": {
      "text/plain": [
       "0        Manning\n",
       "1        Johnson\n",
       "2       Stephens\n",
       "3    Vincent III\n",
       "4         Zamora\n",
       "Name: Name, dtype: object"
      ]
     },
     "execution_count": 215,
     "metadata": {},
     "output_type": "execute_result"
    }
   ],
   "source": [
    "customers[\"Name\"].str.split(pat = \" \", n = 1).str.get(-1).head()"
   ]
  },
  {
   "cell_type": "code",
   "execution_count": 216,
   "id": "39526645",
   "metadata": {},
   "outputs": [
    {
     "data": {
      "text/html": [
       "<div>\n",
       "<style scoped>\n",
       "    .dataframe tbody tr th:only-of-type {\n",
       "        vertical-align: middle;\n",
       "    }\n",
       "\n",
       "    .dataframe tbody tr th {\n",
       "        vertical-align: top;\n",
       "    }\n",
       "\n",
       "    .dataframe thead th {\n",
       "        text-align: right;\n",
       "    }\n",
       "</style>\n",
       "<table border=\"1\" class=\"dataframe\">\n",
       "  <thead>\n",
       "    <tr style=\"text-align: right;\">\n",
       "      <th></th>\n",
       "      <th>0</th>\n",
       "      <th>1</th>\n",
       "    </tr>\n",
       "  </thead>\n",
       "  <tbody>\n",
       "    <tr>\n",
       "      <th>0</th>\n",
       "      <td>Frank</td>\n",
       "      <td>Manning</td>\n",
       "    </tr>\n",
       "    <tr>\n",
       "      <th>1</th>\n",
       "      <td>Elizabeth</td>\n",
       "      <td>Johnson</td>\n",
       "    </tr>\n",
       "    <tr>\n",
       "      <th>2</th>\n",
       "      <td>Donald</td>\n",
       "      <td>Stephens</td>\n",
       "    </tr>\n",
       "    <tr>\n",
       "      <th>3</th>\n",
       "      <td>Michael</td>\n",
       "      <td>Vincent III</td>\n",
       "    </tr>\n",
       "    <tr>\n",
       "      <th>4</th>\n",
       "      <td>Jasmine</td>\n",
       "      <td>Zamora</td>\n",
       "    </tr>\n",
       "  </tbody>\n",
       "</table>\n",
       "</div>"
      ],
      "text/plain": [
       "           0            1\n",
       "0      Frank      Manning\n",
       "1  Elizabeth      Johnson\n",
       "2     Donald     Stephens\n",
       "3    Michael  Vincent III\n",
       "4    Jasmine       Zamora"
      ]
     },
     "execution_count": 216,
     "metadata": {},
     "output_type": "execute_result"
    }
   ],
   "source": [
    "customers[\"Name\"].str.split(\n",
    "    pat = \" \", n = 1, expand = True\n",
    ").head()"
   ]
  },
  {
   "cell_type": "code",
   "execution_count": 217,
   "id": "467c5c76",
   "metadata": {},
   "outputs": [
    {
     "data": {
      "text/html": [
       "<div>\n",
       "<style scoped>\n",
       "    .dataframe tbody tr th:only-of-type {\n",
       "        vertical-align: middle;\n",
       "    }\n",
       "\n",
       "    .dataframe tbody tr th {\n",
       "        vertical-align: top;\n",
       "    }\n",
       "\n",
       "    .dataframe thead th {\n",
       "        text-align: right;\n",
       "    }\n",
       "</style>\n",
       "<table border=\"1\" class=\"dataframe\">\n",
       "  <thead>\n",
       "    <tr style=\"text-align: right;\">\n",
       "      <th></th>\n",
       "      <th>0</th>\n",
       "      <th>1</th>\n",
       "      <th>2</th>\n",
       "    </tr>\n",
       "  </thead>\n",
       "  <tbody>\n",
       "    <tr>\n",
       "      <th>0</th>\n",
       "      <td>Frank</td>\n",
       "      <td>Manning</td>\n",
       "      <td>None</td>\n",
       "    </tr>\n",
       "    <tr>\n",
       "      <th>1</th>\n",
       "      <td>Elizabeth</td>\n",
       "      <td>Johnson</td>\n",
       "      <td>None</td>\n",
       "    </tr>\n",
       "    <tr>\n",
       "      <th>2</th>\n",
       "      <td>Donald</td>\n",
       "      <td>Stephens</td>\n",
       "      <td>None</td>\n",
       "    </tr>\n",
       "    <tr>\n",
       "      <th>3</th>\n",
       "      <td>Michael</td>\n",
       "      <td>Vincent</td>\n",
       "      <td>III</td>\n",
       "    </tr>\n",
       "    <tr>\n",
       "      <th>4</th>\n",
       "      <td>Jasmine</td>\n",
       "      <td>Zamora</td>\n",
       "      <td>None</td>\n",
       "    </tr>\n",
       "  </tbody>\n",
       "</table>\n",
       "</div>"
      ],
      "text/plain": [
       "           0         1     2\n",
       "0      Frank   Manning  None\n",
       "1  Elizabeth   Johnson  None\n",
       "2     Donald  Stephens  None\n",
       "3    Michael   Vincent   III\n",
       "4    Jasmine    Zamora  None"
      ]
     },
     "execution_count": 217,
     "metadata": {},
     "output_type": "execute_result"
    }
   ],
   "source": [
    "customers[\"Name\"].str.split(pat = \" \", expand = True).head()"
   ]
  },
  {
   "cell_type": "code",
   "execution_count": 218,
   "id": "f7586b40",
   "metadata": {},
   "outputs": [],
   "source": [
    "customers[[\"First Name\", \"Last Name\"]] = customers[\n",
    "    \"Name\"\n",
    "].str.split(pat= \" \", n = 1, expand = True)"
   ]
  },
  {
   "cell_type": "code",
   "execution_count": 219,
   "id": "8a4ef101",
   "metadata": {},
   "outputs": [],
   "source": [
    "customers = customers.drop(labels = \"Name\", axis = \"columns\")"
   ]
  },
  {
   "cell_type": "code",
   "execution_count": 220,
   "id": "c1ec3636",
   "metadata": {},
   "outputs": [
    {
     "data": {
      "text/html": [
       "<div>\n",
       "<style scoped>\n",
       "    .dataframe tbody tr th:only-of-type {\n",
       "        vertical-align: middle;\n",
       "    }\n",
       "\n",
       "    .dataframe tbody tr th {\n",
       "        vertical-align: top;\n",
       "    }\n",
       "\n",
       "    .dataframe thead th {\n",
       "        text-align: right;\n",
       "    }\n",
       "</style>\n",
       "<table border=\"1\" class=\"dataframe\">\n",
       "  <thead>\n",
       "    <tr style=\"text-align: right;\">\n",
       "      <th></th>\n",
       "      <th>Address</th>\n",
       "      <th>First Name</th>\n",
       "      <th>Last Name</th>\n",
       "    </tr>\n",
       "  </thead>\n",
       "  <tbody>\n",
       "    <tr>\n",
       "      <th>0</th>\n",
       "      <td>6461 Quinn Groves, East Matthew, New Hampshire...</td>\n",
       "      <td>Frank</td>\n",
       "      <td>Manning</td>\n",
       "    </tr>\n",
       "    <tr>\n",
       "      <th>1</th>\n",
       "      <td>1360 Tracey Ports Apt. 419, Kyleport, Vermont,...</td>\n",
       "      <td>Elizabeth</td>\n",
       "      <td>Johnson</td>\n",
       "    </tr>\n",
       "    <tr>\n",
       "      <th>2</th>\n",
       "      <td>19120 Fleming Manors, Prestonstad, Montana, 23495</td>\n",
       "      <td>Donald</td>\n",
       "      <td>Stephens</td>\n",
       "    </tr>\n",
       "    <tr>\n",
       "      <th>3</th>\n",
       "      <td>441 Olivia Creek, Jimmymouth, Georgia, 82991</td>\n",
       "      <td>Michael</td>\n",
       "      <td>Vincent III</td>\n",
       "    </tr>\n",
       "    <tr>\n",
       "      <th>4</th>\n",
       "      <td>4246 Chelsey Ford Apt. 310, Karamouth, Utah, 7...</td>\n",
       "      <td>Jasmine</td>\n",
       "      <td>Zamora</td>\n",
       "    </tr>\n",
       "  </tbody>\n",
       "</table>\n",
       "</div>"
      ],
      "text/plain": [
       "                                             Address First Name    Last Name\n",
       "0  6461 Quinn Groves, East Matthew, New Hampshire...      Frank      Manning\n",
       "1  1360 Tracey Ports Apt. 419, Kyleport, Vermont,...  Elizabeth      Johnson\n",
       "2  19120 Fleming Manors, Prestonstad, Montana, 23495     Donald     Stephens\n",
       "3       441 Olivia Creek, Jimmymouth, Georgia, 82991    Michael  Vincent III\n",
       "4  4246 Chelsey Ford Apt. 310, Karamouth, Utah, 7...    Jasmine       Zamora"
      ]
     },
     "execution_count": 220,
     "metadata": {},
     "output_type": "execute_result"
    }
   ],
   "source": [
    "customers.head()"
   ]
  },
  {
   "cell_type": "markdown",
   "id": "ae2c2efd",
   "metadata": {},
   "source": [
    "## 6.6"
   ]
  },
  {
   "cell_type": "code",
   "execution_count": 221,
   "id": "9417a916",
   "metadata": {},
   "outputs": [
    {
     "data": {
      "text/html": [
       "<div>\n",
       "<style scoped>\n",
       "    .dataframe tbody tr th:only-of-type {\n",
       "        vertical-align: middle;\n",
       "    }\n",
       "\n",
       "    .dataframe tbody tr th {\n",
       "        vertical-align: top;\n",
       "    }\n",
       "\n",
       "    .dataframe thead th {\n",
       "        text-align: right;\n",
       "    }\n",
       "</style>\n",
       "<table border=\"1\" class=\"dataframe\">\n",
       "  <thead>\n",
       "    <tr style=\"text-align: right;\">\n",
       "      <th></th>\n",
       "      <th>Address</th>\n",
       "      <th>First Name</th>\n",
       "      <th>Last Name</th>\n",
       "    </tr>\n",
       "  </thead>\n",
       "  <tbody>\n",
       "    <tr>\n",
       "      <th>0</th>\n",
       "      <td>6461 Quinn Groves, East Matthew, New Hampshire...</td>\n",
       "      <td>Frank</td>\n",
       "      <td>Manning</td>\n",
       "    </tr>\n",
       "    <tr>\n",
       "      <th>1</th>\n",
       "      <td>1360 Tracey Ports Apt. 419, Kyleport, Vermont,...</td>\n",
       "      <td>Elizabeth</td>\n",
       "      <td>Johnson</td>\n",
       "    </tr>\n",
       "    <tr>\n",
       "      <th>2</th>\n",
       "      <td>19120 Fleming Manors, Prestonstad, Montana, 23495</td>\n",
       "      <td>Donald</td>\n",
       "      <td>Stephens</td>\n",
       "    </tr>\n",
       "    <tr>\n",
       "      <th>3</th>\n",
       "      <td>441 Olivia Creek, Jimmymouth, Georgia, 82991</td>\n",
       "      <td>Michael</td>\n",
       "      <td>Vincent III</td>\n",
       "    </tr>\n",
       "    <tr>\n",
       "      <th>4</th>\n",
       "      <td>4246 Chelsey Ford Apt. 310, Karamouth, Utah, 7...</td>\n",
       "      <td>Jasmine</td>\n",
       "      <td>Zamora</td>\n",
       "    </tr>\n",
       "    <tr>\n",
       "      <th>...</th>\n",
       "      <td>...</td>\n",
       "      <td>...</td>\n",
       "      <td>...</td>\n",
       "    </tr>\n",
       "    <tr>\n",
       "      <th>9956</th>\n",
       "      <td>762 Andrew Views Apt. 254, North Paul, New Mex...</td>\n",
       "      <td>Dana</td>\n",
       "      <td>Browning</td>\n",
       "    </tr>\n",
       "    <tr>\n",
       "      <th>9957</th>\n",
       "      <td>44188 Day Crest Apt. 901, Lake Marcia, Maine, ...</td>\n",
       "      <td>Amanda</td>\n",
       "      <td>Anderson</td>\n",
       "    </tr>\n",
       "    <tr>\n",
       "      <th>9958</th>\n",
       "      <td>73015 Michelle Squares, Watsonville, West Virg...</td>\n",
       "      <td>Eric</td>\n",
       "      <td>Davis</td>\n",
       "    </tr>\n",
       "    <tr>\n",
       "      <th>9959</th>\n",
       "      <td>129 Keith Greens, Haleyfurt, Oklahoma, 98916</td>\n",
       "      <td>Taylor</td>\n",
       "      <td>Hernandez</td>\n",
       "    </tr>\n",
       "    <tr>\n",
       "      <th>9960</th>\n",
       "      <td>355 Griffin Valley, Davidtown, New Mexico, 17581</td>\n",
       "      <td>Sherry</td>\n",
       "      <td>Nicholson</td>\n",
       "    </tr>\n",
       "  </tbody>\n",
       "</table>\n",
       "<p>9961 rows × 3 columns</p>\n",
       "</div>"
      ],
      "text/plain": [
       "                                                Address First Name  \\\n",
       "0     6461 Quinn Groves, East Matthew, New Hampshire...      Frank   \n",
       "1     1360 Tracey Ports Apt. 419, Kyleport, Vermont,...  Elizabeth   \n",
       "2     19120 Fleming Manors, Prestonstad, Montana, 23495     Donald   \n",
       "3          441 Olivia Creek, Jimmymouth, Georgia, 82991    Michael   \n",
       "4     4246 Chelsey Ford Apt. 310, Karamouth, Utah, 7...    Jasmine   \n",
       "...                                                 ...        ...   \n",
       "9956  762 Andrew Views Apt. 254, North Paul, New Mex...       Dana   \n",
       "9957  44188 Day Crest Apt. 901, Lake Marcia, Maine, ...     Amanda   \n",
       "9958  73015 Michelle Squares, Watsonville, West Virg...       Eric   \n",
       "9959       129 Keith Greens, Haleyfurt, Oklahoma, 98916     Taylor   \n",
       "9960   355 Griffin Valley, Davidtown, New Mexico, 17581     Sherry   \n",
       "\n",
       "        Last Name  \n",
       "0         Manning  \n",
       "1         Johnson  \n",
       "2        Stephens  \n",
       "3     Vincent III  \n",
       "4          Zamora  \n",
       "...           ...  \n",
       "9956     Browning  \n",
       "9957     Anderson  \n",
       "9958        Davis  \n",
       "9959    Hernandez  \n",
       "9960    Nicholson  \n",
       "\n",
       "[9961 rows x 3 columns]"
      ]
     },
     "execution_count": 221,
     "metadata": {},
     "output_type": "execute_result"
    }
   ],
   "source": [
    "customers"
   ]
  },
  {
   "cell_type": "code",
   "execution_count": 222,
   "id": "74010bfc",
   "metadata": {},
   "outputs": [
    {
     "data": {
      "text/plain": [
       "0       [6461 Quinn Groves,  East Matthew,  New Hampsh...\n",
       "1       [1360 Tracey Ports Apt. 419,  Kyleport,  Vermo...\n",
       "2       [19120 Fleming Manors,  Prestonstad,  Montana,...\n",
       "3       [441 Olivia Creek,  Jimmymouth,  Georgia,  82991]\n",
       "4       [4246 Chelsey Ford Apt. 310,  Karamouth,  Utah...\n",
       "                              ...                        \n",
       "9956    [762 Andrew Views Apt. 254,  North Paul,  New ...\n",
       "9957    [44188 Day Crest Apt. 901,  Lake Marcia,  Main...\n",
       "9958    [73015 Michelle Squares,  Watsonville,  West V...\n",
       "9959    [129 Keith Greens,  Haleyfurt,  Oklahoma,  98916]\n",
       "9960    [355 Griffin Valley,  Davidtown,  New Mexico, ...\n",
       "Name: Address, Length: 9961, dtype: object"
      ]
     },
     "execution_count": 222,
     "metadata": {},
     "output_type": "execute_result"
    }
   ],
   "source": [
    "Address = customers[\"Address\"].str.split(\",\")\n",
    "Address"
   ]
  },
  {
   "cell_type": "code",
   "execution_count": 223,
   "id": "e1bb7f7f",
   "metadata": {},
   "outputs": [
    {
     "data": {
      "text/html": [
       "<div>\n",
       "<style scoped>\n",
       "    .dataframe tbody tr th:only-of-type {\n",
       "        vertical-align: middle;\n",
       "    }\n",
       "\n",
       "    .dataframe tbody tr th {\n",
       "        vertical-align: top;\n",
       "    }\n",
       "\n",
       "    .dataframe thead th {\n",
       "        text-align: right;\n",
       "    }\n",
       "</style>\n",
       "<table border=\"1\" class=\"dataframe\">\n",
       "  <thead>\n",
       "    <tr style=\"text-align: right;\">\n",
       "      <th></th>\n",
       "      <th>0</th>\n",
       "      <th>1</th>\n",
       "      <th>2</th>\n",
       "      <th>3</th>\n",
       "    </tr>\n",
       "  </thead>\n",
       "  <tbody>\n",
       "    <tr>\n",
       "      <th>0</th>\n",
       "      <td>6461 Quinn Groves</td>\n",
       "      <td>East Matthew</td>\n",
       "      <td>New Hampshire</td>\n",
       "      <td>16656</td>\n",
       "    </tr>\n",
       "    <tr>\n",
       "      <th>1</th>\n",
       "      <td>1360 Tracey Ports Apt. 419</td>\n",
       "      <td>Kyleport</td>\n",
       "      <td>Vermont</td>\n",
       "      <td>31924</td>\n",
       "    </tr>\n",
       "    <tr>\n",
       "      <th>2</th>\n",
       "      <td>19120 Fleming Manors</td>\n",
       "      <td>Prestonstad</td>\n",
       "      <td>Montana</td>\n",
       "      <td>23495</td>\n",
       "    </tr>\n",
       "    <tr>\n",
       "      <th>3</th>\n",
       "      <td>441 Olivia Creek</td>\n",
       "      <td>Jimmymouth</td>\n",
       "      <td>Georgia</td>\n",
       "      <td>82991</td>\n",
       "    </tr>\n",
       "    <tr>\n",
       "      <th>4</th>\n",
       "      <td>4246 Chelsey Ford Apt. 310</td>\n",
       "      <td>Karamouth</td>\n",
       "      <td>Utah</td>\n",
       "      <td>76252</td>\n",
       "    </tr>\n",
       "    <tr>\n",
       "      <th>...</th>\n",
       "      <td>...</td>\n",
       "      <td>...</td>\n",
       "      <td>...</td>\n",
       "      <td>...</td>\n",
       "    </tr>\n",
       "    <tr>\n",
       "      <th>9956</th>\n",
       "      <td>762 Andrew Views Apt. 254</td>\n",
       "      <td>North Paul</td>\n",
       "      <td>New Mexico</td>\n",
       "      <td>28889</td>\n",
       "    </tr>\n",
       "    <tr>\n",
       "      <th>9957</th>\n",
       "      <td>44188 Day Crest Apt. 901</td>\n",
       "      <td>Lake Marcia</td>\n",
       "      <td>Maine</td>\n",
       "      <td>37378</td>\n",
       "    </tr>\n",
       "    <tr>\n",
       "      <th>9958</th>\n",
       "      <td>73015 Michelle Squares</td>\n",
       "      <td>Watsonville</td>\n",
       "      <td>West Virginia</td>\n",
       "      <td>03933</td>\n",
       "    </tr>\n",
       "    <tr>\n",
       "      <th>9959</th>\n",
       "      <td>129 Keith Greens</td>\n",
       "      <td>Haleyfurt</td>\n",
       "      <td>Oklahoma</td>\n",
       "      <td>98916</td>\n",
       "    </tr>\n",
       "    <tr>\n",
       "      <th>9960</th>\n",
       "      <td>355 Griffin Valley</td>\n",
       "      <td>Davidtown</td>\n",
       "      <td>New Mexico</td>\n",
       "      <td>17581</td>\n",
       "    </tr>\n",
       "  </tbody>\n",
       "</table>\n",
       "<p>9961 rows × 4 columns</p>\n",
       "</div>"
      ],
      "text/plain": [
       "                               0              1               2       3\n",
       "0              6461 Quinn Groves   East Matthew   New Hampshire   16656\n",
       "1     1360 Tracey Ports Apt. 419       Kyleport         Vermont   31924\n",
       "2           19120 Fleming Manors    Prestonstad         Montana   23495\n",
       "3               441 Olivia Creek     Jimmymouth         Georgia   82991\n",
       "4     4246 Chelsey Ford Apt. 310      Karamouth            Utah   76252\n",
       "...                          ...            ...             ...     ...\n",
       "9956   762 Andrew Views Apt. 254     North Paul      New Mexico   28889\n",
       "9957    44188 Day Crest Apt. 901    Lake Marcia           Maine   37378\n",
       "9958      73015 Michelle Squares    Watsonville   West Virginia   03933\n",
       "9959            129 Keith Greens      Haleyfurt        Oklahoma   98916\n",
       "9960          355 Griffin Valley      Davidtown      New Mexico   17581\n",
       "\n",
       "[9961 rows x 4 columns]"
      ]
     },
     "execution_count": 223,
     "metadata": {},
     "output_type": "execute_result"
    }
   ],
   "source": [
    "customers[\"Address\"].str.split(\",\", expand = True)"
   ]
  },
  {
   "cell_type": "code",
   "execution_count": 224,
   "id": "ae50f19b",
   "metadata": {},
   "outputs": [],
   "source": [
    "SCSZ = [\"Street\", \"City\", \"State\", \"Zip\"]\n",
    "customers[SCSZ] = customers[\"Address\"].str.split(\",\",expand = True)"
   ]
  },
  {
   "cell_type": "code",
   "execution_count": 225,
   "id": "c50f1d08",
   "metadata": {},
   "outputs": [
    {
     "data": {
      "text/html": [
       "<div>\n",
       "<style scoped>\n",
       "    .dataframe tbody tr th:only-of-type {\n",
       "        vertical-align: middle;\n",
       "    }\n",
       "\n",
       "    .dataframe tbody tr th {\n",
       "        vertical-align: top;\n",
       "    }\n",
       "\n",
       "    .dataframe thead th {\n",
       "        text-align: right;\n",
       "    }\n",
       "</style>\n",
       "<table border=\"1\" class=\"dataframe\">\n",
       "  <thead>\n",
       "    <tr style=\"text-align: right;\">\n",
       "      <th></th>\n",
       "      <th>First Name</th>\n",
       "      <th>Last Name</th>\n",
       "      <th>Street</th>\n",
       "      <th>City</th>\n",
       "      <th>State</th>\n",
       "      <th>Zip</th>\n",
       "    </tr>\n",
       "  </thead>\n",
       "  <tbody>\n",
       "    <tr>\n",
       "      <th>0</th>\n",
       "      <td>Frank</td>\n",
       "      <td>Manning</td>\n",
       "      <td>6461 Quinn Groves</td>\n",
       "      <td>East Matthew</td>\n",
       "      <td>New Hampshire</td>\n",
       "      <td>16656</td>\n",
       "    </tr>\n",
       "    <tr>\n",
       "      <th>1</th>\n",
       "      <td>Elizabeth</td>\n",
       "      <td>Johnson</td>\n",
       "      <td>1360 Tracey Ports Apt. 419</td>\n",
       "      <td>Kyleport</td>\n",
       "      <td>Vermont</td>\n",
       "      <td>31924</td>\n",
       "    </tr>\n",
       "    <tr>\n",
       "      <th>2</th>\n",
       "      <td>Donald</td>\n",
       "      <td>Stephens</td>\n",
       "      <td>19120 Fleming Manors</td>\n",
       "      <td>Prestonstad</td>\n",
       "      <td>Montana</td>\n",
       "      <td>23495</td>\n",
       "    </tr>\n",
       "    <tr>\n",
       "      <th>3</th>\n",
       "      <td>Michael</td>\n",
       "      <td>Vincent III</td>\n",
       "      <td>441 Olivia Creek</td>\n",
       "      <td>Jimmymouth</td>\n",
       "      <td>Georgia</td>\n",
       "      <td>82991</td>\n",
       "    </tr>\n",
       "    <tr>\n",
       "      <th>4</th>\n",
       "      <td>Jasmine</td>\n",
       "      <td>Zamora</td>\n",
       "      <td>4246 Chelsey Ford Apt. 310</td>\n",
       "      <td>Karamouth</td>\n",
       "      <td>Utah</td>\n",
       "      <td>76252</td>\n",
       "    </tr>\n",
       "    <tr>\n",
       "      <th>...</th>\n",
       "      <td>...</td>\n",
       "      <td>...</td>\n",
       "      <td>...</td>\n",
       "      <td>...</td>\n",
       "      <td>...</td>\n",
       "      <td>...</td>\n",
       "    </tr>\n",
       "    <tr>\n",
       "      <th>9956</th>\n",
       "      <td>Dana</td>\n",
       "      <td>Browning</td>\n",
       "      <td>762 Andrew Views Apt. 254</td>\n",
       "      <td>North Paul</td>\n",
       "      <td>New Mexico</td>\n",
       "      <td>28889</td>\n",
       "    </tr>\n",
       "    <tr>\n",
       "      <th>9957</th>\n",
       "      <td>Amanda</td>\n",
       "      <td>Anderson</td>\n",
       "      <td>44188 Day Crest Apt. 901</td>\n",
       "      <td>Lake Marcia</td>\n",
       "      <td>Maine</td>\n",
       "      <td>37378</td>\n",
       "    </tr>\n",
       "    <tr>\n",
       "      <th>9958</th>\n",
       "      <td>Eric</td>\n",
       "      <td>Davis</td>\n",
       "      <td>73015 Michelle Squares</td>\n",
       "      <td>Watsonville</td>\n",
       "      <td>West Virginia</td>\n",
       "      <td>03933</td>\n",
       "    </tr>\n",
       "    <tr>\n",
       "      <th>9959</th>\n",
       "      <td>Taylor</td>\n",
       "      <td>Hernandez</td>\n",
       "      <td>129 Keith Greens</td>\n",
       "      <td>Haleyfurt</td>\n",
       "      <td>Oklahoma</td>\n",
       "      <td>98916</td>\n",
       "    </tr>\n",
       "    <tr>\n",
       "      <th>9960</th>\n",
       "      <td>Sherry</td>\n",
       "      <td>Nicholson</td>\n",
       "      <td>355 Griffin Valley</td>\n",
       "      <td>Davidtown</td>\n",
       "      <td>New Mexico</td>\n",
       "      <td>17581</td>\n",
       "    </tr>\n",
       "  </tbody>\n",
       "</table>\n",
       "<p>9961 rows × 6 columns</p>\n",
       "</div>"
      ],
      "text/plain": [
       "     First Name    Last Name                      Street           City  \\\n",
       "0         Frank      Manning           6461 Quinn Groves   East Matthew   \n",
       "1     Elizabeth      Johnson  1360 Tracey Ports Apt. 419       Kyleport   \n",
       "2        Donald     Stephens        19120 Fleming Manors    Prestonstad   \n",
       "3       Michael  Vincent III            441 Olivia Creek     Jimmymouth   \n",
       "4       Jasmine       Zamora  4246 Chelsey Ford Apt. 310      Karamouth   \n",
       "...         ...          ...                         ...            ...   \n",
       "9956       Dana     Browning   762 Andrew Views Apt. 254     North Paul   \n",
       "9957     Amanda     Anderson    44188 Day Crest Apt. 901    Lake Marcia   \n",
       "9958       Eric        Davis      73015 Michelle Squares    Watsonville   \n",
       "9959     Taylor    Hernandez            129 Keith Greens      Haleyfurt   \n",
       "9960     Sherry    Nicholson          355 Griffin Valley      Davidtown   \n",
       "\n",
       "               State     Zip  \n",
       "0      New Hampshire   16656  \n",
       "1            Vermont   31924  \n",
       "2            Montana   23495  \n",
       "3            Georgia   82991  \n",
       "4               Utah   76252  \n",
       "...              ...     ...  \n",
       "9956      New Mexico   28889  \n",
       "9957           Maine   37378  \n",
       "9958   West Virginia   03933  \n",
       "9959        Oklahoma   98916  \n",
       "9960      New Mexico   17581  \n",
       "\n",
       "[9961 rows x 6 columns]"
      ]
     },
     "execution_count": 225,
     "metadata": {},
     "output_type": "execute_result"
    }
   ],
   "source": [
    "del customers[\"Address\"]\n",
    "customers"
   ]
  },
  {
   "cell_type": "code",
   "execution_count": null,
   "id": "e45fc7b0",
   "metadata": {},
   "outputs": [],
   "source": []
  },
  {
   "cell_type": "code",
   "execution_count": null,
   "id": "19348fff",
   "metadata": {},
   "outputs": [],
   "source": []
  },
  {
   "cell_type": "code",
   "execution_count": null,
   "id": "f2fd8dcd",
   "metadata": {},
   "outputs": [],
   "source": []
  },
  {
   "cell_type": "code",
   "execution_count": null,
   "id": "66e552da",
   "metadata": {},
   "outputs": [],
   "source": []
  },
  {
   "cell_type": "code",
   "execution_count": null,
   "id": "5b288f9c",
   "metadata": {},
   "outputs": [],
   "source": []
  },
  {
   "cell_type": "code",
   "execution_count": null,
   "id": "98cf677a",
   "metadata": {},
   "outputs": [],
   "source": []
  }
 ],
 "metadata": {
  "kernelspec": {
   "display_name": "Python 3 (ipykernel)",
   "language": "python",
   "name": "python3"
  },
  "language_info": {
   "codemirror_mode": {
    "name": "ipython",
    "version": 3
   },
   "file_extension": ".py",
   "mimetype": "text/x-python",
   "name": "python",
   "nbconvert_exporter": "python",
   "pygments_lexer": "ipython3",
   "version": "3.11.5"
  }
 },
 "nbformat": 4,
 "nbformat_minor": 5
}
