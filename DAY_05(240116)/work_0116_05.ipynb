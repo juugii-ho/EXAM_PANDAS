{
 "cells": [
  {
   "cell_type": "markdown",
   "id": "9175afa5",
   "metadata": {},
   "source": [
    "# 5"
   ]
  },
  {
   "cell_type": "markdown",
   "id": "6dfd0b8a",
   "metadata": {},
   "source": [
    "## 5.1"
   ]
  },
  {
   "cell_type": "code",
   "execution_count": 296,
   "id": "226ba956",
   "metadata": {},
   "outputs": [],
   "source": [
    "import pandas as pd"
   ]
  },
  {
   "cell_type": "code",
   "execution_count": 297,
   "id": "0ca7dcf4",
   "metadata": {},
   "outputs": [
    {
     "data": {
      "text/html": [
       "<div>\n",
       "<style scoped>\n",
       "    .dataframe tbody tr th:only-of-type {\n",
       "        vertical-align: middle;\n",
       "    }\n",
       "\n",
       "    .dataframe tbody tr th {\n",
       "        vertical-align: top;\n",
       "    }\n",
       "\n",
       "    .dataframe thead th {\n",
       "        text-align: right;\n",
       "    }\n",
       "</style>\n",
       "<table border=\"1\" class=\"dataframe\">\n",
       "  <thead>\n",
       "    <tr style=\"text-align: right;\">\n",
       "      <th></th>\n",
       "      <th>First Name</th>\n",
       "      <th>Gender</th>\n",
       "      <th>Start Date</th>\n",
       "      <th>Salary</th>\n",
       "      <th>Mgmt</th>\n",
       "      <th>Team</th>\n",
       "    </tr>\n",
       "  </thead>\n",
       "  <tbody>\n",
       "    <tr>\n",
       "      <th>0</th>\n",
       "      <td>Douglas</td>\n",
       "      <td>Male</td>\n",
       "      <td>8/6/93</td>\n",
       "      <td>NaN</td>\n",
       "      <td>True</td>\n",
       "      <td>Marketing</td>\n",
       "    </tr>\n",
       "    <tr>\n",
       "      <th>1</th>\n",
       "      <td>Thomas</td>\n",
       "      <td>Male</td>\n",
       "      <td>3/31/96</td>\n",
       "      <td>61933.0</td>\n",
       "      <td>True</td>\n",
       "      <td>NaN</td>\n",
       "    </tr>\n",
       "    <tr>\n",
       "      <th>2</th>\n",
       "      <td>Maria</td>\n",
       "      <td>Female</td>\n",
       "      <td>NaN</td>\n",
       "      <td>130590.0</td>\n",
       "      <td>False</td>\n",
       "      <td>Finance</td>\n",
       "    </tr>\n",
       "    <tr>\n",
       "      <th>3</th>\n",
       "      <td>Jerry</td>\n",
       "      <td>NaN</td>\n",
       "      <td>3/4/05</td>\n",
       "      <td>138705.0</td>\n",
       "      <td>True</td>\n",
       "      <td>Finance</td>\n",
       "    </tr>\n",
       "    <tr>\n",
       "      <th>4</th>\n",
       "      <td>Larry</td>\n",
       "      <td>Male</td>\n",
       "      <td>1/24/98</td>\n",
       "      <td>101004.0</td>\n",
       "      <td>True</td>\n",
       "      <td>IT</td>\n",
       "    </tr>\n",
       "    <tr>\n",
       "      <th>...</th>\n",
       "      <td>...</td>\n",
       "      <td>...</td>\n",
       "      <td>...</td>\n",
       "      <td>...</td>\n",
       "      <td>...</td>\n",
       "      <td>...</td>\n",
       "    </tr>\n",
       "    <tr>\n",
       "      <th>996</th>\n",
       "      <td>Phillip</td>\n",
       "      <td>Male</td>\n",
       "      <td>1/31/84</td>\n",
       "      <td>42392.0</td>\n",
       "      <td>False</td>\n",
       "      <td>Finance</td>\n",
       "    </tr>\n",
       "    <tr>\n",
       "      <th>997</th>\n",
       "      <td>Russell</td>\n",
       "      <td>Male</td>\n",
       "      <td>5/20/13</td>\n",
       "      <td>96914.0</td>\n",
       "      <td>False</td>\n",
       "      <td>Product</td>\n",
       "    </tr>\n",
       "    <tr>\n",
       "      <th>998</th>\n",
       "      <td>Larry</td>\n",
       "      <td>Male</td>\n",
       "      <td>4/20/13</td>\n",
       "      <td>60500.0</td>\n",
       "      <td>False</td>\n",
       "      <td>Business Dev</td>\n",
       "    </tr>\n",
       "    <tr>\n",
       "      <th>999</th>\n",
       "      <td>Albert</td>\n",
       "      <td>Male</td>\n",
       "      <td>5/15/12</td>\n",
       "      <td>129949.0</td>\n",
       "      <td>True</td>\n",
       "      <td>Sales</td>\n",
       "    </tr>\n",
       "    <tr>\n",
       "      <th>1000</th>\n",
       "      <td>NaN</td>\n",
       "      <td>NaN</td>\n",
       "      <td>NaN</td>\n",
       "      <td>NaN</td>\n",
       "      <td>NaN</td>\n",
       "      <td>NaN</td>\n",
       "    </tr>\n",
       "  </tbody>\n",
       "</table>\n",
       "<p>1001 rows × 6 columns</p>\n",
       "</div>"
      ],
      "text/plain": [
       "     First Name  Gender Start Date    Salary   Mgmt          Team\n",
       "0       Douglas    Male     8/6/93       NaN   True     Marketing\n",
       "1        Thomas    Male    3/31/96   61933.0   True           NaN\n",
       "2         Maria  Female        NaN  130590.0  False       Finance\n",
       "3         Jerry     NaN     3/4/05  138705.0   True       Finance\n",
       "4         Larry    Male    1/24/98  101004.0   True            IT\n",
       "...         ...     ...        ...       ...    ...           ...\n",
       "996     Phillip    Male    1/31/84   42392.0  False       Finance\n",
       "997     Russell    Male    5/20/13   96914.0  False       Product\n",
       "998       Larry    Male    4/20/13   60500.0  False  Business Dev\n",
       "999      Albert    Male    5/15/12  129949.0   True         Sales\n",
       "1000        NaN     NaN        NaN       NaN    NaN           NaN\n",
       "\n",
       "[1001 rows x 6 columns]"
      ]
     },
     "execution_count": 297,
     "metadata": {},
     "output_type": "execute_result"
    }
   ],
   "source": [
    "pd.read_csv(\"../DATA/employees.csv\")"
   ]
  },
  {
   "cell_type": "code",
   "execution_count": 298,
   "id": "3c0e3469",
   "metadata": {},
   "outputs": [
    {
     "name": "stderr",
     "output_type": "stream",
     "text": [
      "/var/folders/9y/lpn0hjmn5csct06t4_r5qtjr0000gn/T/ipykernel_40897/4114072625.py:1: UserWarning: Could not infer format, so each element will be parsed individually, falling back to `dateutil`. To ensure parsing is consistent and as-expected, please specify a format.\n",
      "  pd.read_csv(\"../DATA/employees.csv\", parse_dates=[\"Start Date\"]).head()\n"
     ]
    },
    {
     "data": {
      "text/html": [
       "<div>\n",
       "<style scoped>\n",
       "    .dataframe tbody tr th:only-of-type {\n",
       "        vertical-align: middle;\n",
       "    }\n",
       "\n",
       "    .dataframe tbody tr th {\n",
       "        vertical-align: top;\n",
       "    }\n",
       "\n",
       "    .dataframe thead th {\n",
       "        text-align: right;\n",
       "    }\n",
       "</style>\n",
       "<table border=\"1\" class=\"dataframe\">\n",
       "  <thead>\n",
       "    <tr style=\"text-align: right;\">\n",
       "      <th></th>\n",
       "      <th>First Name</th>\n",
       "      <th>Gender</th>\n",
       "      <th>Start Date</th>\n",
       "      <th>Salary</th>\n",
       "      <th>Mgmt</th>\n",
       "      <th>Team</th>\n",
       "    </tr>\n",
       "  </thead>\n",
       "  <tbody>\n",
       "    <tr>\n",
       "      <th>0</th>\n",
       "      <td>Douglas</td>\n",
       "      <td>Male</td>\n",
       "      <td>1993-08-06</td>\n",
       "      <td>NaN</td>\n",
       "      <td>True</td>\n",
       "      <td>Marketing</td>\n",
       "    </tr>\n",
       "    <tr>\n",
       "      <th>1</th>\n",
       "      <td>Thomas</td>\n",
       "      <td>Male</td>\n",
       "      <td>1996-03-31</td>\n",
       "      <td>61933.0</td>\n",
       "      <td>True</td>\n",
       "      <td>NaN</td>\n",
       "    </tr>\n",
       "    <tr>\n",
       "      <th>2</th>\n",
       "      <td>Maria</td>\n",
       "      <td>Female</td>\n",
       "      <td>NaT</td>\n",
       "      <td>130590.0</td>\n",
       "      <td>False</td>\n",
       "      <td>Finance</td>\n",
       "    </tr>\n",
       "    <tr>\n",
       "      <th>3</th>\n",
       "      <td>Jerry</td>\n",
       "      <td>NaN</td>\n",
       "      <td>2005-03-04</td>\n",
       "      <td>138705.0</td>\n",
       "      <td>True</td>\n",
       "      <td>Finance</td>\n",
       "    </tr>\n",
       "    <tr>\n",
       "      <th>4</th>\n",
       "      <td>Larry</td>\n",
       "      <td>Male</td>\n",
       "      <td>1998-01-24</td>\n",
       "      <td>101004.0</td>\n",
       "      <td>True</td>\n",
       "      <td>IT</td>\n",
       "    </tr>\n",
       "  </tbody>\n",
       "</table>\n",
       "</div>"
      ],
      "text/plain": [
       "  First Name  Gender Start Date    Salary   Mgmt       Team\n",
       "0    Douglas    Male 1993-08-06       NaN   True  Marketing\n",
       "1     Thomas    Male 1996-03-31   61933.0   True        NaN\n",
       "2      Maria  Female        NaT  130590.0  False    Finance\n",
       "3      Jerry     NaN 2005-03-04  138705.0   True    Finance\n",
       "4      Larry    Male 1998-01-24  101004.0   True         IT"
      ]
     },
     "execution_count": 298,
     "metadata": {},
     "output_type": "execute_result"
    }
   ],
   "source": [
    "pd.read_csv(\"../DATA/employees.csv\", parse_dates=[\"Start Date\"]).head()"
   ]
  },
  {
   "cell_type": "code",
   "execution_count": 299,
   "id": "682e515c",
   "metadata": {},
   "outputs": [
    {
     "name": "stderr",
     "output_type": "stream",
     "text": [
      "/var/folders/9y/lpn0hjmn5csct06t4_r5qtjr0000gn/T/ipykernel_40897/1058059249.py:1: UserWarning: Could not infer format, so each element will be parsed individually, falling back to `dateutil`. To ensure parsing is consistent and as-expected, please specify a format.\n",
      "  employees = pd.read_csv(\"../DATA/employees.csv\", parse_dates=[\"Start Date\"])\n"
     ]
    }
   ],
   "source": [
    "employees = pd.read_csv(\"../DATA/employees.csv\", parse_dates=[\"Start Date\"])"
   ]
  },
  {
   "cell_type": "code",
   "execution_count": 300,
   "id": "7472aa68",
   "metadata": {},
   "outputs": [
    {
     "name": "stdout",
     "output_type": "stream",
     "text": [
      "<class 'pandas.core.frame.DataFrame'>\n",
      "RangeIndex: 1001 entries, 0 to 1000\n",
      "Data columns (total 6 columns):\n",
      " #   Column      Non-Null Count  Dtype         \n",
      "---  ------      --------------  -----         \n",
      " 0   First Name  933 non-null    object        \n",
      " 1   Gender      854 non-null    object        \n",
      " 2   Start Date  999 non-null    datetime64[ns]\n",
      " 3   Salary      999 non-null    float64       \n",
      " 4   Mgmt        933 non-null    object        \n",
      " 5   Team        957 non-null    object        \n",
      "dtypes: datetime64[ns](1), float64(1), object(4)\n",
      "memory usage: 47.1+ KB\n"
     ]
    }
   ],
   "source": [
    "employees.info()"
   ]
  },
  {
   "cell_type": "markdown",
   "id": "ecb44039",
   "metadata": {},
   "source": [
    "### 5.1.1"
   ]
  },
  {
   "cell_type": "code",
   "execution_count": 301,
   "id": "8cf89fcb",
   "metadata": {},
   "outputs": [
    {
     "data": {
      "text/plain": [
       "0        True\n",
       "1        True\n",
       "2       False\n",
       "3        True\n",
       "4        True\n",
       "        ...  \n",
       "996     False\n",
       "997     False\n",
       "998     False\n",
       "999      True\n",
       "1000     True\n",
       "Name: Mgmt, Length: 1001, dtype: bool"
      ]
     },
     "execution_count": 301,
     "metadata": {},
     "output_type": "execute_result"
    }
   ],
   "source": [
    "employees[\"Mgmt\"].astype(bool)"
   ]
  },
  {
   "cell_type": "code",
   "execution_count": 302,
   "id": "151b601a",
   "metadata": {},
   "outputs": [],
   "source": [
    "employees[\"Mgmt\"] = employees[\"Mgmt\"].astype(bool)"
   ]
  },
  {
   "cell_type": "code",
   "execution_count": 303,
   "id": "387c3462",
   "metadata": {},
   "outputs": [
    {
     "data": {
      "text/html": [
       "<div>\n",
       "<style scoped>\n",
       "    .dataframe tbody tr th:only-of-type {\n",
       "        vertical-align: middle;\n",
       "    }\n",
       "\n",
       "    .dataframe tbody tr th {\n",
       "        vertical-align: top;\n",
       "    }\n",
       "\n",
       "    .dataframe thead th {\n",
       "        text-align: right;\n",
       "    }\n",
       "</style>\n",
       "<table border=\"1\" class=\"dataframe\">\n",
       "  <thead>\n",
       "    <tr style=\"text-align: right;\">\n",
       "      <th></th>\n",
       "      <th>First Name</th>\n",
       "      <th>Gender</th>\n",
       "      <th>Start Date</th>\n",
       "      <th>Salary</th>\n",
       "      <th>Mgmt</th>\n",
       "      <th>Team</th>\n",
       "    </tr>\n",
       "  </thead>\n",
       "  <tbody>\n",
       "    <tr>\n",
       "      <th>996</th>\n",
       "      <td>Phillip</td>\n",
       "      <td>Male</td>\n",
       "      <td>1984-01-31</td>\n",
       "      <td>42392.0</td>\n",
       "      <td>False</td>\n",
       "      <td>Finance</td>\n",
       "    </tr>\n",
       "    <tr>\n",
       "      <th>997</th>\n",
       "      <td>Russell</td>\n",
       "      <td>Male</td>\n",
       "      <td>2013-05-20</td>\n",
       "      <td>96914.0</td>\n",
       "      <td>False</td>\n",
       "      <td>Product</td>\n",
       "    </tr>\n",
       "    <tr>\n",
       "      <th>998</th>\n",
       "      <td>Larry</td>\n",
       "      <td>Male</td>\n",
       "      <td>2013-04-20</td>\n",
       "      <td>60500.0</td>\n",
       "      <td>False</td>\n",
       "      <td>Business Dev</td>\n",
       "    </tr>\n",
       "    <tr>\n",
       "      <th>999</th>\n",
       "      <td>Albert</td>\n",
       "      <td>Male</td>\n",
       "      <td>2012-05-15</td>\n",
       "      <td>129949.0</td>\n",
       "      <td>True</td>\n",
       "      <td>Sales</td>\n",
       "    </tr>\n",
       "    <tr>\n",
       "      <th>1000</th>\n",
       "      <td>NaN</td>\n",
       "      <td>NaN</td>\n",
       "      <td>NaT</td>\n",
       "      <td>NaN</td>\n",
       "      <td>True</td>\n",
       "      <td>NaN</td>\n",
       "    </tr>\n",
       "  </tbody>\n",
       "</table>\n",
       "</div>"
      ],
      "text/plain": [
       "     First Name Gender Start Date    Salary   Mgmt          Team\n",
       "996     Phillip   Male 1984-01-31   42392.0  False       Finance\n",
       "997     Russell   Male 2013-05-20   96914.0  False       Product\n",
       "998       Larry   Male 2013-04-20   60500.0  False  Business Dev\n",
       "999      Albert   Male 2012-05-15  129949.0   True         Sales\n",
       "1000        NaN    NaN        NaT       NaN   True           NaN"
      ]
     },
     "execution_count": 303,
     "metadata": {},
     "output_type": "execute_result"
    }
   ],
   "source": [
    "employees.tail()"
   ]
  },
  {
   "cell_type": "code",
   "execution_count": 304,
   "id": "b645339d",
   "metadata": {},
   "outputs": [
    {
     "name": "stdout",
     "output_type": "stream",
     "text": [
      "<class 'pandas.core.frame.DataFrame'>\n",
      "RangeIndex: 1001 entries, 0 to 1000\n",
      "Data columns (total 6 columns):\n",
      " #   Column      Non-Null Count  Dtype         \n",
      "---  ------      --------------  -----         \n",
      " 0   First Name  933 non-null    object        \n",
      " 1   Gender      854 non-null    object        \n",
      " 2   Start Date  999 non-null    datetime64[ns]\n",
      " 3   Salary      999 non-null    float64       \n",
      " 4   Mgmt        1001 non-null   bool          \n",
      " 5   Team        957 non-null    object        \n",
      "dtypes: bool(1), datetime64[ns](1), float64(1), object(3)\n",
      "memory usage: 40.2+ KB\n"
     ]
    }
   ],
   "source": [
    "employees.info()"
   ]
  },
  {
   "cell_type": "code",
   "execution_count": 305,
   "id": "83bf8407",
   "metadata": {},
   "outputs": [
    {
     "ename": "IntCastingNaNError",
     "evalue": "Cannot convert non-finite values (NA or inf) to integer",
     "output_type": "error",
     "traceback": [
      "\u001b[0;31m---------------------------------------------------------------------------\u001b[0m",
      "\u001b[0;31mIntCastingNaNError\u001b[0m                        Traceback (most recent call last)",
      "Cell \u001b[0;32mIn[305], line 1\u001b[0m\n\u001b[0;32m----> 1\u001b[0m employees[\u001b[38;5;124m\"\u001b[39m\u001b[38;5;124mSalary\u001b[39m\u001b[38;5;124m\"\u001b[39m]\u001b[38;5;241m.\u001b[39mastype(\u001b[38;5;28mint\u001b[39m)\n",
      "File \u001b[0;32m~/anaconda3/lib/python3.11/site-packages/pandas/core/generic.py:6324\u001b[0m, in \u001b[0;36mNDFrame.astype\u001b[0;34m(self, dtype, copy, errors)\u001b[0m\n\u001b[1;32m   6317\u001b[0m     results \u001b[38;5;241m=\u001b[39m [\n\u001b[1;32m   6318\u001b[0m         \u001b[38;5;28mself\u001b[39m\u001b[38;5;241m.\u001b[39miloc[:, i]\u001b[38;5;241m.\u001b[39mastype(dtype, copy\u001b[38;5;241m=\u001b[39mcopy)\n\u001b[1;32m   6319\u001b[0m         \u001b[38;5;28;01mfor\u001b[39;00m i \u001b[38;5;129;01min\u001b[39;00m \u001b[38;5;28mrange\u001b[39m(\u001b[38;5;28mlen\u001b[39m(\u001b[38;5;28mself\u001b[39m\u001b[38;5;241m.\u001b[39mcolumns))\n\u001b[1;32m   6320\u001b[0m     ]\n\u001b[1;32m   6322\u001b[0m \u001b[38;5;28;01melse\u001b[39;00m:\n\u001b[1;32m   6323\u001b[0m     \u001b[38;5;66;03m# else, only a single dtype is given\u001b[39;00m\n\u001b[0;32m-> 6324\u001b[0m     new_data \u001b[38;5;241m=\u001b[39m \u001b[38;5;28mself\u001b[39m\u001b[38;5;241m.\u001b[39m_mgr\u001b[38;5;241m.\u001b[39mastype(dtype\u001b[38;5;241m=\u001b[39mdtype, copy\u001b[38;5;241m=\u001b[39mcopy, errors\u001b[38;5;241m=\u001b[39merrors)\n\u001b[1;32m   6325\u001b[0m     \u001b[38;5;28;01mreturn\u001b[39;00m \u001b[38;5;28mself\u001b[39m\u001b[38;5;241m.\u001b[39m_constructor(new_data)\u001b[38;5;241m.\u001b[39m__finalize__(\u001b[38;5;28mself\u001b[39m, method\u001b[38;5;241m=\u001b[39m\u001b[38;5;124m\"\u001b[39m\u001b[38;5;124mastype\u001b[39m\u001b[38;5;124m\"\u001b[39m)\n\u001b[1;32m   6327\u001b[0m \u001b[38;5;66;03m# GH 33113: handle empty frame or series\u001b[39;00m\n",
      "File \u001b[0;32m~/anaconda3/lib/python3.11/site-packages/pandas/core/internals/managers.py:451\u001b[0m, in \u001b[0;36mBaseBlockManager.astype\u001b[0;34m(self, dtype, copy, errors)\u001b[0m\n\u001b[1;32m    448\u001b[0m \u001b[38;5;28;01melif\u001b[39;00m using_copy_on_write():\n\u001b[1;32m    449\u001b[0m     copy \u001b[38;5;241m=\u001b[39m \u001b[38;5;28;01mFalse\u001b[39;00m\n\u001b[0;32m--> 451\u001b[0m \u001b[38;5;28;01mreturn\u001b[39;00m \u001b[38;5;28mself\u001b[39m\u001b[38;5;241m.\u001b[39mapply(\n\u001b[1;32m    452\u001b[0m     \u001b[38;5;124m\"\u001b[39m\u001b[38;5;124mastype\u001b[39m\u001b[38;5;124m\"\u001b[39m,\n\u001b[1;32m    453\u001b[0m     dtype\u001b[38;5;241m=\u001b[39mdtype,\n\u001b[1;32m    454\u001b[0m     copy\u001b[38;5;241m=\u001b[39mcopy,\n\u001b[1;32m    455\u001b[0m     errors\u001b[38;5;241m=\u001b[39merrors,\n\u001b[1;32m    456\u001b[0m     using_cow\u001b[38;5;241m=\u001b[39musing_copy_on_write(),\n\u001b[1;32m    457\u001b[0m )\n",
      "File \u001b[0;32m~/anaconda3/lib/python3.11/site-packages/pandas/core/internals/managers.py:352\u001b[0m, in \u001b[0;36mBaseBlockManager.apply\u001b[0;34m(self, f, align_keys, **kwargs)\u001b[0m\n\u001b[1;32m    350\u001b[0m         applied \u001b[38;5;241m=\u001b[39m b\u001b[38;5;241m.\u001b[39mapply(f, \u001b[38;5;241m*\u001b[39m\u001b[38;5;241m*\u001b[39mkwargs)\n\u001b[1;32m    351\u001b[0m     \u001b[38;5;28;01melse\u001b[39;00m:\n\u001b[0;32m--> 352\u001b[0m         applied \u001b[38;5;241m=\u001b[39m \u001b[38;5;28mgetattr\u001b[39m(b, f)(\u001b[38;5;241m*\u001b[39m\u001b[38;5;241m*\u001b[39mkwargs)\n\u001b[1;32m    353\u001b[0m     result_blocks \u001b[38;5;241m=\u001b[39m extend_blocks(applied, result_blocks)\n\u001b[1;32m    355\u001b[0m out \u001b[38;5;241m=\u001b[39m \u001b[38;5;28mtype\u001b[39m(\u001b[38;5;28mself\u001b[39m)\u001b[38;5;241m.\u001b[39mfrom_blocks(result_blocks, \u001b[38;5;28mself\u001b[39m\u001b[38;5;241m.\u001b[39maxes)\n",
      "File \u001b[0;32m~/anaconda3/lib/python3.11/site-packages/pandas/core/internals/blocks.py:511\u001b[0m, in \u001b[0;36mBlock.astype\u001b[0;34m(self, dtype, copy, errors, using_cow)\u001b[0m\n\u001b[1;32m    491\u001b[0m \u001b[38;5;250m\u001b[39m\u001b[38;5;124;03m\"\"\"\u001b[39;00m\n\u001b[1;32m    492\u001b[0m \u001b[38;5;124;03mCoerce to the new dtype.\u001b[39;00m\n\u001b[1;32m    493\u001b[0m \n\u001b[0;32m   (...)\u001b[0m\n\u001b[1;32m    507\u001b[0m \u001b[38;5;124;03mBlock\u001b[39;00m\n\u001b[1;32m    508\u001b[0m \u001b[38;5;124;03m\"\"\"\u001b[39;00m\n\u001b[1;32m    509\u001b[0m values \u001b[38;5;241m=\u001b[39m \u001b[38;5;28mself\u001b[39m\u001b[38;5;241m.\u001b[39mvalues\n\u001b[0;32m--> 511\u001b[0m new_values \u001b[38;5;241m=\u001b[39m astype_array_safe(values, dtype, copy\u001b[38;5;241m=\u001b[39mcopy, errors\u001b[38;5;241m=\u001b[39merrors)\n\u001b[1;32m    513\u001b[0m new_values \u001b[38;5;241m=\u001b[39m maybe_coerce_values(new_values)\n\u001b[1;32m    515\u001b[0m refs \u001b[38;5;241m=\u001b[39m \u001b[38;5;28;01mNone\u001b[39;00m\n",
      "File \u001b[0;32m~/anaconda3/lib/python3.11/site-packages/pandas/core/dtypes/astype.py:242\u001b[0m, in \u001b[0;36mastype_array_safe\u001b[0;34m(values, dtype, copy, errors)\u001b[0m\n\u001b[1;32m    239\u001b[0m     dtype \u001b[38;5;241m=\u001b[39m dtype\u001b[38;5;241m.\u001b[39mnumpy_dtype\n\u001b[1;32m    241\u001b[0m \u001b[38;5;28;01mtry\u001b[39;00m:\n\u001b[0;32m--> 242\u001b[0m     new_values \u001b[38;5;241m=\u001b[39m astype_array(values, dtype, copy\u001b[38;5;241m=\u001b[39mcopy)\n\u001b[1;32m    243\u001b[0m \u001b[38;5;28;01mexcept\u001b[39;00m (\u001b[38;5;167;01mValueError\u001b[39;00m, \u001b[38;5;167;01mTypeError\u001b[39;00m):\n\u001b[1;32m    244\u001b[0m     \u001b[38;5;66;03m# e.g. _astype_nansafe can fail on object-dtype of strings\u001b[39;00m\n\u001b[1;32m    245\u001b[0m     \u001b[38;5;66;03m#  trying to convert to float\u001b[39;00m\n\u001b[1;32m    246\u001b[0m     \u001b[38;5;28;01mif\u001b[39;00m errors \u001b[38;5;241m==\u001b[39m \u001b[38;5;124m\"\u001b[39m\u001b[38;5;124mignore\u001b[39m\u001b[38;5;124m\"\u001b[39m:\n",
      "File \u001b[0;32m~/anaconda3/lib/python3.11/site-packages/pandas/core/dtypes/astype.py:187\u001b[0m, in \u001b[0;36mastype_array\u001b[0;34m(values, dtype, copy)\u001b[0m\n\u001b[1;32m    184\u001b[0m     values \u001b[38;5;241m=\u001b[39m values\u001b[38;5;241m.\u001b[39mastype(dtype, copy\u001b[38;5;241m=\u001b[39mcopy)\n\u001b[1;32m    186\u001b[0m \u001b[38;5;28;01melse\u001b[39;00m:\n\u001b[0;32m--> 187\u001b[0m     values \u001b[38;5;241m=\u001b[39m _astype_nansafe(values, dtype, copy\u001b[38;5;241m=\u001b[39mcopy)\n\u001b[1;32m    189\u001b[0m \u001b[38;5;66;03m# in pandas we don't store numpy str dtypes, so convert to object\u001b[39;00m\n\u001b[1;32m    190\u001b[0m \u001b[38;5;28;01mif\u001b[39;00m \u001b[38;5;28misinstance\u001b[39m(dtype, np\u001b[38;5;241m.\u001b[39mdtype) \u001b[38;5;129;01mand\u001b[39;00m \u001b[38;5;28missubclass\u001b[39m(values\u001b[38;5;241m.\u001b[39mdtype\u001b[38;5;241m.\u001b[39mtype, \u001b[38;5;28mstr\u001b[39m):\n",
      "File \u001b[0;32m~/anaconda3/lib/python3.11/site-packages/pandas/core/dtypes/astype.py:105\u001b[0m, in \u001b[0;36m_astype_nansafe\u001b[0;34m(arr, dtype, copy, skipna)\u001b[0m\n\u001b[1;32m    100\u001b[0m     \u001b[38;5;28;01mreturn\u001b[39;00m lib\u001b[38;5;241m.\u001b[39mensure_string_array(\n\u001b[1;32m    101\u001b[0m         arr, skipna\u001b[38;5;241m=\u001b[39mskipna, convert_na_value\u001b[38;5;241m=\u001b[39m\u001b[38;5;28;01mFalse\u001b[39;00m\n\u001b[1;32m    102\u001b[0m     )\u001b[38;5;241m.\u001b[39mreshape(shape)\n\u001b[1;32m    104\u001b[0m \u001b[38;5;28;01melif\u001b[39;00m np\u001b[38;5;241m.\u001b[39missubdtype(arr\u001b[38;5;241m.\u001b[39mdtype, np\u001b[38;5;241m.\u001b[39mfloating) \u001b[38;5;129;01mand\u001b[39;00m is_integer_dtype(dtype):\n\u001b[0;32m--> 105\u001b[0m     \u001b[38;5;28;01mreturn\u001b[39;00m _astype_float_to_int_nansafe(arr, dtype, copy)\n\u001b[1;32m    107\u001b[0m \u001b[38;5;28;01melif\u001b[39;00m is_object_dtype(arr\u001b[38;5;241m.\u001b[39mdtype):\n\u001b[1;32m    108\u001b[0m     \u001b[38;5;66;03m# if we have a datetime/timedelta array of objects\u001b[39;00m\n\u001b[1;32m    109\u001b[0m     \u001b[38;5;66;03m# then coerce to datetime64[ns] and use DatetimeArray.astype\u001b[39;00m\n\u001b[1;32m    111\u001b[0m     \u001b[38;5;28;01mif\u001b[39;00m is_datetime64_dtype(dtype):\n",
      "File \u001b[0;32m~/anaconda3/lib/python3.11/site-packages/pandas/core/dtypes/astype.py:150\u001b[0m, in \u001b[0;36m_astype_float_to_int_nansafe\u001b[0;34m(values, dtype, copy)\u001b[0m\n\u001b[1;32m    146\u001b[0m \u001b[38;5;250m\u001b[39m\u001b[38;5;124;03m\"\"\"\u001b[39;00m\n\u001b[1;32m    147\u001b[0m \u001b[38;5;124;03mastype with a check preventing converting NaN to an meaningless integer value.\u001b[39;00m\n\u001b[1;32m    148\u001b[0m \u001b[38;5;124;03m\"\"\"\u001b[39;00m\n\u001b[1;32m    149\u001b[0m \u001b[38;5;28;01mif\u001b[39;00m \u001b[38;5;129;01mnot\u001b[39;00m np\u001b[38;5;241m.\u001b[39misfinite(values)\u001b[38;5;241m.\u001b[39mall():\n\u001b[0;32m--> 150\u001b[0m     \u001b[38;5;28;01mraise\u001b[39;00m IntCastingNaNError(\n\u001b[1;32m    151\u001b[0m         \u001b[38;5;124m\"\u001b[39m\u001b[38;5;124mCannot convert non-finite values (NA or inf) to integer\u001b[39m\u001b[38;5;124m\"\u001b[39m\n\u001b[1;32m    152\u001b[0m     )\n\u001b[1;32m    153\u001b[0m \u001b[38;5;28;01mif\u001b[39;00m dtype\u001b[38;5;241m.\u001b[39mkind \u001b[38;5;241m==\u001b[39m \u001b[38;5;124m\"\u001b[39m\u001b[38;5;124mu\u001b[39m\u001b[38;5;124m\"\u001b[39m:\n\u001b[1;32m    154\u001b[0m     \u001b[38;5;66;03m# GH#45151\u001b[39;00m\n\u001b[1;32m    155\u001b[0m     \u001b[38;5;28;01mif\u001b[39;00m \u001b[38;5;129;01mnot\u001b[39;00m (values \u001b[38;5;241m>\u001b[39m\u001b[38;5;241m=\u001b[39m \u001b[38;5;241m0\u001b[39m)\u001b[38;5;241m.\u001b[39mall():\n",
      "\u001b[0;31mIntCastingNaNError\u001b[0m: Cannot convert non-finite values (NA or inf) to integer"
     ]
    }
   ],
   "source": [
    "employees[\"Salary\"].astype(int)"
   ]
  },
  {
   "cell_type": "code",
   "execution_count": null,
   "id": "da3f447f",
   "metadata": {},
   "outputs": [],
   "source": [
    "employees[\"Salary\"].fillna(0).tail()"
   ]
  },
  {
   "cell_type": "code",
   "execution_count": null,
   "id": "12bfd63f",
   "metadata": {},
   "outputs": [],
   "source": [
    "employees[\"Salary\"].fillna(0).astype(int).tail()"
   ]
  },
  {
   "cell_type": "code",
   "execution_count": null,
   "id": "25e9b723",
   "metadata": {},
   "outputs": [],
   "source": [
    "employees[\"Salary\"]=employees[\"Salary\"].fillna(0).astype(int)"
   ]
  },
  {
   "cell_type": "code",
   "execution_count": null,
   "id": "9249ec45",
   "metadata": {},
   "outputs": [],
   "source": [
    "employees.nunique()"
   ]
  },
  {
   "cell_type": "code",
   "execution_count": null,
   "id": "df6bf697",
   "metadata": {},
   "outputs": [],
   "source": [
    "employees[\"Gender\"].astype(\"category\")"
   ]
  },
  {
   "cell_type": "code",
   "execution_count": null,
   "id": "084c501c",
   "metadata": {},
   "outputs": [],
   "source": [
    "employees[\"Gender\"] =employees[\"Gender\"].astype(\"category\")"
   ]
  },
  {
   "cell_type": "code",
   "execution_count": null,
   "id": "4083d3c1",
   "metadata": {},
   "outputs": [],
   "source": [
    "employees[\"Team\"] = employees[\"Team\"].astype(\"category\")"
   ]
  },
  {
   "cell_type": "code",
   "execution_count": null,
   "id": "6c7156e5",
   "metadata": {},
   "outputs": [],
   "source": [
    "employees.info()"
   ]
  },
  {
   "cell_type": "markdown",
   "id": "724b7c45",
   "metadata": {},
   "source": [
    "## 5.2"
   ]
  },
  {
   "cell_type": "code",
   "execution_count": null,
   "id": "a2f72fcb",
   "metadata": {},
   "outputs": [],
   "source": [
    "\"Maria\" == \"Maria\""
   ]
  },
  {
   "cell_type": "code",
   "execution_count": null,
   "id": "565db922",
   "metadata": {},
   "outputs": [],
   "source": [
    "\"Maria\" == \"Taylor\""
   ]
  },
  {
   "cell_type": "code",
   "execution_count": null,
   "id": "7c7bb570",
   "metadata": {},
   "outputs": [],
   "source": [
    "# Series ==value"
   ]
  },
  {
   "cell_type": "code",
   "execution_count": null,
   "id": "40570106",
   "metadata": {},
   "outputs": [],
   "source": [
    "employees[\"First Name\"] == \"Maria\""
   ]
  },
  {
   "cell_type": "code",
   "execution_count": null,
   "id": "74d4b5eb",
   "metadata": {},
   "outputs": [],
   "source": [
    "employees[employees[\"First Name\"] == \"Maria\"]"
   ]
  },
  {
   "cell_type": "code",
   "execution_count": null,
   "id": "d1e86ecf",
   "metadata": {},
   "outputs": [],
   "source": [
    "marias = employees[\"First Name\"] ==\"Maria\"\n",
    "employees[marias]"
   ]
  },
  {
   "cell_type": "code",
   "execution_count": null,
   "id": "14f4fe37",
   "metadata": {},
   "outputs": [],
   "source": [
    "\"Finance\" != \"Engineering\""
   ]
  },
  {
   "cell_type": "code",
   "execution_count": null,
   "id": "5d2c6544",
   "metadata": {},
   "outputs": [],
   "source": [
    "employees[\"Team\"] != \"Finance\""
   ]
  },
  {
   "cell_type": "markdown",
   "id": "b1e03563",
   "metadata": {},
   "source": [
    "## 5.3"
   ]
  },
  {
   "cell_type": "markdown",
   "id": "36d4232d",
   "metadata": {},
   "source": [
    "### 5.3.1"
   ]
  },
  {
   "cell_type": "code",
   "execution_count": null,
   "id": "9414edfb",
   "metadata": {},
   "outputs": [],
   "source": [
    "is_female = employees[\"Gender\"]==\"Female\""
   ]
  },
  {
   "cell_type": "code",
   "execution_count": null,
   "id": "9b3f9e69",
   "metadata": {},
   "outputs": [],
   "source": [
    "in_biz_dev = employees[\"Team\"] == \"Business Dev\"\n"
   ]
  },
  {
   "cell_type": "code",
   "execution_count": null,
   "id": "fdd5d02a",
   "metadata": {},
   "outputs": [],
   "source": [
    "employees[is_female & in_biz_dev].head()"
   ]
  },
  {
   "cell_type": "code",
   "execution_count": null,
   "id": "f213c413",
   "metadata": {},
   "outputs": [],
   "source": [
    "is_manager = employees[\"Mgmt\"]\n",
    "employees[is_female & in_biz_dev & is_manager].head()"
   ]
  },
  {
   "cell_type": "code",
   "execution_count": null,
   "id": "e70594af",
   "metadata": {},
   "outputs": [],
   "source": [
    "earning_below_40k = employees[\"Salary\"]<40000\n",
    "started_after_2015 = employees[\"Start Date\"] > \"2015-01-01\"\n",
    "employees[earning_below_40k | started_after_2015].tail()"
   ]
  },
  {
   "cell_type": "code",
   "execution_count": null,
   "id": "6fb56b91",
   "metadata": {},
   "outputs": [],
   "source": [
    "my_series = pd.Series([True, False, True])\n",
    "my_series"
   ]
  },
  {
   "cell_type": "code",
   "execution_count": null,
   "id": "456ad3e4",
   "metadata": {},
   "outputs": [],
   "source": [
    "~my_series"
   ]
  },
  {
   "cell_type": "code",
   "execution_count": null,
   "id": "82ce6a23",
   "metadata": {},
   "outputs": [],
   "source": [
    "employees[employees[\"Salary\"]<100000].head()"
   ]
  },
  {
   "cell_type": "code",
   "execution_count": null,
   "id": "eb0b6483",
   "metadata": {},
   "outputs": [],
   "source": [
    "employees[~(employees[\"Salary\"] > 100000)].head()"
   ]
  },
  {
   "cell_type": "markdown",
   "id": "c0285d37",
   "metadata": {},
   "source": [
    "### 5.3.2"
   ]
  },
  {
   "cell_type": "code",
   "execution_count": null,
   "id": "5c801300",
   "metadata": {},
   "outputs": [],
   "source": [
    "earning_below_40k = employees[\"Salary\"] < 40000\n",
    "started_after_2015 = employees[\"Start Date\"] > \"2015-01-01\""
   ]
  },
  {
   "cell_type": "code",
   "execution_count": null,
   "id": "c85650d0",
   "metadata": {},
   "outputs": [],
   "source": [
    "is_female = employees[\"Gender\"] == \"Female\""
   ]
  },
  {
   "cell_type": "code",
   "execution_count": null,
   "id": "6a65ad84",
   "metadata": {},
   "outputs": [],
   "source": [
    "in_biz_dev = employees[\"Team\"] == \"Business Dev\""
   ]
  },
  {
   "cell_type": "code",
   "execution_count": null,
   "id": "e0553916",
   "metadata": {},
   "outputs": [],
   "source": [
    "employees[is_female & in_biz_dev].head()"
   ]
  },
  {
   "cell_type": "code",
   "execution_count": null,
   "id": "c5d5ca54",
   "metadata": {},
   "outputs": [],
   "source": [
    "is_manager= employees[\"Mgmt\"]\n",
    "employees[is_female & in_biz_dev & is_manager].head()"
   ]
  },
  {
   "cell_type": "markdown",
   "id": "30309bf2",
   "metadata": {},
   "source": [
    "### 5.3.2 OR 조건"
   ]
  },
  {
   "cell_type": "code",
   "execution_count": null,
   "id": "19df08d0",
   "metadata": {},
   "outputs": [],
   "source": [
    "earning_below_40k = employees[\"Salary\"] < 40000\n",
    "started_after_2015 = employees[\"Start Date\"] > \"2015-01-01\""
   ]
  },
  {
   "cell_type": "code",
   "execution_count": null,
   "id": "888f7d28",
   "metadata": {},
   "outputs": [],
   "source": [
    "employees[earning_below_40k | started_after_2015].tail()"
   ]
  },
  {
   "cell_type": "markdown",
   "id": "d7871304",
   "metadata": {},
   "source": [
    "### 5.3.3 ~기호로 반전"
   ]
  },
  {
   "cell_type": "code",
   "execution_count": null,
   "id": "81c0e45d",
   "metadata": {},
   "outputs": [],
   "source": [
    "my_series = pd.Series([True, False, True])\n",
    "my_series"
   ]
  },
  {
   "cell_type": "code",
   "execution_count": null,
   "id": "dbbe353f",
   "metadata": {},
   "outputs": [],
   "source": [
    "~my_series"
   ]
  },
  {
   "cell_type": "code",
   "execution_count": null,
   "id": "29388fec",
   "metadata": {},
   "outputs": [],
   "source": [
    "employees[employees[\"Salary\"] < 100000].head()"
   ]
  },
  {
   "cell_type": "code",
   "execution_count": null,
   "id": "4610c94a",
   "metadata": {},
   "outputs": [],
   "source": [
    "employees[~(employees[\"Salary\"] > 100000)].head()"
   ]
  },
  {
   "cell_type": "markdown",
   "id": "599015ad",
   "metadata": {},
   "source": [
    "### 5.3.4 불리언 메서드"
   ]
  },
  {
   "cell_type": "markdown",
   "id": "a8432189",
   "metadata": {},
   "source": [
    "== , !=, >, >=, <, <=,"
   ]
  },
  {
   "cell_type": "markdown",
   "id": "48194b5b",
   "metadata": {},
   "source": [
    "## 5.4"
   ]
  },
  {
   "cell_type": "markdown",
   "id": "c61c8b33",
   "metadata": {},
   "source": [
    "### 5.4.1"
   ]
  },
  {
   "cell_type": "code",
   "execution_count": null,
   "id": "dac762cc",
   "metadata": {},
   "outputs": [],
   "source": [
    "sales= employees[\"Team\"] == \"Sales\""
   ]
  },
  {
   "cell_type": "code",
   "execution_count": null,
   "id": "cdd41e83",
   "metadata": {},
   "outputs": [],
   "source": [
    "legal = employees[\"Team\"] == \"Legal\""
   ]
  },
  {
   "cell_type": "code",
   "execution_count": null,
   "id": "379d9a15",
   "metadata": {},
   "outputs": [],
   "source": [
    "mktg = employees[\"Team\"] == \"Marketing\""
   ]
  },
  {
   "cell_type": "code",
   "execution_count": null,
   "id": "a595d582",
   "metadata": {},
   "outputs": [],
   "source": [
    "employees[sales|legal|mktg].head()"
   ]
  },
  {
   "cell_type": "code",
   "execution_count": null,
   "id": "b95b6f99",
   "metadata": {},
   "outputs": [],
   "source": [
    "all_star_teams = [\"Sales\", \"Legal\", \"Marketing\"]\n",
    "on_all_star_teams = employees[\"Team\"].isin(all_star_teams)\n",
    "employees[on_all_star_teams].head()"
   ]
  },
  {
   "cell_type": "markdown",
   "id": "f93417a7",
   "metadata": {},
   "source": [
    "### 5.4.2"
   ]
  },
  {
   "cell_type": "code",
   "execution_count": null,
   "id": "4a97a739",
   "metadata": {},
   "outputs": [],
   "source": [
    "higher_than_80 = employees[\"Salary\"]>= 80000\n",
    "lower_than_90 = employees[\"Salary\"]<90000\n",
    "employees[higher_than_80 & lower_than_90].head()"
   ]
  },
  {
   "cell_type": "code",
   "execution_count": null,
   "id": "bccf0f06",
   "metadata": {},
   "outputs": [],
   "source": [
    "between_80k_and_90k = employees[\"Salary\"].between(80000,90000)\n",
    "employees[between_80k_and_90k].head()"
   ]
  },
  {
   "cell_type": "code",
   "execution_count": null,
   "id": "f29557f2",
   "metadata": {},
   "outputs": [],
   "source": [
    "eights_folk=employees[\"Start Date\"].between(\n",
    "    left = \"1980-01-01\",\n",
    "    right = \"1990-01-01\")\n",
    "\n",
    "employees[eights_folk].head()"
   ]
  },
  {
   "cell_type": "code",
   "execution_count": null,
   "id": "fbc3d02f",
   "metadata": {},
   "outputs": [],
   "source": [
    "name_starts_with_r = employees[\"First Name\"].between(\"R\", \"S\")\n",
    "employees[name_starts_with_r].head()"
   ]
  },
  {
   "cell_type": "markdown",
   "id": "da172768",
   "metadata": {},
   "source": [
    "### 5.4.3"
   ]
  },
  {
   "cell_type": "code",
   "execution_count": null,
   "id": "d7556bcd",
   "metadata": {},
   "outputs": [],
   "source": [
    "employees.head()"
   ]
  },
  {
   "cell_type": "code",
   "execution_count": null,
   "id": "9b4c10d5",
   "metadata": {},
   "outputs": [],
   "source": [
    "employees[\"Team\"].isnull().head()"
   ]
  },
  {
   "cell_type": "code",
   "execution_count": null,
   "id": "bbc4a6a5",
   "metadata": {},
   "outputs": [],
   "source": [
    "employees[\"Start Date\"].isnull().head()"
   ]
  },
  {
   "cell_type": "code",
   "execution_count": null,
   "id": "a7ad7b31",
   "metadata": {},
   "outputs": [],
   "source": [
    "employees[\"Team\"].notnull().head()"
   ]
  },
  {
   "cell_type": "code",
   "execution_count": null,
   "id": "8bdda236",
   "metadata": {},
   "outputs": [],
   "source": [
    "(~employees[\"Team\"].notnull()).head()"
   ]
  },
  {
   "cell_type": "code",
   "execution_count": null,
   "id": "ce2557d2",
   "metadata": {},
   "outputs": [],
   "source": [
    "no_team = employees[\"Team\"].isnull()\n",
    "employees[no_team].head()"
   ]
  },
  {
   "cell_type": "code",
   "execution_count": null,
   "id": "93d47441",
   "metadata": {},
   "outputs": [],
   "source": [
    "has_name = employees[\"First Name\"].notnull()\n",
    "employees[has_name].tail()"
   ]
  },
  {
   "cell_type": "markdown",
   "id": "ac2ec2ff",
   "metadata": {},
   "source": [
    "### 5.4.4"
   ]
  },
  {
   "cell_type": "code",
   "execution_count": null,
   "id": "e7222e71",
   "metadata": {},
   "outputs": [],
   "source": [
    "employees"
   ]
  },
  {
   "cell_type": "code",
   "execution_count": null,
   "id": "cb258e33",
   "metadata": {},
   "outputs": [],
   "source": [
    "employees.dropna()"
   ]
  },
  {
   "cell_type": "code",
   "execution_count": null,
   "id": "92ef322e",
   "metadata": {},
   "outputs": [],
   "source": [
    "employees.dropna(how = \"all\").tail()"
   ]
  },
  {
   "cell_type": "code",
   "execution_count": null,
   "id": "8b2083e3",
   "metadata": {},
   "outputs": [],
   "source": [
    "employees.dropna(how = \"any\").tail()"
   ]
  },
  {
   "cell_type": "code",
   "execution_count": null,
   "id": "4a260044",
   "metadata": {},
   "outputs": [],
   "source": [
    "employees.dropna(subset=[\"Gender\"]).tail()"
   ]
  },
  {
   "cell_type": "code",
   "execution_count": null,
   "id": "17fffde3",
   "metadata": {},
   "outputs": [],
   "source": [
    "employees.dropna(subset=[\"Start Date\", \"Salary\"]).head()"
   ]
  },
  {
   "cell_type": "code",
   "execution_count": null,
   "id": "a01f5a2b",
   "metadata": {},
   "outputs": [],
   "source": [
    "employees.dropna(how = \"any\", thresh=4).head()"
   ]
  },
  {
   "cell_type": "markdown",
   "id": "1bda45a4",
   "metadata": {},
   "source": [
    "## 5.5"
   ]
  },
  {
   "cell_type": "markdown",
   "id": "d68a5a31",
   "metadata": {},
   "source": [
    "### 5.5.1"
   ]
  },
  {
   "cell_type": "code",
   "execution_count": null,
   "id": "c289a1f8",
   "metadata": {},
   "outputs": [],
   "source": [
    "employees[\"Team\"].head()"
   ]
  },
  {
   "cell_type": "code",
   "execution_count": null,
   "id": "a5d09e7c",
   "metadata": {},
   "outputs": [],
   "source": [
    "employees[\"Team\"].duplicated().head()"
   ]
  },
  {
   "cell_type": "code",
   "execution_count": null,
   "id": "0c1b294b",
   "metadata": {},
   "outputs": [],
   "source": [
    "employees[\"Team\"].duplicated(keep=\"first\").head()"
   ]
  },
  {
   "cell_type": "code",
   "execution_count": null,
   "id": "5fb30067",
   "metadata": {},
   "outputs": [],
   "source": [
    "employees[\"Team\"].duplicated(keep=\"last\")"
   ]
  },
  {
   "cell_type": "code",
   "execution_count": null,
   "id": "3ff3493f",
   "metadata": {},
   "outputs": [],
   "source": [
    "(~employees[\"Team\"].duplicated()).head()"
   ]
  },
  {
   "cell_type": "code",
   "execution_count": null,
   "id": "7aa8f12d",
   "metadata": {},
   "outputs": [],
   "source": [
    "first_one_in_team = ~employees[\"Team\"].duplicated()\n",
    "employees[first_one_in_team]"
   ]
  },
  {
   "cell_type": "markdown",
   "id": "d383f75a",
   "metadata": {},
   "source": [
    "### 5.5.2"
   ]
  },
  {
   "cell_type": "code",
   "execution_count": null,
   "id": "467cf641",
   "metadata": {},
   "outputs": [],
   "source": [
    "employees.drop_duplicates()"
   ]
  },
  {
   "cell_type": "code",
   "execution_count": null,
   "id": "f813fa59",
   "metadata": {},
   "outputs": [],
   "source": [
    "employees.drop_duplicates(subset = [\"Team\"])"
   ]
  },
  {
   "cell_type": "code",
   "execution_count": null,
   "id": "c8780f47",
   "metadata": {},
   "outputs": [],
   "source": [
    "employees.drop_duplicates(subset = [\"Team\"], keep='last')"
   ]
  },
  {
   "cell_type": "code",
   "execution_count": null,
   "id": "f57f8d39",
   "metadata": {},
   "outputs": [],
   "source": [
    "employees.drop_duplicates(subset = [\"First Name\"], keep = False)"
   ]
  },
  {
   "cell_type": "code",
   "execution_count": null,
   "id": "93414e06",
   "metadata": {},
   "outputs": [],
   "source": [
    "name_is_douglas = employees[\"First Name\"] == \"Douglas\"\n",
    "is_male = employees[\"Gender\"] == \"Male\"\n",
    "employees[name_is_douglas & is_male]"
   ]
  },
  {
   "cell_type": "code",
   "execution_count": null,
   "id": "c9a671a9",
   "metadata": {
    "scrolled": true
   },
   "outputs": [],
   "source": [
    "employees.drop_duplicates(subset = [\"Gender\", \"Team\"]).head()"
   ]
  },
  {
   "cell_type": "markdown",
   "id": "031e1882",
   "metadata": {},
   "source": [
    "## 5.6"
   ]
  },
  {
   "cell_type": "code",
   "execution_count": 306,
   "id": "11978e38",
   "metadata": {},
   "outputs": [
    {
     "name": "stdout",
     "output_type": "stream",
     "text": [
      "<class 'pandas.core.frame.DataFrame'>\n",
      "RangeIndex: 5837 entries, 0 to 5836\n",
      "Data columns (total 4 columns):\n",
      " #   Column      Non-Null Count  Dtype         \n",
      "---  ------      --------------  -----         \n",
      " 0   title       5837 non-null   object        \n",
      " 1   director    3936 non-null   object        \n",
      " 2   date_added  5195 non-null   datetime64[ns]\n",
      " 3   type        5837 non-null   object        \n",
      "dtypes: datetime64[ns](1), object(3)\n",
      "memory usage: 182.5+ KB\n"
     ]
    },
    {
     "name": "stderr",
     "output_type": "stream",
     "text": [
      "/var/folders/9y/lpn0hjmn5csct06t4_r5qtjr0000gn/T/ipykernel_40897/93384610.py:1: UserWarning: Could not infer format, so each element will be parsed individually, falling back to `dateutil`. To ensure parsing is consistent and as-expected, please specify a format.\n",
      "  file = pd.read_csv(\"../DATA/netflix.csv\", parse_dates=[\"date_added\"])\n"
     ]
    }
   ],
   "source": [
    "file = pd.read_csv(\"../DATA/netflix.csv\", parse_dates=[\"date_added\"])\n",
    "\n",
    "file.info()"
   ]
  },
  {
   "cell_type": "code",
   "execution_count": 307,
   "id": "e8a2601d",
   "metadata": {},
   "outputs": [
    {
     "name": "stdout",
     "output_type": "stream",
     "text": [
      "<class 'pandas.core.frame.DataFrame'>\n",
      "RangeIndex: 5837 entries, 0 to 5836\n",
      "Data columns (total 4 columns):\n",
      " #   Column      Non-Null Count  Dtype         \n",
      "---  ------      --------------  -----         \n",
      " 0   title       5837 non-null   object        \n",
      " 1   director    3936 non-null   object        \n",
      " 2   date_added  5195 non-null   datetime64[ns]\n",
      " 3   type        5837 non-null   category      \n",
      "dtypes: category(1), datetime64[ns](1), object(2)\n",
      "memory usage: 142.8+ KB\n"
     ]
    }
   ],
   "source": [
    "file[\"type\"] = file[\"type\"].astype(\"category\")\n",
    "file.info()"
   ]
  },
  {
   "cell_type": "code",
   "execution_count": null,
   "id": "dd11e168",
   "metadata": {},
   "outputs": [],
   "source": []
  },
  {
   "cell_type": "code",
   "execution_count": 308,
   "id": "2d03af5c",
   "metadata": {},
   "outputs": [
    {
     "data": {
      "text/html": [
       "<div>\n",
       "<style scoped>\n",
       "    .dataframe tbody tr th:only-of-type {\n",
       "        vertical-align: middle;\n",
       "    }\n",
       "\n",
       "    .dataframe tbody tr th {\n",
       "        vertical-align: top;\n",
       "    }\n",
       "\n",
       "    .dataframe thead th {\n",
       "        text-align: right;\n",
       "    }\n",
       "</style>\n",
       "<table border=\"1\" class=\"dataframe\">\n",
       "  <thead>\n",
       "    <tr style=\"text-align: right;\">\n",
       "      <th></th>\n",
       "      <th>title</th>\n",
       "      <th>director</th>\n",
       "      <th>date_added</th>\n",
       "      <th>type</th>\n",
       "    </tr>\n",
       "  </thead>\n",
       "  <tbody>\n",
       "    <tr>\n",
       "      <th>1559</th>\n",
       "      <td>Limitless</td>\n",
       "      <td>Neil Burger</td>\n",
       "      <td>2019-05-16</td>\n",
       "      <td>Movie</td>\n",
       "    </tr>\n",
       "    <tr>\n",
       "      <th>2564</th>\n",
       "      <td>Limitless</td>\n",
       "      <td>NaN</td>\n",
       "      <td>2016-07-01</td>\n",
       "      <td>TV Show</td>\n",
       "    </tr>\n",
       "    <tr>\n",
       "      <th>4579</th>\n",
       "      <td>Limitless</td>\n",
       "      <td>Vrinda Samartha</td>\n",
       "      <td>2019-10-01</td>\n",
       "      <td>Movie</td>\n",
       "    </tr>\n",
       "  </tbody>\n",
       "</table>\n",
       "</div>"
      ],
      "text/plain": [
       "          title         director date_added     type\n",
       "1559  Limitless      Neil Burger 2019-05-16    Movie\n",
       "2564  Limitless              NaN 2016-07-01  TV Show\n",
       "4579  Limitless  Vrinda Samartha 2019-10-01    Movie"
      ]
     },
     "execution_count": 308,
     "metadata": {},
     "output_type": "execute_result"
    }
   ],
   "source": [
    "a = file[file[\"title\"] == \"Limitless\"]\n",
    "a"
   ]
  },
  {
   "cell_type": "code",
   "execution_count": 309,
   "id": "cce96992",
   "metadata": {},
   "outputs": [
    {
     "data": {
      "text/html": [
       "<div>\n",
       "<style scoped>\n",
       "    .dataframe tbody tr th:only-of-type {\n",
       "        vertical-align: middle;\n",
       "    }\n",
       "\n",
       "    .dataframe tbody tr th {\n",
       "        vertical-align: top;\n",
       "    }\n",
       "\n",
       "    .dataframe thead th {\n",
       "        text-align: right;\n",
       "    }\n",
       "</style>\n",
       "<table border=\"1\" class=\"dataframe\">\n",
       "  <thead>\n",
       "    <tr style=\"text-align: right;\">\n",
       "      <th></th>\n",
       "      <th>title</th>\n",
       "      <th>director</th>\n",
       "      <th>date_added</th>\n",
       "      <th>type</th>\n",
       "    </tr>\n",
       "  </thead>\n",
       "  <tbody>\n",
       "    <tr>\n",
       "      <th>1384</th>\n",
       "      <td>Spy Kids: All the Time in the World</td>\n",
       "      <td>Robert Rodriguez</td>\n",
       "      <td>2019-02-19</td>\n",
       "      <td>Movie</td>\n",
       "    </tr>\n",
       "    <tr>\n",
       "      <th>1416</th>\n",
       "      <td>Spy Kids 3: Game Over</td>\n",
       "      <td>Robert Rodriguez</td>\n",
       "      <td>2019-04-01</td>\n",
       "      <td>Movie</td>\n",
       "    </tr>\n",
       "    <tr>\n",
       "      <th>1460</th>\n",
       "      <td>Spy Kids 2: The Island of Lost Dreams</td>\n",
       "      <td>Robert Rodriguez</td>\n",
       "      <td>2019-03-08</td>\n",
       "      <td>Movie</td>\n",
       "    </tr>\n",
       "    <tr>\n",
       "      <th>2890</th>\n",
       "      <td>Sin City</td>\n",
       "      <td>Robert Rodriguez</td>\n",
       "      <td>2019-10-01</td>\n",
       "      <td>Movie</td>\n",
       "    </tr>\n",
       "    <tr>\n",
       "      <th>3836</th>\n",
       "      <td>Shorts</td>\n",
       "      <td>Robert Rodriguez</td>\n",
       "      <td>2019-07-01</td>\n",
       "      <td>Movie</td>\n",
       "    </tr>\n",
       "    <tr>\n",
       "      <th>3883</th>\n",
       "      <td>Spy Kids</td>\n",
       "      <td>Robert Rodriguez</td>\n",
       "      <td>2019-04-01</td>\n",
       "      <td>Movie</td>\n",
       "    </tr>\n",
       "  </tbody>\n",
       "</table>\n",
       "</div>"
      ],
      "text/plain": [
       "                                      title          director date_added  \\\n",
       "1384    Spy Kids: All the Time in the World  Robert Rodriguez 2019-02-19   \n",
       "1416                  Spy Kids 3: Game Over  Robert Rodriguez 2019-04-01   \n",
       "1460  Spy Kids 2: The Island of Lost Dreams  Robert Rodriguez 2019-03-08   \n",
       "2890                               Sin City  Robert Rodriguez 2019-10-01   \n",
       "3836                                 Shorts  Robert Rodriguez 2019-07-01   \n",
       "3883                               Spy Kids  Robert Rodriguez 2019-04-01   \n",
       "\n",
       "       type  \n",
       "1384  Movie  \n",
       "1416  Movie  \n",
       "1460  Movie  \n",
       "2890  Movie  \n",
       "3836  Movie  \n",
       "3883  Movie  "
      ]
     },
     "execution_count": 309,
     "metadata": {},
     "output_type": "execute_result"
    }
   ],
   "source": [
    "RR = file[file[\"director\"]==\"Robert Rodriguez\"]\n",
    "RR\n",
    "RRM = RR[RR[\"type\"] == \"Movie\"]\n",
    "RRM"
   ]
  },
  {
   "cell_type": "code",
   "execution_count": 310,
   "id": "a845c168",
   "metadata": {},
   "outputs": [
    {
     "data": {
      "text/plain": [
       "0       False\n",
       "1       False\n",
       "2       False\n",
       "3       False\n",
       "4       False\n",
       "        ...  \n",
       "5832    False\n",
       "5833    False\n",
       "5834    False\n",
       "5835    False\n",
       "5836    False\n",
       "Name: date_added, Length: 5837, dtype: bool"
      ]
     },
     "execution_count": 310,
     "metadata": {},
     "output_type": "execute_result"
    }
   ],
   "source": [
    "a = file['date_added'] == '2019-07-31'\n",
    "a\n",
    "# b = file[file['director'] == 'Robert Altman']\n",
    "# b\n"
   ]
  },
  {
   "cell_type": "code",
   "execution_count": 311,
   "id": "ac8b72f6",
   "metadata": {},
   "outputs": [
    {
     "data": {
      "text/plain": [
       "0       False\n",
       "1       False\n",
       "2       False\n",
       "3       False\n",
       "4       False\n",
       "        ...  \n",
       "5832    False\n",
       "5833    False\n",
       "5834    False\n",
       "5835    False\n",
       "5836    False\n",
       "Name: director, Length: 5837, dtype: bool"
      ]
     },
     "execution_count": 311,
     "metadata": {},
     "output_type": "execute_result"
    }
   ],
   "source": [
    "b = file['director'] == 'Robert Altman'\n",
    "b"
   ]
  },
  {
   "cell_type": "code",
   "execution_count": 312,
   "id": "82b943d5",
   "metadata": {},
   "outputs": [
    {
     "data": {
      "text/html": [
       "<div>\n",
       "<style scoped>\n",
       "    .dataframe tbody tr th:only-of-type {\n",
       "        vertical-align: middle;\n",
       "    }\n",
       "\n",
       "    .dataframe tbody tr th {\n",
       "        vertical-align: top;\n",
       "    }\n",
       "\n",
       "    .dataframe thead th {\n",
       "        text-align: right;\n",
       "    }\n",
       "</style>\n",
       "<table border=\"1\" class=\"dataframe\">\n",
       "  <thead>\n",
       "    <tr style=\"text-align: right;\">\n",
       "      <th></th>\n",
       "      <th>title</th>\n",
       "      <th>director</th>\n",
       "      <th>date_added</th>\n",
       "      <th>type</th>\n",
       "    </tr>\n",
       "  </thead>\n",
       "  <tbody>\n",
       "    <tr>\n",
       "      <th>611</th>\n",
       "      <td>Popeye</td>\n",
       "      <td>Robert Altman</td>\n",
       "      <td>2019-11-24</td>\n",
       "      <td>Movie</td>\n",
       "    </tr>\n",
       "    <tr>\n",
       "      <th>1028</th>\n",
       "      <td>The Red Sea Diving Resort</td>\n",
       "      <td>Gideon Raff</td>\n",
       "      <td>2019-07-31</td>\n",
       "      <td>Movie</td>\n",
       "    </tr>\n",
       "    <tr>\n",
       "      <th>1092</th>\n",
       "      <td>Gosford Park</td>\n",
       "      <td>Robert Altman</td>\n",
       "      <td>2019-11-01</td>\n",
       "      <td>Movie</td>\n",
       "    </tr>\n",
       "    <tr>\n",
       "      <th>3473</th>\n",
       "      <td>Bangkok Love Stories: Innocence</td>\n",
       "      <td>NaN</td>\n",
       "      <td>2019-07-31</td>\n",
       "      <td>TV Show</td>\n",
       "    </tr>\n",
       "    <tr>\n",
       "      <th>5117</th>\n",
       "      <td>Ramen Shop</td>\n",
       "      <td>Eric Khoo</td>\n",
       "      <td>2019-07-31</td>\n",
       "      <td>Movie</td>\n",
       "    </tr>\n",
       "  </tbody>\n",
       "</table>\n",
       "</div>"
      ],
      "text/plain": [
       "                                title       director date_added     type\n",
       "611                            Popeye  Robert Altman 2019-11-24    Movie\n",
       "1028        The Red Sea Diving Resort    Gideon Raff 2019-07-31    Movie\n",
       "1092                     Gosford Park  Robert Altman 2019-11-01    Movie\n",
       "3473  Bangkok Love Stories: Innocence            NaN 2019-07-31  TV Show\n",
       "5117                       Ramen Shop      Eric Khoo 2019-07-31    Movie"
      ]
     },
     "execution_count": 312,
     "metadata": {},
     "output_type": "execute_result"
    }
   ],
   "source": [
    "file[ a | b ]"
   ]
  },
  {
   "cell_type": "code",
   "execution_count": 313,
   "id": "32c6d792",
   "metadata": {},
   "outputs": [
    {
     "data": {
      "text/html": [
       "<div>\n",
       "<style scoped>\n",
       "    .dataframe tbody tr th:only-of-type {\n",
       "        vertical-align: middle;\n",
       "    }\n",
       "\n",
       "    .dataframe tbody tr th {\n",
       "        vertical-align: top;\n",
       "    }\n",
       "\n",
       "    .dataframe thead th {\n",
       "        text-align: right;\n",
       "    }\n",
       "</style>\n",
       "<table border=\"1\" class=\"dataframe\">\n",
       "  <thead>\n",
       "    <tr style=\"text-align: right;\">\n",
       "      <th></th>\n",
       "      <th>title</th>\n",
       "      <th>director</th>\n",
       "      <th>date_added</th>\n",
       "      <th>type</th>\n",
       "    </tr>\n",
       "  </thead>\n",
       "  <tbody>\n",
       "    <tr>\n",
       "      <th>946</th>\n",
       "      <td>The Stranger</td>\n",
       "      <td>Orson Welles</td>\n",
       "      <td>2018-07-19</td>\n",
       "      <td>Movie</td>\n",
       "    </tr>\n",
       "    <tr>\n",
       "      <th>1870</th>\n",
       "      <td>The Gift</td>\n",
       "      <td>Sam Raimi</td>\n",
       "      <td>2019-11-20</td>\n",
       "      <td>Movie</td>\n",
       "    </tr>\n",
       "    <tr>\n",
       "      <th>3706</th>\n",
       "      <td>Spider-Man 3</td>\n",
       "      <td>Sam Raimi</td>\n",
       "      <td>2019-11-01</td>\n",
       "      <td>Movie</td>\n",
       "    </tr>\n",
       "    <tr>\n",
       "      <th>4243</th>\n",
       "      <td>Tikli and Laxmi Bomb</td>\n",
       "      <td>Aditya Kripalani</td>\n",
       "      <td>2018-08-01</td>\n",
       "      <td>Movie</td>\n",
       "    </tr>\n",
       "    <tr>\n",
       "      <th>4475</th>\n",
       "      <td>The Other Side of the Wind</td>\n",
       "      <td>Orson Welles</td>\n",
       "      <td>2018-11-02</td>\n",
       "      <td>Movie</td>\n",
       "    </tr>\n",
       "    <tr>\n",
       "      <th>5115</th>\n",
       "      <td>Tottaa Pataaka Item Maal</td>\n",
       "      <td>Aditya Kripalani</td>\n",
       "      <td>2019-06-25</td>\n",
       "      <td>Movie</td>\n",
       "    </tr>\n",
       "  </tbody>\n",
       "</table>\n",
       "</div>"
      ],
      "text/plain": [
       "                           title          director date_added   type\n",
       "946                 The Stranger      Orson Welles 2018-07-19  Movie\n",
       "1870                    The Gift         Sam Raimi 2019-11-20  Movie\n",
       "3706                Spider-Man 3         Sam Raimi 2019-11-01  Movie\n",
       "4243        Tikli and Laxmi Bomb  Aditya Kripalani 2018-08-01  Movie\n",
       "4475  The Other Side of the Wind      Orson Welles 2018-11-02  Movie\n",
       "5115    Tottaa Pataaka Item Maal  Aditya Kripalani 2019-06-25  Movie"
      ]
     },
     "execution_count": 313,
     "metadata": {},
     "output_type": "execute_result"
    }
   ],
   "source": [
    "a = file['director'] == 'Orson Welles'\n",
    "b = file['director'] == 'Aditya Kripalani'\n",
    "c = file['director'] == 'Sam Raimi'\n",
    "\n",
    "file [a | b | c]\n",
    "\n"
   ]
  },
  {
   "cell_type": "code",
   "execution_count": 314,
   "id": "8771e0bb",
   "metadata": {},
   "outputs": [
    {
     "data": {
      "text/html": [
       "<div>\n",
       "<style scoped>\n",
       "    .dataframe tbody tr th:only-of-type {\n",
       "        vertical-align: middle;\n",
       "    }\n",
       "\n",
       "    .dataframe tbody tr th {\n",
       "        vertical-align: top;\n",
       "    }\n",
       "\n",
       "    .dataframe thead th {\n",
       "        text-align: right;\n",
       "    }\n",
       "</style>\n",
       "<table border=\"1\" class=\"dataframe\">\n",
       "  <thead>\n",
       "    <tr style=\"text-align: right;\">\n",
       "      <th></th>\n",
       "      <th>title</th>\n",
       "      <th>director</th>\n",
       "      <th>date_added</th>\n",
       "      <th>type</th>\n",
       "    </tr>\n",
       "  </thead>\n",
       "  <tbody>\n",
       "    <tr>\n",
       "      <th>29</th>\n",
       "      <td>Chopsticks</td>\n",
       "      <td>Sachin Yardi</td>\n",
       "      <td>2019-05-31</td>\n",
       "      <td>Movie</td>\n",
       "    </tr>\n",
       "    <tr>\n",
       "      <th>60</th>\n",
       "      <td>Away From Home</td>\n",
       "      <td>NaN</td>\n",
       "      <td>2019-05-08</td>\n",
       "      <td>TV Show</td>\n",
       "    </tr>\n",
       "    <tr>\n",
       "      <th>82</th>\n",
       "      <td>III Smoking Barrels</td>\n",
       "      <td>Sanjib Dey</td>\n",
       "      <td>2019-06-01</td>\n",
       "      <td>Movie</td>\n",
       "    </tr>\n",
       "    <tr>\n",
       "      <th>108</th>\n",
       "      <td>Jailbirds</td>\n",
       "      <td>NaN</td>\n",
       "      <td>2019-05-10</td>\n",
       "      <td>TV Show</td>\n",
       "    </tr>\n",
       "    <tr>\n",
       "      <th>124</th>\n",
       "      <td>Pegasus</td>\n",
       "      <td>Han Han</td>\n",
       "      <td>2019-05-31</td>\n",
       "      <td>Movie</td>\n",
       "    </tr>\n",
       "    <tr>\n",
       "      <th>...</th>\n",
       "      <td>...</td>\n",
       "      <td>...</td>\n",
       "      <td>...</td>\n",
       "      <td>...</td>\n",
       "    </tr>\n",
       "    <tr>\n",
       "      <th>5671</th>\n",
       "      <td>Satan &amp; Adam</td>\n",
       "      <td>V. Scott Balcerek</td>\n",
       "      <td>2019-06-01</td>\n",
       "      <td>Movie</td>\n",
       "    </tr>\n",
       "    <tr>\n",
       "      <th>5675</th>\n",
       "      <td>Rim of the World</td>\n",
       "      <td>McG</td>\n",
       "      <td>2019-05-24</td>\n",
       "      <td>Movie</td>\n",
       "    </tr>\n",
       "    <tr>\n",
       "      <th>5677</th>\n",
       "      <td>Malibu Rescue</td>\n",
       "      <td>Savage Steve Holland</td>\n",
       "      <td>2019-05-13</td>\n",
       "      <td>Movie</td>\n",
       "    </tr>\n",
       "    <tr>\n",
       "      <th>5739</th>\n",
       "      <td>Mission Istaanbul: Darr Ke Aagey Jeet Hai</td>\n",
       "      <td>Apoorva Lakhia</td>\n",
       "      <td>2019-05-16</td>\n",
       "      <td>Movie</td>\n",
       "    </tr>\n",
       "    <tr>\n",
       "      <th>5829</th>\n",
       "      <td>The Kindness Diaries</td>\n",
       "      <td>NaN</td>\n",
       "      <td>2019-05-01</td>\n",
       "      <td>TV Show</td>\n",
       "    </tr>\n",
       "  </tbody>\n",
       "</table>\n",
       "<p>183 rows × 4 columns</p>\n",
       "</div>"
      ],
      "text/plain": [
       "                                          title              director  \\\n",
       "29                                   Chopsticks          Sachin Yardi   \n",
       "60                               Away From Home                   NaN   \n",
       "82                          III Smoking Barrels            Sanjib Dey   \n",
       "108                                   Jailbirds                   NaN   \n",
       "124                                     Pegasus               Han Han   \n",
       "...                                         ...                   ...   \n",
       "5671                               Satan & Adam     V. Scott Balcerek   \n",
       "5675                           Rim of the World                   McG   \n",
       "5677                              Malibu Rescue  Savage Steve Holland   \n",
       "5739  Mission Istaanbul: Darr Ke Aagey Jeet Hai        Apoorva Lakhia   \n",
       "5829                       The Kindness Diaries                   NaN   \n",
       "\n",
       "     date_added     type  \n",
       "29   2019-05-31    Movie  \n",
       "60   2019-05-08  TV Show  \n",
       "82   2019-06-01    Movie  \n",
       "108  2019-05-10  TV Show  \n",
       "124  2019-05-31    Movie  \n",
       "...         ...      ...  \n",
       "5671 2019-06-01    Movie  \n",
       "5675 2019-05-24    Movie  \n",
       "5677 2019-05-13    Movie  \n",
       "5739 2019-05-16    Movie  \n",
       "5829 2019-05-01  TV Show  \n",
       "\n",
       "[183 rows x 4 columns]"
      ]
     },
     "execution_count": 314,
     "metadata": {},
     "output_type": "execute_result"
    }
   ],
   "source": [
    "a = file[\"date_added\"].between(\"2019-05-01\", \"2019-06-01\")\n",
    "file[a]"
   ]
  },
  {
   "cell_type": "code",
   "execution_count": 315,
   "id": "215bdff2",
   "metadata": {},
   "outputs": [
    {
     "data": {
      "text/html": [
       "<div>\n",
       "<style scoped>\n",
       "    .dataframe tbody tr th:only-of-type {\n",
       "        vertical-align: middle;\n",
       "    }\n",
       "\n",
       "    .dataframe tbody tr th {\n",
       "        vertical-align: top;\n",
       "    }\n",
       "\n",
       "    .dataframe thead th {\n",
       "        text-align: right;\n",
       "    }\n",
       "</style>\n",
       "<table border=\"1\" class=\"dataframe\">\n",
       "  <thead>\n",
       "    <tr style=\"text-align: right;\">\n",
       "      <th></th>\n",
       "      <th>title</th>\n",
       "      <th>director</th>\n",
       "      <th>date_added</th>\n",
       "      <th>type</th>\n",
       "    </tr>\n",
       "  </thead>\n",
       "  <tbody>\n",
       "    <tr>\n",
       "      <th>1</th>\n",
       "      <td>A Patch of Fog</td>\n",
       "      <td>Michael Lennox</td>\n",
       "      <td>2017-04-15</td>\n",
       "      <td>Movie</td>\n",
       "    </tr>\n",
       "    <tr>\n",
       "      <th>3</th>\n",
       "      <td>Uriyadi 2</td>\n",
       "      <td>Vijay Kumar</td>\n",
       "      <td>2019-08-02</td>\n",
       "      <td>Movie</td>\n",
       "    </tr>\n",
       "    <tr>\n",
       "      <th>4</th>\n",
       "      <td>Shrek the Musical</td>\n",
       "      <td>Jason Moore</td>\n",
       "      <td>2013-12-29</td>\n",
       "      <td>Movie</td>\n",
       "    </tr>\n",
       "    <tr>\n",
       "      <th>5</th>\n",
       "      <td>Schubert In Love</td>\n",
       "      <td>Lars Büchel</td>\n",
       "      <td>2018-03-01</td>\n",
       "      <td>Movie</td>\n",
       "    </tr>\n",
       "    <tr>\n",
       "      <th>6</th>\n",
       "      <td>We Have Always Lived in the Castle</td>\n",
       "      <td>Stacie Passon</td>\n",
       "      <td>2019-09-14</td>\n",
       "      <td>Movie</td>\n",
       "    </tr>\n",
       "    <tr>\n",
       "      <th>...</th>\n",
       "      <td>...</td>\n",
       "      <td>...</td>\n",
       "      <td>...</td>\n",
       "      <td>...</td>\n",
       "    </tr>\n",
       "    <tr>\n",
       "      <th>5830</th>\n",
       "      <td>Bibi &amp; Tina</td>\n",
       "      <td>Detlev Buck</td>\n",
       "      <td>2017-04-15</td>\n",
       "      <td>Movie</td>\n",
       "    </tr>\n",
       "    <tr>\n",
       "      <th>5832</th>\n",
       "      <td>The Pursuit</td>\n",
       "      <td>John Papola</td>\n",
       "      <td>2019-08-07</td>\n",
       "      <td>Movie</td>\n",
       "    </tr>\n",
       "    <tr>\n",
       "      <th>5833</th>\n",
       "      <td>Hurricane Bianca</td>\n",
       "      <td>Matt Kugelman</td>\n",
       "      <td>2017-01-01</td>\n",
       "      <td>Movie</td>\n",
       "    </tr>\n",
       "    <tr>\n",
       "      <th>5834</th>\n",
       "      <td>Amar's Hands</td>\n",
       "      <td>Khaled Youssef</td>\n",
       "      <td>2019-04-26</td>\n",
       "      <td>Movie</td>\n",
       "    </tr>\n",
       "    <tr>\n",
       "      <th>5835</th>\n",
       "      <td>Bill Nye: Science Guy</td>\n",
       "      <td>Jason Sussberg</td>\n",
       "      <td>2018-04-25</td>\n",
       "      <td>Movie</td>\n",
       "    </tr>\n",
       "  </tbody>\n",
       "</table>\n",
       "<p>3936 rows × 4 columns</p>\n",
       "</div>"
      ],
      "text/plain": [
       "                                   title        director date_added   type\n",
       "1                         A Patch of Fog  Michael Lennox 2017-04-15  Movie\n",
       "3                              Uriyadi 2     Vijay Kumar 2019-08-02  Movie\n",
       "4                      Shrek the Musical     Jason Moore 2013-12-29  Movie\n",
       "5                       Schubert In Love     Lars Büchel 2018-03-01  Movie\n",
       "6     We Have Always Lived in the Castle   Stacie Passon 2019-09-14  Movie\n",
       "...                                  ...             ...        ...    ...\n",
       "5830                         Bibi & Tina     Detlev Buck 2017-04-15  Movie\n",
       "5832                         The Pursuit     John Papola 2019-08-07  Movie\n",
       "5833                    Hurricane Bianca   Matt Kugelman 2017-01-01  Movie\n",
       "5834                        Amar's Hands  Khaled Youssef 2019-04-26  Movie\n",
       "5835               Bill Nye: Science Guy  Jason Sussberg 2018-04-25  Movie\n",
       "\n",
       "[3936 rows x 4 columns]"
      ]
     },
     "execution_count": 315,
     "metadata": {},
     "output_type": "execute_result"
    }
   ],
   "source": [
    "file.dropna(subset = [\"director\"])"
   ]
  },
  {
   "cell_type": "code",
   "execution_count": 316,
   "id": "86f9016a",
   "metadata": {},
   "outputs": [
    {
     "data": {
      "text/html": [
       "<div>\n",
       "<style scoped>\n",
       "    .dataframe tbody tr th:only-of-type {\n",
       "        vertical-align: middle;\n",
       "    }\n",
       "\n",
       "    .dataframe tbody tr th {\n",
       "        vertical-align: top;\n",
       "    }\n",
       "\n",
       "    .dataframe thead th {\n",
       "        text-align: right;\n",
       "    }\n",
       "</style>\n",
       "<table border=\"1\" class=\"dataframe\">\n",
       "  <thead>\n",
       "    <tr style=\"text-align: right;\">\n",
       "      <th></th>\n",
       "      <th>title</th>\n",
       "      <th>director</th>\n",
       "      <th>date_added</th>\n",
       "      <th>type</th>\n",
       "    </tr>\n",
       "  </thead>\n",
       "  <tbody>\n",
       "    <tr>\n",
       "      <th>4</th>\n",
       "      <td>Shrek the Musical</td>\n",
       "      <td>Jason Moore</td>\n",
       "      <td>2013-12-29</td>\n",
       "      <td>Movie</td>\n",
       "    </tr>\n",
       "    <tr>\n",
       "      <th>12</th>\n",
       "      <td>Without Gorky</td>\n",
       "      <td>Cosima Spender</td>\n",
       "      <td>2017-05-31</td>\n",
       "      <td>Movie</td>\n",
       "    </tr>\n",
       "    <tr>\n",
       "      <th>30</th>\n",
       "      <td>Anjelah Johnson: Not Fancy</td>\n",
       "      <td>Jay Karas</td>\n",
       "      <td>2015-10-02</td>\n",
       "      <td>Movie</td>\n",
       "    </tr>\n",
       "    <tr>\n",
       "      <th>38</th>\n",
       "      <td>One Last Thing</td>\n",
       "      <td>Tim Rouhana</td>\n",
       "      <td>2019-08-25</td>\n",
       "      <td>Movie</td>\n",
       "    </tr>\n",
       "    <tr>\n",
       "      <th>70</th>\n",
       "      <td>Marvel's Iron Man &amp; Hulk: Heroes United</td>\n",
       "      <td>Leo Riley</td>\n",
       "      <td>2014-02-16</td>\n",
       "      <td>Movie</td>\n",
       "    </tr>\n",
       "    <tr>\n",
       "      <th>...</th>\n",
       "      <td>...</td>\n",
       "      <td>...</td>\n",
       "      <td>...</td>\n",
       "      <td>...</td>\n",
       "    </tr>\n",
       "    <tr>\n",
       "      <th>5748</th>\n",
       "      <td>Menorca</td>\n",
       "      <td>John Barnard</td>\n",
       "      <td>2017-08-27</td>\n",
       "      <td>Movie</td>\n",
       "    </tr>\n",
       "    <tr>\n",
       "      <th>5749</th>\n",
       "      <td>Green Room</td>\n",
       "      <td>Jeremy Saulnier</td>\n",
       "      <td>2018-11-12</td>\n",
       "      <td>Movie</td>\n",
       "    </tr>\n",
       "    <tr>\n",
       "      <th>5788</th>\n",
       "      <td>Chris Brown: Welcome to My Life</td>\n",
       "      <td>Andrew Sandler</td>\n",
       "      <td>2017-10-07</td>\n",
       "      <td>Movie</td>\n",
       "    </tr>\n",
       "    <tr>\n",
       "      <th>5789</th>\n",
       "      <td>A Very Murray Christmas</td>\n",
       "      <td>Sofia Coppola</td>\n",
       "      <td>2015-12-04</td>\n",
       "      <td>Movie</td>\n",
       "    </tr>\n",
       "    <tr>\n",
       "      <th>5812</th>\n",
       "      <td>Little Singham in London</td>\n",
       "      <td>Prakash Satam</td>\n",
       "      <td>2019-04-22</td>\n",
       "      <td>Movie</td>\n",
       "    </tr>\n",
       "  </tbody>\n",
       "</table>\n",
       "<p>391 rows × 4 columns</p>\n",
       "</div>"
      ],
      "text/plain": [
       "                                        title         director date_added  \\\n",
       "4                           Shrek the Musical      Jason Moore 2013-12-29   \n",
       "12                              Without Gorky   Cosima Spender 2017-05-31   \n",
       "30                 Anjelah Johnson: Not Fancy        Jay Karas 2015-10-02   \n",
       "38                             One Last Thing      Tim Rouhana 2019-08-25   \n",
       "70    Marvel's Iron Man & Hulk: Heroes United        Leo Riley 2014-02-16   \n",
       "...                                       ...              ...        ...   \n",
       "5748                                  Menorca     John Barnard 2017-08-27   \n",
       "5749                               Green Room  Jeremy Saulnier 2018-11-12   \n",
       "5788          Chris Brown: Welcome to My Life   Andrew Sandler 2017-10-07   \n",
       "5789                  A Very Murray Christmas    Sofia Coppola 2015-12-04   \n",
       "5812                 Little Singham in London    Prakash Satam 2019-04-22   \n",
       "\n",
       "       type  \n",
       "4     Movie  \n",
       "12    Movie  \n",
       "30    Movie  \n",
       "38    Movie  \n",
       "70    Movie  \n",
       "...     ...  \n",
       "5748  Movie  \n",
       "5749  Movie  \n",
       "5788  Movie  \n",
       "5789  Movie  \n",
       "5812  Movie  \n",
       "\n",
       "[391 rows x 4 columns]"
      ]
     },
     "execution_count": 316,
     "metadata": {},
     "output_type": "execute_result"
    }
   ],
   "source": [
    "file[\"date_added\"].nunique()\n",
    "\n",
    "\n",
    "file.drop_duplicates(subset = [\"date_added\"], keep = False)"
   ]
  },
  {
   "cell_type": "code",
   "execution_count": null,
   "id": "e26eab16",
   "metadata": {},
   "outputs": [],
   "source": []
  },
  {
   "cell_type": "code",
   "execution_count": null,
   "id": "8c0362e1",
   "metadata": {},
   "outputs": [],
   "source": []
  },
  {
   "cell_type": "code",
   "execution_count": null,
   "id": "a56beb48",
   "metadata": {},
   "outputs": [],
   "source": []
  },
  {
   "cell_type": "code",
   "execution_count": null,
   "id": "e7d4df95",
   "metadata": {},
   "outputs": [],
   "source": []
  },
  {
   "cell_type": "code",
   "execution_count": null,
   "id": "f4a64515",
   "metadata": {},
   "outputs": [],
   "source": []
  },
  {
   "cell_type": "code",
   "execution_count": null,
   "id": "c9258f58",
   "metadata": {},
   "outputs": [],
   "source": []
  },
  {
   "cell_type": "code",
   "execution_count": null,
   "id": "302fc188",
   "metadata": {},
   "outputs": [],
   "source": []
  },
  {
   "cell_type": "code",
   "execution_count": null,
   "id": "88196715",
   "metadata": {},
   "outputs": [],
   "source": []
  }
 ],
 "metadata": {
  "kernelspec": {
   "display_name": "Python 3 (ipykernel)",
   "language": "python",
   "name": "python3"
  },
  "language_info": {
   "codemirror_mode": {
    "name": "ipython",
    "version": 3
   },
   "file_extension": ".py",
   "mimetype": "text/x-python",
   "name": "python",
   "nbconvert_exporter": "python",
   "pygments_lexer": "ipython3",
   "version": "3.11.5"
  }
 },
 "nbformat": 4,
 "nbformat_minor": 5
}
