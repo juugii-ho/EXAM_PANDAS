{
 "cells": [
  {
   "cell_type": "markdown",
   "id": "368e3b64",
   "metadata": {},
   "source": [
    "# [ 중복 데이터 처리 ]\n",
    "    - 중복 데이터 기준 ==> 행(row)\n",
    "    - 행 단위로 모든 컬럼의 값이 완전히 똑같은 데이터는 중복 데이터\n",
    "    - 처리 => 제거"
   ]
  },
  {
   "cell_type": "markdown",
   "id": "5220916a",
   "metadata": {},
   "source": [
    "## <hr> (1) 모듈 로딩"
   ]
  },
  {
   "cell_type": "code",
   "execution_count": 6,
   "id": "c7f457b1",
   "metadata": {},
   "outputs": [],
   "source": [
    "import pandas as pd"
   ]
  },
  {
   "cell_type": "markdown",
   "id": "a008e5e4",
   "metadata": {},
   "source": [
    "## <hr> (2) 데이터 준비"
   ]
  },
  {
   "cell_type": "code",
   "execution_count": 7,
   "id": "1ecac5d4",
   "metadata": {},
   "outputs": [],
   "source": [
    "file = '../DATA/employees.csv'"
   ]
  },
  {
   "cell_type": "markdown",
   "id": "aa9ccad9",
   "metadata": {},
   "source": [
    "## <hr> (3) 데이터 저장 : CSV => DataFrame 저장하기"
   ]
  },
  {
   "cell_type": "code",
   "execution_count": 9,
   "id": "f619aa43",
   "metadata": {},
   "outputs": [],
   "source": [
    "empDF = pd.read_csv(file)"
   ]
  },
  {
   "cell_type": "markdown",
   "id": "00445254",
   "metadata": {},
   "source": [
    "## <hr> (4) 데이터 확인"
   ]
  },
  {
   "cell_type": "code",
   "execution_count": 10,
   "id": "49966252",
   "metadata": {},
   "outputs": [
    {
     "name": "stdout",
     "output_type": "stream",
     "text": [
      "<class 'pandas.core.frame.DataFrame'>\n",
      "RangeIndex: 1001 entries, 0 to 1000\n",
      "Data columns (total 6 columns):\n",
      " #   Column      Non-Null Count  Dtype  \n",
      "---  ------      --------------  -----  \n",
      " 0   First Name  933 non-null    object \n",
      " 1   Gender      854 non-null    object \n",
      " 2   Start Date  999 non-null    object \n",
      " 3   Salary      999 non-null    float64\n",
      " 4   Mgmt        933 non-null    object \n",
      " 5   Team        957 non-null    object \n",
      "dtypes: float64(1), object(5)\n",
      "memory usage: 47.1+ KB\n"
     ]
    }
   ],
   "source": [
    "empDF.info()"
   ]
  },
  {
   "cell_type": "markdown",
   "id": "dffeb60a",
   "metadata": {},
   "source": [
    "## <hr> (5) 데이터 전처리 = 나. 중복 데이터 처리"
   ]
  },
  {
   "cell_type": "markdown",
   "id": "5f621289",
   "metadata": {},
   "source": [
    "#### - 중복 데이터 체크 => duplicated() : 중복이면 True\n",
    "#### - 중복 데이터 처리 => drop_duplicated() : 삭제"
   ]
  },
  {
   "cell_type": "code",
   "execution_count": 12,
   "id": "1680dd73",
   "metadata": {},
   "outputs": [
    {
     "data": {
      "text/plain": [
       "0"
      ]
     },
     "execution_count": 12,
     "metadata": {},
     "output_type": "execute_result"
    }
   ],
   "source": [
    "# 행 단위로 완전히 똑같은 행 검사 ==> 0개\n",
    "empDF.duplicated().sum()"
   ]
  },
  {
   "cell_type": "code",
   "execution_count": 14,
   "id": "bf1b8b1c",
   "metadata": {},
   "outputs": [
    {
     "data": {
      "text/plain": [
       "990"
      ]
     },
     "execution_count": 14,
     "metadata": {},
     "output_type": "execute_result"
    }
   ],
   "source": [
    "# Team 컬럼\n",
    "empDF[\"Team\"].duplicated().sum()\n",
    "#empDF[\"Team\"].nunique()를 제외한 값"
   ]
  },
  {
   "cell_type": "code",
   "execution_count": 28,
   "id": "d1b05e51",
   "metadata": {},
   "outputs": [
    {
     "data": {
      "text/plain": [
       "(990, 10)"
      ]
     },
     "execution_count": 28,
     "metadata": {},
     "output_type": "execute_result"
    }
   ],
   "source": [
    "# Team 컬럼\n",
    "empDF.Team.duplicated().sum(), empDF[\"Team\"].nunique()"
   ]
  },
  {
   "cell_type": "code",
   "execution_count": 29,
   "id": "87d88cc1",
   "metadata": {},
   "outputs": [
    {
     "data": {
      "text/plain": [
       "0        Marketing\n",
       "1              NaN\n",
       "2          Finance\n",
       "4               IT\n",
       "5            Legal\n",
       "6          Product\n",
       "8      Engineering\n",
       "9     Business Dev\n",
       "12              HR\n",
       "13           Sales\n",
       "40    Distribution\n",
       "Name: Team, dtype: object"
      ]
     },
     "execution_count": 29,
     "metadata": {},
     "output_type": "execute_result"
    }
   ],
   "source": [
    "empDF[\"Team\"].drop_duplicates()"
   ]
  },
  {
   "cell_type": "code",
   "execution_count": 30,
   "id": "0da4f9ff",
   "metadata": {},
   "outputs": [
    {
     "data": {
      "text/plain": [
       "0        Marketing\n",
       "1              NaN\n",
       "2          Finance\n",
       "4               IT\n",
       "5            Legal\n",
       "6          Product\n",
       "8      Engineering\n",
       "9     Business Dev\n",
       "12              HR\n",
       "13           Sales\n",
       "40    Distribution\n",
       "Name: Team, dtype: object"
      ]
     },
     "execution_count": 30,
     "metadata": {},
     "output_type": "execute_result"
    }
   ],
   "source": [
    "empDF[\"Team\"].drop_duplicates(keep='first') # 첫 째만 살림"
   ]
  },
  {
   "cell_type": "code",
   "execution_count": 31,
   "id": "f9129830",
   "metadata": {},
   "outputs": [
    {
     "data": {
      "text/plain": [
       "988               HR\n",
       "989            Legal\n",
       "990               IT\n",
       "993      Engineering\n",
       "994        Marketing\n",
       "995     Distribution\n",
       "996          Finance\n",
       "997          Product\n",
       "998     Business Dev\n",
       "999            Sales\n",
       "1000             NaN\n",
       "Name: Team, dtype: object"
      ]
     },
     "execution_count": 31,
     "metadata": {},
     "output_type": "execute_result"
    }
   ],
   "source": [
    "empDF[\"Team\"].drop_duplicates(keep='last') # 마지막만 살림"
   ]
  },
  {
   "cell_type": "code",
   "execution_count": 33,
   "id": "61f9606c",
   "metadata": {},
   "outputs": [
    {
     "data": {
      "text/plain": [
       "Series([], Name: Team, dtype: object)"
      ]
     },
     "execution_count": 33,
     "metadata": {},
     "output_type": "execute_result"
    }
   ],
   "source": [
    "empDF[\"Team\"].drop_duplicates(keep=False) # 다 지움"
   ]
  },
  {
   "cell_type": "code",
   "execution_count": 27,
   "id": "76dfe251",
   "metadata": {},
   "outputs": [
    {
     "data": {
      "text/plain": [
       "957"
      ]
     },
     "execution_count": 27,
     "metadata": {},
     "output_type": "execute_result"
    }
   ],
   "source": [
    "empDF[\"Team\"].count()"
   ]
  },
  {
   "cell_type": "markdown",
   "id": "50cf56c6",
   "metadata": {},
   "source": [
    "#### - 멀티인덱스 데이터 읽기 => loc/xs"
   ]
  },
  {
   "cell_type": "code",
   "execution_count": 36,
   "id": "1195e990",
   "metadata": {},
   "outputs": [],
   "source": [
    "# df2.loc[('홍길동', '010')] 멀티인덱스 '홍길동', '010 일떄\n",
    "# df2.loc[('홍길동']        가능\n",
    "# df2.loc[('010')]        불가능\n",
    "# df2.xs('010', level=1)  가능"
   ]
  },
  {
   "cell_type": "markdown",
   "id": "090a94da",
   "metadata": {},
   "source": [
    "#### - 행 추가\n",
    "    * 단일 인덱스 => loc[새로운 행레이블/이름]=새로운값\n",
    "    * 멀티 인덱스 => loc[새로운 행레이블/이름, 컬럼명]=새로운값"
   ]
  },
  {
   "cell_type": "code",
   "execution_count": 37,
   "id": "5934718f",
   "metadata": {},
   "outputs": [],
   "source": [
    "# df2.loc[('홍길동','017')]= '소방관' 일 때는 컬럼으로 들어감\n",
    "# df2.loc[('홍길동','017'), 'job']='소방관' 으로 컬럼명을 지정해야 가능"
   ]
  },
  {
   "cell_type": "markdown",
   "id": "5d8e19e7",
   "metadata": {},
   "source": [
    "#### - 컬럼 추가"
   ]
  },
  {
   "cell_type": "code",
   "execution_count": null,
   "id": "e8520b31",
   "metadata": {},
   "outputs": [],
   "source": [
    "# df2['age']=[30,29,28,27,26] 부여하고 모자란 값이 있다면 NaN이 됨\n",
    "# df2.loc[('홍길동', '010'), :]=[1,2,3,4,5]\n",
    "#              ㄴ인덱스명     ㄴ컬럼명 다 입력하는 대신 슬라이싱\n",
    "# df2.sort_index() 로 마지막 정렬"
   ]
  }
 ],
 "metadata": {
  "kernelspec": {
   "display_name": "Python 3 (ipykernel)",
   "language": "python",
   "name": "python3"
  },
  "language_info": {
   "codemirror_mode": {
    "name": "ipython",
    "version": 3
   },
   "file_extension": ".py",
   "mimetype": "text/x-python",
   "name": "python",
   "nbconvert_exporter": "python",
   "pygments_lexer": "ipython3",
   "version": "3.11.5"
  }
 },
 "nbformat": 4,
 "nbformat_minor": 5
}
