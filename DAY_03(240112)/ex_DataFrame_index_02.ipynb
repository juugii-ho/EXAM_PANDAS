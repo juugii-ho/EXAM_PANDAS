{
 "cells": [
  {
   "cell_type": "markdown",
   "id": "ae298bed",
   "metadata": {},
   "source": [
    "# [ DataFrame 인덱스 다루기 ]"
   ]
  },
  {
   "cell_type": "markdown",
   "id": "d24239bf",
   "metadata": {},
   "source": [
    "## (1) 새로운 인덱스 설정 : 컬럼 ==> 인덱스 설정"
   ]
  },
  {
   "cell_type": "markdown",
   "id": "13855591",
   "metadata": {},
   "source": [
    "### <hr> (1) 모듈로딩"
   ]
  },
  {
   "cell_type": "code",
   "execution_count": 85,
   "id": "dbddd78a",
   "metadata": {},
   "outputs": [],
   "source": [
    "import pandas as pd"
   ]
  },
  {
   "cell_type": "markdown",
   "id": "95b1836e",
   "metadata": {},
   "source": [
    "### <hr> (2) 데이터 준비"
   ]
  },
  {
   "cell_type": "code",
   "execution_count": 86,
   "id": "75e09a12",
   "metadata": {},
   "outputs": [],
   "source": [
    "# dict 타입의 데이터 생성\n",
    "exam = { '이름' : ['김재중', '김현아', '조현아', '이창민'],\n",
    "         '국어' : [78, 89 , 99, 29],\n",
    "         '수학' : [97, 49 , 89, 99],\n",
    "         '영어' : [98, 89 , 39, 49],\n",
    "         '과학' : [98, 89 , 79, 89] }"
   ]
  },
  {
   "cell_type": "markdown",
   "id": "f1b06603",
   "metadata": {},
   "source": [
    "### <hr> (3) 데이터 저장"
   ]
  },
  {
   "cell_type": "code",
   "execution_count": 87,
   "id": "0e8f3abe",
   "metadata": {},
   "outputs": [],
   "source": [
    "examDF=pd.DataFrame(exam)"
   ]
  },
  {
   "cell_type": "markdown",
   "id": "dc08182b",
   "metadata": {},
   "source": [
    "### <hr> (4) 데이터 확인"
   ]
  },
  {
   "cell_type": "code",
   "execution_count": 88,
   "id": "56909ccf",
   "metadata": {},
   "outputs": [
    {
     "data": {
      "text/html": [
       "<div>\n",
       "<style scoped>\n",
       "    .dataframe tbody tr th:only-of-type {\n",
       "        vertical-align: middle;\n",
       "    }\n",
       "\n",
       "    .dataframe tbody tr th {\n",
       "        vertical-align: top;\n",
       "    }\n",
       "\n",
       "    .dataframe thead th {\n",
       "        text-align: right;\n",
       "    }\n",
       "</style>\n",
       "<table border=\"1\" class=\"dataframe\">\n",
       "  <thead>\n",
       "    <tr style=\"text-align: right;\">\n",
       "      <th></th>\n",
       "      <th>이름</th>\n",
       "      <th>국어</th>\n",
       "      <th>수학</th>\n",
       "      <th>영어</th>\n",
       "      <th>과학</th>\n",
       "    </tr>\n",
       "  </thead>\n",
       "  <tbody>\n",
       "    <tr>\n",
       "      <th>0</th>\n",
       "      <td>김재중</td>\n",
       "      <td>78</td>\n",
       "      <td>97</td>\n",
       "      <td>98</td>\n",
       "      <td>98</td>\n",
       "    </tr>\n",
       "    <tr>\n",
       "      <th>1</th>\n",
       "      <td>김현아</td>\n",
       "      <td>89</td>\n",
       "      <td>49</td>\n",
       "      <td>89</td>\n",
       "      <td>89</td>\n",
       "    </tr>\n",
       "    <tr>\n",
       "      <th>2</th>\n",
       "      <td>조현아</td>\n",
       "      <td>99</td>\n",
       "      <td>89</td>\n",
       "      <td>39</td>\n",
       "      <td>79</td>\n",
       "    </tr>\n",
       "    <tr>\n",
       "      <th>3</th>\n",
       "      <td>이창민</td>\n",
       "      <td>29</td>\n",
       "      <td>99</td>\n",
       "      <td>49</td>\n",
       "      <td>89</td>\n",
       "    </tr>\n",
       "  </tbody>\n",
       "</table>\n",
       "</div>"
      ],
      "text/plain": [
       "    이름  국어  수학  영어  과학\n",
       "0  김재중  78  97  98  98\n",
       "1  김현아  89  49  89  89\n",
       "2  조현아  99  89  39  79\n",
       "3  이창민  29  99  49  89"
      ]
     },
     "execution_count": 88,
     "metadata": {},
     "output_type": "execute_result"
    }
   ],
   "source": [
    "examDF"
   ]
  },
  {
   "cell_type": "markdown",
   "id": "0de6f66f",
   "metadata": {},
   "source": [
    "- 행 데이터 추가\n"
   ]
  },
  {
   "cell_type": "code",
   "execution_count": 89,
   "id": "9d7afe1e",
   "metadata": {},
   "outputs": [],
   "source": [
    "# 김재중 78 97 98 98\n",
    "# 원본에 행 추가해서 값을 수정\n",
    "examDF.loc[4] = ['김재중', 78, 97, 58, 98] # 국어 과학 원본과 같음"
   ]
  },
  {
   "cell_type": "code",
   "execution_count": 90,
   "id": "20edb231",
   "metadata": {},
   "outputs": [],
   "source": [
    "# 김재중 78 52 35 63\n",
    "examDF.loc[5] = ['김재중', 78, 34, 89, 62] # 국어-김재중 김현아-영어 원본과 같음"
   ]
  },
  {
   "cell_type": "code",
   "execution_count": 91,
   "id": "02fe3464",
   "metadata": {},
   "outputs": [
    {
     "data": {
      "text/html": [
       "<div>\n",
       "<style scoped>\n",
       "    .dataframe tbody tr th:only-of-type {\n",
       "        vertical-align: middle;\n",
       "    }\n",
       "\n",
       "    .dataframe tbody tr th {\n",
       "        vertical-align: top;\n",
       "    }\n",
       "\n",
       "    .dataframe thead th {\n",
       "        text-align: right;\n",
       "    }\n",
       "</style>\n",
       "<table border=\"1\" class=\"dataframe\">\n",
       "  <thead>\n",
       "    <tr style=\"text-align: right;\">\n",
       "      <th></th>\n",
       "      <th>이름</th>\n",
       "      <th>국어</th>\n",
       "      <th>수학</th>\n",
       "      <th>영어</th>\n",
       "      <th>과학</th>\n",
       "    </tr>\n",
       "  </thead>\n",
       "  <tbody>\n",
       "    <tr>\n",
       "      <th>0</th>\n",
       "      <td>김재중</td>\n",
       "      <td>78</td>\n",
       "      <td>97</td>\n",
       "      <td>98</td>\n",
       "      <td>98</td>\n",
       "    </tr>\n",
       "    <tr>\n",
       "      <th>1</th>\n",
       "      <td>김현아</td>\n",
       "      <td>89</td>\n",
       "      <td>49</td>\n",
       "      <td>89</td>\n",
       "      <td>89</td>\n",
       "    </tr>\n",
       "    <tr>\n",
       "      <th>2</th>\n",
       "      <td>조현아</td>\n",
       "      <td>99</td>\n",
       "      <td>89</td>\n",
       "      <td>39</td>\n",
       "      <td>79</td>\n",
       "    </tr>\n",
       "    <tr>\n",
       "      <th>3</th>\n",
       "      <td>이창민</td>\n",
       "      <td>29</td>\n",
       "      <td>99</td>\n",
       "      <td>49</td>\n",
       "      <td>89</td>\n",
       "    </tr>\n",
       "    <tr>\n",
       "      <th>4</th>\n",
       "      <td>김재중</td>\n",
       "      <td>78</td>\n",
       "      <td>97</td>\n",
       "      <td>58</td>\n",
       "      <td>98</td>\n",
       "    </tr>\n",
       "    <tr>\n",
       "      <th>5</th>\n",
       "      <td>김재중</td>\n",
       "      <td>78</td>\n",
       "      <td>34</td>\n",
       "      <td>89</td>\n",
       "      <td>62</td>\n",
       "    </tr>\n",
       "  </tbody>\n",
       "</table>\n",
       "</div>"
      ],
      "text/plain": [
       "    이름  국어  수학  영어  과학\n",
       "0  김재중  78  97  98  98\n",
       "1  김현아  89  49  89  89\n",
       "2  조현아  99  89  39  79\n",
       "3  이창민  29  99  49  89\n",
       "4  김재중  78  97  58  98\n",
       "5  김재중  78  34  89  62"
      ]
     },
     "execution_count": 91,
     "metadata": {},
     "output_type": "execute_result"
    }
   ],
   "source": [
    "examDF"
   ]
  },
  {
   "cell_type": "markdown",
   "id": "5743dcbb",
   "metadata": {},
   "source": [
    "### <hr> (5) 새로운 인덱스 설정 방법 3"
   ]
  },
  {
   "cell_type": "markdown",
   "id": "6ac74d1f",
   "metadata": {},
   "source": [
    "방법 3. 멀티인덱스 제어 DF.set_index([컬럼1, 컬럼2, ..., 컬럼n]"
   ]
  },
  {
   "cell_type": "code",
   "execution_count": 92,
   "id": "382ff809",
   "metadata": {},
   "outputs": [
    {
     "data": {
      "text/html": [
       "<div>\n",
       "<style scoped>\n",
       "    .dataframe tbody tr th:only-of-type {\n",
       "        vertical-align: middle;\n",
       "    }\n",
       "\n",
       "    .dataframe tbody tr th {\n",
       "        vertical-align: top;\n",
       "    }\n",
       "\n",
       "    .dataframe thead th {\n",
       "        text-align: right;\n",
       "    }\n",
       "</style>\n",
       "<table border=\"1\" class=\"dataframe\">\n",
       "  <thead>\n",
       "    <tr style=\"text-align: right;\">\n",
       "      <th></th>\n",
       "      <th></th>\n",
       "      <th></th>\n",
       "      <th>영어</th>\n",
       "      <th>과학</th>\n",
       "    </tr>\n",
       "    <tr>\n",
       "      <th>이름</th>\n",
       "      <th>국어</th>\n",
       "      <th>수학</th>\n",
       "      <th></th>\n",
       "      <th></th>\n",
       "    </tr>\n",
       "  </thead>\n",
       "  <tbody>\n",
       "    <tr>\n",
       "      <th>김재중</th>\n",
       "      <th>78</th>\n",
       "      <th>97</th>\n",
       "      <td>98</td>\n",
       "      <td>98</td>\n",
       "    </tr>\n",
       "    <tr>\n",
       "      <th>김현아</th>\n",
       "      <th>89</th>\n",
       "      <th>49</th>\n",
       "      <td>89</td>\n",
       "      <td>89</td>\n",
       "    </tr>\n",
       "    <tr>\n",
       "      <th>조현아</th>\n",
       "      <th>99</th>\n",
       "      <th>89</th>\n",
       "      <td>39</td>\n",
       "      <td>79</td>\n",
       "    </tr>\n",
       "    <tr>\n",
       "      <th>이창민</th>\n",
       "      <th>29</th>\n",
       "      <th>99</th>\n",
       "      <td>49</td>\n",
       "      <td>89</td>\n",
       "    </tr>\n",
       "    <tr>\n",
       "      <th rowspan=\"2\" valign=\"top\">김재중</th>\n",
       "      <th rowspan=\"2\" valign=\"top\">78</th>\n",
       "      <th>97</th>\n",
       "      <td>58</td>\n",
       "      <td>98</td>\n",
       "    </tr>\n",
       "    <tr>\n",
       "      <th>34</th>\n",
       "      <td>89</td>\n",
       "      <td>62</td>\n",
       "    </tr>\n",
       "  </tbody>\n",
       "</table>\n",
       "</div>"
      ],
      "text/plain": [
       "           영어  과학\n",
       "이름  국어 수학        \n",
       "김재중 78 97  98  98\n",
       "김현아 89 49  89  89\n",
       "조현아 99 89  39  79\n",
       "이창민 29 99  49  89\n",
       "김재중 78 97  58  98\n",
       "       34  89  62"
      ]
     },
     "execution_count": 92,
     "metadata": {},
     "output_type": "execute_result"
    }
   ],
   "source": [
    "# 이름, 국어, 수학을 인덱스 설정\n",
    "examDF1 = examDF.set_index(['이름', '국어', '수학'])\n",
    "examDF1\n",
    "# 맨 하단 김재중 78은 바로 위 김재중 78과 같아서 안 나오는 것"
   ]
  },
  {
   "cell_type": "code",
   "execution_count": 93,
   "id": "2321aa2a",
   "metadata": {},
   "outputs": [
    {
     "data": {
      "text/plain": [
       "MultiIndex([('김재중', 78, 97),\n",
       "            ('김현아', 89, 49),\n",
       "            ('조현아', 99, 89),\n",
       "            ('이창민', 29, 99),\n",
       "            ('김재중', 78, 97),\n",
       "            ('김재중', 78, 34)],\n",
       "           names=['이름', '국어', '수학'])"
      ]
     },
     "execution_count": 93,
     "metadata": {},
     "output_type": "execute_result"
    }
   ],
   "source": [
    "# 인덱스 속성 확인\n",
    "examDF1.index"
   ]
  },
  {
   "cell_type": "markdown",
   "id": "7100b6ad",
   "metadata": {},
   "source": [
    "- 행 데이터 선택 : DF객체변수명.loc[행레이블] / DF객체변수명.iloc[위치인덱스]"
   ]
  },
  {
   "cell_type": "code",
   "execution_count": 94,
   "id": "733c1897",
   "metadata": {},
   "outputs": [
    {
     "name": "stderr",
     "output_type": "stream",
     "text": [
      "/var/folders/9y/lpn0hjmn5csct06t4_r5qtjr0000gn/T/ipykernel_21756/3056540236.py:1: PerformanceWarning: indexing past lexsort depth may impact performance.\n",
      "  examDF1.loc[('김재중', 78, 97)]\n"
     ]
    },
    {
     "data": {
      "text/html": [
       "<div>\n",
       "<style scoped>\n",
       "    .dataframe tbody tr th:only-of-type {\n",
       "        vertical-align: middle;\n",
       "    }\n",
       "\n",
       "    .dataframe tbody tr th {\n",
       "        vertical-align: top;\n",
       "    }\n",
       "\n",
       "    .dataframe thead th {\n",
       "        text-align: right;\n",
       "    }\n",
       "</style>\n",
       "<table border=\"1\" class=\"dataframe\">\n",
       "  <thead>\n",
       "    <tr style=\"text-align: right;\">\n",
       "      <th></th>\n",
       "      <th></th>\n",
       "      <th></th>\n",
       "      <th>영어</th>\n",
       "      <th>과학</th>\n",
       "    </tr>\n",
       "    <tr>\n",
       "      <th>이름</th>\n",
       "      <th>국어</th>\n",
       "      <th>수학</th>\n",
       "      <th></th>\n",
       "      <th></th>\n",
       "    </tr>\n",
       "  </thead>\n",
       "  <tbody>\n",
       "    <tr>\n",
       "      <th rowspan=\"2\" valign=\"top\">김재중</th>\n",
       "      <th rowspan=\"2\" valign=\"top\">78</th>\n",
       "      <th>97</th>\n",
       "      <td>98</td>\n",
       "      <td>98</td>\n",
       "    </tr>\n",
       "    <tr>\n",
       "      <th>97</th>\n",
       "      <td>58</td>\n",
       "      <td>98</td>\n",
       "    </tr>\n",
       "  </tbody>\n",
       "</table>\n",
       "</div>"
      ],
      "text/plain": [
       "           영어  과학\n",
       "이름  국어 수학        \n",
       "김재중 78 97  98  98\n",
       "       97  58  98"
      ]
     },
     "execution_count": 94,
     "metadata": {},
     "output_type": "execute_result"
    }
   ],
   "source": [
    "examDF1.loc[('김재중', 78, 97)]"
   ]
  },
  {
   "cell_type": "code",
   "execution_count": 95,
   "id": "5a4e2659",
   "metadata": {},
   "outputs": [
    {
     "name": "stderr",
     "output_type": "stream",
     "text": [
      "/var/folders/9y/lpn0hjmn5csct06t4_r5qtjr0000gn/T/ipykernel_21756/3056540236.py:1: PerformanceWarning: indexing past lexsort depth may impact performance.\n",
      "  examDF1.loc[('김재중', 78, 97)]\n"
     ]
    },
    {
     "data": {
      "text/html": [
       "<div>\n",
       "<style scoped>\n",
       "    .dataframe tbody tr th:only-of-type {\n",
       "        vertical-align: middle;\n",
       "    }\n",
       "\n",
       "    .dataframe tbody tr th {\n",
       "        vertical-align: top;\n",
       "    }\n",
       "\n",
       "    .dataframe thead th {\n",
       "        text-align: right;\n",
       "    }\n",
       "</style>\n",
       "<table border=\"1\" class=\"dataframe\">\n",
       "  <thead>\n",
       "    <tr style=\"text-align: right;\">\n",
       "      <th></th>\n",
       "      <th></th>\n",
       "      <th></th>\n",
       "      <th>영어</th>\n",
       "      <th>과학</th>\n",
       "    </tr>\n",
       "    <tr>\n",
       "      <th>이름</th>\n",
       "      <th>국어</th>\n",
       "      <th>수학</th>\n",
       "      <th></th>\n",
       "      <th></th>\n",
       "    </tr>\n",
       "  </thead>\n",
       "  <tbody>\n",
       "    <tr>\n",
       "      <th rowspan=\"2\" valign=\"top\">김재중</th>\n",
       "      <th rowspan=\"2\" valign=\"top\">78</th>\n",
       "      <th>97</th>\n",
       "      <td>98</td>\n",
       "      <td>98</td>\n",
       "    </tr>\n",
       "    <tr>\n",
       "      <th>97</th>\n",
       "      <td>58</td>\n",
       "      <td>98</td>\n",
       "    </tr>\n",
       "  </tbody>\n",
       "</table>\n",
       "</div>"
      ],
      "text/plain": [
       "           영어  과학\n",
       "이름  국어 수학        \n",
       "김재중 78 97  98  98\n",
       "       97  58  98"
      ]
     },
     "execution_count": 95,
     "metadata": {},
     "output_type": "execute_result"
    }
   ],
   "source": [
    "examDF1.loc[('김재중', 78, 97)]"
   ]
  },
  {
   "cell_type": "code",
   "execution_count": 96,
   "id": "768a4041",
   "metadata": {},
   "outputs": [],
   "source": [
    "# inplace 매개변수/파라미터 \n",
    "# => 원본 DataFrame에 변경 여부 결정, 기본은 원본 변경 안함 False!!\n",
    "examDF.rename(index={0:'zero'}, inplace=True)"
   ]
  },
  {
   "cell_type": "code",
   "execution_count": 97,
   "id": "a665e413",
   "metadata": {},
   "outputs": [
    {
     "name": "stderr",
     "output_type": "stream",
     "text": [
      "/var/folders/9y/lpn0hjmn5csct06t4_r5qtjr0000gn/T/ipykernel_21756/1482142610.py:1: PerformanceWarning: indexing past lexsort depth may impact performance.\n",
      "  examDF1.loc[('김재중', 78, 34)]\n"
     ]
    },
    {
     "data": {
      "text/html": [
       "<div>\n",
       "<style scoped>\n",
       "    .dataframe tbody tr th:only-of-type {\n",
       "        vertical-align: middle;\n",
       "    }\n",
       "\n",
       "    .dataframe tbody tr th {\n",
       "        vertical-align: top;\n",
       "    }\n",
       "\n",
       "    .dataframe thead th {\n",
       "        text-align: right;\n",
       "    }\n",
       "</style>\n",
       "<table border=\"1\" class=\"dataframe\">\n",
       "  <thead>\n",
       "    <tr style=\"text-align: right;\">\n",
       "      <th></th>\n",
       "      <th></th>\n",
       "      <th></th>\n",
       "      <th>영어</th>\n",
       "      <th>과학</th>\n",
       "    </tr>\n",
       "    <tr>\n",
       "      <th>이름</th>\n",
       "      <th>국어</th>\n",
       "      <th>수학</th>\n",
       "      <th></th>\n",
       "      <th></th>\n",
       "    </tr>\n",
       "  </thead>\n",
       "  <tbody>\n",
       "    <tr>\n",
       "      <th>김재중</th>\n",
       "      <th>78</th>\n",
       "      <th>34</th>\n",
       "      <td>89</td>\n",
       "      <td>62</td>\n",
       "    </tr>\n",
       "  </tbody>\n",
       "</table>\n",
       "</div>"
      ],
      "text/plain": [
       "           영어  과학\n",
       "이름  국어 수학        \n",
       "김재중 78 34  89  62"
      ]
     },
     "execution_count": 97,
     "metadata": {},
     "output_type": "execute_result"
    }
   ],
   "source": [
    "examDF1.loc[('김재중', 78, 34)]"
   ]
  },
  {
   "cell_type": "code",
   "execution_count": 98,
   "id": "d950aa6b",
   "metadata": {},
   "outputs": [],
   "source": [
    "# KeyError 발생 \n",
    "# examDF1.loc[(78)]"
   ]
  },
  {
   "cell_type": "markdown",
   "id": "55f6f3cc",
   "metadata": {},
   "source": [
    "- 멀티인덱스에서 인덱스의 일부분을 기준으로 행을 선택 : xs\n",
    "    * 예) '김재중', 78, 34 => Level 0, 1, 2"
   ]
  },
  {
   "cell_type": "code",
   "execution_count": 99,
   "id": "294ca546",
   "metadata": {},
   "outputs": [
    {
     "data": {
      "text/html": [
       "<div>\n",
       "<style scoped>\n",
       "    .dataframe tbody tr th:only-of-type {\n",
       "        vertical-align: middle;\n",
       "    }\n",
       "\n",
       "    .dataframe tbody tr th {\n",
       "        vertical-align: top;\n",
       "    }\n",
       "\n",
       "    .dataframe thead th {\n",
       "        text-align: right;\n",
       "    }\n",
       "</style>\n",
       "<table border=\"1\" class=\"dataframe\">\n",
       "  <thead>\n",
       "    <tr style=\"text-align: right;\">\n",
       "      <th></th>\n",
       "      <th></th>\n",
       "      <th>영어</th>\n",
       "      <th>과학</th>\n",
       "    </tr>\n",
       "    <tr>\n",
       "      <th>국어</th>\n",
       "      <th>수학</th>\n",
       "      <th></th>\n",
       "      <th></th>\n",
       "    </tr>\n",
       "  </thead>\n",
       "  <tbody>\n",
       "    <tr>\n",
       "      <th rowspan=\"3\" valign=\"top\">78</th>\n",
       "      <th>97</th>\n",
       "      <td>98</td>\n",
       "      <td>98</td>\n",
       "    </tr>\n",
       "    <tr>\n",
       "      <th>97</th>\n",
       "      <td>58</td>\n",
       "      <td>98</td>\n",
       "    </tr>\n",
       "    <tr>\n",
       "      <th>34</th>\n",
       "      <td>89</td>\n",
       "      <td>62</td>\n",
       "    </tr>\n",
       "  </tbody>\n",
       "</table>\n",
       "</div>"
      ],
      "text/plain": [
       "       영어  과학\n",
       "국어 수학        \n",
       "78 97  98  98\n",
       "   97  58  98\n",
       "   34  89  62"
      ]
     },
     "execution_count": 99,
     "metadata": {},
     "output_type": "execute_result"
    }
   ],
   "source": [
    "examDF1.xs('김재중')\n",
    "#examDF1.xs('김재중', level=0)과 같은 값"
   ]
  },
  {
   "cell_type": "code",
   "execution_count": 103,
   "id": "3f14e5ae",
   "metadata": {},
   "outputs": [],
   "source": [
    "# examDF1.xs(97) 불가능\n",
    "# examDF1.xs(97, level=1)      \n",
    "\n",
    "# 질문 꼭 하기"
   ]
  },
  {
   "cell_type": "markdown",
   "id": "fda293ac",
   "metadata": {},
   "source": [
    "- ('마징가', 98, 77), ('임꺽정', 100,72) 2개 행을 한꺼번에 가져오기"
   ]
  },
  {
   "cell_type": "code",
   "execution_count": 106,
   "id": "3bc8548f",
   "metadata": {},
   "outputs": [
    {
     "data": {
      "text/html": [
       "<div>\n",
       "<style scoped>\n",
       "    .dataframe tbody tr th:only-of-type {\n",
       "        vertical-align: middle;\n",
       "    }\n",
       "\n",
       "    .dataframe tbody tr th {\n",
       "        vertical-align: top;\n",
       "    }\n",
       "\n",
       "    .dataframe thead th {\n",
       "        text-align: right;\n",
       "    }\n",
       "</style>\n",
       "<table border=\"1\" class=\"dataframe\">\n",
       "  <thead>\n",
       "    <tr style=\"text-align: right;\">\n",
       "      <th></th>\n",
       "      <th></th>\n",
       "      <th></th>\n",
       "      <th>영어</th>\n",
       "      <th>과학</th>\n",
       "    </tr>\n",
       "    <tr>\n",
       "      <th>이름</th>\n",
       "      <th>국어</th>\n",
       "      <th>수학</th>\n",
       "      <th></th>\n",
       "      <th></th>\n",
       "    </tr>\n",
       "  </thead>\n",
       "  <tbody>\n",
       "    <tr>\n",
       "      <th rowspan=\"2\" valign=\"top\">김재중</th>\n",
       "      <th rowspan=\"2\" valign=\"top\">78</th>\n",
       "      <th>97</th>\n",
       "      <td>98</td>\n",
       "      <td>98</td>\n",
       "    </tr>\n",
       "    <tr>\n",
       "      <th>97</th>\n",
       "      <td>58</td>\n",
       "      <td>98</td>\n",
       "    </tr>\n",
       "    <tr>\n",
       "      <th>김현아</th>\n",
       "      <th>89</th>\n",
       "      <th>49</th>\n",
       "      <td>89</td>\n",
       "      <td>89</td>\n",
       "    </tr>\n",
       "  </tbody>\n",
       "</table>\n",
       "</div>"
      ],
      "text/plain": [
       "           영어  과학\n",
       "이름  국어 수학        \n",
       "김재중 78 97  98  98\n",
       "       97  58  98\n",
       "김현아 89 49  89  89"
      ]
     },
     "execution_count": 106,
     "metadata": {},
     "output_type": "execute_result"
    }
   ],
   "source": [
    "examDF1.loc[[('김재중', 78, 97), ('김현아', 89, 49)]]"
   ]
  },
  {
   "cell_type": "code",
   "execution_count": null,
   "id": "ca52b635",
   "metadata": {},
   "outputs": [],
   "source": []
  },
  {
   "cell_type": "code",
   "execution_count": null,
   "id": "7e8cd419",
   "metadata": {},
   "outputs": [],
   "source": []
  },
  {
   "cell_type": "code",
   "execution_count": null,
   "id": "a5d6fd1a",
   "metadata": {},
   "outputs": [],
   "source": [
    "examDF.columns"
   ]
  },
  {
   "cell_type": "code",
   "execution_count": null,
   "id": "70d1d868",
   "metadata": {},
   "outputs": [],
   "source": [
    "examDF.rename(columns={'수학':'math'}, inplace=True)"
   ]
  },
  {
   "cell_type": "code",
   "execution_count": null,
   "id": "67d2dde5",
   "metadata": {},
   "outputs": [],
   "source": [
    "examDF"
   ]
  },
  {
   "cell_type": "markdown",
   "id": "7babb6a5",
   "metadata": {},
   "source": [
    "### <hr> (5) 인덱스 재배치 : 행/열 인덱스를 원하는 순서대로 재배치 + 존재하지 않는 행/열 추가\n",
    "    * DF.reindex()"
   ]
  },
  {
   "cell_type": "code",
   "execution_count": 109,
   "id": "bdaaf06a",
   "metadata": {},
   "outputs": [
    {
     "data": {
      "text/html": [
       "<div>\n",
       "<style scoped>\n",
       "    .dataframe tbody tr th:only-of-type {\n",
       "        vertical-align: middle;\n",
       "    }\n",
       "\n",
       "    .dataframe tbody tr th {\n",
       "        vertical-align: top;\n",
       "    }\n",
       "\n",
       "    .dataframe thead th {\n",
       "        text-align: right;\n",
       "    }\n",
       "</style>\n",
       "<table border=\"1\" class=\"dataframe\">\n",
       "  <thead>\n",
       "    <tr style=\"text-align: right;\">\n",
       "      <th></th>\n",
       "      <th>이름</th>\n",
       "      <th>국어</th>\n",
       "      <th>수학</th>\n",
       "      <th>영어</th>\n",
       "      <th>과학</th>\n",
       "    </tr>\n",
       "  </thead>\n",
       "  <tbody>\n",
       "    <tr>\n",
       "      <th>zero</th>\n",
       "      <td>김재중</td>\n",
       "      <td>78</td>\n",
       "      <td>97</td>\n",
       "      <td>98</td>\n",
       "      <td>98</td>\n",
       "    </tr>\n",
       "    <tr>\n",
       "      <th>1</th>\n",
       "      <td>김현아</td>\n",
       "      <td>89</td>\n",
       "      <td>49</td>\n",
       "      <td>89</td>\n",
       "      <td>89</td>\n",
       "    </tr>\n",
       "    <tr>\n",
       "      <th>2</th>\n",
       "      <td>조현아</td>\n",
       "      <td>99</td>\n",
       "      <td>89</td>\n",
       "      <td>39</td>\n",
       "      <td>79</td>\n",
       "    </tr>\n",
       "    <tr>\n",
       "      <th>3</th>\n",
       "      <td>이창민</td>\n",
       "      <td>29</td>\n",
       "      <td>99</td>\n",
       "      <td>49</td>\n",
       "      <td>89</td>\n",
       "    </tr>\n",
       "    <tr>\n",
       "      <th>4</th>\n",
       "      <td>김재중</td>\n",
       "      <td>78</td>\n",
       "      <td>97</td>\n",
       "      <td>58</td>\n",
       "      <td>98</td>\n",
       "    </tr>\n",
       "    <tr>\n",
       "      <th>5</th>\n",
       "      <td>김재중</td>\n",
       "      <td>78</td>\n",
       "      <td>34</td>\n",
       "      <td>89</td>\n",
       "      <td>62</td>\n",
       "    </tr>\n",
       "  </tbody>\n",
       "</table>\n",
       "</div>"
      ],
      "text/plain": [
       "       이름  국어  수학  영어  과학\n",
       "zero  김재중  78  97  98  98\n",
       "1     김현아  89  49  89  89\n",
       "2     조현아  99  89  39  79\n",
       "3     이창민  29  99  49  89\n",
       "4     김재중  78  97  58  98\n",
       "5     김재중  78  34  89  62"
      ]
     },
     "execution_count": 109,
     "metadata": {},
     "output_type": "execute_result"
    }
   ],
   "source": [
    "examDF"
   ]
  },
  {
   "cell_type": "code",
   "execution_count": 110,
   "id": "151b4d85",
   "metadata": {},
   "outputs": [
    {
     "name": "stdout",
     "output_type": "stream",
     "text": [
      "Index(['zero', 1, 2, 3, 4, 5], dtype='object')\n",
      "\n",
      "Index(['이름', '국어', '수학', '영어', '과학'], dtype='object')\n"
     ]
    }
   ],
   "source": [
    "print( examDF.index, examDF.columns, sep='\\n\\n')"
   ]
  },
  {
   "cell_type": "markdown",
   "id": "d9fc6705",
   "metadata": {},
   "source": [
    "- 컬럼명 순서 변경 ==> '체육', '미술', '국어', '수학', '총합'"
   ]
  },
  {
   "cell_type": "code",
   "execution_count": 123,
   "id": "7f0f4af0",
   "metadata": {},
   "outputs": [
    {
     "data": {
      "text/html": [
       "<div>\n",
       "<style scoped>\n",
       "    .dataframe tbody tr th:only-of-type {\n",
       "        vertical-align: middle;\n",
       "    }\n",
       "\n",
       "    .dataframe tbody tr th {\n",
       "        vertical-align: top;\n",
       "    }\n",
       "\n",
       "    .dataframe thead th {\n",
       "        text-align: right;\n",
       "    }\n",
       "</style>\n",
       "<table border=\"1\" class=\"dataframe\">\n",
       "  <thead>\n",
       "    <tr style=\"text-align: right;\">\n",
       "      <th></th>\n",
       "      <th>과학</th>\n",
       "      <th>영어</th>\n",
       "      <th>수학</th>\n",
       "      <th>국어</th>\n",
       "      <th>총합</th>\n",
       "    </tr>\n",
       "  </thead>\n",
       "  <tbody>\n",
       "    <tr>\n",
       "      <th>zero</th>\n",
       "      <td>98</td>\n",
       "      <td>98</td>\n",
       "      <td>97</td>\n",
       "      <td>78</td>\n",
       "      <td>0</td>\n",
       "    </tr>\n",
       "    <tr>\n",
       "      <th>1</th>\n",
       "      <td>89</td>\n",
       "      <td>89</td>\n",
       "      <td>49</td>\n",
       "      <td>89</td>\n",
       "      <td>0</td>\n",
       "    </tr>\n",
       "    <tr>\n",
       "      <th>2</th>\n",
       "      <td>79</td>\n",
       "      <td>39</td>\n",
       "      <td>89</td>\n",
       "      <td>99</td>\n",
       "      <td>0</td>\n",
       "    </tr>\n",
       "    <tr>\n",
       "      <th>3</th>\n",
       "      <td>89</td>\n",
       "      <td>49</td>\n",
       "      <td>99</td>\n",
       "      <td>29</td>\n",
       "      <td>0</td>\n",
       "    </tr>\n",
       "    <tr>\n",
       "      <th>4</th>\n",
       "      <td>98</td>\n",
       "      <td>58</td>\n",
       "      <td>97</td>\n",
       "      <td>78</td>\n",
       "      <td>0</td>\n",
       "    </tr>\n",
       "    <tr>\n",
       "      <th>5</th>\n",
       "      <td>62</td>\n",
       "      <td>89</td>\n",
       "      <td>34</td>\n",
       "      <td>78</td>\n",
       "      <td>0</td>\n",
       "    </tr>\n",
       "  </tbody>\n",
       "</table>\n",
       "</div>"
      ],
      "text/plain": [
       "      과학  영어  수학  국어  총합\n",
       "zero  98  98  97  78   0\n",
       "1     89  89  49  89   0\n",
       "2     79  39  89  99   0\n",
       "3     89  49  99  29   0\n",
       "4     98  58  97  78   0\n",
       "5     62  89  34  78   0"
      ]
     },
     "execution_count": 123,
     "metadata": {},
     "output_type": "execute_result"
    }
   ],
   "source": [
    "examDF.reindex(['과학', '영어', '수학', '국어', '총합'], axis='columns', fill_value=0) \n",
    "#fill_value 값 안 주면 NaN뜸"
   ]
  },
  {
   "cell_type": "markdown",
   "id": "6e5494e7",
   "metadata": {},
   "source": [
    "- 행 인덱스 재배치 0,2,4,1,3,5"
   ]
  },
  {
   "cell_type": "code",
   "execution_count": 124,
   "id": "445e3346",
   "metadata": {},
   "outputs": [
    {
     "data": {
      "text/html": [
       "<div>\n",
       "<style scoped>\n",
       "    .dataframe tbody tr th:only-of-type {\n",
       "        vertical-align: middle;\n",
       "    }\n",
       "\n",
       "    .dataframe tbody tr th {\n",
       "        vertical-align: top;\n",
       "    }\n",
       "\n",
       "    .dataframe thead th {\n",
       "        text-align: right;\n",
       "    }\n",
       "</style>\n",
       "<table border=\"1\" class=\"dataframe\">\n",
       "  <thead>\n",
       "    <tr style=\"text-align: right;\">\n",
       "      <th></th>\n",
       "      <th>이름</th>\n",
       "      <th>국어</th>\n",
       "      <th>수학</th>\n",
       "      <th>영어</th>\n",
       "      <th>과학</th>\n",
       "    </tr>\n",
       "  </thead>\n",
       "  <tbody>\n",
       "    <tr>\n",
       "      <th>zero</th>\n",
       "      <td>김재중</td>\n",
       "      <td>78</td>\n",
       "      <td>97</td>\n",
       "      <td>98</td>\n",
       "      <td>98</td>\n",
       "    </tr>\n",
       "    <tr>\n",
       "      <th>2</th>\n",
       "      <td>조현아</td>\n",
       "      <td>99</td>\n",
       "      <td>89</td>\n",
       "      <td>39</td>\n",
       "      <td>79</td>\n",
       "    </tr>\n",
       "    <tr>\n",
       "      <th>4</th>\n",
       "      <td>김재중</td>\n",
       "      <td>78</td>\n",
       "      <td>97</td>\n",
       "      <td>58</td>\n",
       "      <td>98</td>\n",
       "    </tr>\n",
       "    <tr>\n",
       "      <th>1</th>\n",
       "      <td>김현아</td>\n",
       "      <td>89</td>\n",
       "      <td>49</td>\n",
       "      <td>89</td>\n",
       "      <td>89</td>\n",
       "    </tr>\n",
       "    <tr>\n",
       "      <th>3</th>\n",
       "      <td>이창민</td>\n",
       "      <td>29</td>\n",
       "      <td>99</td>\n",
       "      <td>49</td>\n",
       "      <td>89</td>\n",
       "    </tr>\n",
       "    <tr>\n",
       "      <th>5</th>\n",
       "      <td>김재중</td>\n",
       "      <td>78</td>\n",
       "      <td>34</td>\n",
       "      <td>89</td>\n",
       "      <td>62</td>\n",
       "    </tr>\n",
       "  </tbody>\n",
       "</table>\n",
       "</div>"
      ],
      "text/plain": [
       "       이름  국어  수학  영어  과학\n",
       "zero  김재중  78  97  98  98\n",
       "2     조현아  99  89  39  79\n",
       "4     김재중  78  97  58  98\n",
       "1     김현아  89  49  89  89\n",
       "3     이창민  29  99  49  89\n",
       "5     김재중  78  34  89  62"
      ]
     },
     "execution_count": 124,
     "metadata": {},
     "output_type": "execute_result"
    }
   ],
   "source": [
    "examDF.reindex(['zero',2,4,1,3,5], axis='index', fill_value=0) \n",
    "#fill_value 값 안 주면 NaN뜸"
   ]
  },
  {
   "cell_type": "markdown",
   "id": "9e6c3b92",
   "metadata": {},
   "source": [
    "- 컬럼명 순서 변경 ==> '체육', '미술', '국어', '수학', '총합' + 행 인덱스 0,2,4,1,3,5 재배치"
   ]
  },
  {
   "cell_type": "code",
   "execution_count": 125,
   "id": "8021f113",
   "metadata": {},
   "outputs": [
    {
     "data": {
      "text/html": [
       "<div>\n",
       "<style scoped>\n",
       "    .dataframe tbody tr th:only-of-type {\n",
       "        vertical-align: middle;\n",
       "    }\n",
       "\n",
       "    .dataframe tbody tr th {\n",
       "        vertical-align: top;\n",
       "    }\n",
       "\n",
       "    .dataframe thead th {\n",
       "        text-align: right;\n",
       "    }\n",
       "</style>\n",
       "<table border=\"1\" class=\"dataframe\">\n",
       "  <thead>\n",
       "    <tr style=\"text-align: right;\">\n",
       "      <th></th>\n",
       "      <th>과학</th>\n",
       "      <th>영어</th>\n",
       "      <th>수학</th>\n",
       "      <th>국어</th>\n",
       "      <th>총합</th>\n",
       "    </tr>\n",
       "  </thead>\n",
       "  <tbody>\n",
       "    <tr>\n",
       "      <th>zero</th>\n",
       "      <td>98</td>\n",
       "      <td>98</td>\n",
       "      <td>97</td>\n",
       "      <td>78</td>\n",
       "      <td>0</td>\n",
       "    </tr>\n",
       "    <tr>\n",
       "      <th>2</th>\n",
       "      <td>79</td>\n",
       "      <td>39</td>\n",
       "      <td>89</td>\n",
       "      <td>99</td>\n",
       "      <td>0</td>\n",
       "    </tr>\n",
       "    <tr>\n",
       "      <th>4</th>\n",
       "      <td>98</td>\n",
       "      <td>58</td>\n",
       "      <td>97</td>\n",
       "      <td>78</td>\n",
       "      <td>0</td>\n",
       "    </tr>\n",
       "    <tr>\n",
       "      <th>1</th>\n",
       "      <td>89</td>\n",
       "      <td>89</td>\n",
       "      <td>49</td>\n",
       "      <td>89</td>\n",
       "      <td>0</td>\n",
       "    </tr>\n",
       "    <tr>\n",
       "      <th>3</th>\n",
       "      <td>89</td>\n",
       "      <td>49</td>\n",
       "      <td>99</td>\n",
       "      <td>29</td>\n",
       "      <td>0</td>\n",
       "    </tr>\n",
       "    <tr>\n",
       "      <th>5</th>\n",
       "      <td>62</td>\n",
       "      <td>89</td>\n",
       "      <td>34</td>\n",
       "      <td>78</td>\n",
       "      <td>0</td>\n",
       "    </tr>\n",
       "  </tbody>\n",
       "</table>\n",
       "</div>"
      ],
      "text/plain": [
       "      과학  영어  수학  국어  총합\n",
       "zero  98  98  97  78   0\n",
       "2     79  39  89  99   0\n",
       "4     98  58  97  78   0\n",
       "1     89  89  49  89   0\n",
       "3     89  49  99  29   0\n",
       "5     62  89  34  78   0"
      ]
     },
     "execution_count": 125,
     "metadata": {},
     "output_type": "execute_result"
    }
   ],
   "source": [
    "examDF.reindex(index=['zero',2,4,1,3,5], columns=['과학', '영어', '수학', '국어', '총합'], fill_value=0)"
   ]
  },
  {
   "cell_type": "code",
   "execution_count": null,
   "id": "3c25b0c6",
   "metadata": {},
   "outputs": [],
   "source": [
    "examDF"
   ]
  },
  {
   "cell_type": "code",
   "execution_count": null,
   "id": "74142c10",
   "metadata": {},
   "outputs": [],
   "source": [
    "# 2개의 칼럼을 행 인덱스 설정. 단, inplace 파라메터가 False로 원본에 적용 안 됨!\n",
    "# examDF3 = examDF.set_index(['이름', '국어', '수학']) #이 버전에서 에러"
   ]
  },
  {
   "cell_type": "code",
   "execution_count": null,
   "id": "0a82c4d0",
   "metadata": {},
   "outputs": [],
   "source": [
    "examDF2.index"
   ]
  },
  {
   "cell_type": "code",
   "execution_count": null,
   "id": "d4b540bc",
   "metadata": {},
   "outputs": [],
   "source": [
    "examDF2.loc['김재중']"
   ]
  },
  {
   "cell_type": "code",
   "execution_count": null,
   "id": "82cd7d62",
   "metadata": {},
   "outputs": [],
   "source": [
    "# examDF3 = examDF.set_index(['이름','국어','수학'])\n",
    "# examDF3.index # 이 버전에서 에러"
   ]
  },
  {
   "cell_type": "code",
   "execution_count": null,
   "id": "c479ad98",
   "metadata": {},
   "outputs": [],
   "source": [
    "# examDF3.loc['김재중']"
   ]
  },
  {
   "cell_type": "code",
   "execution_count": null,
   "id": "8ad1dab3",
   "metadata": {},
   "outputs": [],
   "source": [
    "# KeyError => '김재중,78,98' 형식으로 78로 시작하는 Key 없음\n",
    "# examDF3.loc[78,98] # 순차적으로 검색하기 때문에 '이름'없이 검색 시작이 안됨"
   ]
  },
  {
   "cell_type": "markdown",
   "id": "23c21ecf",
   "metadata": {},
   "source": [
    "### <hr> (5) 새로운 인덱스 설정 방법 3"
   ]
  },
  {
   "cell_type": "code",
   "execution_count": null,
   "id": "72f08715",
   "metadata": {},
   "outputs": [],
   "source": [
    "# 현재 행 인덱스 ==> 컬럼으로 추가\n",
    "df1 = examDF.reset_index().reset_index()\n",
    "df1"
   ]
  },
  {
   "cell_type": "code",
   "execution_count": null,
   "id": "6d62f454",
   "metadata": {},
   "outputs": [],
   "source": [
    "# 현재 행 인덱스를 컬럼에 추가하지 않고 삭제 => drop 파라미터를 True로 설정\n",
    "df2 = examDF.reset_index(drop=True)\n",
    "df2"
   ]
  },
  {
   "cell_type": "code",
   "execution_count": null,
   "id": "2ba410d5",
   "metadata": {},
   "outputs": [],
   "source": []
  }
 ],
 "metadata": {
  "kernelspec": {
   "display_name": "Python 3 (ipykernel)",
   "language": "python",
   "name": "python3"
  },
  "language_info": {
   "codemirror_mode": {
    "name": "ipython",
    "version": 3
   },
   "file_extension": ".py",
   "mimetype": "text/x-python",
   "name": "python",
   "nbconvert_exporter": "python",
   "pygments_lexer": "ipython3",
   "version": "3.11.5"
  }
 },
 "nbformat": 4,
 "nbformat_minor": 5
}
