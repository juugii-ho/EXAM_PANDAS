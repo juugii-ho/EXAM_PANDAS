{
 "cells": [
  {
   "cell_type": "markdown",
   "id": "1b03b553",
   "metadata": {},
   "source": [
    "# [ DataFrame 인덱스 다루기 ]"
   ]
  },
  {
   "cell_type": "markdown",
   "id": "de194e4c",
   "metadata": {},
   "source": [
    "## (1) 새로운 인덱스 설정 : 컬럼 ==> 인덱스 설정"
   ]
  },
  {
   "cell_type": "markdown",
   "id": "b7d514a9",
   "metadata": {},
   "source": [
    "### (1) 모듈로딩 <hr>"
   ]
  },
  {
   "cell_type": "code",
   "execution_count": null,
   "id": "65e4cf16",
   "metadata": {},
   "outputs": [],
   "source": [
    "import pandas as pd"
   ]
  },
  {
   "cell_type": "code",
   "execution_count": null,
   "id": "4b52c513",
   "metadata": {},
   "outputs": [],
   "source": [
    "# dict 타입의 데이터 생성\n",
    "exam = { '이름' : ['김재중', '김현아', '조현아', '이창민'],\n",
    "         '국어' : [78, 89 , 99, 29],\n",
    "         '수학' : [98, 49 , 89, 99],\n",
    "         '영어' : [98, 89 , 39, 49],\n",
    "         '과학' : [18, 69 , 79, 89] }"
   ]
  },
  {
   "cell_type": "code",
   "execution_count": null,
   "id": "dcc0c4ac",
   "metadata": {},
   "outputs": [],
   "source": []
  },
  {
   "cell_type": "code",
   "execution_count": null,
   "id": "a8ad986b",
   "metadata": {},
   "outputs": [],
   "source": []
  },
  {
   "cell_type": "markdown",
   "id": "7ddf798a",
   "metadata": {},
   "source": [
    "### (2) 데이터 준비 <hr>"
   ]
  },
  {
   "cell_type": "code",
   "execution_count": null,
   "id": "9633383a",
   "metadata": {},
   "outputs": [],
   "source": []
  }
 ],
 "metadata": {
  "kernelspec": {
   "display_name": "Python 3 (ipykernel)",
   "language": "python",
   "name": "python3"
  },
  "language_info": {
   "codemirror_mode": {
    "name": "ipython",
    "version": 3
   },
   "file_extension": ".py",
   "mimetype": "text/x-python",
   "name": "python",
   "nbconvert_exporter": "python",
   "pygments_lexer": "ipython3",
   "version": "3.11.5"
  }
 },
 "nbformat": 4,
 "nbformat_minor": 5
}
