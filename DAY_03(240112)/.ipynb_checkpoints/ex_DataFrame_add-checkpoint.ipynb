{
 "cells": [
  {
   "cell_type": "markdown",
   "id": "0b068362",
   "metadata": {},
   "source": [
    "## [ DataFrame 행/열 추가 ]"
   ]
  },
  {
   "cell_type": "markdown",
   "id": "678eecf7",
   "metadata": {},
   "source": [
    "(1) 모듈 로딩 --------------------------------------------------"
   ]
  },
  {
   "cell_type": "code",
   "execution_count": 2,
   "id": "88507bfd",
   "metadata": {},
   "outputs": [],
   "source": [
    "import pandas as pd"
   ]
  },
  {
   "cell_type": "markdown",
   "id": "9ba02222",
   "metadata": {},
   "source": [
    "(2) 데이터 준비 ----------------------------------"
   ]
  },
  {
   "cell_type": "code",
   "execution_count": 3,
   "id": "9f3feb08",
   "metadata": {},
   "outputs": [],
   "source": [
    "# dict 타입의 데이터 생성\n",
    "exam = { '이름' : ['김재중', '김현아', '조현아', '이창민'],\n",
    "         '국어' : [78, 89 , 99, 29],\n",
    "         '수학' : [98, 49 , 89, 99],\n",
    "         '영어' : [98, 89 , 39, 49],\n",
    "         '과학' : [18, 69 , 79, 89] }"
   ]
  },
  {
   "cell_type": "markdown",
   "id": "a216ce42",
   "metadata": {},
   "source": [
    "(3) DataFrame에 데이터 저장"
   ]
  },
  {
   "cell_type": "code",
   "execution_count": 4,
   "id": "66922bbd",
   "metadata": {},
   "outputs": [],
   "source": [
    "examDF = pd.DataFrame(exam)"
   ]
  },
  {
   "cell_type": "code",
   "execution_count": 5,
   "id": "957a7111",
   "metadata": {},
   "outputs": [
    {
     "name": "stdout",
     "output_type": "stream",
     "text": [
      "    이름  국어  수학  영어  과학\n",
      "0  김재중  78  98  98  18\n",
      "1  김현아  89  49  89  69\n",
      "2  조현아  99  89  39  79\n",
      "3  이창민  29  99  49  89\n"
     ]
    }
   ],
   "source": [
    "print(examDF)"
   ]
  },
  {
   "cell_type": "markdown",
   "id": "d688bd77",
   "metadata": {},
   "source": [
    "(4) 저장된 데이터 속성 확인 <hr>"
   ]
  },
  {
   "cell_type": "code",
   "execution_count": 16,
   "id": "e50ba8f1",
   "metadata": {},
   "outputs": [
    {
     "name": "stdout",
     "output_type": "stream",
     "text": [
      "index\n",
      "\t===> RangeIndex(start=0, stop=4, step=1)\n",
      "columns\n",
      "\t===> Index(['이름', '국어', '수학', '영어', '과학'], dtype='object')\n",
      "shape\n",
      "\t===> (4, 5)\n",
      "ndim\n",
      "\t===> 2\n",
      "dtypes\n",
      "\t===> 이름    object\n",
      "국어     int64\n",
      "수학     int64\n",
      "영어     int64\n",
      "과학     int64\n",
      "dtype: object\n"
     ]
    }
   ],
   "source": [
    "print(f'index\\n\\t===> {examDF.index}')\n",
    "print(f'columns\\n\\t===> {examDF.columns}')\n",
    "print(f'shape\\n\\t===> {examDF.shape}')\n",
    "print(f'ndim\\n\\t===> {examDF.ndim}')\n",
    "print(f'dtypes\\n\\t===> {examDF.dtypes}')"
   ]
  },
  {
   "cell_type": "code",
   "execution_count": 29,
   "id": "ea223fc4",
   "metadata": {},
   "outputs": [],
   "source": [
    "def printAttribute(df,dfname):\n",
    "    print(f'[{dfname}]')\n",
    "    print(f'index]\\t===>\\t {df.index}')\n",
    "    print(f'columns\\t===>\\t {df.columns}')\n",
    "    print(f'shape\\t===>\\t {df.shape}')\n",
    "    print(f'ndim\\t===>\\t {df.ndim}')\n",
    "    print(f'\\ndtypes\\n\\n{df.dtypes}')"
   ]
  },
  {
   "cell_type": "code",
   "execution_count": 30,
   "id": "2bb9f1f3",
   "metadata": {},
   "outputs": [
    {
     "name": "stdout",
     "output_type": "stream",
     "text": [
      "[examDF]\n",
      "index]\t===>\t RangeIndex(start=0, stop=4, step=1)\n",
      "columns\t===>\t Index(['이름', '국어', '수학', '영어', '과학'], dtype='object')\n",
      "shape\t===>\t (4, 5)\n",
      "ndim\t===>\t 2\n",
      "\n",
      "dtypes\n",
      "\n",
      "이름    object\n",
      "국어     int64\n",
      "수학     int64\n",
      "영어     int64\n",
      "과학     int64\n",
      "dtype: object\n"
     ]
    }
   ],
   "source": [
    "printAttribute(examDF, 'examDF')"
   ]
  },
  {
   "cell_type": "markdown",
   "id": "1d500a67",
   "metadata": {},
   "source": [
    "(5) DataFrame에 컬럼(column) 추가 <hr>\n",
    "- 방법 : DF객체 변수명[새로운 컬럼명]=값"
   ]
  },
  {
   "cell_type": "code",
   "execution_count": 44,
   "id": "dda120d3",
   "metadata": {},
   "outputs": [
    {
     "data": {
      "text/plain": [
       "Index(['이름', '국어', '수학', '영어', '과학', '사회'], dtype='object')"
      ]
     },
     "execution_count": 44,
     "metadata": {},
     "output_type": "execute_result"
    }
   ],
   "source": [
    "examDF.columns"
   ]
  },
  {
   "cell_type": "code",
   "execution_count": 48,
   "id": "093b434f",
   "metadata": {},
   "outputs": [
    {
     "data": {
      "text/html": [
       "<div>\n",
       "<style scoped>\n",
       "    .dataframe tbody tr th:only-of-type {\n",
       "        vertical-align: middle;\n",
       "    }\n",
       "\n",
       "    .dataframe tbody tr th {\n",
       "        vertical-align: top;\n",
       "    }\n",
       "\n",
       "    .dataframe thead th {\n",
       "        text-align: right;\n",
       "    }\n",
       "</style>\n",
       "<table border=\"1\" class=\"dataframe\">\n",
       "  <thead>\n",
       "    <tr style=\"text-align: right;\">\n",
       "      <th></th>\n",
       "      <th>이름</th>\n",
       "      <th>국어</th>\n",
       "      <th>수학</th>\n",
       "      <th>영어</th>\n",
       "      <th>과학</th>\n",
       "      <th>사회</th>\n",
       "      <th>체육</th>\n",
       "    </tr>\n",
       "  </thead>\n",
       "  <tbody>\n",
       "    <tr>\n",
       "      <th>0</th>\n",
       "      <td>김재중</td>\n",
       "      <td>78</td>\n",
       "      <td>98</td>\n",
       "      <td>98</td>\n",
       "      <td>18</td>\n",
       "      <td>10</td>\n",
       "      <td>10</td>\n",
       "    </tr>\n",
       "    <tr>\n",
       "      <th>1</th>\n",
       "      <td>김현아</td>\n",
       "      <td>89</td>\n",
       "      <td>49</td>\n",
       "      <td>89</td>\n",
       "      <td>69</td>\n",
       "      <td>10</td>\n",
       "      <td>20</td>\n",
       "    </tr>\n",
       "    <tr>\n",
       "      <th>2</th>\n",
       "      <td>조현아</td>\n",
       "      <td>99</td>\n",
       "      <td>89</td>\n",
       "      <td>39</td>\n",
       "      <td>79</td>\n",
       "      <td>10</td>\n",
       "      <td>30</td>\n",
       "    </tr>\n",
       "    <tr>\n",
       "      <th>3</th>\n",
       "      <td>이창민</td>\n",
       "      <td>29</td>\n",
       "      <td>99</td>\n",
       "      <td>49</td>\n",
       "      <td>89</td>\n",
       "      <td>10</td>\n",
       "      <td>40</td>\n",
       "    </tr>\n",
       "  </tbody>\n",
       "</table>\n",
       "</div>"
      ],
      "text/plain": [
       "    이름  국어  수학  영어  과학  사회  체육\n",
       "0  김재중  78  98  98  18  10  10\n",
       "1  김현아  89  49  89  69  10  20\n",
       "2  조현아  99  89  39  79  10  30\n",
       "3  이창민  29  99  49  89  10  40"
      ]
     },
     "execution_count": 48,
     "metadata": {},
     "output_type": "execute_result"
    }
   ],
   "source": [
    "# 4개의 데이터 듯 값을 추가 시 모든 행에 해당 값으로 지정\n",
    "examDF['체육']=[10,20,30,40]\n",
    "examDF"
   ]
  },
  {
   "cell_type": "code",
   "execution_count": 58,
   "id": "08e098c4",
   "metadata": {},
   "outputs": [],
   "source": [
    "# 1개의 데이터 즉 값 추가 시 모든 행에 동일 값으로 지정\n",
    "examDF['사회']=10           # 10이라는 값을 모두 부여\n",
    "# examDF['사회']=[10]       # 10이라는 값을 하나 부여\n",
    "examDF['기술']=0                # 6번과목에 0이라는 값을 모두 부여"
   ]
  },
  {
   "cell_type": "code",
   "execution_count": 59,
   "id": "b7503a83",
   "metadata": {},
   "outputs": [
    {
     "data": {
      "text/html": [
       "<div>\n",
       "<style scoped>\n",
       "    .dataframe tbody tr th:only-of-type {\n",
       "        vertical-align: middle;\n",
       "    }\n",
       "\n",
       "    .dataframe tbody tr th {\n",
       "        vertical-align: top;\n",
       "    }\n",
       "\n",
       "    .dataframe thead th {\n",
       "        text-align: right;\n",
       "    }\n",
       "</style>\n",
       "<table border=\"1\" class=\"dataframe\">\n",
       "  <thead>\n",
       "    <tr style=\"text-align: right;\">\n",
       "      <th></th>\n",
       "      <th>이름</th>\n",
       "      <th>국어</th>\n",
       "      <th>수학</th>\n",
       "      <th>영어</th>\n",
       "      <th>과학</th>\n",
       "      <th>사회</th>\n",
       "      <th>체육</th>\n",
       "      <th>기술</th>\n",
       "    </tr>\n",
       "  </thead>\n",
       "  <tbody>\n",
       "    <tr>\n",
       "      <th>0</th>\n",
       "      <td>김재중</td>\n",
       "      <td>78</td>\n",
       "      <td>98</td>\n",
       "      <td>98</td>\n",
       "      <td>18</td>\n",
       "      <td>10</td>\n",
       "      <td>10</td>\n",
       "      <td>0</td>\n",
       "    </tr>\n",
       "    <tr>\n",
       "      <th>1</th>\n",
       "      <td>김현아</td>\n",
       "      <td>89</td>\n",
       "      <td>49</td>\n",
       "      <td>89</td>\n",
       "      <td>69</td>\n",
       "      <td>10</td>\n",
       "      <td>20</td>\n",
       "      <td>0</td>\n",
       "    </tr>\n",
       "    <tr>\n",
       "      <th>2</th>\n",
       "      <td>조현아</td>\n",
       "      <td>99</td>\n",
       "      <td>89</td>\n",
       "      <td>39</td>\n",
       "      <td>79</td>\n",
       "      <td>10</td>\n",
       "      <td>30</td>\n",
       "      <td>0</td>\n",
       "    </tr>\n",
       "    <tr>\n",
       "      <th>3</th>\n",
       "      <td>이창민</td>\n",
       "      <td>29</td>\n",
       "      <td>99</td>\n",
       "      <td>49</td>\n",
       "      <td>89</td>\n",
       "      <td>10</td>\n",
       "      <td>40</td>\n",
       "      <td>0</td>\n",
       "    </tr>\n",
       "  </tbody>\n",
       "</table>\n",
       "</div>"
      ],
      "text/plain": [
       "    이름  국어  수학  영어  과학  사회  체육  기술\n",
       "0  김재중  78  98  98  18  10  10   0\n",
       "1  김현아  89  49  89  69  10  20   0\n",
       "2  조현아  99  89  39  79  10  30   0\n",
       "3  이창민  29  99  49  89  10  40   0"
      ]
     },
     "execution_count": 59,
     "metadata": {},
     "output_type": "execute_result"
    }
   ],
   "source": [
    "examDF"
   ]
  },
  {
   "cell_type": "code",
   "execution_count": 60,
   "id": "97a07db5",
   "metadata": {},
   "outputs": [],
   "source": [
    "# 여러개의 데이터가 행의 수와 맞지 않는 경우는 진행되지 않음\n",
    "# examDF['컴퓨터']=[89,10]"
   ]
  },
  {
   "cell_type": "code",
   "execution_count": 61,
   "id": "ab7ed9fa",
   "metadata": {},
   "outputs": [
    {
     "data": {
      "text/plain": [
       "Index(['이름', '국어', '수학', '영어', '과학', '사회', '체육', '기술'], dtype='object')"
      ]
     },
     "execution_count": 61,
     "metadata": {},
     "output_type": "execute_result"
    }
   ],
   "source": [
    "examDF.columns"
   ]
  },
  {
   "cell_type": "markdown",
   "id": "e8cb5d46",
   "metadata": {},
   "source": [
    "(6) DataFrame에 행(row)추가 <hr>\n",
    "- 방법 : DF객체변수명.loc[새로운 행인덱스] = [컬럼 수 만큼의 데이터]\n",
    "- 방법 : DF객체변수명.loc[새로운 행인덱스] = 데이터\n",
    "- 불가 방법 : DF객체변수명.iloc[새로운 행인덱스] = 데이터  => 데이터가 존재해야 인덱스가 할당됨"
   ]
  },
  {
   "cell_type": "code",
   "execution_count": 62,
   "id": "7dc7d85f",
   "metadata": {},
   "outputs": [
    {
     "data": {
      "text/plain": [
       "RangeIndex(start=0, stop=4, step=1)"
      ]
     },
     "execution_count": 62,
     "metadata": {},
     "output_type": "execute_result"
    }
   ],
   "source": [
    "examDF.index"
   ]
  },
  {
   "cell_type": "code",
   "execution_count": 63,
   "id": "f287e807",
   "metadata": {},
   "outputs": [
    {
     "data": {
      "text/html": [
       "<div>\n",
       "<style scoped>\n",
       "    .dataframe tbody tr th:only-of-type {\n",
       "        vertical-align: middle;\n",
       "    }\n",
       "\n",
       "    .dataframe tbody tr th {\n",
       "        vertical-align: top;\n",
       "    }\n",
       "\n",
       "    .dataframe thead th {\n",
       "        text-align: right;\n",
       "    }\n",
       "</style>\n",
       "<table border=\"1\" class=\"dataframe\">\n",
       "  <thead>\n",
       "    <tr style=\"text-align: right;\">\n",
       "      <th></th>\n",
       "      <th>이름</th>\n",
       "      <th>국어</th>\n",
       "      <th>수학</th>\n",
       "      <th>영어</th>\n",
       "      <th>과학</th>\n",
       "      <th>사회</th>\n",
       "      <th>체육</th>\n",
       "      <th>기술</th>\n",
       "    </tr>\n",
       "  </thead>\n",
       "  <tbody>\n",
       "    <tr>\n",
       "      <th>0</th>\n",
       "      <td>김재중</td>\n",
       "      <td>78</td>\n",
       "      <td>98</td>\n",
       "      <td>98</td>\n",
       "      <td>18</td>\n",
       "      <td>10</td>\n",
       "      <td>10</td>\n",
       "      <td>0</td>\n",
       "    </tr>\n",
       "    <tr>\n",
       "      <th>1</th>\n",
       "      <td>김현아</td>\n",
       "      <td>89</td>\n",
       "      <td>49</td>\n",
       "      <td>89</td>\n",
       "      <td>69</td>\n",
       "      <td>10</td>\n",
       "      <td>20</td>\n",
       "      <td>0</td>\n",
       "    </tr>\n",
       "    <tr>\n",
       "      <th>2</th>\n",
       "      <td>조현아</td>\n",
       "      <td>99</td>\n",
       "      <td>89</td>\n",
       "      <td>39</td>\n",
       "      <td>79</td>\n",
       "      <td>10</td>\n",
       "      <td>30</td>\n",
       "      <td>0</td>\n",
       "    </tr>\n",
       "    <tr>\n",
       "      <th>3</th>\n",
       "      <td>이창민</td>\n",
       "      <td>29</td>\n",
       "      <td>99</td>\n",
       "      <td>49</td>\n",
       "      <td>89</td>\n",
       "      <td>10</td>\n",
       "      <td>40</td>\n",
       "      <td>0</td>\n",
       "    </tr>\n",
       "    <tr>\n",
       "      <th>4</th>\n",
       "      <td>김준수</td>\n",
       "      <td>10</td>\n",
       "      <td>20</td>\n",
       "      <td>30</td>\n",
       "      <td>40</td>\n",
       "      <td>50</td>\n",
       "      <td>60</td>\n",
       "      <td>70</td>\n",
       "    </tr>\n",
       "  </tbody>\n",
       "</table>\n",
       "</div>"
      ],
      "text/plain": [
       "    이름  국어  수학  영어  과학  사회  체육  기술\n",
       "0  김재중  78  98  98  18  10  10   0\n",
       "1  김현아  89  49  89  69  10  20   0\n",
       "2  조현아  99  89  39  79  10  30   0\n",
       "3  이창민  29  99  49  89  10  40   0\n",
       "4  김준수  10  20  30  40  50  60  70"
      ]
     },
     "execution_count": 63,
     "metadata": {},
     "output_type": "execute_result"
    }
   ],
   "source": [
    "# 컬럼 수 만큼의 데이터를 가진 행 추가\n",
    "examDF.loc[4] = ['김준수', 10, 20, 30, 40, 50, 60, 70]\n",
    "examDF"
   ]
  },
  {
   "cell_type": "code",
   "execution_count": 65,
   "id": "2cf51f2d",
   "metadata": {},
   "outputs": [
    {
     "data": {
      "text/html": [
       "<div>\n",
       "<style scoped>\n",
       "    .dataframe tbody tr th:only-of-type {\n",
       "        vertical-align: middle;\n",
       "    }\n",
       "\n",
       "    .dataframe tbody tr th {\n",
       "        vertical-align: top;\n",
       "    }\n",
       "\n",
       "    .dataframe thead th {\n",
       "        text-align: right;\n",
       "    }\n",
       "</style>\n",
       "<table border=\"1\" class=\"dataframe\">\n",
       "  <thead>\n",
       "    <tr style=\"text-align: right;\">\n",
       "      <th></th>\n",
       "      <th>이름</th>\n",
       "      <th>국어</th>\n",
       "      <th>수학</th>\n",
       "      <th>영어</th>\n",
       "      <th>과학</th>\n",
       "      <th>사회</th>\n",
       "      <th>체육</th>\n",
       "      <th>기술</th>\n",
       "    </tr>\n",
       "  </thead>\n",
       "  <tbody>\n",
       "    <tr>\n",
       "      <th>0</th>\n",
       "      <td>김재중</td>\n",
       "      <td>78</td>\n",
       "      <td>98</td>\n",
       "      <td>98</td>\n",
       "      <td>18</td>\n",
       "      <td>10</td>\n",
       "      <td>10</td>\n",
       "      <td>0</td>\n",
       "    </tr>\n",
       "    <tr>\n",
       "      <th>1</th>\n",
       "      <td>김현아</td>\n",
       "      <td>89</td>\n",
       "      <td>49</td>\n",
       "      <td>89</td>\n",
       "      <td>69</td>\n",
       "      <td>10</td>\n",
       "      <td>20</td>\n",
       "      <td>0</td>\n",
       "    </tr>\n",
       "    <tr>\n",
       "      <th>2</th>\n",
       "      <td>조현아</td>\n",
       "      <td>99</td>\n",
       "      <td>89</td>\n",
       "      <td>39</td>\n",
       "      <td>79</td>\n",
       "      <td>10</td>\n",
       "      <td>30</td>\n",
       "      <td>0</td>\n",
       "    </tr>\n",
       "    <tr>\n",
       "      <th>3</th>\n",
       "      <td>이창민</td>\n",
       "      <td>29</td>\n",
       "      <td>99</td>\n",
       "      <td>49</td>\n",
       "      <td>89</td>\n",
       "      <td>10</td>\n",
       "      <td>40</td>\n",
       "      <td>0</td>\n",
       "    </tr>\n",
       "    <tr>\n",
       "      <th>4</th>\n",
       "      <td>김준수</td>\n",
       "      <td>10</td>\n",
       "      <td>20</td>\n",
       "      <td>30</td>\n",
       "      <td>40</td>\n",
       "      <td>50</td>\n",
       "      <td>60</td>\n",
       "      <td>70</td>\n",
       "    </tr>\n",
       "  </tbody>\n",
       "</table>\n",
       "</div>"
      ],
      "text/plain": [
       "    이름  국어  수학  영어  과학  사회  체육  기술\n",
       "0  김재중  78  98  98  18  10  10   0\n",
       "1  김현아  89  49  89  69  10  20   0\n",
       "2  조현아  99  89  39  79  10  30   0\n",
       "3  이창민  29  99  49  89  10  40   0\n",
       "4  김준수  10  20  30  40  50  60  70"
      ]
     },
     "execution_count": 65,
     "metadata": {},
     "output_type": "execute_result"
    }
   ],
   "source": [
    "# 행 추가 시 iloc는 사용불가 \n",
    "# => Why? 데이터 수에 맞게 인덱스 범위 지정이 되기 때문에 현재 인덱스에 없는 인덱스로는 불가\n",
    "\n",
    "# examDF.iloc[5] = ['임윤아', 10, 20, 30, 40, 50, 60, 70]\n",
    "examDF"
   ]
  },
  {
   "cell_type": "code",
   "execution_count": 67,
   "id": "c2618fec",
   "metadata": {},
   "outputs": [
    {
     "data": {
      "text/html": [
       "<div>\n",
       "<style scoped>\n",
       "    .dataframe tbody tr th:only-of-type {\n",
       "        vertical-align: middle;\n",
       "    }\n",
       "\n",
       "    .dataframe tbody tr th {\n",
       "        vertical-align: top;\n",
       "    }\n",
       "\n",
       "    .dataframe thead th {\n",
       "        text-align: right;\n",
       "    }\n",
       "</style>\n",
       "<table border=\"1\" class=\"dataframe\">\n",
       "  <thead>\n",
       "    <tr style=\"text-align: right;\">\n",
       "      <th></th>\n",
       "      <th>이름</th>\n",
       "      <th>국어</th>\n",
       "      <th>수학</th>\n",
       "      <th>영어</th>\n",
       "      <th>과학</th>\n",
       "      <th>사회</th>\n",
       "      <th>체육</th>\n",
       "      <th>기술</th>\n",
       "    </tr>\n",
       "  </thead>\n",
       "  <tbody>\n",
       "    <tr>\n",
       "      <th>0</th>\n",
       "      <td>김재중</td>\n",
       "      <td>78</td>\n",
       "      <td>98</td>\n",
       "      <td>98</td>\n",
       "      <td>18</td>\n",
       "      <td>10</td>\n",
       "      <td>10</td>\n",
       "      <td>0</td>\n",
       "    </tr>\n",
       "    <tr>\n",
       "      <th>1</th>\n",
       "      <td>김현아</td>\n",
       "      <td>89</td>\n",
       "      <td>49</td>\n",
       "      <td>89</td>\n",
       "      <td>69</td>\n",
       "      <td>10</td>\n",
       "      <td>20</td>\n",
       "      <td>0</td>\n",
       "    </tr>\n",
       "    <tr>\n",
       "      <th>2</th>\n",
       "      <td>조현아</td>\n",
       "      <td>99</td>\n",
       "      <td>89</td>\n",
       "      <td>39</td>\n",
       "      <td>79</td>\n",
       "      <td>10</td>\n",
       "      <td>30</td>\n",
       "      <td>0</td>\n",
       "    </tr>\n",
       "    <tr>\n",
       "      <th>3</th>\n",
       "      <td>이창민</td>\n",
       "      <td>29</td>\n",
       "      <td>99</td>\n",
       "      <td>49</td>\n",
       "      <td>89</td>\n",
       "      <td>10</td>\n",
       "      <td>40</td>\n",
       "      <td>0</td>\n",
       "    </tr>\n",
       "    <tr>\n",
       "      <th>4</th>\n",
       "      <td>김준수</td>\n",
       "      <td>10</td>\n",
       "      <td>20</td>\n",
       "      <td>30</td>\n",
       "      <td>40</td>\n",
       "      <td>50</td>\n",
       "      <td>60</td>\n",
       "      <td>70</td>\n",
       "    </tr>\n",
       "    <tr>\n",
       "      <th>5</th>\n",
       "      <td>임윤아</td>\n",
       "      <td>임윤아</td>\n",
       "      <td>임윤아</td>\n",
       "      <td>임윤아</td>\n",
       "      <td>임윤아</td>\n",
       "      <td>임윤아</td>\n",
       "      <td>임윤아</td>\n",
       "      <td>임윤아</td>\n",
       "    </tr>\n",
       "  </tbody>\n",
       "</table>\n",
       "</div>"
      ],
      "text/plain": [
       "    이름   국어   수학   영어   과학   사회   체육   기술\n",
       "0  김재중   78   98   98   18   10   10    0\n",
       "1  김현아   89   49   89   69   10   20    0\n",
       "2  조현아   99   89   39   79   10   30    0\n",
       "3  이창민   29   99   49   89   10   40    0\n",
       "4  김준수   10   20   30   40   50   60   70\n",
       "5  임윤아  임윤아  임윤아  임윤아  임윤아  임윤아  임윤아  임윤아"
      ]
     },
     "execution_count": 67,
     "metadata": {},
     "output_type": "execute_result"
    }
   ],
   "source": [
    "# 1개 데이터 가진 행 추가\n",
    "examDF.loc[5] = '임윤아'\n",
    "examDF                     # 임윤아가 임윤아 했다.."
   ]
  },
  {
   "cell_type": "code",
   "execution_count": null,
   "id": "1d15669b",
   "metadata": {},
   "outputs": [],
   "source": []
  }
 ],
 "metadata": {
  "kernelspec": {
   "display_name": "Python 3 (ipykernel)",
   "language": "python",
   "name": "python3"
  },
  "language_info": {
   "codemirror_mode": {
    "name": "ipython",
    "version": 3
   },
   "file_extension": ".py",
   "mimetype": "text/x-python",
   "name": "python",
   "nbconvert_exporter": "python",
   "pygments_lexer": "ipython3",
   "version": "3.11.5"
  }
 },
 "nbformat": 4,
 "nbformat_minor": 5
}
