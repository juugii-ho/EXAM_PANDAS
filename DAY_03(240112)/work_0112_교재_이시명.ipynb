{
 "cells": [
  {
   "cell_type": "markdown",
   "id": "0b542583",
   "metadata": {},
   "source": [
    "# 2장"
   ]
  },
  {
   "cell_type": "code",
   "execution_count": 458,
   "id": "6eb42c95",
   "metadata": {},
   "outputs": [],
   "source": [
    "%config Completer.use_jedi = False"
   ]
  },
  {
   "cell_type": "markdown",
   "id": "3cb684ab",
   "metadata": {},
   "source": [
    "## 2.1"
   ]
  },
  {
   "cell_type": "code",
   "execution_count": 459,
   "id": "eca2acf0",
   "metadata": {},
   "outputs": [],
   "source": [
    "import pandas as pd\n",
    "import numpy as np"
   ]
  },
  {
   "cell_type": "markdown",
   "id": "4968c82f",
   "metadata": {},
   "source": [
    "### 2.1.1\n"
   ]
  },
  {
   "cell_type": "code",
   "execution_count": 460,
   "id": "60f7bb7e",
   "metadata": {},
   "outputs": [
    {
     "data": {
      "text/plain": [
       "Series([], dtype: object)"
      ]
     },
     "execution_count": 460,
     "metadata": {},
     "output_type": "execute_result"
    }
   ],
   "source": [
    "pd.Series()"
   ]
  },
  {
   "cell_type": "markdown",
   "id": "5123c228",
   "metadata": {},
   "source": [
    "### 2.1.2"
   ]
  },
  {
   "cell_type": "code",
   "execution_count": 461,
   "id": "90245904",
   "metadata": {},
   "outputs": [
    {
     "data": {
      "text/plain": [
       "0     Chocolate\n",
       "1       Vanilla\n",
       "2    Strawberry\n",
       "3    Rum Raisin\n",
       "dtype: object"
      ]
     },
     "execution_count": 461,
     "metadata": {},
     "output_type": "execute_result"
    }
   ],
   "source": [
    "ice_cream_flavors=[\n",
    "    \"Chocolate\",\n",
    "    \"Vanilla\",\n",
    "    \"Strawberry\",\n",
    "    \"Rum Raisin\",\n",
    "]\n",
    "\n",
    "pd.Series(ice_cream_flavors)"
   ]
  },
  {
   "cell_type": "code",
   "execution_count": 462,
   "id": "67aa6852",
   "metadata": {},
   "outputs": [
    {
     "data": {
      "text/plain": [
       "0     Chocolate\n",
       "1       Vanilla\n",
       "2    Strawberry\n",
       "3    Rum Raisin\n",
       "dtype: object"
      ]
     },
     "execution_count": 462,
     "metadata": {},
     "output_type": "execute_result"
    }
   ],
   "source": [
    "# 다음 두 줄은 결과가 동일합니다.\n",
    "pd.Series(ice_cream_flavors)"
   ]
  },
  {
   "cell_type": "code",
   "execution_count": 463,
   "id": "17252ad3",
   "metadata": {},
   "outputs": [
    {
     "data": {
      "text/plain": [
       "0     Chocolate\n",
       "1       Vanilla\n",
       "2    Strawberry\n",
       "3    Rum Raisin\n",
       "dtype: object"
      ]
     },
     "execution_count": 463,
     "metadata": {},
     "output_type": "execute_result"
    }
   ],
   "source": [
    "pd.Series(data = ice_cream_flavors)"
   ]
  },
  {
   "cell_type": "markdown",
   "id": "cffd4d62",
   "metadata": {},
   "source": [
    "### 2.1.3"
   ]
  },
  {
   "cell_type": "code",
   "execution_count": 464,
   "id": "fb5150ca",
   "metadata": {},
   "outputs": [
    {
     "data": {
      "text/plain": [
       "Monday        Chocolate\n",
       "Wednesday       Vanilla\n",
       "Friday       Strawberry\n",
       "Saturday     Rum Raisin\n",
       "dtype: object"
      ]
     },
     "execution_count": 464,
     "metadata": {},
     "output_type": "execute_result"
    }
   ],
   "source": [
    "ice_cream_flavors=[\n",
    "    \"Chocolate\",\n",
    "    \"Vanilla\",\n",
    "    \"Strawberry\",\n",
    "    \"Rum Raisin\",\n",
    "]\n",
    "\n",
    "days_of_week = (\"Monday\", \"Wednesday\", \"Friday\", \"Saturday\")\n",
    "\n",
    "# 다음 두 줄은 결과가 동일합니다.\n",
    "pd.Series(ice_cream_flavors,days_of_week)"
   ]
  },
  {
   "cell_type": "code",
   "execution_count": 465,
   "id": "d12ce8c1",
   "metadata": {},
   "outputs": [
    {
     "data": {
      "text/plain": [
       "Monday        Chocolate\n",
       "Wednesday       Vanilla\n",
       "Friday       Strawberry\n",
       "Saturday     Rum Raisin\n",
       "dtype: object"
      ]
     },
     "execution_count": 465,
     "metadata": {},
     "output_type": "execute_result"
    }
   ],
   "source": [
    "pd.Series(data = ice_cream_flavors, index=days_of_week)"
   ]
  },
  {
   "cell_type": "code",
   "execution_count": 466,
   "id": "1f9f2ae5",
   "metadata": {},
   "outputs": [
    {
     "data": {
      "text/plain": [
       "Monday        Chocolate\n",
       "Wednesday       Vanilla\n",
       "Friday       Strawberry\n",
       "Wednesday    Rum Raisin\n",
       "dtype: object"
      ]
     },
     "execution_count": 466,
     "metadata": {},
     "output_type": "execute_result"
    }
   ],
   "source": [
    "ice_cream_flavors=[\n",
    "    \"Chocolate\",\n",
    "    \"Vanilla\",\n",
    "    \"Strawberry\",\n",
    "    \"Rum Raisin\",\n",
    "]\n",
    "\n",
    "days_of_week = (\"Monday\", \"Wednesday\", \"Friday\", \"Wednesday\")\n",
    "\n",
    "# 다음 두 줄은 결과가 동일합니다.\n",
    "pd.Series(ice_cream_flavors,days_of_week)"
   ]
  },
  {
   "cell_type": "code",
   "execution_count": 467,
   "id": "c37bb380",
   "metadata": {},
   "outputs": [
    {
     "data": {
      "text/plain": [
       "Monday        Chocolate\n",
       "Wednesday       Vanilla\n",
       "Friday       Strawberry\n",
       "Wednesday    Rum Raisin\n",
       "dtype: object"
      ]
     },
     "execution_count": 467,
     "metadata": {},
     "output_type": "execute_result"
    }
   ],
   "source": [
    "ice_cream_flavors=[\n",
    "    \"Chocolate\",\n",
    "    \"Vanilla\",\n",
    "    \"Strawberry\",\n",
    "    \"Rum Raisin\",\n",
    "]\n",
    "\n",
    "days_of_week = (\"Monday\", \"Wednesday\", \"Friday\", \"Wednesday\")\n",
    "\n",
    "# 다음 두 줄은 결과가 동일합니다.\n",
    "pd.Series(data = ice_cream_flavors, index=days_of_week)"
   ]
  },
  {
   "cell_type": "code",
   "execution_count": 468,
   "id": "a1f71ef8",
   "metadata": {},
   "outputs": [
    {
     "data": {
      "text/plain": [
       "Monday        Chocolate\n",
       "Wednesday       Vanilla\n",
       "Friday       Strawberry\n",
       "Wednesday    Rum Raisin\n",
       "dtype: object"
      ]
     },
     "execution_count": 468,
     "metadata": {},
     "output_type": "execute_result"
    }
   ],
   "source": [
    "pd.Series(index = days_of_week, data = ice_cream_flavors)"
   ]
  },
  {
   "cell_type": "code",
   "execution_count": 469,
   "id": "09c33491",
   "metadata": {},
   "outputs": [
    {
     "data": {
      "text/plain": [
       "0     True\n",
       "1    False\n",
       "2    False\n",
       "dtype: bool"
      ]
     },
     "execution_count": 469,
     "metadata": {},
     "output_type": "execute_result"
    }
   ],
   "source": [
    "bunch_of_bools = [True, False, False]\n",
    "pd.Series(bunch_of_bools)"
   ]
  },
  {
   "cell_type": "code",
   "execution_count": 470,
   "id": "adbd92c7",
   "metadata": {},
   "outputs": [
    {
     "data": {
      "text/plain": [
       "Open     985.32\n",
       "Close    950.44\n",
       "dtype: float64"
      ]
     },
     "execution_count": 470,
     "metadata": {},
     "output_type": "execute_result"
    }
   ],
   "source": [
    "stock_prices = [985.32, 950.44]\n",
    "time_of_day = [\"Open\", \"Close\"]\n",
    "pd.Series(data=stock_prices, index = time_of_day)"
   ]
  },
  {
   "cell_type": "code",
   "execution_count": 471,
   "id": "890fcc9a",
   "metadata": {},
   "outputs": [
    {
     "data": {
      "text/plain": [
       "0     4\n",
       "1     8\n",
       "2    15\n",
       "3    16\n",
       "4    23\n",
       "5    42\n",
       "dtype: int64"
      ]
     },
     "execution_count": 471,
     "metadata": {},
     "output_type": "execute_result"
    }
   ],
   "source": [
    "lucky_numbers = [4,8,15,16,23,42]\n",
    "pd.Series(lucky_numbers)"
   ]
  },
  {
   "cell_type": "code",
   "execution_count": 472,
   "id": "a311b01b",
   "metadata": {},
   "outputs": [
    {
     "data": {
      "text/plain": [
       "0     4.0\n",
       "1     8.0\n",
       "2    15.0\n",
       "3    16.0\n",
       "4    23.0\n",
       "5    42.0\n",
       "dtype: float64"
      ]
     },
     "execution_count": 472,
     "metadata": {},
     "output_type": "execute_result"
    }
   ],
   "source": [
    "lucky_numbers = [4,8,15,16,23,42]\n",
    "pd.Series(lucky_numbers, dtype=\"float\")"
   ]
  },
  {
   "cell_type": "markdown",
   "id": "3e133520",
   "metadata": {},
   "source": [
    "### 2.1.4"
   ]
  },
  {
   "cell_type": "code",
   "execution_count": 473,
   "id": "b2a7ae16",
   "metadata": {},
   "outputs": [
    {
     "data": {
      "text/plain": [
       "0    94.0\n",
       "1    88.0\n",
       "2     NaN\n",
       "3    91.0\n",
       "dtype: float64"
      ]
     },
     "execution_count": 473,
     "metadata": {},
     "output_type": "execute_result"
    }
   ],
   "source": [
    "temperatures = [94, 88, np.nan, 91]\n",
    "pd.Series(data=temperatures)"
   ]
  },
  {
   "cell_type": "markdown",
   "id": "2f796d84",
   "metadata": {},
   "source": [
    "## <hr> 2.2"
   ]
  },
  {
   "cell_type": "code",
   "execution_count": 474,
   "id": "26a2f605",
   "metadata": {},
   "outputs": [
    {
     "data": {
      "text/plain": [
       "cereal              125\n",
       "Chocolate Bar       406\n",
       "Ice Cream Sundae    342\n",
       "dtype: int64"
      ]
     },
     "execution_count": 474,
     "metadata": {},
     "output_type": "execute_result"
    }
   ],
   "source": [
    "calorie_info = {\n",
    "    \"cereal\":125,\n",
    "    \"Chocolate Bar\":406,\n",
    "    \"Ice Cream Sundae\":342,\n",
    "}\n",
    "\n",
    "diet = pd.Series(calorie_info)\n",
    "diet"
   ]
  },
  {
   "cell_type": "code",
   "execution_count": 475,
   "id": "81e657e2",
   "metadata": {},
   "outputs": [
    {
     "data": {
      "text/plain": [
       "0      Red\n",
       "1    Green\n",
       "2     Blue\n",
       "dtype: object"
      ]
     },
     "execution_count": 475,
     "metadata": {},
     "output_type": "execute_result"
    }
   ],
   "source": [
    "pd.Series(data = (\"Red\", \"Green\", \"Blue\"))"
   ]
  },
  {
   "cell_type": "code",
   "execution_count": 476,
   "id": "42b3f64b",
   "metadata": {},
   "outputs": [
    {
     "data": {
      "text/plain": [
       "0     (120, 41, 26)\n",
       "1    (196, 165, 45)\n",
       "dtype: object"
      ]
     },
     "execution_count": 476,
     "metadata": {},
     "output_type": "execute_result"
    }
   ],
   "source": [
    "rgb_colors = [(120, 41, 26), (196, 165, 45)]\n",
    "pd.Series(data = rgb_colors)"
   ]
  },
  {
   "cell_type": "code",
   "execution_count": 477,
   "id": "9d95180c",
   "metadata": {},
   "outputs": [],
   "source": [
    "my_set = {\"Ricky\", \"Bobby\"}\n",
    "# pd.Series(my_set)           #TypeError"
   ]
  },
  {
   "cell_type": "code",
   "execution_count": 478,
   "id": "91a8abb8",
   "metadata": {},
   "outputs": [
    {
     "data": {
      "text/plain": [
       "0    Bobby\n",
       "1    Ricky\n",
       "dtype: object"
      ]
     },
     "execution_count": 478,
     "metadata": {},
     "output_type": "execute_result"
    }
   ],
   "source": [
    "pd.Series(list(my_set))"
   ]
  },
  {
   "cell_type": "code",
   "execution_count": 479,
   "id": "fb9b85a7",
   "metadata": {},
   "outputs": [
    {
     "data": {
      "text/plain": [
       "array([11, 71,  6, 37,  9, 55, 59, 43, 25, 83])"
      ]
     },
     "execution_count": 479,
     "metadata": {},
     "output_type": "execute_result"
    }
   ],
   "source": [
    "random_data=np.random.randint(1,101,10)\n",
    "random_data"
   ]
  },
  {
   "cell_type": "code",
   "execution_count": 480,
   "id": "195980d5",
   "metadata": {},
   "outputs": [
    {
     "data": {
      "text/plain": [
       "0    11\n",
       "1    71\n",
       "2     6\n",
       "3    37\n",
       "4     9\n",
       "5    55\n",
       "6    59\n",
       "7    43\n",
       "8    25\n",
       "9    83\n",
       "dtype: int64"
      ]
     },
     "execution_count": 480,
     "metadata": {},
     "output_type": "execute_result"
    }
   ],
   "source": [
    "pd.Series(random_data)"
   ]
  },
  {
   "cell_type": "markdown",
   "id": "05a23d9e",
   "metadata": {},
   "source": [
    "## 2.3"
   ]
  },
  {
   "cell_type": "code",
   "execution_count": 481,
   "id": "442962d4",
   "metadata": {},
   "outputs": [
    {
     "data": {
      "text/plain": [
       "array([125, 406, 342])"
      ]
     },
     "execution_count": 481,
     "metadata": {},
     "output_type": "execute_result"
    }
   ],
   "source": [
    "diet.values"
   ]
  },
  {
   "cell_type": "code",
   "execution_count": 482,
   "id": "2eb76e02",
   "metadata": {},
   "outputs": [
    {
     "data": {
      "text/plain": [
       "numpy.ndarray"
      ]
     },
     "execution_count": 482,
     "metadata": {},
     "output_type": "execute_result"
    }
   ],
   "source": [
    "type(diet.values)"
   ]
  },
  {
   "cell_type": "code",
   "execution_count": 483,
   "id": "b42e2cbf",
   "metadata": {},
   "outputs": [
    {
     "data": {
      "text/plain": [
       "Index(['cereal', 'Chocolate Bar', 'Ice Cream Sundae'], dtype='object')"
      ]
     },
     "execution_count": 483,
     "metadata": {},
     "output_type": "execute_result"
    }
   ],
   "source": [
    "diet.index"
   ]
  },
  {
   "cell_type": "code",
   "execution_count": 484,
   "id": "7fcb48c6",
   "metadata": {},
   "outputs": [
    {
     "data": {
      "text/plain": [
       "pandas.core.indexes.base.Index"
      ]
     },
     "execution_count": 484,
     "metadata": {},
     "output_type": "execute_result"
    }
   ],
   "source": [
    "type(diet.index)"
   ]
  },
  {
   "cell_type": "code",
   "execution_count": 485,
   "id": "02fd7904",
   "metadata": {},
   "outputs": [
    {
     "data": {
      "text/plain": [
       "dtype('int64')"
      ]
     },
     "execution_count": 485,
     "metadata": {},
     "output_type": "execute_result"
    }
   ],
   "source": [
    "diet.dtype"
   ]
  },
  {
   "cell_type": "code",
   "execution_count": 486,
   "id": "bc895210",
   "metadata": {},
   "outputs": [
    {
     "data": {
      "text/plain": [
       "3"
      ]
     },
     "execution_count": 486,
     "metadata": {},
     "output_type": "execute_result"
    }
   ],
   "source": [
    "diet.size"
   ]
  },
  {
   "cell_type": "code",
   "execution_count": 487,
   "id": "4547a009",
   "metadata": {},
   "outputs": [
    {
     "data": {
      "text/plain": [
       "(3,)"
      ]
     },
     "execution_count": 487,
     "metadata": {},
     "output_type": "execute_result"
    }
   ],
   "source": [
    "diet.shape"
   ]
  },
  {
   "cell_type": "code",
   "execution_count": 488,
   "id": "5335a891",
   "metadata": {},
   "outputs": [
    {
     "data": {
      "text/plain": [
       "True"
      ]
     },
     "execution_count": 488,
     "metadata": {},
     "output_type": "execute_result"
    }
   ],
   "source": [
    "diet.is_unique"
   ]
  },
  {
   "cell_type": "code",
   "execution_count": 489,
   "id": "91cd7bd6",
   "metadata": {},
   "outputs": [
    {
     "data": {
      "text/plain": [
       "False"
      ]
     },
     "execution_count": 489,
     "metadata": {},
     "output_type": "execute_result"
    }
   ],
   "source": [
    "pd.Series(data = [3,3]).is_unique"
   ]
  },
  {
   "cell_type": "code",
   "execution_count": 490,
   "id": "bdf6f9ae",
   "metadata": {},
   "outputs": [
    {
     "data": {
      "text/plain": [
       "True"
      ]
     },
     "execution_count": 490,
     "metadata": {},
     "output_type": "execute_result"
    }
   ],
   "source": [
    "pd.Series(data = [1,3,6]).is_monotonic_increasing"
   ]
  },
  {
   "cell_type": "code",
   "execution_count": 491,
   "id": "f9587815",
   "metadata": {},
   "outputs": [
    {
     "data": {
      "text/plain": [
       "False"
      ]
     },
     "execution_count": 491,
     "metadata": {},
     "output_type": "execute_result"
    }
   ],
   "source": [
    "pd.Series(data = [1,6,3]).is_monotonic_decreasing"
   ]
  },
  {
   "cell_type": "markdown",
   "id": "a248d94e",
   "metadata": {},
   "source": [
    "## 2.4"
   ]
  },
  {
   "cell_type": "code",
   "execution_count": 492,
   "id": "e28261b5",
   "metadata": {},
   "outputs": [
    {
     "data": {
      "text/plain": [
       "0       0\n",
       "1       5\n",
       "2      10\n",
       "3      15\n",
       "4      20\n",
       "     ... \n",
       "95    475\n",
       "96    480\n",
       "97    485\n",
       "98    490\n",
       "99    495\n",
       "Length: 100, dtype: int64"
      ]
     },
     "execution_count": 492,
     "metadata": {},
     "output_type": "execute_result"
    }
   ],
   "source": [
    "values = range(0,500,5)\n",
    "nums = pd.Series(data = values)\n",
    "nums"
   ]
  },
  {
   "cell_type": "code",
   "execution_count": 493,
   "id": "94cfaa90",
   "metadata": {},
   "outputs": [
    {
     "data": {
      "text/plain": [
       "0     0\n",
       "1     5\n",
       "2    10\n",
       "dtype: int64"
      ]
     },
     "execution_count": 493,
     "metadata": {},
     "output_type": "execute_result"
    }
   ],
   "source": [
    "nums.head(3)"
   ]
  },
  {
   "cell_type": "code",
   "execution_count": 494,
   "id": "1382b8c6",
   "metadata": {},
   "outputs": [
    {
     "data": {
      "text/plain": [
       "0     0\n",
       "1     5\n",
       "2    10\n",
       "dtype: int64"
      ]
     },
     "execution_count": 494,
     "metadata": {},
     "output_type": "execute_result"
    }
   ],
   "source": [
    "nums.head(n=3)"
   ]
  },
  {
   "cell_type": "code",
   "execution_count": 495,
   "id": "9e8e1ee7",
   "metadata": {},
   "outputs": [
    {
     "data": {
      "text/plain": [
       "0     0\n",
       "1     5\n",
       "2    10\n",
       "3    15\n",
       "4    20\n",
       "dtype: int64"
      ]
     },
     "execution_count": 495,
     "metadata": {},
     "output_type": "execute_result"
    }
   ],
   "source": [
    "nums.head()"
   ]
  },
  {
   "cell_type": "code",
   "execution_count": 496,
   "id": "bc875d23",
   "metadata": {},
   "outputs": [
    {
     "data": {
      "text/plain": [
       "94    470\n",
       "95    475\n",
       "96    480\n",
       "97    485\n",
       "98    490\n",
       "99    495\n",
       "dtype: int64"
      ]
     },
     "execution_count": 496,
     "metadata": {},
     "output_type": "execute_result"
    }
   ],
   "source": [
    "nums.tail(6)"
   ]
  },
  {
   "cell_type": "code",
   "execution_count": 497,
   "id": "fc1219aa",
   "metadata": {},
   "outputs": [
    {
     "data": {
      "text/plain": [
       "95    475\n",
       "96    480\n",
       "97    485\n",
       "98    490\n",
       "99    495\n",
       "dtype: int64"
      ]
     },
     "execution_count": 497,
     "metadata": {},
     "output_type": "execute_result"
    }
   ],
   "source": [
    "nums.tail()"
   ]
  },
  {
   "cell_type": "markdown",
   "id": "2895db49",
   "metadata": {},
   "source": [
    "## 2.5"
   ]
  },
  {
   "cell_type": "markdown",
   "id": "16d549e2",
   "metadata": {},
   "source": [
    "### 2.5.1"
   ]
  },
  {
   "cell_type": "code",
   "execution_count": 498,
   "id": "bd9957b3",
   "metadata": {},
   "outputs": [
    {
     "data": {
      "text/plain": [
       "0    1.0\n",
       "1    2.0\n",
       "2    3.0\n",
       "3    NaN\n",
       "4    4.0\n",
       "5    5.0\n",
       "dtype: float64"
      ]
     },
     "execution_count": 498,
     "metadata": {},
     "output_type": "execute_result"
    }
   ],
   "source": [
    "numbers = pd.Series([1,2,3, np.nan, 4,5])\n",
    "numbers"
   ]
  },
  {
   "cell_type": "code",
   "execution_count": 499,
   "id": "93151678",
   "metadata": {},
   "outputs": [
    {
     "data": {
      "text/plain": [
       "5"
      ]
     },
     "execution_count": 499,
     "metadata": {},
     "output_type": "execute_result"
    }
   ],
   "source": [
    "numbers.count()"
   ]
  },
  {
   "cell_type": "code",
   "execution_count": 500,
   "id": "765c0313",
   "metadata": {},
   "outputs": [
    {
     "data": {
      "text/plain": [
       "15.0"
      ]
     },
     "execution_count": 500,
     "metadata": {},
     "output_type": "execute_result"
    }
   ],
   "source": [
    "numbers.sum()"
   ]
  },
  {
   "cell_type": "code",
   "execution_count": 501,
   "id": "b046f1fe",
   "metadata": {},
   "outputs": [
    {
     "data": {
      "text/plain": [
       "nan"
      ]
     },
     "execution_count": 501,
     "metadata": {},
     "output_type": "execute_result"
    }
   ],
   "source": [
    "numbers.sum(skipna = False)"
   ]
  },
  {
   "cell_type": "code",
   "execution_count": 502,
   "id": "a7d9e8a7",
   "metadata": {},
   "outputs": [
    {
     "data": {
      "text/plain": [
       "15.0"
      ]
     },
     "execution_count": 502,
     "metadata": {},
     "output_type": "execute_result"
    }
   ],
   "source": [
    "numbers.sum(min_count=3)"
   ]
  },
  {
   "cell_type": "code",
   "execution_count": 503,
   "id": "afa181c7",
   "metadata": {},
   "outputs": [
    {
     "data": {
      "text/plain": [
       "nan"
      ]
     },
     "execution_count": 503,
     "metadata": {},
     "output_type": "execute_result"
    }
   ],
   "source": [
    "numbers.sum(min_count=6)"
   ]
  },
  {
   "cell_type": "code",
   "execution_count": 504,
   "id": "6f4f0af3",
   "metadata": {},
   "outputs": [
    {
     "data": {
      "text/plain": [
       "120.0"
      ]
     },
     "execution_count": 504,
     "metadata": {},
     "output_type": "execute_result"
    }
   ],
   "source": [
    "numbers.product()"
   ]
  },
  {
   "cell_type": "code",
   "execution_count": 505,
   "id": "83f4583a",
   "metadata": {},
   "outputs": [
    {
     "data": {
      "text/plain": [
       "nan"
      ]
     },
     "execution_count": 505,
     "metadata": {},
     "output_type": "execute_result"
    }
   ],
   "source": [
    "numbers.product(skipna=False)"
   ]
  },
  {
   "cell_type": "code",
   "execution_count": 506,
   "id": "e17503a7",
   "metadata": {},
   "outputs": [
    {
     "data": {
      "text/plain": [
       "120.0"
      ]
     },
     "execution_count": 506,
     "metadata": {},
     "output_type": "execute_result"
    }
   ],
   "source": [
    "numbers.product(min_count=3)"
   ]
  },
  {
   "cell_type": "code",
   "execution_count": 507,
   "id": "274cb30a",
   "metadata": {},
   "outputs": [
    {
     "data": {
      "text/plain": [
       "0    1.0\n",
       "1    2.0\n",
       "2    3.0\n",
       "3    NaN\n",
       "4    4.0\n",
       "5    5.0\n",
       "dtype: float64"
      ]
     },
     "execution_count": 507,
     "metadata": {},
     "output_type": "execute_result"
    }
   ],
   "source": [
    "numbers"
   ]
  },
  {
   "cell_type": "code",
   "execution_count": 508,
   "id": "34472ae7",
   "metadata": {},
   "outputs": [
    {
     "data": {
      "text/plain": [
       "0     1.0\n",
       "1     3.0\n",
       "2     6.0\n",
       "3     NaN\n",
       "4    10.0\n",
       "5    15.0\n",
       "dtype: float64"
      ]
     },
     "execution_count": 508,
     "metadata": {},
     "output_type": "execute_result"
    }
   ],
   "source": [
    "numbers.cumsum()"
   ]
  },
  {
   "cell_type": "code",
   "execution_count": 509,
   "id": "86374bb7",
   "metadata": {},
   "outputs": [
    {
     "data": {
      "text/plain": [
       "0    1.0\n",
       "1    3.0\n",
       "2    6.0\n",
       "3    NaN\n",
       "4    NaN\n",
       "5    NaN\n",
       "dtype: float64"
      ]
     },
     "execution_count": 509,
     "metadata": {},
     "output_type": "execute_result"
    }
   ],
   "source": [
    "numbers.cumsum(skipna = False)"
   ]
  },
  {
   "cell_type": "code",
   "execution_count": 510,
   "id": "52a48cdf",
   "metadata": {},
   "outputs": [
    {
     "data": {
      "text/plain": [
       "0    1.0\n",
       "1    2.0\n",
       "2    3.0\n",
       "3    NaN\n",
       "4    4.0\n",
       "5    5.0\n",
       "dtype: float64"
      ]
     },
     "execution_count": 510,
     "metadata": {},
     "output_type": "execute_result"
    }
   ],
   "source": [
    "numbers"
   ]
  },
  {
   "cell_type": "code",
   "execution_count": 511,
   "id": "007eb41b",
   "metadata": {},
   "outputs": [
    {
     "data": {
      "text/plain": [
       "0         NaN\n",
       "1    1.000000\n",
       "2    0.500000\n",
       "3    0.000000\n",
       "4    0.333333\n",
       "5    0.250000\n",
       "dtype: float64"
      ]
     },
     "execution_count": 511,
     "metadata": {},
     "output_type": "execute_result"
    }
   ],
   "source": [
    "numbers.pct_change()"
   ]
  },
  {
   "cell_type": "code",
   "execution_count": 512,
   "id": "b149a9dd",
   "metadata": {},
   "outputs": [],
   "source": [
    "# 1-NaN / NaN\n",
    "# 2-1 / 1\n",
    "# 3-2 / 2\n",
    "# 3-3 / 3\n",
    "# 4-3 / 3(결측값 대체) .......?\n",
    "# 5-4 / 4(결측값 대체로 밀림) .......?"
   ]
  },
  {
   "cell_type": "code",
   "execution_count": 513,
   "id": "9ba5a867",
   "metadata": {},
   "outputs": [
    {
     "data": {
      "text/plain": [
       "0         NaN\n",
       "1    1.000000\n",
       "2    0.500000\n",
       "3    0.000000\n",
       "4    0.333333\n",
       "5    0.250000\n",
       "dtype: float64"
      ]
     },
     "execution_count": 513,
     "metadata": {},
     "output_type": "execute_result"
    }
   ],
   "source": [
    "# 아래 세 줄은 결과가 동일합니다.\n",
    "numbers.pct_change()\n",
    "# 마지막 관측값을 NaN자리로 대체 하는 것을 명시하지 않음"
   ]
  },
  {
   "cell_type": "code",
   "execution_count": 514,
   "id": "d6b82322",
   "metadata": {},
   "outputs": [
    {
     "data": {
      "text/plain": [
       "0         NaN\n",
       "1    1.000000\n",
       "2    0.500000\n",
       "3    0.000000\n",
       "4    0.333333\n",
       "5    0.250000\n",
       "dtype: float64"
      ]
     },
     "execution_count": 514,
     "metadata": {},
     "output_type": "execute_result"
    }
   ],
   "source": [
    "numbers.pct_change(fill_method=\"pad\")\n",
    "# 마지막 관측값을 NaN자리로 대체 하는 것을 명시"
   ]
  },
  {
   "cell_type": "code",
   "execution_count": 515,
   "id": "1f08bec2",
   "metadata": {},
   "outputs": [
    {
     "data": {
      "text/plain": [
       "0         NaN\n",
       "1    1.000000\n",
       "2    0.500000\n",
       "3    0.000000\n",
       "4    0.333333\n",
       "5    0.250000\n",
       "dtype: float64"
      ]
     },
     "execution_count": 515,
     "metadata": {},
     "output_type": "execute_result"
    }
   ],
   "source": [
    "numbers.pct_change(fill_method=\"ffill\")\n",
    "# 마지막 관측값을 NaN자리로 대체 하는 것을 명시"
   ]
  },
  {
   "cell_type": "code",
   "execution_count": 516,
   "id": "8670c59d",
   "metadata": {},
   "outputs": [
    {
     "data": {
      "text/plain": [
       "3.0"
      ]
     },
     "execution_count": 516,
     "metadata": {},
     "output_type": "execute_result"
    }
   ],
   "source": [
    "numbers.mean()"
   ]
  },
  {
   "cell_type": "code",
   "execution_count": 517,
   "id": "1b068012",
   "metadata": {},
   "outputs": [
    {
     "data": {
      "text/plain": [
       "3.0"
      ]
     },
     "execution_count": 517,
     "metadata": {},
     "output_type": "execute_result"
    }
   ],
   "source": [
    "numbers.median()"
   ]
  },
  {
   "cell_type": "code",
   "execution_count": 518,
   "id": "41f8bbc5",
   "metadata": {},
   "outputs": [
    {
     "data": {
      "text/plain": [
       "1.5811388300841898"
      ]
     },
     "execution_count": 518,
     "metadata": {},
     "output_type": "execute_result"
    }
   ],
   "source": [
    "numbers.std()\n",
    "# 표준편차"
   ]
  },
  {
   "cell_type": "code",
   "execution_count": 519,
   "id": "d6ea6ded",
   "metadata": {},
   "outputs": [
    {
     "data": {
      "text/plain": [
       "5.0"
      ]
     },
     "execution_count": 519,
     "metadata": {},
     "output_type": "execute_result"
    }
   ],
   "source": [
    "numbers.max()"
   ]
  },
  {
   "cell_type": "code",
   "execution_count": 520,
   "id": "f4bcff42",
   "metadata": {},
   "outputs": [
    {
     "data": {
      "text/plain": [
       "1.0"
      ]
     },
     "execution_count": 520,
     "metadata": {},
     "output_type": "execute_result"
    }
   ],
   "source": [
    "numbers.min()"
   ]
  },
  {
   "cell_type": "code",
   "execution_count": 521,
   "id": "6bc7e30b",
   "metadata": {},
   "outputs": [
    {
     "data": {
      "text/plain": [
       "0       Koala\n",
       "1    aardvark\n",
       "2       zebra\n",
       "dtype: object"
      ]
     },
     "execution_count": 521,
     "metadata": {},
     "output_type": "execute_result"
    }
   ],
   "source": [
    "animals = pd.Series([\"Koala\", \"aardvark\", \"zebra\"])\n",
    "animals"
   ]
  },
  {
   "cell_type": "code",
   "execution_count": 522,
   "id": "b4bb57ba",
   "metadata": {},
   "outputs": [
    {
     "data": {
      "text/plain": [
       "'zebra'"
      ]
     },
     "execution_count": 522,
     "metadata": {},
     "output_type": "execute_result"
    }
   ],
   "source": [
    "animals.max()"
   ]
  },
  {
   "cell_type": "code",
   "execution_count": 523,
   "id": "ac326ef8",
   "metadata": {},
   "outputs": [
    {
     "data": {
      "text/plain": [
       "'Koala'"
      ]
     },
     "execution_count": 523,
     "metadata": {},
     "output_type": "execute_result"
    }
   ],
   "source": [
    "animals.min()"
   ]
  },
  {
   "cell_type": "code",
   "execution_count": 524,
   "id": "a98a279a",
   "metadata": {},
   "outputs": [
    {
     "data": {
      "text/plain": [
       "count    5.000000\n",
       "mean     3.000000\n",
       "std      1.581139\n",
       "min      1.000000\n",
       "25%      2.000000\n",
       "50%      3.000000\n",
       "75%      4.000000\n",
       "max      5.000000\n",
       "dtype: float64"
      ]
     },
     "execution_count": 524,
     "metadata": {},
     "output_type": "execute_result"
    }
   ],
   "source": [
    "numbers.describe()"
   ]
  },
  {
   "cell_type": "code",
   "execution_count": 525,
   "id": "1557632b",
   "metadata": {},
   "outputs": [
    {
     "data": {
      "text/plain": [
       "0    1.0\n",
       "2    3.0\n",
       "4    4.0\n",
       "dtype: float64"
      ]
     },
     "execution_count": 525,
     "metadata": {},
     "output_type": "execute_result"
    }
   ],
   "source": [
    "numbers.sample(3)"
   ]
  },
  {
   "cell_type": "code",
   "execution_count": 526,
   "id": "67b65172",
   "metadata": {},
   "outputs": [
    {
     "data": {
      "text/plain": [
       "array(['Hemingway', 'Orwell', 'Dostoevsky', 'Fitzgerald'], dtype=object)"
      ]
     },
     "execution_count": 526,
     "metadata": {},
     "output_type": "execute_result"
    }
   ],
   "source": [
    "authors = pd.Series(\n",
    "[\"Hemingway\", \"Orwell\", \"Dostoevsky\", \"Fitzgerald\", \"Orwell\"])\n",
    "authors.unique()"
   ]
  },
  {
   "cell_type": "code",
   "execution_count": 527,
   "id": "da0982d8",
   "metadata": {},
   "outputs": [
    {
     "data": {
      "text/plain": [
       "4"
      ]
     },
     "execution_count": 527,
     "metadata": {},
     "output_type": "execute_result"
    }
   ],
   "source": [
    "authors.nunique()"
   ]
  },
  {
   "cell_type": "markdown",
   "id": "6e6c4efa",
   "metadata": {},
   "source": [
    "### 2.5.2"
   ]
  },
  {
   "cell_type": "code",
   "execution_count": 528,
   "id": "c567bb4f",
   "metadata": {},
   "outputs": [
    {
     "data": {
      "text/plain": [
       "A     5.0\n",
       "B     NaN\n",
       "C    15.0\n",
       "dtype: float64"
      ]
     },
     "execution_count": 528,
     "metadata": {},
     "output_type": "execute_result"
    }
   ],
   "source": [
    "s1 = pd.Series(data = [5, np.nan, 15], index= [\"A\", \"B\", \"C\"])\n",
    "s1"
   ]
  },
  {
   "cell_type": "code",
   "execution_count": 529,
   "id": "16c7468b",
   "metadata": {},
   "outputs": [
    {
     "data": {
      "text/plain": [
       "A     8.0\n",
       "B     NaN\n",
       "C    18.0\n",
       "dtype: float64"
      ]
     },
     "execution_count": 529,
     "metadata": {},
     "output_type": "execute_result"
    }
   ],
   "source": [
    "s1+3"
   ]
  },
  {
   "cell_type": "code",
   "execution_count": 530,
   "id": "2d73f989",
   "metadata": {},
   "outputs": [
    {
     "data": {
      "text/plain": [
       "A     8.0\n",
       "B     NaN\n",
       "C    18.0\n",
       "dtype: float64"
      ]
     },
     "execution_count": 530,
     "metadata": {},
     "output_type": "execute_result"
    }
   ],
   "source": [
    "s1.add(3)"
   ]
  },
  {
   "cell_type": "code",
   "execution_count": 531,
   "id": "08d52de9",
   "metadata": {},
   "outputs": [
    {
     "data": {
      "text/plain": [
       "A     0.0\n",
       "B     NaN\n",
       "C    10.0\n",
       "dtype: float64"
      ]
     },
     "execution_count": 531,
     "metadata": {},
     "output_type": "execute_result"
    }
   ],
   "source": [
    "# 아래 세 줄은 결과가 동일합니다.\n",
    "s1-5"
   ]
  },
  {
   "cell_type": "code",
   "execution_count": 532,
   "id": "7e321996",
   "metadata": {},
   "outputs": [
    {
     "data": {
      "text/plain": [
       "A     0.0\n",
       "B     NaN\n",
       "C    10.0\n",
       "dtype: float64"
      ]
     },
     "execution_count": 532,
     "metadata": {},
     "output_type": "execute_result"
    }
   ],
   "source": [
    "s1.sub(5)"
   ]
  },
  {
   "cell_type": "code",
   "execution_count": 533,
   "id": "e940753c",
   "metadata": {},
   "outputs": [
    {
     "data": {
      "text/plain": [
       "A     0.0\n",
       "B     NaN\n",
       "C    10.0\n",
       "dtype: float64"
      ]
     },
     "execution_count": 533,
     "metadata": {},
     "output_type": "execute_result"
    }
   ],
   "source": [
    "s1.subtract(5)"
   ]
  },
  {
   "cell_type": "code",
   "execution_count": 534,
   "id": "76e6400c",
   "metadata": {},
   "outputs": [
    {
     "data": {
      "text/plain": [
       "A    10.0\n",
       "B     NaN\n",
       "C    30.0\n",
       "dtype: float64"
      ]
     },
     "execution_count": 534,
     "metadata": {},
     "output_type": "execute_result"
    }
   ],
   "source": [
    "# 아래 세 줄은 결과가 동일합니다.\n",
    "s1 * 2"
   ]
  },
  {
   "cell_type": "code",
   "execution_count": 535,
   "id": "9743c145",
   "metadata": {},
   "outputs": [
    {
     "data": {
      "text/plain": [
       "A    10.0\n",
       "B     NaN\n",
       "C    30.0\n",
       "dtype: float64"
      ]
     },
     "execution_count": 535,
     "metadata": {},
     "output_type": "execute_result"
    }
   ],
   "source": [
    "s1.mul(2)"
   ]
  },
  {
   "cell_type": "code",
   "execution_count": 536,
   "id": "def5132b",
   "metadata": {},
   "outputs": [
    {
     "data": {
      "text/plain": [
       "A    10.0\n",
       "B     NaN\n",
       "C    30.0\n",
       "dtype: float64"
      ]
     },
     "execution_count": 536,
     "metadata": {},
     "output_type": "execute_result"
    }
   ],
   "source": [
    "s1.multiply(2)"
   ]
  },
  {
   "cell_type": "code",
   "execution_count": 537,
   "id": "8afe69d1",
   "metadata": {},
   "outputs": [
    {
     "data": {
      "text/plain": [
       "A    2.5\n",
       "B    NaN\n",
       "C    7.5\n",
       "dtype: float64"
      ]
     },
     "execution_count": 537,
     "metadata": {},
     "output_type": "execute_result"
    }
   ],
   "source": [
    "# 아래 세 줄은 결과가 동일합니다.\n",
    "s1 / 2"
   ]
  },
  {
   "cell_type": "code",
   "execution_count": 538,
   "id": "c89d8ab8",
   "metadata": {},
   "outputs": [
    {
     "data": {
      "text/plain": [
       "A    2.5\n",
       "B    NaN\n",
       "C    7.5\n",
       "dtype: float64"
      ]
     },
     "execution_count": 538,
     "metadata": {},
     "output_type": "execute_result"
    }
   ],
   "source": [
    "s1.div(2)"
   ]
  },
  {
   "cell_type": "code",
   "execution_count": 539,
   "id": "6bc6a700",
   "metadata": {},
   "outputs": [
    {
     "data": {
      "text/plain": [
       "A    2.5\n",
       "B    NaN\n",
       "C    7.5\n",
       "dtype: float64"
      ]
     },
     "execution_count": 539,
     "metadata": {},
     "output_type": "execute_result"
    }
   ],
   "source": [
    "s1.divide(2)"
   ]
  },
  {
   "cell_type": "code",
   "execution_count": 540,
   "id": "02005b24",
   "metadata": {},
   "outputs": [
    {
     "data": {
      "text/plain": [
       "A    1.0\n",
       "B    NaN\n",
       "C    3.0\n",
       "dtype: float64"
      ]
     },
     "execution_count": 540,
     "metadata": {},
     "output_type": "execute_result"
    }
   ],
   "source": [
    "# 다음 두 줄은 결과가 동일합니다.\n",
    "s1 //4"
   ]
  },
  {
   "cell_type": "code",
   "execution_count": 541,
   "id": "967ebe2a",
   "metadata": {},
   "outputs": [
    {
     "data": {
      "text/plain": [
       "A    1.0\n",
       "B    NaN\n",
       "C    3.0\n",
       "dtype: float64"
      ]
     },
     "execution_count": 541,
     "metadata": {},
     "output_type": "execute_result"
    }
   ],
   "source": [
    "s1.floordiv(4)"
   ]
  },
  {
   "cell_type": "code",
   "execution_count": 542,
   "id": "9763972a",
   "metadata": {},
   "outputs": [
    {
     "data": {
      "text/plain": [
       "A    2.0\n",
       "B    NaN\n",
       "C    0.0\n",
       "dtype: float64"
      ]
     },
     "execution_count": 542,
     "metadata": {},
     "output_type": "execute_result"
    }
   ],
   "source": [
    "# 다음 두 줄은 결과가 동일합니다.\n",
    "s1 % 3"
   ]
  },
  {
   "cell_type": "code",
   "execution_count": 543,
   "id": "0781fb54",
   "metadata": {},
   "outputs": [
    {
     "data": {
      "text/plain": [
       "A    2.0\n",
       "B    NaN\n",
       "C    0.0\n",
       "dtype: float64"
      ]
     },
     "execution_count": 543,
     "metadata": {},
     "output_type": "execute_result"
    }
   ],
   "source": [
    "s1.mod(3)"
   ]
  },
  {
   "cell_type": "markdown",
   "id": "b0c7debf",
   "metadata": {},
   "source": [
    "### 2.5.3"
   ]
  },
  {
   "cell_type": "code",
   "execution_count": 544,
   "id": "eaafcc2f",
   "metadata": {},
   "outputs": [
    {
     "data": {
      "text/plain": [
       "A    5\n",
       "B    7\n",
       "C    9\n",
       "dtype: int64"
      ]
     },
     "execution_count": 544,
     "metadata": {},
     "output_type": "execute_result"
    }
   ],
   "source": [
    "s1 = pd.Series([1,2,3], index=[\"A\", \"B\", \"C\"])\n",
    "s2 = pd.Series([4,5,6], index=[\"A\", \"B\", \"C\"])\n",
    "s1 +s2"
   ]
  },
  {
   "cell_type": "code",
   "execution_count": 545,
   "id": "917d1648",
   "metadata": {},
   "outputs": [
    {
     "data": {
      "text/plain": [
       "0    False\n",
       "1     True\n",
       "2    False\n",
       "3     True\n",
       "dtype: bool"
      ]
     },
     "execution_count": 545,
     "metadata": {},
     "output_type": "execute_result"
    }
   ],
   "source": [
    "s1 = pd.Series(data = [3, 6, np.nan, 12])\n",
    "s2 = pd.Series(data = [2, 6, np.nan, 12])\n",
    "s1 ==s2"
   ]
  },
  {
   "cell_type": "code",
   "execution_count": 546,
   "id": "b6eb6940",
   "metadata": {},
   "outputs": [
    {
     "data": {
      "text/plain": [
       "0    False\n",
       "1     True\n",
       "2    False\n",
       "3     True\n",
       "dtype: bool"
      ]
     },
     "execution_count": 546,
     "metadata": {},
     "output_type": "execute_result"
    }
   ],
   "source": [
    "s1.eq(s2)"
   ]
  },
  {
   "cell_type": "code",
   "execution_count": 547,
   "id": "1132c64e",
   "metadata": {},
   "outputs": [
    {
     "data": {
      "text/plain": [
       "0     True\n",
       "1    False\n",
       "2     True\n",
       "3    False\n",
       "dtype: bool"
      ]
     },
     "execution_count": 547,
     "metadata": {},
     "output_type": "execute_result"
    }
   ],
   "source": [
    "# 다음 두 줄은 결과가 동일합니다.\n",
    "s1 != s2"
   ]
  },
  {
   "cell_type": "code",
   "execution_count": 548,
   "id": "8dd20266",
   "metadata": {},
   "outputs": [
    {
     "data": {
      "text/plain": [
       "0     True\n",
       "1    False\n",
       "2     True\n",
       "3    False\n",
       "dtype: bool"
      ]
     },
     "execution_count": 548,
     "metadata": {},
     "output_type": "execute_result"
    }
   ],
   "source": [
    "s1.ne(s2)"
   ]
  },
  {
   "cell_type": "code",
   "execution_count": 549,
   "id": "e940a627",
   "metadata": {},
   "outputs": [],
   "source": [
    "s1 = pd.Series(\n",
    "data = [5, 10, 15], index = [\"A\",\"B\",\"C\"])\n",
    "s2 = pd.Series(\n",
    "data = [4,8,12,14], index = [\"B\", \"C\", \"D\", \"E\"])"
   ]
  },
  {
   "cell_type": "code",
   "execution_count": 550,
   "id": "488d5360",
   "metadata": {},
   "outputs": [
    {
     "data": {
      "text/plain": [
       "A     NaN\n",
       "B    14.0\n",
       "C    23.0\n",
       "D     NaN\n",
       "E     NaN\n",
       "dtype: float64"
      ]
     },
     "execution_count": 550,
     "metadata": {},
     "output_type": "execute_result"
    }
   ],
   "source": [
    "s1+ s2"
   ]
  },
  {
   "cell_type": "markdown",
   "id": "3930f847",
   "metadata": {},
   "source": [
    "## 2.6"
   ]
  },
  {
   "cell_type": "code",
   "execution_count": 551,
   "id": "8cad2d5b",
   "metadata": {},
   "outputs": [
    {
     "data": {
      "text/plain": [
       "4"
      ]
     },
     "execution_count": 551,
     "metadata": {},
     "output_type": "execute_result"
    }
   ],
   "source": [
    "cities = pd.Series(\n",
    "data = [\"San Francisco\", \"Los Angeles\", \"Las Vegas\", np.nan])\n",
    "len(cities)"
   ]
  },
  {
   "cell_type": "code",
   "execution_count": 552,
   "id": "7eeb4ce0",
   "metadata": {},
   "outputs": [
    {
     "data": {
      "text/plain": [
       "pandas.core.series.Series"
      ]
     },
     "execution_count": 552,
     "metadata": {},
     "output_type": "execute_result"
    }
   ],
   "source": [
    "type(cities)"
   ]
  },
  {
   "cell_type": "code",
   "execution_count": 553,
   "id": "3efe9287",
   "metadata": {},
   "outputs": [
    {
     "data": {
      "text/plain": [
       "['T',\n",
       " '_AXIS_LEN',\n",
       " '_AXIS_ORDERS',\n",
       " '_AXIS_TO_AXIS_NUMBER',\n",
       " '_HANDLED_TYPES',\n",
       " '__abs__',\n",
       " '__add__',\n",
       " '__and__',\n",
       " '__annotations__',\n",
       " '__array__',\n",
       " '__array_priority__',\n",
       " '__array_ufunc__',\n",
       " '__bool__',\n",
       " '__class__',\n",
       " '__contains__',\n",
       " '__copy__',\n",
       " '__deepcopy__',\n",
       " '__delattr__',\n",
       " '__delitem__',\n",
       " '__dict__',\n",
       " '__dir__',\n",
       " '__divmod__',\n",
       " '__doc__',\n",
       " '__eq__',\n",
       " '__finalize__',\n",
       " '__float__',\n",
       " '__floordiv__',\n",
       " '__format__',\n",
       " '__ge__',\n",
       " '__getattr__',\n",
       " '__getattribute__',\n",
       " '__getitem__',\n",
       " '__getstate__',\n",
       " '__gt__',\n",
       " '__hash__',\n",
       " '__iadd__',\n",
       " '__iand__',\n",
       " '__ifloordiv__',\n",
       " '__imod__',\n",
       " '__imul__',\n",
       " '__init__',\n",
       " '__init_subclass__',\n",
       " '__int__',\n",
       " '__invert__',\n",
       " '__ior__',\n",
       " '__ipow__',\n",
       " '__isub__',\n",
       " '__iter__',\n",
       " '__itruediv__',\n",
       " '__ixor__',\n",
       " '__le__',\n",
       " '__len__',\n",
       " '__lt__',\n",
       " '__matmul__',\n",
       " '__mod__',\n",
       " '__module__',\n",
       " '__mul__',\n",
       " '__ne__',\n",
       " '__neg__',\n",
       " '__new__',\n",
       " '__nonzero__',\n",
       " '__or__',\n",
       " '__pos__',\n",
       " '__pow__',\n",
       " '__radd__',\n",
       " '__rand__',\n",
       " '__rdivmod__',\n",
       " '__reduce__',\n",
       " '__reduce_ex__',\n",
       " '__repr__',\n",
       " '__rfloordiv__',\n",
       " '__rmatmul__',\n",
       " '__rmod__',\n",
       " '__rmul__',\n",
       " '__ror__',\n",
       " '__round__',\n",
       " '__rpow__',\n",
       " '__rsub__',\n",
       " '__rtruediv__',\n",
       " '__rxor__',\n",
       " '__setattr__',\n",
       " '__setitem__',\n",
       " '__setstate__',\n",
       " '__sizeof__',\n",
       " '__str__',\n",
       " '__sub__',\n",
       " '__subclasshook__',\n",
       " '__truediv__',\n",
       " '__weakref__',\n",
       " '__xor__',\n",
       " '_accessors',\n",
       " '_accum_func',\n",
       " '_add_numeric_operations',\n",
       " '_agg_examples_doc',\n",
       " '_agg_see_also_doc',\n",
       " '_align_frame',\n",
       " '_align_series',\n",
       " '_append',\n",
       " '_arith_method',\n",
       " '_as_manager',\n",
       " '_attrs',\n",
       " '_binop',\n",
       " '_can_hold_na',\n",
       " '_check_inplace_and_allows_duplicate_labels',\n",
       " '_check_inplace_setting',\n",
       " '_check_is_chained_assignment_possible',\n",
       " '_check_label_or_level_ambiguity',\n",
       " '_check_setitem_copy',\n",
       " '_clear_item_cache',\n",
       " '_clip_with_one_bound',\n",
       " '_clip_with_scalar',\n",
       " '_cmp_method',\n",
       " '_consolidate',\n",
       " '_consolidate_inplace',\n",
       " '_construct_axes_dict',\n",
       " '_construct_result',\n",
       " '_constructor',\n",
       " '_constructor_expanddim',\n",
       " '_convert_dtypes',\n",
       " '_data',\n",
       " '_dir_additions',\n",
       " '_dir_deletions',\n",
       " '_drop_axis',\n",
       " '_drop_labels_or_levels',\n",
       " '_duplicated',\n",
       " '_find_valid_index',\n",
       " '_flags',\n",
       " '_get_axis',\n",
       " '_get_axis_name',\n",
       " '_get_axis_number',\n",
       " '_get_axis_resolvers',\n",
       " '_get_block_manager_axis',\n",
       " '_get_bool_data',\n",
       " '_get_cacher',\n",
       " '_get_cleaned_column_resolvers',\n",
       " '_get_index_resolvers',\n",
       " '_get_label_or_level_values',\n",
       " '_get_numeric_data',\n",
       " '_get_value',\n",
       " '_get_values',\n",
       " '_get_values_tuple',\n",
       " '_get_with',\n",
       " '_gotitem',\n",
       " '_hidden_attrs',\n",
       " '_indexed_same',\n",
       " '_info_axis',\n",
       " '_info_axis_name',\n",
       " '_info_axis_number',\n",
       " '_init_dict',\n",
       " '_init_mgr',\n",
       " '_inplace_method',\n",
       " '_internal_names',\n",
       " '_internal_names_set',\n",
       " '_is_cached',\n",
       " '_is_copy',\n",
       " '_is_label_or_level_reference',\n",
       " '_is_label_reference',\n",
       " '_is_level_reference',\n",
       " '_is_mixed_type',\n",
       " '_is_view',\n",
       " '_item_cache',\n",
       " '_ixs',\n",
       " '_logical_func',\n",
       " '_logical_method',\n",
       " '_map_values',\n",
       " '_maybe_update_cacher',\n",
       " '_memory_usage',\n",
       " '_metadata',\n",
       " '_mgr',\n",
       " '_min_count_stat_function',\n",
       " '_name',\n",
       " '_needs_reindex_multi',\n",
       " '_protect_consolidate',\n",
       " '_reduce',\n",
       " '_references',\n",
       " '_reindex_axes',\n",
       " '_reindex_indexer',\n",
       " '_reindex_multi',\n",
       " '_reindex_with_indexers',\n",
       " '_rename',\n",
       " '_replace_single',\n",
       " '_repr_data_resource_',\n",
       " '_repr_latex_',\n",
       " '_reset_cache',\n",
       " '_reset_cacher',\n",
       " '_set_as_cached',\n",
       " '_set_axis',\n",
       " '_set_axis_name',\n",
       " '_set_axis_nocheck',\n",
       " '_set_is_copy',\n",
       " '_set_labels',\n",
       " '_set_name',\n",
       " '_set_value',\n",
       " '_set_values',\n",
       " '_set_with',\n",
       " '_set_with_engine',\n",
       " '_slice',\n",
       " '_stat_axis',\n",
       " '_stat_axis_name',\n",
       " '_stat_axis_number',\n",
       " '_stat_function',\n",
       " '_stat_function_ddof',\n",
       " '_take',\n",
       " '_take_with_is_copy',\n",
       " '_to_latex_via_styler',\n",
       " '_typ',\n",
       " '_update_inplace',\n",
       " '_validate_dtype',\n",
       " '_values',\n",
       " '_where',\n",
       " 'abs',\n",
       " 'add',\n",
       " 'add_prefix',\n",
       " 'add_suffix',\n",
       " 'agg',\n",
       " 'aggregate',\n",
       " 'align',\n",
       " 'all',\n",
       " 'any',\n",
       " 'apply',\n",
       " 'argmax',\n",
       " 'argmin',\n",
       " 'argsort',\n",
       " 'array',\n",
       " 'asfreq',\n",
       " 'asof',\n",
       " 'astype',\n",
       " 'at',\n",
       " 'at_time',\n",
       " 'attrs',\n",
       " 'autocorr',\n",
       " 'axes',\n",
       " 'backfill',\n",
       " 'between',\n",
       " 'between_time',\n",
       " 'bfill',\n",
       " 'bool',\n",
       " 'clip',\n",
       " 'combine',\n",
       " 'combine_first',\n",
       " 'compare',\n",
       " 'convert_dtypes',\n",
       " 'copy',\n",
       " 'corr',\n",
       " 'count',\n",
       " 'cov',\n",
       " 'cummax',\n",
       " 'cummin',\n",
       " 'cumprod',\n",
       " 'cumsum',\n",
       " 'describe',\n",
       " 'diff',\n",
       " 'div',\n",
       " 'divide',\n",
       " 'divmod',\n",
       " 'dot',\n",
       " 'drop',\n",
       " 'drop_duplicates',\n",
       " 'droplevel',\n",
       " 'dropna',\n",
       " 'dtype',\n",
       " 'dtypes',\n",
       " 'duplicated',\n",
       " 'empty',\n",
       " 'eq',\n",
       " 'equals',\n",
       " 'ewm',\n",
       " 'expanding',\n",
       " 'explode',\n",
       " 'factorize',\n",
       " 'ffill',\n",
       " 'fillna',\n",
       " 'filter',\n",
       " 'first',\n",
       " 'first_valid_index',\n",
       " 'flags',\n",
       " 'floordiv',\n",
       " 'ge',\n",
       " 'get',\n",
       " 'groupby',\n",
       " 'gt',\n",
       " 'hasnans',\n",
       " 'head',\n",
       " 'hist',\n",
       " 'iat',\n",
       " 'idxmax',\n",
       " 'idxmin',\n",
       " 'iloc',\n",
       " 'index',\n",
       " 'infer_objects',\n",
       " 'info',\n",
       " 'interpolate',\n",
       " 'is_monotonic_decreasing',\n",
       " 'is_monotonic_increasing',\n",
       " 'is_unique',\n",
       " 'isin',\n",
       " 'isna',\n",
       " 'isnull',\n",
       " 'item',\n",
       " 'items',\n",
       " 'keys',\n",
       " 'kurt',\n",
       " 'kurtosis',\n",
       " 'last',\n",
       " 'last_valid_index',\n",
       " 'le',\n",
       " 'loc',\n",
       " 'lt',\n",
       " 'map',\n",
       " 'mask',\n",
       " 'max',\n",
       " 'mean',\n",
       " 'median',\n",
       " 'memory_usage',\n",
       " 'min',\n",
       " 'mod',\n",
       " 'mode',\n",
       " 'mul',\n",
       " 'multiply',\n",
       " 'name',\n",
       " 'nbytes',\n",
       " 'ndim',\n",
       " 'ne',\n",
       " 'nlargest',\n",
       " 'notna',\n",
       " 'notnull',\n",
       " 'nsmallest',\n",
       " 'nunique',\n",
       " 'pad',\n",
       " 'pct_change',\n",
       " 'pipe',\n",
       " 'plot',\n",
       " 'pop',\n",
       " 'pow',\n",
       " 'prod',\n",
       " 'product',\n",
       " 'quantile',\n",
       " 'radd',\n",
       " 'rank',\n",
       " 'ravel',\n",
       " 'rdiv',\n",
       " 'rdivmod',\n",
       " 'reindex',\n",
       " 'reindex_like',\n",
       " 'rename',\n",
       " 'rename_axis',\n",
       " 'reorder_levels',\n",
       " 'repeat',\n",
       " 'replace',\n",
       " 'resample',\n",
       " 'reset_index',\n",
       " 'rfloordiv',\n",
       " 'rmod',\n",
       " 'rmul',\n",
       " 'rolling',\n",
       " 'round',\n",
       " 'rpow',\n",
       " 'rsub',\n",
       " 'rtruediv',\n",
       " 'sample',\n",
       " 'searchsorted',\n",
       " 'sem',\n",
       " 'set_axis',\n",
       " 'set_flags',\n",
       " 'shape',\n",
       " 'shift',\n",
       " 'size',\n",
       " 'skew',\n",
       " 'sort_index',\n",
       " 'sort_values',\n",
       " 'squeeze',\n",
       " 'std',\n",
       " 'str',\n",
       " 'sub',\n",
       " 'subtract',\n",
       " 'sum',\n",
       " 'swapaxes',\n",
       " 'swaplevel',\n",
       " 'tail',\n",
       " 'take',\n",
       " 'to_clipboard',\n",
       " 'to_csv',\n",
       " 'to_dict',\n",
       " 'to_excel',\n",
       " 'to_frame',\n",
       " 'to_hdf',\n",
       " 'to_json',\n",
       " 'to_latex',\n",
       " 'to_list',\n",
       " 'to_markdown',\n",
       " 'to_numpy',\n",
       " 'to_period',\n",
       " 'to_pickle',\n",
       " 'to_sql',\n",
       " 'to_string',\n",
       " 'to_timestamp',\n",
       " 'to_xarray',\n",
       " 'transform',\n",
       " 'transpose',\n",
       " 'truediv',\n",
       " 'truncate',\n",
       " 'tz_convert',\n",
       " 'tz_localize',\n",
       " 'unique',\n",
       " 'unstack',\n",
       " 'update',\n",
       " 'value_counts',\n",
       " 'values',\n",
       " 'var',\n",
       " 'view',\n",
       " 'where',\n",
       " 'xs']"
      ]
     },
     "execution_count": 553,
     "metadata": {},
     "output_type": "execute_result"
    }
   ],
   "source": [
    "dir(cities)"
   ]
  },
  {
   "cell_type": "code",
   "execution_count": 554,
   "id": "7598b913",
   "metadata": {},
   "outputs": [
    {
     "data": {
      "text/plain": [
       "['San Francisco', 'Los Angeles', 'Las Vegas', nan]"
      ]
     },
     "execution_count": 554,
     "metadata": {},
     "output_type": "execute_result"
    }
   ],
   "source": [
    "list(cities)"
   ]
  },
  {
   "cell_type": "code",
   "execution_count": 555,
   "id": "8c119662",
   "metadata": {},
   "outputs": [
    {
     "data": {
      "text/plain": [
       "{0: 'San Francisco', 1: 'Los Angeles', 2: 'Las Vegas', 3: nan}"
      ]
     },
     "execution_count": 555,
     "metadata": {},
     "output_type": "execute_result"
    }
   ],
   "source": [
    "dict(cities)"
   ]
  },
  {
   "cell_type": "code",
   "execution_count": 556,
   "id": "0c90858a",
   "metadata": {},
   "outputs": [
    {
     "data": {
      "text/plain": [
       "0    San Francisco\n",
       "1      Los Angeles\n",
       "2        Las Vegas\n",
       "3              NaN\n",
       "dtype: object"
      ]
     },
     "execution_count": 556,
     "metadata": {},
     "output_type": "execute_result"
    }
   ],
   "source": [
    "cities"
   ]
  },
  {
   "cell_type": "code",
   "execution_count": 557,
   "id": "a281c741",
   "metadata": {},
   "outputs": [
    {
     "data": {
      "text/plain": [
       "False"
      ]
     },
     "execution_count": 557,
     "metadata": {},
     "output_type": "execute_result"
    }
   ],
   "source": [
    "\"Las Vegas\" in cities"
   ]
  },
  {
   "cell_type": "code",
   "execution_count": 558,
   "id": "e7e3249f",
   "metadata": {},
   "outputs": [
    {
     "data": {
      "text/plain": [
       "True"
      ]
     },
     "execution_count": 558,
     "metadata": {},
     "output_type": "execute_result"
    }
   ],
   "source": [
    "2 in cities"
   ]
  },
  {
   "cell_type": "code",
   "execution_count": 559,
   "id": "9a7368a4",
   "metadata": {},
   "outputs": [
    {
     "data": {
      "text/plain": [
       "True"
      ]
     },
     "execution_count": 559,
     "metadata": {},
     "output_type": "execute_result"
    }
   ],
   "source": [
    "\"Las Vegas\" in cities.values"
   ]
  },
  {
   "cell_type": "code",
   "execution_count": 560,
   "id": "634f73da",
   "metadata": {},
   "outputs": [
    {
     "data": {
      "text/plain": [
       "True"
      ]
     },
     "execution_count": 560,
     "metadata": {},
     "output_type": "execute_result"
    }
   ],
   "source": [
    "100 not in cities"
   ]
  },
  {
   "cell_type": "code",
   "execution_count": 561,
   "id": "41976093",
   "metadata": {},
   "outputs": [
    {
     "data": {
      "text/plain": [
       "True"
      ]
     },
     "execution_count": 561,
     "metadata": {},
     "output_type": "execute_result"
    }
   ],
   "source": [
    "\"paris\" not in cities.values"
   ]
  },
  {
   "cell_type": "markdown",
   "id": "aa989008",
   "metadata": {},
   "source": [
    "# <hr> <hr> 4"
   ]
  },
  {
   "cell_type": "markdown",
   "id": "b1dc0501",
   "metadata": {},
   "source": [
    "## 4.1"
   ]
  },
  {
   "cell_type": "code",
   "execution_count": 562,
   "id": "09248e00",
   "metadata": {},
   "outputs": [],
   "source": [
    "import pandas as pd\n",
    "import numpy as np"
   ]
  },
  {
   "cell_type": "markdown",
   "id": "736c1642",
   "metadata": {},
   "source": [
    "### 4.1.1"
   ]
  },
  {
   "cell_type": "code",
   "execution_count": 563,
   "id": "cc90dd06",
   "metadata": {},
   "outputs": [
    {
     "data": {
      "text/html": [
       "<div>\n",
       "<style scoped>\n",
       "    .dataframe tbody tr th:only-of-type {\n",
       "        vertical-align: middle;\n",
       "    }\n",
       "\n",
       "    .dataframe tbody tr th {\n",
       "        vertical-align: top;\n",
       "    }\n",
       "\n",
       "    .dataframe thead th {\n",
       "        text-align: right;\n",
       "    }\n",
       "</style>\n",
       "<table border=\"1\" class=\"dataframe\">\n",
       "  <thead>\n",
       "    <tr style=\"text-align: right;\">\n",
       "      <th></th>\n",
       "      <th>City</th>\n",
       "      <th>Country</th>\n",
       "      <th>Population</th>\n",
       "    </tr>\n",
       "  </thead>\n",
       "  <tbody>\n",
       "    <tr>\n",
       "      <th>0</th>\n",
       "      <td>New York City</td>\n",
       "      <td>United States</td>\n",
       "      <td>8600000</td>\n",
       "    </tr>\n",
       "    <tr>\n",
       "      <th>1</th>\n",
       "      <td>Paris</td>\n",
       "      <td>France</td>\n",
       "      <td>2141000</td>\n",
       "    </tr>\n",
       "    <tr>\n",
       "      <th>2</th>\n",
       "      <td>Barcelona</td>\n",
       "      <td>Spain</td>\n",
       "      <td>5515000</td>\n",
       "    </tr>\n",
       "    <tr>\n",
       "      <th>3</th>\n",
       "      <td>Rome</td>\n",
       "      <td>Italy</td>\n",
       "      <td>2873000</td>\n",
       "    </tr>\n",
       "  </tbody>\n",
       "</table>\n",
       "</div>"
      ],
      "text/plain": [
       "            City        Country  Population\n",
       "0  New York City  United States     8600000\n",
       "1          Paris         France     2141000\n",
       "2      Barcelona          Spain     5515000\n",
       "3           Rome          Italy     2873000"
      ]
     },
     "execution_count": 563,
     "metadata": {},
     "output_type": "execute_result"
    }
   ],
   "source": [
    "city_data={\n",
    "    \"City\":[\"New York City\",\"Paris\",\"Barcelona\",\"Rome\"],\n",
    "    \"Country\":[\"United States\",\"France\",\"Spain\",\"Italy\"],\n",
    "    \"Population\":pd.Series([8600000,2141000,5515000,2873000])}\n",
    "                           \n",
    "cities = pd.DataFrame(city_data)\n",
    "cities"
   ]
  },
  {
   "cell_type": "code",
   "execution_count": 564,
   "id": "d9323426",
   "metadata": {},
   "outputs": [
    {
     "data": {
      "text/html": [
       "<div>\n",
       "<style scoped>\n",
       "    .dataframe tbody tr th:only-of-type {\n",
       "        vertical-align: middle;\n",
       "    }\n",
       "\n",
       "    .dataframe tbody tr th {\n",
       "        vertical-align: top;\n",
       "    }\n",
       "\n",
       "    .dataframe thead th {\n",
       "        text-align: right;\n",
       "    }\n",
       "</style>\n",
       "<table border=\"1\" class=\"dataframe\">\n",
       "  <thead>\n",
       "    <tr style=\"text-align: right;\">\n",
       "      <th></th>\n",
       "      <th>0</th>\n",
       "      <th>1</th>\n",
       "      <th>2</th>\n",
       "      <th>3</th>\n",
       "    </tr>\n",
       "  </thead>\n",
       "  <tbody>\n",
       "    <tr>\n",
       "      <th>City</th>\n",
       "      <td>New York City</td>\n",
       "      <td>Paris</td>\n",
       "      <td>Barcelona</td>\n",
       "      <td>Rome</td>\n",
       "    </tr>\n",
       "    <tr>\n",
       "      <th>Country</th>\n",
       "      <td>United States</td>\n",
       "      <td>France</td>\n",
       "      <td>Spain</td>\n",
       "      <td>Italy</td>\n",
       "    </tr>\n",
       "    <tr>\n",
       "      <th>Population</th>\n",
       "      <td>8600000</td>\n",
       "      <td>2141000</td>\n",
       "      <td>5515000</td>\n",
       "      <td>2873000</td>\n",
       "    </tr>\n",
       "  </tbody>\n",
       "</table>\n",
       "</div>"
      ],
      "text/plain": [
       "                        0        1          2        3\n",
       "City        New York City    Paris  Barcelona     Rome\n",
       "Country     United States   France      Spain    Italy\n",
       "Population        8600000  2141000    5515000  2873000"
      ]
     },
     "execution_count": 564,
     "metadata": {},
     "output_type": "execute_result"
    }
   ],
   "source": [
    "# 다음 두 줄은 결과가 동일합니다.\n",
    "cities.transpose()"
   ]
  },
  {
   "cell_type": "code",
   "execution_count": 565,
   "id": "171532d1",
   "metadata": {},
   "outputs": [
    {
     "data": {
      "text/html": [
       "<div>\n",
       "<style scoped>\n",
       "    .dataframe tbody tr th:only-of-type {\n",
       "        vertical-align: middle;\n",
       "    }\n",
       "\n",
       "    .dataframe tbody tr th {\n",
       "        vertical-align: top;\n",
       "    }\n",
       "\n",
       "    .dataframe thead th {\n",
       "        text-align: right;\n",
       "    }\n",
       "</style>\n",
       "<table border=\"1\" class=\"dataframe\">\n",
       "  <thead>\n",
       "    <tr style=\"text-align: right;\">\n",
       "      <th></th>\n",
       "      <th>0</th>\n",
       "      <th>1</th>\n",
       "      <th>2</th>\n",
       "      <th>3</th>\n",
       "    </tr>\n",
       "  </thead>\n",
       "  <tbody>\n",
       "    <tr>\n",
       "      <th>City</th>\n",
       "      <td>New York City</td>\n",
       "      <td>Paris</td>\n",
       "      <td>Barcelona</td>\n",
       "      <td>Rome</td>\n",
       "    </tr>\n",
       "    <tr>\n",
       "      <th>Country</th>\n",
       "      <td>United States</td>\n",
       "      <td>France</td>\n",
       "      <td>Spain</td>\n",
       "      <td>Italy</td>\n",
       "    </tr>\n",
       "    <tr>\n",
       "      <th>Population</th>\n",
       "      <td>8600000</td>\n",
       "      <td>2141000</td>\n",
       "      <td>5515000</td>\n",
       "      <td>2873000</td>\n",
       "    </tr>\n",
       "  </tbody>\n",
       "</table>\n",
       "</div>"
      ],
      "text/plain": [
       "                        0        1          2        3\n",
       "City        New York City    Paris  Barcelona     Rome\n",
       "Country     United States   France      Spain    Italy\n",
       "Population        8600000  2141000    5515000  2873000"
      ]
     },
     "execution_count": 565,
     "metadata": {},
     "output_type": "execute_result"
    }
   ],
   "source": [
    "cities.T"
   ]
  },
  {
   "cell_type": "markdown",
   "id": "fdeea1c0",
   "metadata": {},
   "source": [
    "### 4.1.2"
   ]
  },
  {
   "cell_type": "code",
   "execution_count": 566,
   "id": "91e437cb",
   "metadata": {},
   "outputs": [
    {
     "data": {
      "text/plain": [
       "array([[17, 82, 92, 95, 55],\n",
       "       [ 1, 93, 92, 84, 89],\n",
       "       [88, 81, 80, 84, 70]])"
      ]
     },
     "execution_count": 566,
     "metadata": {},
     "output_type": "execute_result"
    }
   ],
   "source": [
    "random_data = np.random.randint(1, 101, [3, 5])\n",
    "random_data"
   ]
  },
  {
   "cell_type": "code",
   "execution_count": 567,
   "id": "74f629a8",
   "metadata": {},
   "outputs": [
    {
     "data": {
      "text/html": [
       "<div>\n",
       "<style scoped>\n",
       "    .dataframe tbody tr th:only-of-type {\n",
       "        vertical-align: middle;\n",
       "    }\n",
       "\n",
       "    .dataframe tbody tr th {\n",
       "        vertical-align: top;\n",
       "    }\n",
       "\n",
       "    .dataframe thead th {\n",
       "        text-align: right;\n",
       "    }\n",
       "</style>\n",
       "<table border=\"1\" class=\"dataframe\">\n",
       "  <thead>\n",
       "    <tr style=\"text-align: right;\">\n",
       "      <th></th>\n",
       "      <th>0</th>\n",
       "      <th>1</th>\n",
       "      <th>2</th>\n",
       "      <th>3</th>\n",
       "      <th>4</th>\n",
       "    </tr>\n",
       "  </thead>\n",
       "  <tbody>\n",
       "    <tr>\n",
       "      <th>0</th>\n",
       "      <td>17</td>\n",
       "      <td>82</td>\n",
       "      <td>92</td>\n",
       "      <td>95</td>\n",
       "      <td>55</td>\n",
       "    </tr>\n",
       "    <tr>\n",
       "      <th>1</th>\n",
       "      <td>1</td>\n",
       "      <td>93</td>\n",
       "      <td>92</td>\n",
       "      <td>84</td>\n",
       "      <td>89</td>\n",
       "    </tr>\n",
       "    <tr>\n",
       "      <th>2</th>\n",
       "      <td>88</td>\n",
       "      <td>81</td>\n",
       "      <td>80</td>\n",
       "      <td>84</td>\n",
       "      <td>70</td>\n",
       "    </tr>\n",
       "  </tbody>\n",
       "</table>\n",
       "</div>"
      ],
      "text/plain": [
       "    0   1   2   3   4\n",
       "0  17  82  92  95  55\n",
       "1   1  93  92  84  89\n",
       "2  88  81  80  84  70"
      ]
     },
     "execution_count": 567,
     "metadata": {},
     "output_type": "execute_result"
    }
   ],
   "source": [
    "pd.DataFrame(data = random_data)"
   ]
  },
  {
   "cell_type": "code",
   "execution_count": 568,
   "id": "0c88896a",
   "metadata": {},
   "outputs": [
    {
     "data": {
      "text/html": [
       "<div>\n",
       "<style scoped>\n",
       "    .dataframe tbody tr th:only-of-type {\n",
       "        vertical-align: middle;\n",
       "    }\n",
       "\n",
       "    .dataframe tbody tr th {\n",
       "        vertical-align: top;\n",
       "    }\n",
       "\n",
       "    .dataframe thead th {\n",
       "        text-align: right;\n",
       "    }\n",
       "</style>\n",
       "<table border=\"1\" class=\"dataframe\">\n",
       "  <thead>\n",
       "    <tr style=\"text-align: right;\">\n",
       "      <th></th>\n",
       "      <th>0</th>\n",
       "      <th>1</th>\n",
       "      <th>2</th>\n",
       "      <th>3</th>\n",
       "      <th>4</th>\n",
       "    </tr>\n",
       "  </thead>\n",
       "  <tbody>\n",
       "    <tr>\n",
       "      <th>Morning</th>\n",
       "      <td>17</td>\n",
       "      <td>82</td>\n",
       "      <td>92</td>\n",
       "      <td>95</td>\n",
       "      <td>55</td>\n",
       "    </tr>\n",
       "    <tr>\n",
       "      <th>Afternoon</th>\n",
       "      <td>1</td>\n",
       "      <td>93</td>\n",
       "      <td>92</td>\n",
       "      <td>84</td>\n",
       "      <td>89</td>\n",
       "    </tr>\n",
       "    <tr>\n",
       "      <th>Evening</th>\n",
       "      <td>88</td>\n",
       "      <td>81</td>\n",
       "      <td>80</td>\n",
       "      <td>84</td>\n",
       "      <td>70</td>\n",
       "    </tr>\n",
       "  </tbody>\n",
       "</table>\n",
       "</div>"
      ],
      "text/plain": [
       "            0   1   2   3   4\n",
       "Morning    17  82  92  95  55\n",
       "Afternoon   1  93  92  84  89\n",
       "Evening    88  81  80  84  70"
      ]
     },
     "execution_count": 568,
     "metadata": {},
     "output_type": "execute_result"
    }
   ],
   "source": [
    "row_labels=[\"Morning\",\"Afternoon\",\"Evening\"]\n",
    "temperatures=pd.DataFrame(data=random_data, index=row_labels)\n",
    "temperatures"
   ]
  },
  {
   "cell_type": "code",
   "execution_count": 569,
   "id": "efb46210",
   "metadata": {},
   "outputs": [
    {
     "data": {
      "text/html": [
       "<div>\n",
       "<style scoped>\n",
       "    .dataframe tbody tr th:only-of-type {\n",
       "        vertical-align: middle;\n",
       "    }\n",
       "\n",
       "    .dataframe tbody tr th {\n",
       "        vertical-align: top;\n",
       "    }\n",
       "\n",
       "    .dataframe thead th {\n",
       "        text-align: right;\n",
       "    }\n",
       "</style>\n",
       "<table border=\"1\" class=\"dataframe\">\n",
       "  <thead>\n",
       "    <tr style=\"text-align: right;\">\n",
       "      <th></th>\n",
       "      <th>Monday</th>\n",
       "      <th>Tuesday</th>\n",
       "      <th>Wednesday</th>\n",
       "      <th>Thursday</th>\n",
       "      <th>Friday</th>\n",
       "    </tr>\n",
       "  </thead>\n",
       "  <tbody>\n",
       "    <tr>\n",
       "      <th>Morning</th>\n",
       "      <td>17</td>\n",
       "      <td>82</td>\n",
       "      <td>92</td>\n",
       "      <td>95</td>\n",
       "      <td>55</td>\n",
       "    </tr>\n",
       "    <tr>\n",
       "      <th>Afternoon</th>\n",
       "      <td>1</td>\n",
       "      <td>93</td>\n",
       "      <td>92</td>\n",
       "      <td>84</td>\n",
       "      <td>89</td>\n",
       "    </tr>\n",
       "    <tr>\n",
       "      <th>Evening</th>\n",
       "      <td>88</td>\n",
       "      <td>81</td>\n",
       "      <td>80</td>\n",
       "      <td>84</td>\n",
       "      <td>70</td>\n",
       "    </tr>\n",
       "  </tbody>\n",
       "</table>\n",
       "</div>"
      ],
      "text/plain": [
       "           Monday  Tuesday  Wednesday  Thursday  Friday\n",
       "Morning        17       82         92        95      55\n",
       "Afternoon       1       93         92        84      89\n",
       "Evening        88       81         80        84      70"
      ]
     },
     "execution_count": 569,
     "metadata": {},
     "output_type": "execute_result"
    }
   ],
   "source": [
    "row_labels=[\"Morning\",\"Afternoon\",\"Evening\"]\n",
    "column_labels = (\n",
    "\"Monday\", \"Tuesday\", \"Wednesday\", \"Thursday\", \"Friday\")\n",
    "pd.DataFrame(\n",
    "data = random_data,\n",
    "index = row_labels,\n",
    "columns = column_labels)"
   ]
  },
  {
   "cell_type": "code",
   "execution_count": 570,
   "id": "1ee65841",
   "metadata": {},
   "outputs": [
    {
     "data": {
      "text/html": [
       "<div>\n",
       "<style scoped>\n",
       "    .dataframe tbody tr th:only-of-type {\n",
       "        vertical-align: middle;\n",
       "    }\n",
       "\n",
       "    .dataframe tbody tr th {\n",
       "        vertical-align: top;\n",
       "    }\n",
       "\n",
       "    .dataframe thead th {\n",
       "        text-align: right;\n",
       "    }\n",
       "</style>\n",
       "<table border=\"1\" class=\"dataframe\">\n",
       "  <thead>\n",
       "    <tr style=\"text-align: right;\">\n",
       "      <th></th>\n",
       "      <th>Monday</th>\n",
       "      <th>Tuesday</th>\n",
       "      <th>Wednesday</th>\n",
       "      <th>Tuesday</th>\n",
       "      <th>Friday</th>\n",
       "    </tr>\n",
       "  </thead>\n",
       "  <tbody>\n",
       "    <tr>\n",
       "      <th>Morning</th>\n",
       "      <td>17</td>\n",
       "      <td>82</td>\n",
       "      <td>92</td>\n",
       "      <td>95</td>\n",
       "      <td>55</td>\n",
       "    </tr>\n",
       "    <tr>\n",
       "      <th>Afternoon</th>\n",
       "      <td>1</td>\n",
       "      <td>93</td>\n",
       "      <td>92</td>\n",
       "      <td>84</td>\n",
       "      <td>89</td>\n",
       "    </tr>\n",
       "    <tr>\n",
       "      <th>Morning</th>\n",
       "      <td>88</td>\n",
       "      <td>81</td>\n",
       "      <td>80</td>\n",
       "      <td>84</td>\n",
       "      <td>70</td>\n",
       "    </tr>\n",
       "  </tbody>\n",
       "</table>\n",
       "</div>"
      ],
      "text/plain": [
       "           Monday  Tuesday  Wednesday  Tuesday  Friday\n",
       "Morning        17       82         92       95      55\n",
       "Afternoon       1       93         92       84      89\n",
       "Morning        88       81         80       84      70"
      ]
     },
     "execution_count": 570,
     "metadata": {},
     "output_type": "execute_result"
    }
   ],
   "source": [
    "row_labels=[\"Morning\",\"Afternoon\",\"Morning\"]\n",
    "column_labels = (\n",
    "\"Monday\", \"Tuesday\", \"Wednesday\", \"Tuesday\", \"Friday\")\n",
    "pd.DataFrame(\n",
    "data = random_data,\n",
    "index = row_labels,\n",
    "columns = column_labels)"
   ]
  },
  {
   "cell_type": "markdown",
   "id": "af43e423",
   "metadata": {},
   "source": [
    "## 4.2"
   ]
  },
  {
   "cell_type": "markdown",
   "id": "7d1c50eb",
   "metadata": {},
   "source": [
    "### 4.2.1"
   ]
  },
  {
   "cell_type": "code",
   "execution_count": 571,
   "id": "800e4c82",
   "metadata": {},
   "outputs": [
    {
     "data": {
      "text/html": [
       "<div>\n",
       "<style scoped>\n",
       "    .dataframe tbody tr th:only-of-type {\n",
       "        vertical-align: middle;\n",
       "    }\n",
       "\n",
       "    .dataframe tbody tr th {\n",
       "        vertical-align: top;\n",
       "    }\n",
       "\n",
       "    .dataframe thead th {\n",
       "        text-align: right;\n",
       "    }\n",
       "</style>\n",
       "<table border=\"1\" class=\"dataframe\">\n",
       "  <thead>\n",
       "    <tr style=\"text-align: right;\">\n",
       "      <th></th>\n",
       "      <th>Name</th>\n",
       "      <th>Team</th>\n",
       "      <th>Position</th>\n",
       "      <th>Birthday</th>\n",
       "      <th>Salary</th>\n",
       "    </tr>\n",
       "  </thead>\n",
       "  <tbody>\n",
       "    <tr>\n",
       "      <th>0</th>\n",
       "      <td>Shake Milton</td>\n",
       "      <td>Philadelphia 76ers</td>\n",
       "      <td>SG</td>\n",
       "      <td>9/26/96</td>\n",
       "      <td>1445697</td>\n",
       "    </tr>\n",
       "    <tr>\n",
       "      <th>1</th>\n",
       "      <td>Christian Wood</td>\n",
       "      <td>Detroit Pistons</td>\n",
       "      <td>PF</td>\n",
       "      <td>9/27/95</td>\n",
       "      <td>1645357</td>\n",
       "    </tr>\n",
       "    <tr>\n",
       "      <th>2</th>\n",
       "      <td>PJ Washington</td>\n",
       "      <td>Charlotte Hornets</td>\n",
       "      <td>PF</td>\n",
       "      <td>8/23/98</td>\n",
       "      <td>3831840</td>\n",
       "    </tr>\n",
       "    <tr>\n",
       "      <th>3</th>\n",
       "      <td>Derrick Rose</td>\n",
       "      <td>Detroit Pistons</td>\n",
       "      <td>PG</td>\n",
       "      <td>10/4/88</td>\n",
       "      <td>7317074</td>\n",
       "    </tr>\n",
       "    <tr>\n",
       "      <th>4</th>\n",
       "      <td>Marial Shayok</td>\n",
       "      <td>Philadelphia 76ers</td>\n",
       "      <td>G</td>\n",
       "      <td>7/26/95</td>\n",
       "      <td>79568</td>\n",
       "    </tr>\n",
       "    <tr>\n",
       "      <th>...</th>\n",
       "      <td>...</td>\n",
       "      <td>...</td>\n",
       "      <td>...</td>\n",
       "      <td>...</td>\n",
       "      <td>...</td>\n",
       "    </tr>\n",
       "    <tr>\n",
       "      <th>445</th>\n",
       "      <td>Austin Rivers</td>\n",
       "      <td>Houston Rockets</td>\n",
       "      <td>PG</td>\n",
       "      <td>8/1/92</td>\n",
       "      <td>2174310</td>\n",
       "    </tr>\n",
       "    <tr>\n",
       "      <th>446</th>\n",
       "      <td>Harry Giles</td>\n",
       "      <td>Sacramento Kings</td>\n",
       "      <td>PF</td>\n",
       "      <td>4/22/98</td>\n",
       "      <td>2578800</td>\n",
       "    </tr>\n",
       "    <tr>\n",
       "      <th>447</th>\n",
       "      <td>Robin Lopez</td>\n",
       "      <td>Milwaukee Bucks</td>\n",
       "      <td>C</td>\n",
       "      <td>4/1/88</td>\n",
       "      <td>4767000</td>\n",
       "    </tr>\n",
       "    <tr>\n",
       "      <th>448</th>\n",
       "      <td>Collin Sexton</td>\n",
       "      <td>Cleveland Cavaliers</td>\n",
       "      <td>PG</td>\n",
       "      <td>1/4/99</td>\n",
       "      <td>4764960</td>\n",
       "    </tr>\n",
       "    <tr>\n",
       "      <th>449</th>\n",
       "      <td>Ricky Rubio</td>\n",
       "      <td>Phoenix Suns</td>\n",
       "      <td>PG</td>\n",
       "      <td>10/21/90</td>\n",
       "      <td>16200000</td>\n",
       "    </tr>\n",
       "  </tbody>\n",
       "</table>\n",
       "<p>450 rows × 5 columns</p>\n",
       "</div>"
      ],
      "text/plain": [
       "               Name                 Team Position  Birthday    Salary\n",
       "0      Shake Milton   Philadelphia 76ers       SG   9/26/96   1445697\n",
       "1    Christian Wood      Detroit Pistons       PF   9/27/95   1645357\n",
       "2     PJ Washington    Charlotte Hornets       PF   8/23/98   3831840\n",
       "3      Derrick Rose      Detroit Pistons       PG   10/4/88   7317074\n",
       "4     Marial Shayok   Philadelphia 76ers        G   7/26/95     79568\n",
       "..              ...                  ...      ...       ...       ...\n",
       "445   Austin Rivers      Houston Rockets       PG    8/1/92   2174310\n",
       "446     Harry Giles     Sacramento Kings       PF   4/22/98   2578800\n",
       "447     Robin Lopez      Milwaukee Bucks        C    4/1/88   4767000\n",
       "448   Collin Sexton  Cleveland Cavaliers       PG    1/4/99   4764960\n",
       "449     Ricky Rubio         Phoenix Suns       PG  10/21/90  16200000\n",
       "\n",
       "[450 rows x 5 columns]"
      ]
     },
     "execution_count": 571,
     "metadata": {},
     "output_type": "execute_result"
    }
   ],
   "source": [
    "pd.read_csv(\"nba.csv\")"
   ]
  },
  {
   "cell_type": "code",
   "execution_count": 572,
   "id": "d8f8b318",
   "metadata": {},
   "outputs": [
    {
     "name": "stderr",
     "output_type": "stream",
     "text": [
      "/var/folders/9y/lpn0hjmn5csct06t4_r5qtjr0000gn/T/ipykernel_21710/2371790495.py:1: UserWarning: Could not infer format, so each element will be parsed individually, falling back to `dateutil`. To ensure parsing is consistent and as-expected, please specify a format.\n",
      "  pd.read_csv(\"nba.csv\", parse_dates= [\"Birthday\"])\n"
     ]
    },
    {
     "data": {
      "text/html": [
       "<div>\n",
       "<style scoped>\n",
       "    .dataframe tbody tr th:only-of-type {\n",
       "        vertical-align: middle;\n",
       "    }\n",
       "\n",
       "    .dataframe tbody tr th {\n",
       "        vertical-align: top;\n",
       "    }\n",
       "\n",
       "    .dataframe thead th {\n",
       "        text-align: right;\n",
       "    }\n",
       "</style>\n",
       "<table border=\"1\" class=\"dataframe\">\n",
       "  <thead>\n",
       "    <tr style=\"text-align: right;\">\n",
       "      <th></th>\n",
       "      <th>Name</th>\n",
       "      <th>Team</th>\n",
       "      <th>Position</th>\n",
       "      <th>Birthday</th>\n",
       "      <th>Salary</th>\n",
       "    </tr>\n",
       "  </thead>\n",
       "  <tbody>\n",
       "    <tr>\n",
       "      <th>0</th>\n",
       "      <td>Shake Milton</td>\n",
       "      <td>Philadelphia 76ers</td>\n",
       "      <td>SG</td>\n",
       "      <td>1996-09-26</td>\n",
       "      <td>1445697</td>\n",
       "    </tr>\n",
       "    <tr>\n",
       "      <th>1</th>\n",
       "      <td>Christian Wood</td>\n",
       "      <td>Detroit Pistons</td>\n",
       "      <td>PF</td>\n",
       "      <td>1995-09-27</td>\n",
       "      <td>1645357</td>\n",
       "    </tr>\n",
       "    <tr>\n",
       "      <th>2</th>\n",
       "      <td>PJ Washington</td>\n",
       "      <td>Charlotte Hornets</td>\n",
       "      <td>PF</td>\n",
       "      <td>1998-08-23</td>\n",
       "      <td>3831840</td>\n",
       "    </tr>\n",
       "    <tr>\n",
       "      <th>3</th>\n",
       "      <td>Derrick Rose</td>\n",
       "      <td>Detroit Pistons</td>\n",
       "      <td>PG</td>\n",
       "      <td>1988-10-04</td>\n",
       "      <td>7317074</td>\n",
       "    </tr>\n",
       "    <tr>\n",
       "      <th>4</th>\n",
       "      <td>Marial Shayok</td>\n",
       "      <td>Philadelphia 76ers</td>\n",
       "      <td>G</td>\n",
       "      <td>1995-07-26</td>\n",
       "      <td>79568</td>\n",
       "    </tr>\n",
       "    <tr>\n",
       "      <th>...</th>\n",
       "      <td>...</td>\n",
       "      <td>...</td>\n",
       "      <td>...</td>\n",
       "      <td>...</td>\n",
       "      <td>...</td>\n",
       "    </tr>\n",
       "    <tr>\n",
       "      <th>445</th>\n",
       "      <td>Austin Rivers</td>\n",
       "      <td>Houston Rockets</td>\n",
       "      <td>PG</td>\n",
       "      <td>1992-08-01</td>\n",
       "      <td>2174310</td>\n",
       "    </tr>\n",
       "    <tr>\n",
       "      <th>446</th>\n",
       "      <td>Harry Giles</td>\n",
       "      <td>Sacramento Kings</td>\n",
       "      <td>PF</td>\n",
       "      <td>1998-04-22</td>\n",
       "      <td>2578800</td>\n",
       "    </tr>\n",
       "    <tr>\n",
       "      <th>447</th>\n",
       "      <td>Robin Lopez</td>\n",
       "      <td>Milwaukee Bucks</td>\n",
       "      <td>C</td>\n",
       "      <td>1988-04-01</td>\n",
       "      <td>4767000</td>\n",
       "    </tr>\n",
       "    <tr>\n",
       "      <th>448</th>\n",
       "      <td>Collin Sexton</td>\n",
       "      <td>Cleveland Cavaliers</td>\n",
       "      <td>PG</td>\n",
       "      <td>1999-01-04</td>\n",
       "      <td>4764960</td>\n",
       "    </tr>\n",
       "    <tr>\n",
       "      <th>449</th>\n",
       "      <td>Ricky Rubio</td>\n",
       "      <td>Phoenix Suns</td>\n",
       "      <td>PG</td>\n",
       "      <td>1990-10-21</td>\n",
       "      <td>16200000</td>\n",
       "    </tr>\n",
       "  </tbody>\n",
       "</table>\n",
       "<p>450 rows × 5 columns</p>\n",
       "</div>"
      ],
      "text/plain": [
       "               Name                 Team Position   Birthday    Salary\n",
       "0      Shake Milton   Philadelphia 76ers       SG 1996-09-26   1445697\n",
       "1    Christian Wood      Detroit Pistons       PF 1995-09-27   1645357\n",
       "2     PJ Washington    Charlotte Hornets       PF 1998-08-23   3831840\n",
       "3      Derrick Rose      Detroit Pistons       PG 1988-10-04   7317074\n",
       "4     Marial Shayok   Philadelphia 76ers        G 1995-07-26     79568\n",
       "..              ...                  ...      ...        ...       ...\n",
       "445   Austin Rivers      Houston Rockets       PG 1992-08-01   2174310\n",
       "446     Harry Giles     Sacramento Kings       PF 1998-04-22   2578800\n",
       "447     Robin Lopez      Milwaukee Bucks        C 1988-04-01   4767000\n",
       "448   Collin Sexton  Cleveland Cavaliers       PG 1999-01-04   4764960\n",
       "449     Ricky Rubio         Phoenix Suns       PG 1990-10-21  16200000\n",
       "\n",
       "[450 rows x 5 columns]"
      ]
     },
     "execution_count": 572,
     "metadata": {},
     "output_type": "execute_result"
    }
   ],
   "source": [
    "pd.read_csv(\"nba.csv\", parse_dates= [\"Birthday\"])"
   ]
  },
  {
   "cell_type": "code",
   "execution_count": 573,
   "id": "cb3888d0",
   "metadata": {},
   "outputs": [
    {
     "name": "stderr",
     "output_type": "stream",
     "text": [
      "/var/folders/9y/lpn0hjmn5csct06t4_r5qtjr0000gn/T/ipykernel_21710/3359401517.py:1: UserWarning: Could not infer format, so each element will be parsed individually, falling back to `dateutil`. To ensure parsing is consistent and as-expected, please specify a format.\n",
      "  nba = pd.read_csv(\"nba.csv\", parse_dates= [\"Birthday\"])\n"
     ]
    }
   ],
   "source": [
    "nba = pd.read_csv(\"nba.csv\", parse_dates= [\"Birthday\"])"
   ]
  },
  {
   "cell_type": "markdown",
   "id": "63e3be7b",
   "metadata": {},
   "source": [
    "### 4.2.2"
   ]
  },
  {
   "cell_type": "code",
   "execution_count": 574,
   "id": "bbf944a5",
   "metadata": {},
   "outputs": [
    {
     "data": {
      "text/plain": [
       "dtype('int64')"
      ]
     },
     "execution_count": 574,
     "metadata": {},
     "output_type": "execute_result"
    }
   ],
   "source": [
    "pd.Series([1,2,3]).dtype"
   ]
  },
  {
   "cell_type": "code",
   "execution_count": 575,
   "id": "6ca6d708",
   "metadata": {},
   "outputs": [
    {
     "data": {
      "text/plain": [
       "Name                object\n",
       "Team                object\n",
       "Position            object\n",
       "Birthday    datetime64[ns]\n",
       "Salary               int64\n",
       "dtype: object"
      ]
     },
     "execution_count": 575,
     "metadata": {},
     "output_type": "execute_result"
    }
   ],
   "source": [
    "nba.dtypes"
   ]
  },
  {
   "cell_type": "code",
   "execution_count": 576,
   "id": "5eed134c",
   "metadata": {},
   "outputs": [
    {
     "data": {
      "text/plain": [
       "<bound method IndexOpsMixin.value_counts of Name                object\n",
       "Team                object\n",
       "Position            object\n",
       "Birthday    datetime64[ns]\n",
       "Salary               int64\n",
       "dtype: object>"
      ]
     },
     "execution_count": 576,
     "metadata": {},
     "output_type": "execute_result"
    }
   ],
   "source": [
    "nba.dtypes.value_counts"
   ]
  },
  {
   "cell_type": "code",
   "execution_count": 577,
   "id": "fa98d9c7",
   "metadata": {},
   "outputs": [
    {
     "data": {
      "text/plain": [
       "RangeIndex(start=0, stop=450, step=1)"
      ]
     },
     "execution_count": 577,
     "metadata": {},
     "output_type": "execute_result"
    }
   ],
   "source": [
    "nba.index"
   ]
  },
  {
   "cell_type": "code",
   "execution_count": 578,
   "id": "1c1fdaed",
   "metadata": {},
   "outputs": [
    {
     "data": {
      "text/plain": [
       "Index(['Name', 'Team', 'Position', 'Birthday', 'Salary'], dtype='object')"
      ]
     },
     "execution_count": 578,
     "metadata": {},
     "output_type": "execute_result"
    }
   ],
   "source": [
    "nba.columns"
   ]
  },
  {
   "cell_type": "code",
   "execution_count": 579,
   "id": "15817b96",
   "metadata": {},
   "outputs": [
    {
     "data": {
      "text/plain": [
       "2"
      ]
     },
     "execution_count": 579,
     "metadata": {},
     "output_type": "execute_result"
    }
   ],
   "source": [
    "nba.ndim"
   ]
  },
  {
   "cell_type": "code",
   "execution_count": 580,
   "id": "90b4ea3b",
   "metadata": {},
   "outputs": [
    {
     "data": {
      "text/plain": [
       "(450, 5)"
      ]
     },
     "execution_count": 580,
     "metadata": {},
     "output_type": "execute_result"
    }
   ],
   "source": [
    "nba.shape"
   ]
  },
  {
   "cell_type": "code",
   "execution_count": 581,
   "id": "e3c30f05",
   "metadata": {},
   "outputs": [
    {
     "data": {
      "text/plain": [
       "2250"
      ]
     },
     "execution_count": 581,
     "metadata": {},
     "output_type": "execute_result"
    }
   ],
   "source": [
    "nba.size"
   ]
  },
  {
   "cell_type": "code",
   "execution_count": 582,
   "id": "646bac56",
   "metadata": {},
   "outputs": [
    {
     "data": {
      "text/plain": [
       "Name        450\n",
       "Team        450\n",
       "Position    450\n",
       "Birthday    450\n",
       "Salary      450\n",
       "dtype: int64"
      ]
     },
     "execution_count": 582,
     "metadata": {},
     "output_type": "execute_result"
    }
   ],
   "source": [
    "nba.count()"
   ]
  },
  {
   "cell_type": "code",
   "execution_count": 583,
   "id": "6c6e932f",
   "metadata": {},
   "outputs": [
    {
     "data": {
      "text/plain": [
       "2250"
      ]
     },
     "execution_count": 583,
     "metadata": {},
     "output_type": "execute_result"
    }
   ],
   "source": [
    "nba.count().sum()"
   ]
  },
  {
   "cell_type": "code",
   "execution_count": 584,
   "id": "5deb81e8",
   "metadata": {},
   "outputs": [
    {
     "data": {
      "text/html": [
       "<div>\n",
       "<style scoped>\n",
       "    .dataframe tbody tr th:only-of-type {\n",
       "        vertical-align: middle;\n",
       "    }\n",
       "\n",
       "    .dataframe tbody tr th {\n",
       "        vertical-align: top;\n",
       "    }\n",
       "\n",
       "    .dataframe thead th {\n",
       "        text-align: right;\n",
       "    }\n",
       "</style>\n",
       "<table border=\"1\" class=\"dataframe\">\n",
       "  <thead>\n",
       "    <tr style=\"text-align: right;\">\n",
       "      <th></th>\n",
       "      <th>A</th>\n",
       "      <th>B</th>\n",
       "    </tr>\n",
       "  </thead>\n",
       "  <tbody>\n",
       "    <tr>\n",
       "      <th>0</th>\n",
       "      <td>1.0</td>\n",
       "      <td>2</td>\n",
       "    </tr>\n",
       "    <tr>\n",
       "      <th>1</th>\n",
       "      <td>NaN</td>\n",
       "      <td>3</td>\n",
       "    </tr>\n",
       "  </tbody>\n",
       "</table>\n",
       "</div>"
      ],
      "text/plain": [
       "     A  B\n",
       "0  1.0  2\n",
       "1  NaN  3"
      ]
     },
     "execution_count": 584,
     "metadata": {},
     "output_type": "execute_result"
    }
   ],
   "source": [
    "data = {\n",
    "    \"A\":[1, np.nan],\n",
    "    \"B\":[2,3]\n",
    "}\n",
    "\n",
    "df = pd.DataFrame(data)\n",
    "df"
   ]
  },
  {
   "cell_type": "code",
   "execution_count": 585,
   "id": "571055d5",
   "metadata": {},
   "outputs": [
    {
     "data": {
      "text/plain": [
       "4"
      ]
     },
     "execution_count": 585,
     "metadata": {},
     "output_type": "execute_result"
    }
   ],
   "source": [
    "df.size"
   ]
  },
  {
   "cell_type": "code",
   "execution_count": 586,
   "id": "6655f8f5",
   "metadata": {},
   "outputs": [
    {
     "data": {
      "text/plain": [
       "A    1\n",
       "B    2\n",
       "dtype: int64"
      ]
     },
     "execution_count": 586,
     "metadata": {},
     "output_type": "execute_result"
    }
   ],
   "source": [
    "df.count()"
   ]
  },
  {
   "cell_type": "code",
   "execution_count": 587,
   "id": "7fb23d7e",
   "metadata": {},
   "outputs": [
    {
     "data": {
      "text/plain": [
       "3"
      ]
     },
     "execution_count": 587,
     "metadata": {},
     "output_type": "execute_result"
    }
   ],
   "source": [
    "df.count().sum()"
   ]
  },
  {
   "cell_type": "markdown",
   "id": "5bdc8274",
   "metadata": {},
   "source": [
    "### 4.2.3"
   ]
  },
  {
   "cell_type": "code",
   "execution_count": 588,
   "id": "991901c4",
   "metadata": {},
   "outputs": [
    {
     "data": {
      "text/html": [
       "<div>\n",
       "<style scoped>\n",
       "    .dataframe tbody tr th:only-of-type {\n",
       "        vertical-align: middle;\n",
       "    }\n",
       "\n",
       "    .dataframe tbody tr th {\n",
       "        vertical-align: top;\n",
       "    }\n",
       "\n",
       "    .dataframe thead th {\n",
       "        text-align: right;\n",
       "    }\n",
       "</style>\n",
       "<table border=\"1\" class=\"dataframe\">\n",
       "  <thead>\n",
       "    <tr style=\"text-align: right;\">\n",
       "      <th></th>\n",
       "      <th>Name</th>\n",
       "      <th>Team</th>\n",
       "      <th>Position</th>\n",
       "      <th>Birthday</th>\n",
       "      <th>Salary</th>\n",
       "    </tr>\n",
       "  </thead>\n",
       "  <tbody>\n",
       "    <tr>\n",
       "      <th>0</th>\n",
       "      <td>Shake Milton</td>\n",
       "      <td>Philadelphia 76ers</td>\n",
       "      <td>SG</td>\n",
       "      <td>1996-09-26</td>\n",
       "      <td>1445697</td>\n",
       "    </tr>\n",
       "    <tr>\n",
       "      <th>1</th>\n",
       "      <td>Christian Wood</td>\n",
       "      <td>Detroit Pistons</td>\n",
       "      <td>PF</td>\n",
       "      <td>1995-09-27</td>\n",
       "      <td>1645357</td>\n",
       "    </tr>\n",
       "  </tbody>\n",
       "</table>\n",
       "</div>"
      ],
      "text/plain": [
       "             Name                Team Position   Birthday   Salary\n",
       "0    Shake Milton  Philadelphia 76ers       SG 1996-09-26  1445697\n",
       "1  Christian Wood     Detroit Pistons       PF 1995-09-27  1645357"
      ]
     },
     "execution_count": 588,
     "metadata": {},
     "output_type": "execute_result"
    }
   ],
   "source": [
    "nba.head(2)"
   ]
  },
  {
   "cell_type": "code",
   "execution_count": 589,
   "id": "a8040100",
   "metadata": {},
   "outputs": [
    {
     "data": {
      "text/html": [
       "<div>\n",
       "<style scoped>\n",
       "    .dataframe tbody tr th:only-of-type {\n",
       "        vertical-align: middle;\n",
       "    }\n",
       "\n",
       "    .dataframe tbody tr th {\n",
       "        vertical-align: top;\n",
       "    }\n",
       "\n",
       "    .dataframe thead th {\n",
       "        text-align: right;\n",
       "    }\n",
       "</style>\n",
       "<table border=\"1\" class=\"dataframe\">\n",
       "  <thead>\n",
       "    <tr style=\"text-align: right;\">\n",
       "      <th></th>\n",
       "      <th>Name</th>\n",
       "      <th>Team</th>\n",
       "      <th>Position</th>\n",
       "      <th>Birthday</th>\n",
       "      <th>Salary</th>\n",
       "    </tr>\n",
       "  </thead>\n",
       "  <tbody>\n",
       "    <tr>\n",
       "      <th>447</th>\n",
       "      <td>Robin Lopez</td>\n",
       "      <td>Milwaukee Bucks</td>\n",
       "      <td>C</td>\n",
       "      <td>1988-04-01</td>\n",
       "      <td>4767000</td>\n",
       "    </tr>\n",
       "    <tr>\n",
       "      <th>448</th>\n",
       "      <td>Collin Sexton</td>\n",
       "      <td>Cleveland Cavaliers</td>\n",
       "      <td>PG</td>\n",
       "      <td>1999-01-04</td>\n",
       "      <td>4764960</td>\n",
       "    </tr>\n",
       "    <tr>\n",
       "      <th>449</th>\n",
       "      <td>Ricky Rubio</td>\n",
       "      <td>Phoenix Suns</td>\n",
       "      <td>PG</td>\n",
       "      <td>1990-10-21</td>\n",
       "      <td>16200000</td>\n",
       "    </tr>\n",
       "  </tbody>\n",
       "</table>\n",
       "</div>"
      ],
      "text/plain": [
       "              Name                 Team Position   Birthday    Salary\n",
       "447    Robin Lopez      Milwaukee Bucks        C 1988-04-01   4767000\n",
       "448  Collin Sexton  Cleveland Cavaliers       PG 1999-01-04   4764960\n",
       "449    Ricky Rubio         Phoenix Suns       PG 1990-10-21  16200000"
      ]
     },
     "execution_count": 589,
     "metadata": {},
     "output_type": "execute_result"
    }
   ],
   "source": [
    "nba.tail(n=3)"
   ]
  },
  {
   "cell_type": "code",
   "execution_count": 590,
   "id": "b86a8eb8",
   "metadata": {},
   "outputs": [
    {
     "data": {
      "text/html": [
       "<div>\n",
       "<style scoped>\n",
       "    .dataframe tbody tr th:only-of-type {\n",
       "        vertical-align: middle;\n",
       "    }\n",
       "\n",
       "    .dataframe tbody tr th {\n",
       "        vertical-align: top;\n",
       "    }\n",
       "\n",
       "    .dataframe thead th {\n",
       "        text-align: right;\n",
       "    }\n",
       "</style>\n",
       "<table border=\"1\" class=\"dataframe\">\n",
       "  <thead>\n",
       "    <tr style=\"text-align: right;\">\n",
       "      <th></th>\n",
       "      <th>Name</th>\n",
       "      <th>Team</th>\n",
       "      <th>Position</th>\n",
       "      <th>Birthday</th>\n",
       "      <th>Salary</th>\n",
       "    </tr>\n",
       "  </thead>\n",
       "  <tbody>\n",
       "    <tr>\n",
       "      <th>445</th>\n",
       "      <td>Austin Rivers</td>\n",
       "      <td>Houston Rockets</td>\n",
       "      <td>PG</td>\n",
       "      <td>1992-08-01</td>\n",
       "      <td>2174310</td>\n",
       "    </tr>\n",
       "    <tr>\n",
       "      <th>446</th>\n",
       "      <td>Harry Giles</td>\n",
       "      <td>Sacramento Kings</td>\n",
       "      <td>PF</td>\n",
       "      <td>1998-04-22</td>\n",
       "      <td>2578800</td>\n",
       "    </tr>\n",
       "    <tr>\n",
       "      <th>447</th>\n",
       "      <td>Robin Lopez</td>\n",
       "      <td>Milwaukee Bucks</td>\n",
       "      <td>C</td>\n",
       "      <td>1988-04-01</td>\n",
       "      <td>4767000</td>\n",
       "    </tr>\n",
       "    <tr>\n",
       "      <th>448</th>\n",
       "      <td>Collin Sexton</td>\n",
       "      <td>Cleveland Cavaliers</td>\n",
       "      <td>PG</td>\n",
       "      <td>1999-01-04</td>\n",
       "      <td>4764960</td>\n",
       "    </tr>\n",
       "    <tr>\n",
       "      <th>449</th>\n",
       "      <td>Ricky Rubio</td>\n",
       "      <td>Phoenix Suns</td>\n",
       "      <td>PG</td>\n",
       "      <td>1990-10-21</td>\n",
       "      <td>16200000</td>\n",
       "    </tr>\n",
       "  </tbody>\n",
       "</table>\n",
       "</div>"
      ],
      "text/plain": [
       "              Name                 Team Position   Birthday    Salary\n",
       "445  Austin Rivers      Houston Rockets       PG 1992-08-01   2174310\n",
       "446    Harry Giles     Sacramento Kings       PF 1998-04-22   2578800\n",
       "447    Robin Lopez      Milwaukee Bucks        C 1988-04-01   4767000\n",
       "448  Collin Sexton  Cleveland Cavaliers       PG 1999-01-04   4764960\n",
       "449    Ricky Rubio         Phoenix Suns       PG 1990-10-21  16200000"
      ]
     },
     "execution_count": 590,
     "metadata": {},
     "output_type": "execute_result"
    }
   ],
   "source": [
    "nba.tail()"
   ]
  },
  {
   "cell_type": "code",
   "execution_count": 591,
   "id": "006a1d80",
   "metadata": {},
   "outputs": [
    {
     "data": {
      "text/html": [
       "<div>\n",
       "<style scoped>\n",
       "    .dataframe tbody tr th:only-of-type {\n",
       "        vertical-align: middle;\n",
       "    }\n",
       "\n",
       "    .dataframe tbody tr th {\n",
       "        vertical-align: top;\n",
       "    }\n",
       "\n",
       "    .dataframe thead th {\n",
       "        text-align: right;\n",
       "    }\n",
       "</style>\n",
       "<table border=\"1\" class=\"dataframe\">\n",
       "  <thead>\n",
       "    <tr style=\"text-align: right;\">\n",
       "      <th></th>\n",
       "      <th>Name</th>\n",
       "      <th>Team</th>\n",
       "      <th>Position</th>\n",
       "      <th>Birthday</th>\n",
       "      <th>Salary</th>\n",
       "    </tr>\n",
       "  </thead>\n",
       "  <tbody>\n",
       "    <tr>\n",
       "      <th>353</th>\n",
       "      <td>Chris Chiozza</td>\n",
       "      <td>Washington Wizards</td>\n",
       "      <td>PG</td>\n",
       "      <td>1995-11-21</td>\n",
       "      <td>79568</td>\n",
       "    </tr>\n",
       "    <tr>\n",
       "      <th>117</th>\n",
       "      <td>Devin Booker</td>\n",
       "      <td>Phoenix Suns</td>\n",
       "      <td>SG</td>\n",
       "      <td>1996-10-30</td>\n",
       "      <td>27285000</td>\n",
       "    </tr>\n",
       "    <tr>\n",
       "      <th>421</th>\n",
       "      <td>Jaylen Brown</td>\n",
       "      <td>Boston Celtics</td>\n",
       "      <td>SF</td>\n",
       "      <td>1996-10-24</td>\n",
       "      <td>6534829</td>\n",
       "    </tr>\n",
       "  </tbody>\n",
       "</table>\n",
       "</div>"
      ],
      "text/plain": [
       "              Name                Team Position   Birthday    Salary\n",
       "353  Chris Chiozza  Washington Wizards       PG 1995-11-21     79568\n",
       "117   Devin Booker        Phoenix Suns       SG 1996-10-30  27285000\n",
       "421   Jaylen Brown      Boston Celtics       SF 1996-10-24   6534829"
      ]
     },
     "execution_count": 591,
     "metadata": {},
     "output_type": "execute_result"
    }
   ],
   "source": [
    "nba.sample(3)"
   ]
  },
  {
   "cell_type": "code",
   "execution_count": 592,
   "id": "e5a78f02",
   "metadata": {},
   "outputs": [
    {
     "data": {
      "text/plain": [
       "Name        450\n",
       "Team         30\n",
       "Position      9\n",
       "Birthday    430\n",
       "Salary      269\n",
       "dtype: int64"
      ]
     },
     "execution_count": 592,
     "metadata": {},
     "output_type": "execute_result"
    }
   ],
   "source": [
    "nba.nunique()"
   ]
  },
  {
   "cell_type": "code",
   "execution_count": 593,
   "id": "4d1499df",
   "metadata": {},
   "outputs": [
    {
     "data": {
      "text/plain": [
       "Name             Zylan Cheatham\n",
       "Team         Washington Wizards\n",
       "Position                     SG\n",
       "Birthday    2000-12-23 00:00:00\n",
       "Salary                 40231758\n",
       "dtype: object"
      ]
     },
     "execution_count": 593,
     "metadata": {},
     "output_type": "execute_result"
    }
   ],
   "source": [
    "nba.max()"
   ]
  },
  {
   "cell_type": "code",
   "execution_count": 594,
   "id": "10a13807",
   "metadata": {},
   "outputs": [
    {
     "data": {
      "text/plain": [
       "Name               Aaron Gordon\n",
       "Team              Atlanta Hawks\n",
       "Position                      C\n",
       "Birthday    1977-01-26 00:00:00\n",
       "Salary                    79568\n",
       "dtype: object"
      ]
     },
     "execution_count": 594,
     "metadata": {},
     "output_type": "execute_result"
    }
   ],
   "source": [
    "nba.min()"
   ]
  },
  {
   "cell_type": "code",
   "execution_count": 595,
   "id": "546d57b0",
   "metadata": {},
   "outputs": [
    {
     "data": {
      "text/html": [
       "<div>\n",
       "<style scoped>\n",
       "    .dataframe tbody tr th:only-of-type {\n",
       "        vertical-align: middle;\n",
       "    }\n",
       "\n",
       "    .dataframe tbody tr th {\n",
       "        vertical-align: top;\n",
       "    }\n",
       "\n",
       "    .dataframe thead th {\n",
       "        text-align: right;\n",
       "    }\n",
       "</style>\n",
       "<table border=\"1\" class=\"dataframe\">\n",
       "  <thead>\n",
       "    <tr style=\"text-align: right;\">\n",
       "      <th></th>\n",
       "      <th>Name</th>\n",
       "      <th>Team</th>\n",
       "      <th>Position</th>\n",
       "      <th>Birthday</th>\n",
       "      <th>Salary</th>\n",
       "    </tr>\n",
       "  </thead>\n",
       "  <tbody>\n",
       "    <tr>\n",
       "      <th>205</th>\n",
       "      <td>Stephen Curry</td>\n",
       "      <td>Golden State Warriors</td>\n",
       "      <td>PG</td>\n",
       "      <td>1988-03-14</td>\n",
       "      <td>40231758</td>\n",
       "    </tr>\n",
       "    <tr>\n",
       "      <th>38</th>\n",
       "      <td>Chris Paul</td>\n",
       "      <td>Oklahoma City Thunder</td>\n",
       "      <td>PG</td>\n",
       "      <td>1985-05-06</td>\n",
       "      <td>38506482</td>\n",
       "    </tr>\n",
       "    <tr>\n",
       "      <th>219</th>\n",
       "      <td>Russell Westbrook</td>\n",
       "      <td>Houston Rockets</td>\n",
       "      <td>PG</td>\n",
       "      <td>1988-11-12</td>\n",
       "      <td>38506482</td>\n",
       "    </tr>\n",
       "    <tr>\n",
       "      <th>251</th>\n",
       "      <td>John Wall</td>\n",
       "      <td>Washington Wizards</td>\n",
       "      <td>PG</td>\n",
       "      <td>1990-09-06</td>\n",
       "      <td>38199000</td>\n",
       "    </tr>\n",
       "  </tbody>\n",
       "</table>\n",
       "</div>"
      ],
      "text/plain": [
       "                  Name                   Team Position   Birthday    Salary\n",
       "205      Stephen Curry  Golden State Warriors       PG 1988-03-14  40231758\n",
       "38          Chris Paul  Oklahoma City Thunder       PG 1985-05-06  38506482\n",
       "219  Russell Westbrook        Houston Rockets       PG 1988-11-12  38506482\n",
       "251          John Wall     Washington Wizards       PG 1990-09-06  38199000"
      ]
     },
     "execution_count": 595,
     "metadata": {},
     "output_type": "execute_result"
    }
   ],
   "source": [
    "nba.nlargest(n=4, columns=\"Salary\")"
   ]
  },
  {
   "cell_type": "code",
   "execution_count": 596,
   "id": "7c038f93",
   "metadata": {},
   "outputs": [
    {
     "data": {
      "text/html": [
       "<div>\n",
       "<style scoped>\n",
       "    .dataframe tbody tr th:only-of-type {\n",
       "        vertical-align: middle;\n",
       "    }\n",
       "\n",
       "    .dataframe tbody tr th {\n",
       "        vertical-align: top;\n",
       "    }\n",
       "\n",
       "    .dataframe thead th {\n",
       "        text-align: right;\n",
       "    }\n",
       "</style>\n",
       "<table border=\"1\" class=\"dataframe\">\n",
       "  <thead>\n",
       "    <tr style=\"text-align: right;\">\n",
       "      <th></th>\n",
       "      <th>Name</th>\n",
       "      <th>Team</th>\n",
       "      <th>Position</th>\n",
       "      <th>Birthday</th>\n",
       "      <th>Salary</th>\n",
       "    </tr>\n",
       "  </thead>\n",
       "  <tbody>\n",
       "    <tr>\n",
       "      <th>98</th>\n",
       "      <td>Vince Carter</td>\n",
       "      <td>Atlanta Hawks</td>\n",
       "      <td>PF</td>\n",
       "      <td>1977-01-26</td>\n",
       "      <td>2564753</td>\n",
       "    </tr>\n",
       "    <tr>\n",
       "      <th>196</th>\n",
       "      <td>Udonis Haslem</td>\n",
       "      <td>Miami Heat</td>\n",
       "      <td>C</td>\n",
       "      <td>1980-06-09</td>\n",
       "      <td>2564753</td>\n",
       "    </tr>\n",
       "    <tr>\n",
       "      <th>262</th>\n",
       "      <td>Kyle Korver</td>\n",
       "      <td>Milwaukee Bucks</td>\n",
       "      <td>PF</td>\n",
       "      <td>1981-03-17</td>\n",
       "      <td>6004753</td>\n",
       "    </tr>\n",
       "  </tbody>\n",
       "</table>\n",
       "</div>"
      ],
      "text/plain": [
       "              Name             Team Position   Birthday   Salary\n",
       "98    Vince Carter    Atlanta Hawks       PF 1977-01-26  2564753\n",
       "196  Udonis Haslem       Miami Heat        C 1980-06-09  2564753\n",
       "262    Kyle Korver  Milwaukee Bucks       PF 1981-03-17  6004753"
      ]
     },
     "execution_count": 596,
     "metadata": {},
     "output_type": "execute_result"
    }
   ],
   "source": [
    "nba.nsmallest(n=3, columns=[\"Birthday\"])"
   ]
  },
  {
   "cell_type": "code",
   "execution_count": 597,
   "id": "c235ea90",
   "metadata": {},
   "outputs": [
    {
     "data": {
      "text/plain": [
       "Salary    3444112694\n",
       "dtype: int64"
      ]
     },
     "execution_count": 597,
     "metadata": {},
     "output_type": "execute_result"
    }
   ],
   "source": [
    "nba.sum(numeric_only = True)"
   ]
  },
  {
   "cell_type": "code",
   "execution_count": 598,
   "id": "79de51c7",
   "metadata": {},
   "outputs": [
    {
     "data": {
      "text/plain": [
       "Salary    7.653584e+06\n",
       "dtype: float64"
      ]
     },
     "execution_count": 598,
     "metadata": {},
     "output_type": "execute_result"
    }
   ],
   "source": [
    "nba.mean(numeric_only=True)"
   ]
  },
  {
   "cell_type": "code",
   "execution_count": 599,
   "id": "09690044",
   "metadata": {},
   "outputs": [
    {
     "data": {
      "text/plain": [
       "Salary    3303074.5\n",
       "dtype: float64"
      ]
     },
     "execution_count": 599,
     "metadata": {},
     "output_type": "execute_result"
    }
   ],
   "source": [
    "nba.median(numeric_only=True) # 중앙값"
   ]
  },
  {
   "cell_type": "code",
   "execution_count": 600,
   "id": "8288af74",
   "metadata": {},
   "outputs": [
    {
     "data": {
      "text/html": [
       "<div>\n",
       "<style scoped>\n",
       "    .dataframe tbody tr th:only-of-type {\n",
       "        vertical-align: middle;\n",
       "    }\n",
       "\n",
       "    .dataframe tbody tr th {\n",
       "        vertical-align: top;\n",
       "    }\n",
       "\n",
       "    .dataframe thead th {\n",
       "        text-align: right;\n",
       "    }\n",
       "</style>\n",
       "<table border=\"1\" class=\"dataframe\">\n",
       "  <thead>\n",
       "    <tr style=\"text-align: right;\">\n",
       "      <th></th>\n",
       "      <th>Salary</th>\n",
       "    </tr>\n",
       "  </thead>\n",
       "  <tbody>\n",
       "    <tr>\n",
       "      <th>0</th>\n",
       "      <td>79568</td>\n",
       "    </tr>\n",
       "  </tbody>\n",
       "</table>\n",
       "</div>"
      ],
      "text/plain": [
       "   Salary\n",
       "0   79568"
      ]
     },
     "execution_count": 600,
     "metadata": {},
     "output_type": "execute_result"
    }
   ],
   "source": [
    "nba.mode(numeric_only=True)  #최빈값"
   ]
  },
  {
   "cell_type": "code",
   "execution_count": 601,
   "id": "b7079f53",
   "metadata": {},
   "outputs": [
    {
     "data": {
      "text/plain": [
       "Salary    9.288810e+06\n",
       "dtype: float64"
      ]
     },
     "execution_count": 601,
     "metadata": {},
     "output_type": "execute_result"
    }
   ],
   "source": [
    "nba.std(numeric_only=True)"
   ]
  },
  {
   "cell_type": "markdown",
   "id": "cde18d41",
   "metadata": {},
   "source": [
    "## 4.3"
   ]
  },
  {
   "cell_type": "markdown",
   "id": "d1ad72fa",
   "metadata": {},
   "source": [
    "### 4.3.1"
   ]
  },
  {
   "cell_type": "code",
   "execution_count": 602,
   "id": "82ec8e0c",
   "metadata": {},
   "outputs": [
    {
     "data": {
      "text/html": [
       "<div>\n",
       "<style scoped>\n",
       "    .dataframe tbody tr th:only-of-type {\n",
       "        vertical-align: middle;\n",
       "    }\n",
       "\n",
       "    .dataframe tbody tr th {\n",
       "        vertical-align: top;\n",
       "    }\n",
       "\n",
       "    .dataframe thead th {\n",
       "        text-align: right;\n",
       "    }\n",
       "</style>\n",
       "<table border=\"1\" class=\"dataframe\">\n",
       "  <thead>\n",
       "    <tr style=\"text-align: right;\">\n",
       "      <th></th>\n",
       "      <th>Name</th>\n",
       "      <th>Team</th>\n",
       "      <th>Position</th>\n",
       "      <th>Birthday</th>\n",
       "      <th>Salary</th>\n",
       "    </tr>\n",
       "  </thead>\n",
       "  <tbody>\n",
       "    <tr>\n",
       "      <th>52</th>\n",
       "      <td>Aaron Gordon</td>\n",
       "      <td>Orlando Magic</td>\n",
       "      <td>PF</td>\n",
       "      <td>1995-09-16</td>\n",
       "      <td>19863636</td>\n",
       "    </tr>\n",
       "    <tr>\n",
       "      <th>101</th>\n",
       "      <td>Aaron Holiday</td>\n",
       "      <td>Indiana Pacers</td>\n",
       "      <td>PG</td>\n",
       "      <td>1996-09-30</td>\n",
       "      <td>2239200</td>\n",
       "    </tr>\n",
       "    <tr>\n",
       "      <th>437</th>\n",
       "      <td>Abdel Nader</td>\n",
       "      <td>Oklahoma City Thunder</td>\n",
       "      <td>SF</td>\n",
       "      <td>1993-09-25</td>\n",
       "      <td>1618520</td>\n",
       "    </tr>\n",
       "    <tr>\n",
       "      <th>81</th>\n",
       "      <td>Adam Mokoka</td>\n",
       "      <td>Chicago Bulls</td>\n",
       "      <td>G</td>\n",
       "      <td>1998-07-18</td>\n",
       "      <td>79568</td>\n",
       "    </tr>\n",
       "    <tr>\n",
       "      <th>399</th>\n",
       "      <td>Admiral Schofield</td>\n",
       "      <td>Washington Wizards</td>\n",
       "      <td>SF</td>\n",
       "      <td>1997-03-30</td>\n",
       "      <td>1000000</td>\n",
       "    </tr>\n",
       "    <tr>\n",
       "      <th>...</th>\n",
       "      <td>...</td>\n",
       "      <td>...</td>\n",
       "      <td>...</td>\n",
       "      <td>...</td>\n",
       "      <td>...</td>\n",
       "    </tr>\n",
       "    <tr>\n",
       "      <th>159</th>\n",
       "      <td>Zach LaVine</td>\n",
       "      <td>Chicago Bulls</td>\n",
       "      <td>PG</td>\n",
       "      <td>1995-03-10</td>\n",
       "      <td>19500000</td>\n",
       "    </tr>\n",
       "    <tr>\n",
       "      <th>302</th>\n",
       "      <td>Zach Norvell</td>\n",
       "      <td>Los Angeles Lakers</td>\n",
       "      <td>SG</td>\n",
       "      <td>1997-12-09</td>\n",
       "      <td>79568</td>\n",
       "    </tr>\n",
       "    <tr>\n",
       "      <th>312</th>\n",
       "      <td>Zhaire Smith</td>\n",
       "      <td>Philadelphia 76ers</td>\n",
       "      <td>SG</td>\n",
       "      <td>1999-06-04</td>\n",
       "      <td>3058800</td>\n",
       "    </tr>\n",
       "    <tr>\n",
       "      <th>137</th>\n",
       "      <td>Zion Williamson</td>\n",
       "      <td>New Orleans Pelicans</td>\n",
       "      <td>F</td>\n",
       "      <td>2000-07-06</td>\n",
       "      <td>9757440</td>\n",
       "    </tr>\n",
       "    <tr>\n",
       "      <th>248</th>\n",
       "      <td>Zylan Cheatham</td>\n",
       "      <td>New Orleans Pelicans</td>\n",
       "      <td>SF</td>\n",
       "      <td>1995-11-17</td>\n",
       "      <td>79568</td>\n",
       "    </tr>\n",
       "  </tbody>\n",
       "</table>\n",
       "<p>450 rows × 5 columns</p>\n",
       "</div>"
      ],
      "text/plain": [
       "                  Name                   Team Position   Birthday    Salary\n",
       "52        Aaron Gordon          Orlando Magic       PF 1995-09-16  19863636\n",
       "101      Aaron Holiday         Indiana Pacers       PG 1996-09-30   2239200\n",
       "437        Abdel Nader  Oklahoma City Thunder       SF 1993-09-25   1618520\n",
       "81         Adam Mokoka          Chicago Bulls        G 1998-07-18     79568\n",
       "399  Admiral Schofield     Washington Wizards       SF 1997-03-30   1000000\n",
       "..                 ...                    ...      ...        ...       ...\n",
       "159        Zach LaVine          Chicago Bulls       PG 1995-03-10  19500000\n",
       "302       Zach Norvell     Los Angeles Lakers       SG 1997-12-09     79568\n",
       "312       Zhaire Smith     Philadelphia 76ers       SG 1999-06-04   3058800\n",
       "137    Zion Williamson   New Orleans Pelicans        F 2000-07-06   9757440\n",
       "248     Zylan Cheatham   New Orleans Pelicans       SF 1995-11-17     79568\n",
       "\n",
       "[450 rows x 5 columns]"
      ]
     },
     "execution_count": 602,
     "metadata": {},
     "output_type": "execute_result"
    }
   ],
   "source": [
    "# 다음 두 줄은 결과가 동일합니다.\n",
    "nba.sort_values(\"Name\")"
   ]
  },
  {
   "cell_type": "code",
   "execution_count": 603,
   "id": "884d5682",
   "metadata": {},
   "outputs": [
    {
     "data": {
      "text/html": [
       "<div>\n",
       "<style scoped>\n",
       "    .dataframe tbody tr th:only-of-type {\n",
       "        vertical-align: middle;\n",
       "    }\n",
       "\n",
       "    .dataframe tbody tr th {\n",
       "        vertical-align: top;\n",
       "    }\n",
       "\n",
       "    .dataframe thead th {\n",
       "        text-align: right;\n",
       "    }\n",
       "</style>\n",
       "<table border=\"1\" class=\"dataframe\">\n",
       "  <thead>\n",
       "    <tr style=\"text-align: right;\">\n",
       "      <th></th>\n",
       "      <th>Name</th>\n",
       "      <th>Team</th>\n",
       "      <th>Position</th>\n",
       "      <th>Birthday</th>\n",
       "      <th>Salary</th>\n",
       "    </tr>\n",
       "  </thead>\n",
       "  <tbody>\n",
       "    <tr>\n",
       "      <th>52</th>\n",
       "      <td>Aaron Gordon</td>\n",
       "      <td>Orlando Magic</td>\n",
       "      <td>PF</td>\n",
       "      <td>1995-09-16</td>\n",
       "      <td>19863636</td>\n",
       "    </tr>\n",
       "    <tr>\n",
       "      <th>101</th>\n",
       "      <td>Aaron Holiday</td>\n",
       "      <td>Indiana Pacers</td>\n",
       "      <td>PG</td>\n",
       "      <td>1996-09-30</td>\n",
       "      <td>2239200</td>\n",
       "    </tr>\n",
       "    <tr>\n",
       "      <th>437</th>\n",
       "      <td>Abdel Nader</td>\n",
       "      <td>Oklahoma City Thunder</td>\n",
       "      <td>SF</td>\n",
       "      <td>1993-09-25</td>\n",
       "      <td>1618520</td>\n",
       "    </tr>\n",
       "    <tr>\n",
       "      <th>81</th>\n",
       "      <td>Adam Mokoka</td>\n",
       "      <td>Chicago Bulls</td>\n",
       "      <td>G</td>\n",
       "      <td>1998-07-18</td>\n",
       "      <td>79568</td>\n",
       "    </tr>\n",
       "    <tr>\n",
       "      <th>399</th>\n",
       "      <td>Admiral Schofield</td>\n",
       "      <td>Washington Wizards</td>\n",
       "      <td>SF</td>\n",
       "      <td>1997-03-30</td>\n",
       "      <td>1000000</td>\n",
       "    </tr>\n",
       "    <tr>\n",
       "      <th>...</th>\n",
       "      <td>...</td>\n",
       "      <td>...</td>\n",
       "      <td>...</td>\n",
       "      <td>...</td>\n",
       "      <td>...</td>\n",
       "    </tr>\n",
       "    <tr>\n",
       "      <th>159</th>\n",
       "      <td>Zach LaVine</td>\n",
       "      <td>Chicago Bulls</td>\n",
       "      <td>PG</td>\n",
       "      <td>1995-03-10</td>\n",
       "      <td>19500000</td>\n",
       "    </tr>\n",
       "    <tr>\n",
       "      <th>302</th>\n",
       "      <td>Zach Norvell</td>\n",
       "      <td>Los Angeles Lakers</td>\n",
       "      <td>SG</td>\n",
       "      <td>1997-12-09</td>\n",
       "      <td>79568</td>\n",
       "    </tr>\n",
       "    <tr>\n",
       "      <th>312</th>\n",
       "      <td>Zhaire Smith</td>\n",
       "      <td>Philadelphia 76ers</td>\n",
       "      <td>SG</td>\n",
       "      <td>1999-06-04</td>\n",
       "      <td>3058800</td>\n",
       "    </tr>\n",
       "    <tr>\n",
       "      <th>137</th>\n",
       "      <td>Zion Williamson</td>\n",
       "      <td>New Orleans Pelicans</td>\n",
       "      <td>F</td>\n",
       "      <td>2000-07-06</td>\n",
       "      <td>9757440</td>\n",
       "    </tr>\n",
       "    <tr>\n",
       "      <th>248</th>\n",
       "      <td>Zylan Cheatham</td>\n",
       "      <td>New Orleans Pelicans</td>\n",
       "      <td>SF</td>\n",
       "      <td>1995-11-17</td>\n",
       "      <td>79568</td>\n",
       "    </tr>\n",
       "  </tbody>\n",
       "</table>\n",
       "<p>450 rows × 5 columns</p>\n",
       "</div>"
      ],
      "text/plain": [
       "                  Name                   Team Position   Birthday    Salary\n",
       "52        Aaron Gordon          Orlando Magic       PF 1995-09-16  19863636\n",
       "101      Aaron Holiday         Indiana Pacers       PG 1996-09-30   2239200\n",
       "437        Abdel Nader  Oklahoma City Thunder       SF 1993-09-25   1618520\n",
       "81         Adam Mokoka          Chicago Bulls        G 1998-07-18     79568\n",
       "399  Admiral Schofield     Washington Wizards       SF 1997-03-30   1000000\n",
       "..                 ...                    ...      ...        ...       ...\n",
       "159        Zach LaVine          Chicago Bulls       PG 1995-03-10  19500000\n",
       "302       Zach Norvell     Los Angeles Lakers       SG 1997-12-09     79568\n",
       "312       Zhaire Smith     Philadelphia 76ers       SG 1999-06-04   3058800\n",
       "137    Zion Williamson   New Orleans Pelicans        F 2000-07-06   9757440\n",
       "248     Zylan Cheatham   New Orleans Pelicans       SF 1995-11-17     79568\n",
       "\n",
       "[450 rows x 5 columns]"
      ]
     },
     "execution_count": 603,
     "metadata": {},
     "output_type": "execute_result"
    }
   ],
   "source": [
    "nba.sort_values(by=\"Name\")"
   ]
  },
  {
   "cell_type": "code",
   "execution_count": 604,
   "id": "224a8da5",
   "metadata": {},
   "outputs": [
    {
     "data": {
      "text/html": [
       "<div>\n",
       "<style scoped>\n",
       "    .dataframe tbody tr th:only-of-type {\n",
       "        vertical-align: middle;\n",
       "    }\n",
       "\n",
       "    .dataframe tbody tr th {\n",
       "        vertical-align: top;\n",
       "    }\n",
       "\n",
       "    .dataframe thead th {\n",
       "        text-align: right;\n",
       "    }\n",
       "</style>\n",
       "<table border=\"1\" class=\"dataframe\">\n",
       "  <thead>\n",
       "    <tr style=\"text-align: right;\">\n",
       "      <th></th>\n",
       "      <th>Name</th>\n",
       "      <th>Team</th>\n",
       "      <th>Position</th>\n",
       "      <th>Birthday</th>\n",
       "      <th>Salary</th>\n",
       "    </tr>\n",
       "  </thead>\n",
       "  <tbody>\n",
       "    <tr>\n",
       "      <th>248</th>\n",
       "      <td>Zylan Cheatham</td>\n",
       "      <td>New Orleans Pelicans</td>\n",
       "      <td>SF</td>\n",
       "      <td>1995-11-17</td>\n",
       "      <td>79568</td>\n",
       "    </tr>\n",
       "    <tr>\n",
       "      <th>137</th>\n",
       "      <td>Zion Williamson</td>\n",
       "      <td>New Orleans Pelicans</td>\n",
       "      <td>F</td>\n",
       "      <td>2000-07-06</td>\n",
       "      <td>9757440</td>\n",
       "    </tr>\n",
       "    <tr>\n",
       "      <th>312</th>\n",
       "      <td>Zhaire Smith</td>\n",
       "      <td>Philadelphia 76ers</td>\n",
       "      <td>SG</td>\n",
       "      <td>1999-06-04</td>\n",
       "      <td>3058800</td>\n",
       "    </tr>\n",
       "    <tr>\n",
       "      <th>302</th>\n",
       "      <td>Zach Norvell</td>\n",
       "      <td>Los Angeles Lakers</td>\n",
       "      <td>SG</td>\n",
       "      <td>1997-12-09</td>\n",
       "      <td>79568</td>\n",
       "    </tr>\n",
       "    <tr>\n",
       "      <th>159</th>\n",
       "      <td>Zach LaVine</td>\n",
       "      <td>Chicago Bulls</td>\n",
       "      <td>PG</td>\n",
       "      <td>1995-03-10</td>\n",
       "      <td>19500000</td>\n",
       "    </tr>\n",
       "  </tbody>\n",
       "</table>\n",
       "</div>"
      ],
      "text/plain": [
       "                Name                  Team Position   Birthday    Salary\n",
       "248   Zylan Cheatham  New Orleans Pelicans       SF 1995-11-17     79568\n",
       "137  Zion Williamson  New Orleans Pelicans        F 2000-07-06   9757440\n",
       "312     Zhaire Smith    Philadelphia 76ers       SG 1999-06-04   3058800\n",
       "302     Zach Norvell    Los Angeles Lakers       SG 1997-12-09     79568\n",
       "159      Zach LaVine         Chicago Bulls       PG 1995-03-10  19500000"
      ]
     },
     "execution_count": 604,
     "metadata": {},
     "output_type": "execute_result"
    }
   ],
   "source": [
    "nba.sort_values(\"Name\", ascending=False).head()"
   ]
  },
  {
   "cell_type": "code",
   "execution_count": 605,
   "id": "d18b117b",
   "metadata": {},
   "outputs": [
    {
     "data": {
      "text/html": [
       "<div>\n",
       "<style scoped>\n",
       "    .dataframe tbody tr th:only-of-type {\n",
       "        vertical-align: middle;\n",
       "    }\n",
       "\n",
       "    .dataframe tbody tr th {\n",
       "        vertical-align: top;\n",
       "    }\n",
       "\n",
       "    .dataframe thead th {\n",
       "        text-align: right;\n",
       "    }\n",
       "</style>\n",
       "<table border=\"1\" class=\"dataframe\">\n",
       "  <thead>\n",
       "    <tr style=\"text-align: right;\">\n",
       "      <th></th>\n",
       "      <th>Name</th>\n",
       "      <th>Team</th>\n",
       "      <th>Position</th>\n",
       "      <th>Birthday</th>\n",
       "      <th>Salary</th>\n",
       "    </tr>\n",
       "  </thead>\n",
       "  <tbody>\n",
       "    <tr>\n",
       "      <th>136</th>\n",
       "      <td>Sekou Doumbouya</td>\n",
       "      <td>Detroit Pistons</td>\n",
       "      <td>SF</td>\n",
       "      <td>2000-12-23</td>\n",
       "      <td>3285120</td>\n",
       "    </tr>\n",
       "    <tr>\n",
       "      <th>432</th>\n",
       "      <td>Talen Horton-Tucker</td>\n",
       "      <td>Los Angeles Lakers</td>\n",
       "      <td>GF</td>\n",
       "      <td>2000-11-25</td>\n",
       "      <td>898310</td>\n",
       "    </tr>\n",
       "    <tr>\n",
       "      <th>137</th>\n",
       "      <td>Zion Williamson</td>\n",
       "      <td>New Orleans Pelicans</td>\n",
       "      <td>F</td>\n",
       "      <td>2000-07-06</td>\n",
       "      <td>9757440</td>\n",
       "    </tr>\n",
       "    <tr>\n",
       "      <th>313</th>\n",
       "      <td>RJ Barrett</td>\n",
       "      <td>New York Knicks</td>\n",
       "      <td>SG</td>\n",
       "      <td>2000-06-14</td>\n",
       "      <td>7839960</td>\n",
       "    </tr>\n",
       "    <tr>\n",
       "      <th>392</th>\n",
       "      <td>Jalen Lecque</td>\n",
       "      <td>Phoenix Suns</td>\n",
       "      <td>G</td>\n",
       "      <td>2000-06-13</td>\n",
       "      <td>898310</td>\n",
       "    </tr>\n",
       "  </tbody>\n",
       "</table>\n",
       "</div>"
      ],
      "text/plain": [
       "                    Name                  Team Position   Birthday   Salary\n",
       "136      Sekou Doumbouya       Detroit Pistons       SF 2000-12-23  3285120\n",
       "432  Talen Horton-Tucker    Los Angeles Lakers       GF 2000-11-25   898310\n",
       "137      Zion Williamson  New Orleans Pelicans        F 2000-07-06  9757440\n",
       "313           RJ Barrett       New York Knicks       SG 2000-06-14  7839960\n",
       "392         Jalen Lecque          Phoenix Suns        G 2000-06-13   898310"
      ]
     },
     "execution_count": 605,
     "metadata": {},
     "output_type": "execute_result"
    }
   ],
   "source": [
    "nba.sort_values(\"Birthday\", ascending=False).head()"
   ]
  },
  {
   "cell_type": "markdown",
   "id": "cf22bd1b",
   "metadata": {},
   "source": [
    "### 4.3.2"
   ]
  },
  {
   "cell_type": "code",
   "execution_count": 606,
   "id": "d09880e7",
   "metadata": {},
   "outputs": [
    {
     "data": {
      "text/html": [
       "<div>\n",
       "<style scoped>\n",
       "    .dataframe tbody tr th:only-of-type {\n",
       "        vertical-align: middle;\n",
       "    }\n",
       "\n",
       "    .dataframe tbody tr th {\n",
       "        vertical-align: top;\n",
       "    }\n",
       "\n",
       "    .dataframe thead th {\n",
       "        text-align: right;\n",
       "    }\n",
       "</style>\n",
       "<table border=\"1\" class=\"dataframe\">\n",
       "  <thead>\n",
       "    <tr style=\"text-align: right;\">\n",
       "      <th></th>\n",
       "      <th>Name</th>\n",
       "      <th>Team</th>\n",
       "      <th>Position</th>\n",
       "      <th>Birthday</th>\n",
       "      <th>Salary</th>\n",
       "    </tr>\n",
       "  </thead>\n",
       "  <tbody>\n",
       "    <tr>\n",
       "      <th>359</th>\n",
       "      <td>Alex Len</td>\n",
       "      <td>Atlanta Hawks</td>\n",
       "      <td>C</td>\n",
       "      <td>1993-06-16</td>\n",
       "      <td>4160000</td>\n",
       "    </tr>\n",
       "    <tr>\n",
       "      <th>167</th>\n",
       "      <td>Allen Crabbe</td>\n",
       "      <td>Atlanta Hawks</td>\n",
       "      <td>SG</td>\n",
       "      <td>1992-04-09</td>\n",
       "      <td>18500000</td>\n",
       "    </tr>\n",
       "    <tr>\n",
       "      <th>276</th>\n",
       "      <td>Brandon Goodwin</td>\n",
       "      <td>Atlanta Hawks</td>\n",
       "      <td>PG</td>\n",
       "      <td>1995-10-02</td>\n",
       "      <td>79568</td>\n",
       "    </tr>\n",
       "    <tr>\n",
       "      <th>438</th>\n",
       "      <td>Bruno Fernando</td>\n",
       "      <td>Atlanta Hawks</td>\n",
       "      <td>C</td>\n",
       "      <td>1998-08-15</td>\n",
       "      <td>1400000</td>\n",
       "    </tr>\n",
       "    <tr>\n",
       "      <th>194</th>\n",
       "      <td>Cam Reddish</td>\n",
       "      <td>Atlanta Hawks</td>\n",
       "      <td>SF</td>\n",
       "      <td>1999-09-01</td>\n",
       "      <td>4245720</td>\n",
       "    </tr>\n",
       "    <tr>\n",
       "      <th>...</th>\n",
       "      <td>...</td>\n",
       "      <td>...</td>\n",
       "      <td>...</td>\n",
       "      <td>...</td>\n",
       "      <td>...</td>\n",
       "    </tr>\n",
       "    <tr>\n",
       "      <th>418</th>\n",
       "      <td>Jordan McRae</td>\n",
       "      <td>Washington Wizards</td>\n",
       "      <td>PG</td>\n",
       "      <td>1991-03-28</td>\n",
       "      <td>1645357</td>\n",
       "    </tr>\n",
       "    <tr>\n",
       "      <th>273</th>\n",
       "      <td>Justin Robinson</td>\n",
       "      <td>Washington Wizards</td>\n",
       "      <td>PG</td>\n",
       "      <td>1997-10-12</td>\n",
       "      <td>898310</td>\n",
       "    </tr>\n",
       "    <tr>\n",
       "      <th>428</th>\n",
       "      <td>Moritz Wagner</td>\n",
       "      <td>Washington Wizards</td>\n",
       "      <td>C</td>\n",
       "      <td>1997-04-26</td>\n",
       "      <td>2063520</td>\n",
       "    </tr>\n",
       "    <tr>\n",
       "      <th>21</th>\n",
       "      <td>Rui Hachimura</td>\n",
       "      <td>Washington Wizards</td>\n",
       "      <td>PF</td>\n",
       "      <td>1998-02-08</td>\n",
       "      <td>4469160</td>\n",
       "    </tr>\n",
       "    <tr>\n",
       "      <th>36</th>\n",
       "      <td>Thomas Bryant</td>\n",
       "      <td>Washington Wizards</td>\n",
       "      <td>C</td>\n",
       "      <td>1997-07-31</td>\n",
       "      <td>8000000</td>\n",
       "    </tr>\n",
       "  </tbody>\n",
       "</table>\n",
       "<p>450 rows × 5 columns</p>\n",
       "</div>"
      ],
      "text/plain": [
       "                Name                Team Position   Birthday    Salary\n",
       "359         Alex Len       Atlanta Hawks        C 1993-06-16   4160000\n",
       "167     Allen Crabbe       Atlanta Hawks       SG 1992-04-09  18500000\n",
       "276  Brandon Goodwin       Atlanta Hawks       PG 1995-10-02     79568\n",
       "438   Bruno Fernando       Atlanta Hawks        C 1998-08-15   1400000\n",
       "194      Cam Reddish       Atlanta Hawks       SF 1999-09-01   4245720\n",
       "..               ...                 ...      ...        ...       ...\n",
       "418     Jordan McRae  Washington Wizards       PG 1991-03-28   1645357\n",
       "273  Justin Robinson  Washington Wizards       PG 1997-10-12    898310\n",
       "428    Moritz Wagner  Washington Wizards        C 1997-04-26   2063520\n",
       "21     Rui Hachimura  Washington Wizards       PF 1998-02-08   4469160\n",
       "36     Thomas Bryant  Washington Wizards        C 1997-07-31   8000000\n",
       "\n",
       "[450 rows x 5 columns]"
      ]
     },
     "execution_count": 606,
     "metadata": {},
     "output_type": "execute_result"
    }
   ],
   "source": [
    "nba.sort_values(by = [\"Team\", \"Name\"])"
   ]
  },
  {
   "cell_type": "code",
   "execution_count": 607,
   "id": "d8bb15a6",
   "metadata": {},
   "outputs": [
    {
     "data": {
      "text/html": [
       "<div>\n",
       "<style scoped>\n",
       "    .dataframe tbody tr th:only-of-type {\n",
       "        vertical-align: middle;\n",
       "    }\n",
       "\n",
       "    .dataframe tbody tr th {\n",
       "        vertical-align: top;\n",
       "    }\n",
       "\n",
       "    .dataframe thead th {\n",
       "        text-align: right;\n",
       "    }\n",
       "</style>\n",
       "<table border=\"1\" class=\"dataframe\">\n",
       "  <thead>\n",
       "    <tr style=\"text-align: right;\">\n",
       "      <th></th>\n",
       "      <th>Name</th>\n",
       "      <th>Team</th>\n",
       "      <th>Position</th>\n",
       "      <th>Birthday</th>\n",
       "      <th>Salary</th>\n",
       "    </tr>\n",
       "  </thead>\n",
       "  <tbody>\n",
       "    <tr>\n",
       "      <th>36</th>\n",
       "      <td>Thomas Bryant</td>\n",
       "      <td>Washington Wizards</td>\n",
       "      <td>C</td>\n",
       "      <td>1997-07-31</td>\n",
       "      <td>8000000</td>\n",
       "    </tr>\n",
       "    <tr>\n",
       "      <th>21</th>\n",
       "      <td>Rui Hachimura</td>\n",
       "      <td>Washington Wizards</td>\n",
       "      <td>PF</td>\n",
       "      <td>1998-02-08</td>\n",
       "      <td>4469160</td>\n",
       "    </tr>\n",
       "    <tr>\n",
       "      <th>428</th>\n",
       "      <td>Moritz Wagner</td>\n",
       "      <td>Washington Wizards</td>\n",
       "      <td>C</td>\n",
       "      <td>1997-04-26</td>\n",
       "      <td>2063520</td>\n",
       "    </tr>\n",
       "    <tr>\n",
       "      <th>273</th>\n",
       "      <td>Justin Robinson</td>\n",
       "      <td>Washington Wizards</td>\n",
       "      <td>PG</td>\n",
       "      <td>1997-10-12</td>\n",
       "      <td>898310</td>\n",
       "    </tr>\n",
       "    <tr>\n",
       "      <th>418</th>\n",
       "      <td>Jordan McRae</td>\n",
       "      <td>Washington Wizards</td>\n",
       "      <td>PG</td>\n",
       "      <td>1991-03-28</td>\n",
       "      <td>1645357</td>\n",
       "    </tr>\n",
       "    <tr>\n",
       "      <th>...</th>\n",
       "      <td>...</td>\n",
       "      <td>...</td>\n",
       "      <td>...</td>\n",
       "      <td>...</td>\n",
       "      <td>...</td>\n",
       "    </tr>\n",
       "    <tr>\n",
       "      <th>194</th>\n",
       "      <td>Cam Reddish</td>\n",
       "      <td>Atlanta Hawks</td>\n",
       "      <td>SF</td>\n",
       "      <td>1999-09-01</td>\n",
       "      <td>4245720</td>\n",
       "    </tr>\n",
       "    <tr>\n",
       "      <th>438</th>\n",
       "      <td>Bruno Fernando</td>\n",
       "      <td>Atlanta Hawks</td>\n",
       "      <td>C</td>\n",
       "      <td>1998-08-15</td>\n",
       "      <td>1400000</td>\n",
       "    </tr>\n",
       "    <tr>\n",
       "      <th>276</th>\n",
       "      <td>Brandon Goodwin</td>\n",
       "      <td>Atlanta Hawks</td>\n",
       "      <td>PG</td>\n",
       "      <td>1995-10-02</td>\n",
       "      <td>79568</td>\n",
       "    </tr>\n",
       "    <tr>\n",
       "      <th>167</th>\n",
       "      <td>Allen Crabbe</td>\n",
       "      <td>Atlanta Hawks</td>\n",
       "      <td>SG</td>\n",
       "      <td>1992-04-09</td>\n",
       "      <td>18500000</td>\n",
       "    </tr>\n",
       "    <tr>\n",
       "      <th>359</th>\n",
       "      <td>Alex Len</td>\n",
       "      <td>Atlanta Hawks</td>\n",
       "      <td>C</td>\n",
       "      <td>1993-06-16</td>\n",
       "      <td>4160000</td>\n",
       "    </tr>\n",
       "  </tbody>\n",
       "</table>\n",
       "<p>450 rows × 5 columns</p>\n",
       "</div>"
      ],
      "text/plain": [
       "                Name                Team Position   Birthday    Salary\n",
       "36     Thomas Bryant  Washington Wizards        C 1997-07-31   8000000\n",
       "21     Rui Hachimura  Washington Wizards       PF 1998-02-08   4469160\n",
       "428    Moritz Wagner  Washington Wizards        C 1997-04-26   2063520\n",
       "273  Justin Robinson  Washington Wizards       PG 1997-10-12    898310\n",
       "418     Jordan McRae  Washington Wizards       PG 1991-03-28   1645357\n",
       "..               ...                 ...      ...        ...       ...\n",
       "194      Cam Reddish       Atlanta Hawks       SF 1999-09-01   4245720\n",
       "438   Bruno Fernando       Atlanta Hawks        C 1998-08-15   1400000\n",
       "276  Brandon Goodwin       Atlanta Hawks       PG 1995-10-02     79568\n",
       "167     Allen Crabbe       Atlanta Hawks       SG 1992-04-09  18500000\n",
       "359         Alex Len       Atlanta Hawks        C 1993-06-16   4160000\n",
       "\n",
       "[450 rows x 5 columns]"
      ]
     },
     "execution_count": 607,
     "metadata": {},
     "output_type": "execute_result"
    }
   ],
   "source": [
    "nba.sort_values([\"Team\", \"Name\"], ascending=False)"
   ]
  },
  {
   "cell_type": "code",
   "execution_count": 608,
   "id": "50d85178",
   "metadata": {},
   "outputs": [
    {
     "data": {
      "text/html": [
       "<div>\n",
       "<style scoped>\n",
       "    .dataframe tbody tr th:only-of-type {\n",
       "        vertical-align: middle;\n",
       "    }\n",
       "\n",
       "    .dataframe tbody tr th {\n",
       "        vertical-align: top;\n",
       "    }\n",
       "\n",
       "    .dataframe thead th {\n",
       "        text-align: right;\n",
       "    }\n",
       "</style>\n",
       "<table border=\"1\" class=\"dataframe\">\n",
       "  <thead>\n",
       "    <tr style=\"text-align: right;\">\n",
       "      <th></th>\n",
       "      <th>Name</th>\n",
       "      <th>Team</th>\n",
       "      <th>Position</th>\n",
       "      <th>Birthday</th>\n",
       "      <th>Salary</th>\n",
       "    </tr>\n",
       "  </thead>\n",
       "  <tbody>\n",
       "    <tr>\n",
       "      <th>111</th>\n",
       "      <td>Chandler Parsons</td>\n",
       "      <td>Atlanta Hawks</td>\n",
       "      <td>SF</td>\n",
       "      <td>1988-10-25</td>\n",
       "      <td>25102512</td>\n",
       "    </tr>\n",
       "    <tr>\n",
       "      <th>28</th>\n",
       "      <td>Evan Turner</td>\n",
       "      <td>Atlanta Hawks</td>\n",
       "      <td>PG</td>\n",
       "      <td>1988-10-27</td>\n",
       "      <td>18606556</td>\n",
       "    </tr>\n",
       "    <tr>\n",
       "      <th>167</th>\n",
       "      <td>Allen Crabbe</td>\n",
       "      <td>Atlanta Hawks</td>\n",
       "      <td>SG</td>\n",
       "      <td>1992-04-09</td>\n",
       "      <td>18500000</td>\n",
       "    </tr>\n",
       "    <tr>\n",
       "      <th>213</th>\n",
       "      <td>De'Andre Hunter</td>\n",
       "      <td>Atlanta Hawks</td>\n",
       "      <td>SF</td>\n",
       "      <td>1997-12-02</td>\n",
       "      <td>7068360</td>\n",
       "    </tr>\n",
       "    <tr>\n",
       "      <th>339</th>\n",
       "      <td>Jabari Parker</td>\n",
       "      <td>Atlanta Hawks</td>\n",
       "      <td>PF</td>\n",
       "      <td>1995-03-15</td>\n",
       "      <td>6500000</td>\n",
       "    </tr>\n",
       "    <tr>\n",
       "      <th>...</th>\n",
       "      <td>...</td>\n",
       "      <td>...</td>\n",
       "      <td>...</td>\n",
       "      <td>...</td>\n",
       "      <td>...</td>\n",
       "    </tr>\n",
       "    <tr>\n",
       "      <th>80</th>\n",
       "      <td>Isaac Bonga</td>\n",
       "      <td>Washington Wizards</td>\n",
       "      <td>PG</td>\n",
       "      <td>1999-11-08</td>\n",
       "      <td>1416852</td>\n",
       "    </tr>\n",
       "    <tr>\n",
       "      <th>399</th>\n",
       "      <td>Admiral Schofield</td>\n",
       "      <td>Washington Wizards</td>\n",
       "      <td>SF</td>\n",
       "      <td>1997-03-30</td>\n",
       "      <td>1000000</td>\n",
       "    </tr>\n",
       "    <tr>\n",
       "      <th>273</th>\n",
       "      <td>Justin Robinson</td>\n",
       "      <td>Washington Wizards</td>\n",
       "      <td>PG</td>\n",
       "      <td>1997-10-12</td>\n",
       "      <td>898310</td>\n",
       "    </tr>\n",
       "    <tr>\n",
       "      <th>283</th>\n",
       "      <td>Garrison Mathews</td>\n",
       "      <td>Washington Wizards</td>\n",
       "      <td>SG</td>\n",
       "      <td>1996-10-24</td>\n",
       "      <td>79568</td>\n",
       "    </tr>\n",
       "    <tr>\n",
       "      <th>353</th>\n",
       "      <td>Chris Chiozza</td>\n",
       "      <td>Washington Wizards</td>\n",
       "      <td>PG</td>\n",
       "      <td>1995-11-21</td>\n",
       "      <td>79568</td>\n",
       "    </tr>\n",
       "  </tbody>\n",
       "</table>\n",
       "<p>450 rows × 5 columns</p>\n",
       "</div>"
      ],
      "text/plain": [
       "                  Name                Team Position   Birthday    Salary\n",
       "111   Chandler Parsons       Atlanta Hawks       SF 1988-10-25  25102512\n",
       "28         Evan Turner       Atlanta Hawks       PG 1988-10-27  18606556\n",
       "167       Allen Crabbe       Atlanta Hawks       SG 1992-04-09  18500000\n",
       "213    De'Andre Hunter       Atlanta Hawks       SF 1997-12-02   7068360\n",
       "339      Jabari Parker       Atlanta Hawks       PF 1995-03-15   6500000\n",
       "..                 ...                 ...      ...        ...       ...\n",
       "80         Isaac Bonga  Washington Wizards       PG 1999-11-08   1416852\n",
       "399  Admiral Schofield  Washington Wizards       SF 1997-03-30   1000000\n",
       "273    Justin Robinson  Washington Wizards       PG 1997-10-12    898310\n",
       "283   Garrison Mathews  Washington Wizards       SG 1996-10-24     79568\n",
       "353      Chris Chiozza  Washington Wizards       PG 1995-11-21     79568\n",
       "\n",
       "[450 rows x 5 columns]"
      ]
     },
     "execution_count": 608,
     "metadata": {},
     "output_type": "execute_result"
    }
   ],
   "source": [
    "nba.sort_values([\"Team\", \"Salary\"], ascending=[True, False])"
   ]
  },
  {
   "cell_type": "code",
   "execution_count": 609,
   "id": "a9b8bb1a",
   "metadata": {},
   "outputs": [
    {
     "data": {
      "text/html": [
       "<div>\n",
       "<style scoped>\n",
       "    .dataframe tbody tr th:only-of-type {\n",
       "        vertical-align: middle;\n",
       "    }\n",
       "\n",
       "    .dataframe tbody tr th {\n",
       "        vertical-align: top;\n",
       "    }\n",
       "\n",
       "    .dataframe thead th {\n",
       "        text-align: right;\n",
       "    }\n",
       "</style>\n",
       "<table border=\"1\" class=\"dataframe\">\n",
       "  <thead>\n",
       "    <tr style=\"text-align: right;\">\n",
       "      <th></th>\n",
       "      <th>Name</th>\n",
       "      <th>Team</th>\n",
       "      <th>Position</th>\n",
       "      <th>Birthday</th>\n",
       "      <th>Salary</th>\n",
       "    </tr>\n",
       "  </thead>\n",
       "  <tbody>\n",
       "    <tr>\n",
       "      <th>111</th>\n",
       "      <td>Chandler Parsons</td>\n",
       "      <td>Atlanta Hawks</td>\n",
       "      <td>SF</td>\n",
       "      <td>1988-10-25</td>\n",
       "      <td>25102512</td>\n",
       "    </tr>\n",
       "    <tr>\n",
       "      <th>28</th>\n",
       "      <td>Evan Turner</td>\n",
       "      <td>Atlanta Hawks</td>\n",
       "      <td>PG</td>\n",
       "      <td>1988-10-27</td>\n",
       "      <td>18606556</td>\n",
       "    </tr>\n",
       "    <tr>\n",
       "      <th>167</th>\n",
       "      <td>Allen Crabbe</td>\n",
       "      <td>Atlanta Hawks</td>\n",
       "      <td>SG</td>\n",
       "      <td>1992-04-09</td>\n",
       "      <td>18500000</td>\n",
       "    </tr>\n",
       "    <tr>\n",
       "      <th>213</th>\n",
       "      <td>De'Andre Hunter</td>\n",
       "      <td>Atlanta Hawks</td>\n",
       "      <td>SF</td>\n",
       "      <td>1997-12-02</td>\n",
       "      <td>7068360</td>\n",
       "    </tr>\n",
       "    <tr>\n",
       "      <th>339</th>\n",
       "      <td>Jabari Parker</td>\n",
       "      <td>Atlanta Hawks</td>\n",
       "      <td>PF</td>\n",
       "      <td>1995-03-15</td>\n",
       "      <td>6500000</td>\n",
       "    </tr>\n",
       "    <tr>\n",
       "      <th>...</th>\n",
       "      <td>...</td>\n",
       "      <td>...</td>\n",
       "      <td>...</td>\n",
       "      <td>...</td>\n",
       "      <td>...</td>\n",
       "    </tr>\n",
       "    <tr>\n",
       "      <th>80</th>\n",
       "      <td>Isaac Bonga</td>\n",
       "      <td>Washington Wizards</td>\n",
       "      <td>PG</td>\n",
       "      <td>1999-11-08</td>\n",
       "      <td>1416852</td>\n",
       "    </tr>\n",
       "    <tr>\n",
       "      <th>399</th>\n",
       "      <td>Admiral Schofield</td>\n",
       "      <td>Washington Wizards</td>\n",
       "      <td>SF</td>\n",
       "      <td>1997-03-30</td>\n",
       "      <td>1000000</td>\n",
       "    </tr>\n",
       "    <tr>\n",
       "      <th>273</th>\n",
       "      <td>Justin Robinson</td>\n",
       "      <td>Washington Wizards</td>\n",
       "      <td>PG</td>\n",
       "      <td>1997-10-12</td>\n",
       "      <td>898310</td>\n",
       "    </tr>\n",
       "    <tr>\n",
       "      <th>283</th>\n",
       "      <td>Garrison Mathews</td>\n",
       "      <td>Washington Wizards</td>\n",
       "      <td>SG</td>\n",
       "      <td>1996-10-24</td>\n",
       "      <td>79568</td>\n",
       "    </tr>\n",
       "    <tr>\n",
       "      <th>353</th>\n",
       "      <td>Chris Chiozza</td>\n",
       "      <td>Washington Wizards</td>\n",
       "      <td>PG</td>\n",
       "      <td>1995-11-21</td>\n",
       "      <td>79568</td>\n",
       "    </tr>\n",
       "  </tbody>\n",
       "</table>\n",
       "<p>450 rows × 5 columns</p>\n",
       "</div>"
      ],
      "text/plain": [
       "                  Name                Team Position   Birthday    Salary\n",
       "111   Chandler Parsons       Atlanta Hawks       SF 1988-10-25  25102512\n",
       "28         Evan Turner       Atlanta Hawks       PG 1988-10-27  18606556\n",
       "167       Allen Crabbe       Atlanta Hawks       SG 1992-04-09  18500000\n",
       "213    De'Andre Hunter       Atlanta Hawks       SF 1997-12-02   7068360\n",
       "339      Jabari Parker       Atlanta Hawks       PF 1995-03-15   6500000\n",
       "..                 ...                 ...      ...        ...       ...\n",
       "80         Isaac Bonga  Washington Wizards       PG 1999-11-08   1416852\n",
       "399  Admiral Schofield  Washington Wizards       SF 1997-03-30   1000000\n",
       "273    Justin Robinson  Washington Wizards       PG 1997-10-12    898310\n",
       "283   Garrison Mathews  Washington Wizards       SG 1996-10-24     79568\n",
       "353      Chris Chiozza  Washington Wizards       PG 1995-11-21     79568\n",
       "\n",
       "[450 rows x 5 columns]"
      ]
     },
     "execution_count": 609,
     "metadata": {},
     "output_type": "execute_result"
    }
   ],
   "source": [
    "nba = nba.sort_values(\n",
    "by = [\"Team\", \"Salary\"],\n",
    "ascending = [True, False])\n",
    "nba"
   ]
  },
  {
   "cell_type": "markdown",
   "id": "761f5973",
   "metadata": {},
   "source": [
    "## 4.4"
   ]
  },
  {
   "cell_type": "code",
   "execution_count": 610,
   "id": "4ffc7cb6",
   "metadata": {},
   "outputs": [
    {
     "data": {
      "text/html": [
       "<div>\n",
       "<style scoped>\n",
       "    .dataframe tbody tr th:only-of-type {\n",
       "        vertical-align: middle;\n",
       "    }\n",
       "\n",
       "    .dataframe tbody tr th {\n",
       "        vertical-align: top;\n",
       "    }\n",
       "\n",
       "    .dataframe thead th {\n",
       "        text-align: right;\n",
       "    }\n",
       "</style>\n",
       "<table border=\"1\" class=\"dataframe\">\n",
       "  <thead>\n",
       "    <tr style=\"text-align: right;\">\n",
       "      <th></th>\n",
       "      <th>Name</th>\n",
       "      <th>Team</th>\n",
       "      <th>Position</th>\n",
       "      <th>Birthday</th>\n",
       "      <th>Salary</th>\n",
       "    </tr>\n",
       "  </thead>\n",
       "  <tbody>\n",
       "    <tr>\n",
       "      <th>111</th>\n",
       "      <td>Chandler Parsons</td>\n",
       "      <td>Atlanta Hawks</td>\n",
       "      <td>SF</td>\n",
       "      <td>1988-10-25</td>\n",
       "      <td>25102512</td>\n",
       "    </tr>\n",
       "    <tr>\n",
       "      <th>28</th>\n",
       "      <td>Evan Turner</td>\n",
       "      <td>Atlanta Hawks</td>\n",
       "      <td>PG</td>\n",
       "      <td>1988-10-27</td>\n",
       "      <td>18606556</td>\n",
       "    </tr>\n",
       "    <tr>\n",
       "      <th>167</th>\n",
       "      <td>Allen Crabbe</td>\n",
       "      <td>Atlanta Hawks</td>\n",
       "      <td>SG</td>\n",
       "      <td>1992-04-09</td>\n",
       "      <td>18500000</td>\n",
       "    </tr>\n",
       "    <tr>\n",
       "      <th>213</th>\n",
       "      <td>De'Andre Hunter</td>\n",
       "      <td>Atlanta Hawks</td>\n",
       "      <td>SF</td>\n",
       "      <td>1997-12-02</td>\n",
       "      <td>7068360</td>\n",
       "    </tr>\n",
       "    <tr>\n",
       "      <th>339</th>\n",
       "      <td>Jabari Parker</td>\n",
       "      <td>Atlanta Hawks</td>\n",
       "      <td>PF</td>\n",
       "      <td>1995-03-15</td>\n",
       "      <td>6500000</td>\n",
       "    </tr>\n",
       "  </tbody>\n",
       "</table>\n",
       "</div>"
      ],
      "text/plain": [
       "                 Name           Team Position   Birthday    Salary\n",
       "111  Chandler Parsons  Atlanta Hawks       SF 1988-10-25  25102512\n",
       "28        Evan Turner  Atlanta Hawks       PG 1988-10-27  18606556\n",
       "167      Allen Crabbe  Atlanta Hawks       SG 1992-04-09  18500000\n",
       "213   De'Andre Hunter  Atlanta Hawks       SF 1997-12-02   7068360\n",
       "339     Jabari Parker  Atlanta Hawks       PF 1995-03-15   6500000"
      ]
     },
     "execution_count": 610,
     "metadata": {},
     "output_type": "execute_result"
    }
   ],
   "source": [
    "nba.head()"
   ]
  },
  {
   "cell_type": "code",
   "execution_count": 611,
   "id": "2e798dba",
   "metadata": {},
   "outputs": [],
   "source": [
    "### 4.4.1"
   ]
  },
  {
   "cell_type": "code",
   "execution_count": 612,
   "id": "db6108c1",
   "metadata": {},
   "outputs": [
    {
     "data": {
      "text/html": [
       "<div>\n",
       "<style scoped>\n",
       "    .dataframe tbody tr th:only-of-type {\n",
       "        vertical-align: middle;\n",
       "    }\n",
       "\n",
       "    .dataframe tbody tr th {\n",
       "        vertical-align: top;\n",
       "    }\n",
       "\n",
       "    .dataframe thead th {\n",
       "        text-align: right;\n",
       "    }\n",
       "</style>\n",
       "<table border=\"1\" class=\"dataframe\">\n",
       "  <thead>\n",
       "    <tr style=\"text-align: right;\">\n",
       "      <th></th>\n",
       "      <th>Name</th>\n",
       "      <th>Team</th>\n",
       "      <th>Position</th>\n",
       "      <th>Birthday</th>\n",
       "      <th>Salary</th>\n",
       "    </tr>\n",
       "  </thead>\n",
       "  <tbody>\n",
       "    <tr>\n",
       "      <th>0</th>\n",
       "      <td>Shake Milton</td>\n",
       "      <td>Philadelphia 76ers</td>\n",
       "      <td>SG</td>\n",
       "      <td>1996-09-26</td>\n",
       "      <td>1445697</td>\n",
       "    </tr>\n",
       "    <tr>\n",
       "      <th>1</th>\n",
       "      <td>Christian Wood</td>\n",
       "      <td>Detroit Pistons</td>\n",
       "      <td>PF</td>\n",
       "      <td>1995-09-27</td>\n",
       "      <td>1645357</td>\n",
       "    </tr>\n",
       "    <tr>\n",
       "      <th>2</th>\n",
       "      <td>PJ Washington</td>\n",
       "      <td>Charlotte Hornets</td>\n",
       "      <td>PF</td>\n",
       "      <td>1998-08-23</td>\n",
       "      <td>3831840</td>\n",
       "    </tr>\n",
       "    <tr>\n",
       "      <th>3</th>\n",
       "      <td>Derrick Rose</td>\n",
       "      <td>Detroit Pistons</td>\n",
       "      <td>PG</td>\n",
       "      <td>1988-10-04</td>\n",
       "      <td>7317074</td>\n",
       "    </tr>\n",
       "    <tr>\n",
       "      <th>4</th>\n",
       "      <td>Marial Shayok</td>\n",
       "      <td>Philadelphia 76ers</td>\n",
       "      <td>G</td>\n",
       "      <td>1995-07-26</td>\n",
       "      <td>79568</td>\n",
       "    </tr>\n",
       "  </tbody>\n",
       "</table>\n",
       "</div>"
      ],
      "text/plain": [
       "             Name                Team Position   Birthday   Salary\n",
       "0    Shake Milton  Philadelphia 76ers       SG 1996-09-26  1445697\n",
       "1  Christian Wood     Detroit Pistons       PF 1995-09-27  1645357\n",
       "2   PJ Washington   Charlotte Hornets       PF 1998-08-23  3831840\n",
       "3    Derrick Rose     Detroit Pistons       PG 1988-10-04  7317074\n",
       "4   Marial Shayok  Philadelphia 76ers        G 1995-07-26    79568"
      ]
     },
     "execution_count": 612,
     "metadata": {},
     "output_type": "execute_result"
    }
   ],
   "source": [
    "# 다음 두 줄은 결과가 동일합니다.\n",
    "nba.sort_index().head()"
   ]
  },
  {
   "cell_type": "code",
   "execution_count": 613,
   "id": "aac8aec4",
   "metadata": {},
   "outputs": [
    {
     "data": {
      "text/html": [
       "<div>\n",
       "<style scoped>\n",
       "    .dataframe tbody tr th:only-of-type {\n",
       "        vertical-align: middle;\n",
       "    }\n",
       "\n",
       "    .dataframe tbody tr th {\n",
       "        vertical-align: top;\n",
       "    }\n",
       "\n",
       "    .dataframe thead th {\n",
       "        text-align: right;\n",
       "    }\n",
       "</style>\n",
       "<table border=\"1\" class=\"dataframe\">\n",
       "  <thead>\n",
       "    <tr style=\"text-align: right;\">\n",
       "      <th></th>\n",
       "      <th>Name</th>\n",
       "      <th>Team</th>\n",
       "      <th>Position</th>\n",
       "      <th>Birthday</th>\n",
       "      <th>Salary</th>\n",
       "    </tr>\n",
       "  </thead>\n",
       "  <tbody>\n",
       "    <tr>\n",
       "      <th>0</th>\n",
       "      <td>Shake Milton</td>\n",
       "      <td>Philadelphia 76ers</td>\n",
       "      <td>SG</td>\n",
       "      <td>1996-09-26</td>\n",
       "      <td>1445697</td>\n",
       "    </tr>\n",
       "    <tr>\n",
       "      <th>1</th>\n",
       "      <td>Christian Wood</td>\n",
       "      <td>Detroit Pistons</td>\n",
       "      <td>PF</td>\n",
       "      <td>1995-09-27</td>\n",
       "      <td>1645357</td>\n",
       "    </tr>\n",
       "    <tr>\n",
       "      <th>2</th>\n",
       "      <td>PJ Washington</td>\n",
       "      <td>Charlotte Hornets</td>\n",
       "      <td>PF</td>\n",
       "      <td>1998-08-23</td>\n",
       "      <td>3831840</td>\n",
       "    </tr>\n",
       "    <tr>\n",
       "      <th>3</th>\n",
       "      <td>Derrick Rose</td>\n",
       "      <td>Detroit Pistons</td>\n",
       "      <td>PG</td>\n",
       "      <td>1988-10-04</td>\n",
       "      <td>7317074</td>\n",
       "    </tr>\n",
       "    <tr>\n",
       "      <th>4</th>\n",
       "      <td>Marial Shayok</td>\n",
       "      <td>Philadelphia 76ers</td>\n",
       "      <td>G</td>\n",
       "      <td>1995-07-26</td>\n",
       "      <td>79568</td>\n",
       "    </tr>\n",
       "  </tbody>\n",
       "</table>\n",
       "</div>"
      ],
      "text/plain": [
       "             Name                Team Position   Birthday   Salary\n",
       "0    Shake Milton  Philadelphia 76ers       SG 1996-09-26  1445697\n",
       "1  Christian Wood     Detroit Pistons       PF 1995-09-27  1645357\n",
       "2   PJ Washington   Charlotte Hornets       PF 1998-08-23  3831840\n",
       "3    Derrick Rose     Detroit Pistons       PG 1988-10-04  7317074\n",
       "4   Marial Shayok  Philadelphia 76ers        G 1995-07-26    79568"
      ]
     },
     "execution_count": 613,
     "metadata": {},
     "output_type": "execute_result"
    }
   ],
   "source": [
    "nba.sort_index(ascending=True).head()"
   ]
  },
  {
   "cell_type": "code",
   "execution_count": 614,
   "id": "e4b742fc",
   "metadata": {},
   "outputs": [
    {
     "data": {
      "text/html": [
       "<div>\n",
       "<style scoped>\n",
       "    .dataframe tbody tr th:only-of-type {\n",
       "        vertical-align: middle;\n",
       "    }\n",
       "\n",
       "    .dataframe tbody tr th {\n",
       "        vertical-align: top;\n",
       "    }\n",
       "\n",
       "    .dataframe thead th {\n",
       "        text-align: right;\n",
       "    }\n",
       "</style>\n",
       "<table border=\"1\" class=\"dataframe\">\n",
       "  <thead>\n",
       "    <tr style=\"text-align: right;\">\n",
       "      <th></th>\n",
       "      <th>Name</th>\n",
       "      <th>Team</th>\n",
       "      <th>Position</th>\n",
       "      <th>Birthday</th>\n",
       "      <th>Salary</th>\n",
       "    </tr>\n",
       "  </thead>\n",
       "  <tbody>\n",
       "    <tr>\n",
       "      <th>0</th>\n",
       "      <td>Shake Milton</td>\n",
       "      <td>Philadelphia 76ers</td>\n",
       "      <td>SG</td>\n",
       "      <td>1996-09-26</td>\n",
       "      <td>1445697</td>\n",
       "    </tr>\n",
       "    <tr>\n",
       "      <th>1</th>\n",
       "      <td>Christian Wood</td>\n",
       "      <td>Detroit Pistons</td>\n",
       "      <td>PF</td>\n",
       "      <td>1995-09-27</td>\n",
       "      <td>1645357</td>\n",
       "    </tr>\n",
       "    <tr>\n",
       "      <th>2</th>\n",
       "      <td>PJ Washington</td>\n",
       "      <td>Charlotte Hornets</td>\n",
       "      <td>PF</td>\n",
       "      <td>1998-08-23</td>\n",
       "      <td>3831840</td>\n",
       "    </tr>\n",
       "    <tr>\n",
       "      <th>3</th>\n",
       "      <td>Derrick Rose</td>\n",
       "      <td>Detroit Pistons</td>\n",
       "      <td>PG</td>\n",
       "      <td>1988-10-04</td>\n",
       "      <td>7317074</td>\n",
       "    </tr>\n",
       "    <tr>\n",
       "      <th>4</th>\n",
       "      <td>Marial Shayok</td>\n",
       "      <td>Philadelphia 76ers</td>\n",
       "      <td>G</td>\n",
       "      <td>1995-07-26</td>\n",
       "      <td>79568</td>\n",
       "    </tr>\n",
       "    <tr>\n",
       "      <th>...</th>\n",
       "      <td>...</td>\n",
       "      <td>...</td>\n",
       "      <td>...</td>\n",
       "      <td>...</td>\n",
       "      <td>...</td>\n",
       "    </tr>\n",
       "    <tr>\n",
       "      <th>445</th>\n",
       "      <td>Austin Rivers</td>\n",
       "      <td>Houston Rockets</td>\n",
       "      <td>PG</td>\n",
       "      <td>1992-08-01</td>\n",
       "      <td>2174310</td>\n",
       "    </tr>\n",
       "    <tr>\n",
       "      <th>446</th>\n",
       "      <td>Harry Giles</td>\n",
       "      <td>Sacramento Kings</td>\n",
       "      <td>PF</td>\n",
       "      <td>1998-04-22</td>\n",
       "      <td>2578800</td>\n",
       "    </tr>\n",
       "    <tr>\n",
       "      <th>447</th>\n",
       "      <td>Robin Lopez</td>\n",
       "      <td>Milwaukee Bucks</td>\n",
       "      <td>C</td>\n",
       "      <td>1988-04-01</td>\n",
       "      <td>4767000</td>\n",
       "    </tr>\n",
       "    <tr>\n",
       "      <th>448</th>\n",
       "      <td>Collin Sexton</td>\n",
       "      <td>Cleveland Cavaliers</td>\n",
       "      <td>PG</td>\n",
       "      <td>1999-01-04</td>\n",
       "      <td>4764960</td>\n",
       "    </tr>\n",
       "    <tr>\n",
       "      <th>449</th>\n",
       "      <td>Ricky Rubio</td>\n",
       "      <td>Phoenix Suns</td>\n",
       "      <td>PG</td>\n",
       "      <td>1990-10-21</td>\n",
       "      <td>16200000</td>\n",
       "    </tr>\n",
       "  </tbody>\n",
       "</table>\n",
       "<p>450 rows × 5 columns</p>\n",
       "</div>"
      ],
      "text/plain": [
       "               Name                 Team Position   Birthday    Salary\n",
       "0      Shake Milton   Philadelphia 76ers       SG 1996-09-26   1445697\n",
       "1    Christian Wood      Detroit Pistons       PF 1995-09-27   1645357\n",
       "2     PJ Washington    Charlotte Hornets       PF 1998-08-23   3831840\n",
       "3      Derrick Rose      Detroit Pistons       PG 1988-10-04   7317074\n",
       "4     Marial Shayok   Philadelphia 76ers        G 1995-07-26     79568\n",
       "..              ...                  ...      ...        ...       ...\n",
       "445   Austin Rivers      Houston Rockets       PG 1992-08-01   2174310\n",
       "446     Harry Giles     Sacramento Kings       PF 1998-04-22   2578800\n",
       "447     Robin Lopez      Milwaukee Bucks        C 1988-04-01   4767000\n",
       "448   Collin Sexton  Cleveland Cavaliers       PG 1999-01-04   4764960\n",
       "449     Ricky Rubio         Phoenix Suns       PG 1990-10-21  16200000\n",
       "\n",
       "[450 rows x 5 columns]"
      ]
     },
     "execution_count": 614,
     "metadata": {},
     "output_type": "execute_result"
    }
   ],
   "source": [
    "nba = nba.sort_index()\n",
    "nba"
   ]
  },
  {
   "cell_type": "markdown",
   "id": "0a8ce04d",
   "metadata": {},
   "source": [
    "### 4.4.2"
   ]
  },
  {
   "cell_type": "code",
   "execution_count": 615,
   "id": "b835aa5e",
   "metadata": {},
   "outputs": [
    {
     "data": {
      "text/html": [
       "<div>\n",
       "<style scoped>\n",
       "    .dataframe tbody tr th:only-of-type {\n",
       "        vertical-align: middle;\n",
       "    }\n",
       "\n",
       "    .dataframe tbody tr th {\n",
       "        vertical-align: top;\n",
       "    }\n",
       "\n",
       "    .dataframe thead th {\n",
       "        text-align: right;\n",
       "    }\n",
       "</style>\n",
       "<table border=\"1\" class=\"dataframe\">\n",
       "  <thead>\n",
       "    <tr style=\"text-align: right;\">\n",
       "      <th></th>\n",
       "      <th>Birthday</th>\n",
       "      <th>Name</th>\n",
       "      <th>Position</th>\n",
       "      <th>Salary</th>\n",
       "      <th>Team</th>\n",
       "    </tr>\n",
       "  </thead>\n",
       "  <tbody>\n",
       "    <tr>\n",
       "      <th>0</th>\n",
       "      <td>1996-09-26</td>\n",
       "      <td>Shake Milton</td>\n",
       "      <td>SG</td>\n",
       "      <td>1445697</td>\n",
       "      <td>Philadelphia 76ers</td>\n",
       "    </tr>\n",
       "    <tr>\n",
       "      <th>1</th>\n",
       "      <td>1995-09-27</td>\n",
       "      <td>Christian Wood</td>\n",
       "      <td>PF</td>\n",
       "      <td>1645357</td>\n",
       "      <td>Detroit Pistons</td>\n",
       "    </tr>\n",
       "    <tr>\n",
       "      <th>2</th>\n",
       "      <td>1998-08-23</td>\n",
       "      <td>PJ Washington</td>\n",
       "      <td>PF</td>\n",
       "      <td>3831840</td>\n",
       "      <td>Charlotte Hornets</td>\n",
       "    </tr>\n",
       "    <tr>\n",
       "      <th>3</th>\n",
       "      <td>1988-10-04</td>\n",
       "      <td>Derrick Rose</td>\n",
       "      <td>PG</td>\n",
       "      <td>7317074</td>\n",
       "      <td>Detroit Pistons</td>\n",
       "    </tr>\n",
       "    <tr>\n",
       "      <th>4</th>\n",
       "      <td>1995-07-26</td>\n",
       "      <td>Marial Shayok</td>\n",
       "      <td>G</td>\n",
       "      <td>79568</td>\n",
       "      <td>Philadelphia 76ers</td>\n",
       "    </tr>\n",
       "  </tbody>\n",
       "</table>\n",
       "</div>"
      ],
      "text/plain": [
       "    Birthday            Name Position   Salary                Team\n",
       "0 1996-09-26    Shake Milton       SG  1445697  Philadelphia 76ers\n",
       "1 1995-09-27  Christian Wood       PF  1645357     Detroit Pistons\n",
       "2 1998-08-23   PJ Washington       PF  3831840   Charlotte Hornets\n",
       "3 1988-10-04    Derrick Rose       PG  7317074     Detroit Pistons\n",
       "4 1995-07-26   Marial Shayok        G    79568  Philadelphia 76ers"
      ]
     },
     "execution_count": 615,
     "metadata": {},
     "output_type": "execute_result"
    }
   ],
   "source": [
    "# 다음 두 줄은 결과가 동일합니다.\n",
    "nba.sort_index(axis = \"columns\").head()"
   ]
  },
  {
   "cell_type": "code",
   "execution_count": 616,
   "id": "318fc181",
   "metadata": {},
   "outputs": [
    {
     "data": {
      "text/html": [
       "<div>\n",
       "<style scoped>\n",
       "    .dataframe tbody tr th:only-of-type {\n",
       "        vertical-align: middle;\n",
       "    }\n",
       "\n",
       "    .dataframe tbody tr th {\n",
       "        vertical-align: top;\n",
       "    }\n",
       "\n",
       "    .dataframe thead th {\n",
       "        text-align: right;\n",
       "    }\n",
       "</style>\n",
       "<table border=\"1\" class=\"dataframe\">\n",
       "  <thead>\n",
       "    <tr style=\"text-align: right;\">\n",
       "      <th></th>\n",
       "      <th>Birthday</th>\n",
       "      <th>Name</th>\n",
       "      <th>Position</th>\n",
       "      <th>Salary</th>\n",
       "      <th>Team</th>\n",
       "    </tr>\n",
       "  </thead>\n",
       "  <tbody>\n",
       "    <tr>\n",
       "      <th>0</th>\n",
       "      <td>1996-09-26</td>\n",
       "      <td>Shake Milton</td>\n",
       "      <td>SG</td>\n",
       "      <td>1445697</td>\n",
       "      <td>Philadelphia 76ers</td>\n",
       "    </tr>\n",
       "    <tr>\n",
       "      <th>1</th>\n",
       "      <td>1995-09-27</td>\n",
       "      <td>Christian Wood</td>\n",
       "      <td>PF</td>\n",
       "      <td>1645357</td>\n",
       "      <td>Detroit Pistons</td>\n",
       "    </tr>\n",
       "    <tr>\n",
       "      <th>2</th>\n",
       "      <td>1998-08-23</td>\n",
       "      <td>PJ Washington</td>\n",
       "      <td>PF</td>\n",
       "      <td>3831840</td>\n",
       "      <td>Charlotte Hornets</td>\n",
       "    </tr>\n",
       "    <tr>\n",
       "      <th>3</th>\n",
       "      <td>1988-10-04</td>\n",
       "      <td>Derrick Rose</td>\n",
       "      <td>PG</td>\n",
       "      <td>7317074</td>\n",
       "      <td>Detroit Pistons</td>\n",
       "    </tr>\n",
       "    <tr>\n",
       "      <th>4</th>\n",
       "      <td>1995-07-26</td>\n",
       "      <td>Marial Shayok</td>\n",
       "      <td>G</td>\n",
       "      <td>79568</td>\n",
       "      <td>Philadelphia 76ers</td>\n",
       "    </tr>\n",
       "  </tbody>\n",
       "</table>\n",
       "</div>"
      ],
      "text/plain": [
       "    Birthday            Name Position   Salary                Team\n",
       "0 1996-09-26    Shake Milton       SG  1445697  Philadelphia 76ers\n",
       "1 1995-09-27  Christian Wood       PF  1645357     Detroit Pistons\n",
       "2 1998-08-23   PJ Washington       PF  3831840   Charlotte Hornets\n",
       "3 1988-10-04    Derrick Rose       PG  7317074     Detroit Pistons\n",
       "4 1995-07-26   Marial Shayok        G    79568  Philadelphia 76ers"
      ]
     },
     "execution_count": 616,
     "metadata": {},
     "output_type": "execute_result"
    }
   ],
   "source": [
    "nba.sort_index(axis = 1).head()"
   ]
  },
  {
   "cell_type": "markdown",
   "id": "2ad20fcf",
   "metadata": {},
   "source": [
    "## 4.5"
   ]
  },
  {
   "cell_type": "code",
   "execution_count": 617,
   "id": "225186da",
   "metadata": {},
   "outputs": [
    {
     "data": {
      "text/html": [
       "<div>\n",
       "<style scoped>\n",
       "    .dataframe tbody tr th:only-of-type {\n",
       "        vertical-align: middle;\n",
       "    }\n",
       "\n",
       "    .dataframe tbody tr th {\n",
       "        vertical-align: top;\n",
       "    }\n",
       "\n",
       "    .dataframe thead th {\n",
       "        text-align: right;\n",
       "    }\n",
       "</style>\n",
       "<table border=\"1\" class=\"dataframe\">\n",
       "  <thead>\n",
       "    <tr style=\"text-align: right;\">\n",
       "      <th></th>\n",
       "      <th>Team</th>\n",
       "      <th>Position</th>\n",
       "      <th>Birthday</th>\n",
       "      <th>Salary</th>\n",
       "    </tr>\n",
       "    <tr>\n",
       "      <th>Name</th>\n",
       "      <th></th>\n",
       "      <th></th>\n",
       "      <th></th>\n",
       "      <th></th>\n",
       "    </tr>\n",
       "  </thead>\n",
       "  <tbody>\n",
       "    <tr>\n",
       "      <th>Shake Milton</th>\n",
       "      <td>Philadelphia 76ers</td>\n",
       "      <td>SG</td>\n",
       "      <td>1996-09-26</td>\n",
       "      <td>1445697</td>\n",
       "    </tr>\n",
       "    <tr>\n",
       "      <th>Christian Wood</th>\n",
       "      <td>Detroit Pistons</td>\n",
       "      <td>PF</td>\n",
       "      <td>1995-09-27</td>\n",
       "      <td>1645357</td>\n",
       "    </tr>\n",
       "    <tr>\n",
       "      <th>PJ Washington</th>\n",
       "      <td>Charlotte Hornets</td>\n",
       "      <td>PF</td>\n",
       "      <td>1998-08-23</td>\n",
       "      <td>3831840</td>\n",
       "    </tr>\n",
       "    <tr>\n",
       "      <th>Derrick Rose</th>\n",
       "      <td>Detroit Pistons</td>\n",
       "      <td>PG</td>\n",
       "      <td>1988-10-04</td>\n",
       "      <td>7317074</td>\n",
       "    </tr>\n",
       "    <tr>\n",
       "      <th>Marial Shayok</th>\n",
       "      <td>Philadelphia 76ers</td>\n",
       "      <td>G</td>\n",
       "      <td>1995-07-26</td>\n",
       "      <td>79568</td>\n",
       "    </tr>\n",
       "    <tr>\n",
       "      <th>...</th>\n",
       "      <td>...</td>\n",
       "      <td>...</td>\n",
       "      <td>...</td>\n",
       "      <td>...</td>\n",
       "    </tr>\n",
       "    <tr>\n",
       "      <th>Austin Rivers</th>\n",
       "      <td>Houston Rockets</td>\n",
       "      <td>PG</td>\n",
       "      <td>1992-08-01</td>\n",
       "      <td>2174310</td>\n",
       "    </tr>\n",
       "    <tr>\n",
       "      <th>Harry Giles</th>\n",
       "      <td>Sacramento Kings</td>\n",
       "      <td>PF</td>\n",
       "      <td>1998-04-22</td>\n",
       "      <td>2578800</td>\n",
       "    </tr>\n",
       "    <tr>\n",
       "      <th>Robin Lopez</th>\n",
       "      <td>Milwaukee Bucks</td>\n",
       "      <td>C</td>\n",
       "      <td>1988-04-01</td>\n",
       "      <td>4767000</td>\n",
       "    </tr>\n",
       "    <tr>\n",
       "      <th>Collin Sexton</th>\n",
       "      <td>Cleveland Cavaliers</td>\n",
       "      <td>PG</td>\n",
       "      <td>1999-01-04</td>\n",
       "      <td>4764960</td>\n",
       "    </tr>\n",
       "    <tr>\n",
       "      <th>Ricky Rubio</th>\n",
       "      <td>Phoenix Suns</td>\n",
       "      <td>PG</td>\n",
       "      <td>1990-10-21</td>\n",
       "      <td>16200000</td>\n",
       "    </tr>\n",
       "  </tbody>\n",
       "</table>\n",
       "<p>450 rows × 4 columns</p>\n",
       "</div>"
      ],
      "text/plain": [
       "                               Team Position   Birthday    Salary\n",
       "Name                                                             \n",
       "Shake Milton     Philadelphia 76ers       SG 1996-09-26   1445697\n",
       "Christian Wood      Detroit Pistons       PF 1995-09-27   1645357\n",
       "PJ Washington     Charlotte Hornets       PF 1998-08-23   3831840\n",
       "Derrick Rose        Detroit Pistons       PG 1988-10-04   7317074\n",
       "Marial Shayok    Philadelphia 76ers        G 1995-07-26     79568\n",
       "...                             ...      ...        ...       ...\n",
       "Austin Rivers       Houston Rockets       PG 1992-08-01   2174310\n",
       "Harry Giles        Sacramento Kings       PF 1998-04-22   2578800\n",
       "Robin Lopez         Milwaukee Bucks        C 1988-04-01   4767000\n",
       "Collin Sexton   Cleveland Cavaliers       PG 1999-01-04   4764960\n",
       "Ricky Rubio            Phoenix Suns       PG 1990-10-21  16200000\n",
       "\n",
       "[450 rows x 4 columns]"
      ]
     },
     "execution_count": 617,
     "metadata": {},
     "output_type": "execute_result"
    }
   ],
   "source": [
    "# 다음 두 줄은 결과가 동일합니다.\n",
    "nba.set_index(keys = \"Name\")"
   ]
  },
  {
   "cell_type": "code",
   "execution_count": 618,
   "id": "834ea845",
   "metadata": {},
   "outputs": [
    {
     "data": {
      "text/html": [
       "<div>\n",
       "<style scoped>\n",
       "    .dataframe tbody tr th:only-of-type {\n",
       "        vertical-align: middle;\n",
       "    }\n",
       "\n",
       "    .dataframe tbody tr th {\n",
       "        vertical-align: top;\n",
       "    }\n",
       "\n",
       "    .dataframe thead th {\n",
       "        text-align: right;\n",
       "    }\n",
       "</style>\n",
       "<table border=\"1\" class=\"dataframe\">\n",
       "  <thead>\n",
       "    <tr style=\"text-align: right;\">\n",
       "      <th></th>\n",
       "      <th>Team</th>\n",
       "      <th>Position</th>\n",
       "      <th>Birthday</th>\n",
       "      <th>Salary</th>\n",
       "    </tr>\n",
       "    <tr>\n",
       "      <th>Name</th>\n",
       "      <th></th>\n",
       "      <th></th>\n",
       "      <th></th>\n",
       "      <th></th>\n",
       "    </tr>\n",
       "  </thead>\n",
       "  <tbody>\n",
       "    <tr>\n",
       "      <th>Shake Milton</th>\n",
       "      <td>Philadelphia 76ers</td>\n",
       "      <td>SG</td>\n",
       "      <td>1996-09-26</td>\n",
       "      <td>1445697</td>\n",
       "    </tr>\n",
       "    <tr>\n",
       "      <th>Christian Wood</th>\n",
       "      <td>Detroit Pistons</td>\n",
       "      <td>PF</td>\n",
       "      <td>1995-09-27</td>\n",
       "      <td>1645357</td>\n",
       "    </tr>\n",
       "    <tr>\n",
       "      <th>PJ Washington</th>\n",
       "      <td>Charlotte Hornets</td>\n",
       "      <td>PF</td>\n",
       "      <td>1998-08-23</td>\n",
       "      <td>3831840</td>\n",
       "    </tr>\n",
       "    <tr>\n",
       "      <th>Derrick Rose</th>\n",
       "      <td>Detroit Pistons</td>\n",
       "      <td>PG</td>\n",
       "      <td>1988-10-04</td>\n",
       "      <td>7317074</td>\n",
       "    </tr>\n",
       "    <tr>\n",
       "      <th>Marial Shayok</th>\n",
       "      <td>Philadelphia 76ers</td>\n",
       "      <td>G</td>\n",
       "      <td>1995-07-26</td>\n",
       "      <td>79568</td>\n",
       "    </tr>\n",
       "    <tr>\n",
       "      <th>...</th>\n",
       "      <td>...</td>\n",
       "      <td>...</td>\n",
       "      <td>...</td>\n",
       "      <td>...</td>\n",
       "    </tr>\n",
       "    <tr>\n",
       "      <th>Austin Rivers</th>\n",
       "      <td>Houston Rockets</td>\n",
       "      <td>PG</td>\n",
       "      <td>1992-08-01</td>\n",
       "      <td>2174310</td>\n",
       "    </tr>\n",
       "    <tr>\n",
       "      <th>Harry Giles</th>\n",
       "      <td>Sacramento Kings</td>\n",
       "      <td>PF</td>\n",
       "      <td>1998-04-22</td>\n",
       "      <td>2578800</td>\n",
       "    </tr>\n",
       "    <tr>\n",
       "      <th>Robin Lopez</th>\n",
       "      <td>Milwaukee Bucks</td>\n",
       "      <td>C</td>\n",
       "      <td>1988-04-01</td>\n",
       "      <td>4767000</td>\n",
       "    </tr>\n",
       "    <tr>\n",
       "      <th>Collin Sexton</th>\n",
       "      <td>Cleveland Cavaliers</td>\n",
       "      <td>PG</td>\n",
       "      <td>1999-01-04</td>\n",
       "      <td>4764960</td>\n",
       "    </tr>\n",
       "    <tr>\n",
       "      <th>Ricky Rubio</th>\n",
       "      <td>Phoenix Suns</td>\n",
       "      <td>PG</td>\n",
       "      <td>1990-10-21</td>\n",
       "      <td>16200000</td>\n",
       "    </tr>\n",
       "  </tbody>\n",
       "</table>\n",
       "<p>450 rows × 4 columns</p>\n",
       "</div>"
      ],
      "text/plain": [
       "                               Team Position   Birthday    Salary\n",
       "Name                                                             \n",
       "Shake Milton     Philadelphia 76ers       SG 1996-09-26   1445697\n",
       "Christian Wood      Detroit Pistons       PF 1995-09-27   1645357\n",
       "PJ Washington     Charlotte Hornets       PF 1998-08-23   3831840\n",
       "Derrick Rose        Detroit Pistons       PG 1988-10-04   7317074\n",
       "Marial Shayok    Philadelphia 76ers        G 1995-07-26     79568\n",
       "...                             ...      ...        ...       ...\n",
       "Austin Rivers       Houston Rockets       PG 1992-08-01   2174310\n",
       "Harry Giles        Sacramento Kings       PF 1998-04-22   2578800\n",
       "Robin Lopez         Milwaukee Bucks        C 1988-04-01   4767000\n",
       "Collin Sexton   Cleveland Cavaliers       PG 1999-01-04   4764960\n",
       "Ricky Rubio            Phoenix Suns       PG 1990-10-21  16200000\n",
       "\n",
       "[450 rows x 4 columns]"
      ]
     },
     "execution_count": 618,
     "metadata": {},
     "output_type": "execute_result"
    }
   ],
   "source": [
    "nba.set_index(\"Name\")"
   ]
  },
  {
   "cell_type": "code",
   "execution_count": 619,
   "id": "e71a9951",
   "metadata": {},
   "outputs": [
    {
     "data": {
      "text/html": [
       "<div>\n",
       "<style scoped>\n",
       "    .dataframe tbody tr th:only-of-type {\n",
       "        vertical-align: middle;\n",
       "    }\n",
       "\n",
       "    .dataframe tbody tr th {\n",
       "        vertical-align: top;\n",
       "    }\n",
       "\n",
       "    .dataframe thead th {\n",
       "        text-align: right;\n",
       "    }\n",
       "</style>\n",
       "<table border=\"1\" class=\"dataframe\">\n",
       "  <thead>\n",
       "    <tr style=\"text-align: right;\">\n",
       "      <th></th>\n",
       "      <th>Team</th>\n",
       "      <th>Position</th>\n",
       "      <th>Birthday</th>\n",
       "      <th>Salary</th>\n",
       "    </tr>\n",
       "    <tr>\n",
       "      <th>Name</th>\n",
       "      <th></th>\n",
       "      <th></th>\n",
       "      <th></th>\n",
       "      <th></th>\n",
       "    </tr>\n",
       "  </thead>\n",
       "  <tbody>\n",
       "    <tr>\n",
       "      <th>Shake Milton</th>\n",
       "      <td>Philadelphia 76ers</td>\n",
       "      <td>SG</td>\n",
       "      <td>1996-09-26</td>\n",
       "      <td>1445697</td>\n",
       "    </tr>\n",
       "    <tr>\n",
       "      <th>Christian Wood</th>\n",
       "      <td>Detroit Pistons</td>\n",
       "      <td>PF</td>\n",
       "      <td>1995-09-27</td>\n",
       "      <td>1645357</td>\n",
       "    </tr>\n",
       "    <tr>\n",
       "      <th>PJ Washington</th>\n",
       "      <td>Charlotte Hornets</td>\n",
       "      <td>PF</td>\n",
       "      <td>1998-08-23</td>\n",
       "      <td>3831840</td>\n",
       "    </tr>\n",
       "    <tr>\n",
       "      <th>Derrick Rose</th>\n",
       "      <td>Detroit Pistons</td>\n",
       "      <td>PG</td>\n",
       "      <td>1988-10-04</td>\n",
       "      <td>7317074</td>\n",
       "    </tr>\n",
       "    <tr>\n",
       "      <th>Marial Shayok</th>\n",
       "      <td>Philadelphia 76ers</td>\n",
       "      <td>G</td>\n",
       "      <td>1995-07-26</td>\n",
       "      <td>79568</td>\n",
       "    </tr>\n",
       "    <tr>\n",
       "      <th>...</th>\n",
       "      <td>...</td>\n",
       "      <td>...</td>\n",
       "      <td>...</td>\n",
       "      <td>...</td>\n",
       "    </tr>\n",
       "    <tr>\n",
       "      <th>Austin Rivers</th>\n",
       "      <td>Houston Rockets</td>\n",
       "      <td>PG</td>\n",
       "      <td>1992-08-01</td>\n",
       "      <td>2174310</td>\n",
       "    </tr>\n",
       "    <tr>\n",
       "      <th>Harry Giles</th>\n",
       "      <td>Sacramento Kings</td>\n",
       "      <td>PF</td>\n",
       "      <td>1998-04-22</td>\n",
       "      <td>2578800</td>\n",
       "    </tr>\n",
       "    <tr>\n",
       "      <th>Robin Lopez</th>\n",
       "      <td>Milwaukee Bucks</td>\n",
       "      <td>C</td>\n",
       "      <td>1988-04-01</td>\n",
       "      <td>4767000</td>\n",
       "    </tr>\n",
       "    <tr>\n",
       "      <th>Collin Sexton</th>\n",
       "      <td>Cleveland Cavaliers</td>\n",
       "      <td>PG</td>\n",
       "      <td>1999-01-04</td>\n",
       "      <td>4764960</td>\n",
       "    </tr>\n",
       "    <tr>\n",
       "      <th>Ricky Rubio</th>\n",
       "      <td>Phoenix Suns</td>\n",
       "      <td>PG</td>\n",
       "      <td>1990-10-21</td>\n",
       "      <td>16200000</td>\n",
       "    </tr>\n",
       "  </tbody>\n",
       "</table>\n",
       "<p>450 rows × 4 columns</p>\n",
       "</div>"
      ],
      "text/plain": [
       "                               Team Position   Birthday    Salary\n",
       "Name                                                             \n",
       "Shake Milton     Philadelphia 76ers       SG 1996-09-26   1445697\n",
       "Christian Wood      Detroit Pistons       PF 1995-09-27   1645357\n",
       "PJ Washington     Charlotte Hornets       PF 1998-08-23   3831840\n",
       "Derrick Rose        Detroit Pistons       PG 1988-10-04   7317074\n",
       "Marial Shayok    Philadelphia 76ers        G 1995-07-26     79568\n",
       "...                             ...      ...        ...       ...\n",
       "Austin Rivers       Houston Rockets       PG 1992-08-01   2174310\n",
       "Harry Giles        Sacramento Kings       PF 1998-04-22   2578800\n",
       "Robin Lopez         Milwaukee Bucks        C 1988-04-01   4767000\n",
       "Collin Sexton   Cleveland Cavaliers       PG 1999-01-04   4764960\n",
       "Ricky Rubio            Phoenix Suns       PG 1990-10-21  16200000\n",
       "\n",
       "[450 rows x 4 columns]"
      ]
     },
     "execution_count": 619,
     "metadata": {},
     "output_type": "execute_result"
    }
   ],
   "source": [
    "nba = nba.set_index(keys = \"Name\")\n",
    "nba"
   ]
  },
  {
   "cell_type": "markdown",
   "id": "1ac029f9",
   "metadata": {},
   "source": [
    "## 4.6"
   ]
  },
  {
   "cell_type": "markdown",
   "id": "1d2dafa4",
   "metadata": {},
   "source": [
    "### 4.6.1"
   ]
  },
  {
   "cell_type": "code",
   "execution_count": 620,
   "id": "6df95ddd",
   "metadata": {},
   "outputs": [
    {
     "data": {
      "text/plain": [
       "Name\n",
       "Shake Milton       1445697\n",
       "Christian Wood     1645357\n",
       "PJ Washington      3831840\n",
       "Derrick Rose       7317074\n",
       "Marial Shayok        79568\n",
       "                    ...   \n",
       "Austin Rivers      2174310\n",
       "Harry Giles        2578800\n",
       "Robin Lopez        4767000\n",
       "Collin Sexton      4764960\n",
       "Ricky Rubio       16200000\n",
       "Name: Salary, Length: 450, dtype: int64"
      ]
     },
     "execution_count": 620,
     "metadata": {},
     "output_type": "execute_result"
    }
   ],
   "source": [
    "nba.Salary"
   ]
  },
  {
   "cell_type": "code",
   "execution_count": 621,
   "id": "fba8e8c4",
   "metadata": {},
   "outputs": [
    {
     "data": {
      "text/plain": [
       "Name\n",
       "Shake Milton      SG\n",
       "Christian Wood    PF\n",
       "PJ Washington     PF\n",
       "Derrick Rose      PG\n",
       "Marial Shayok      G\n",
       "                  ..\n",
       "Austin Rivers     PG\n",
       "Harry Giles       PF\n",
       "Robin Lopez        C\n",
       "Collin Sexton     PG\n",
       "Ricky Rubio       PG\n",
       "Name: Position, Length: 450, dtype: object"
      ]
     },
     "execution_count": 621,
     "metadata": {},
     "output_type": "execute_result"
    }
   ],
   "source": [
    "nba[\"Position\"]"
   ]
  },
  {
   "cell_type": "code",
   "execution_count": 623,
   "id": "c953aba3",
   "metadata": {},
   "outputs": [],
   "source": [
    "# nba[\"Player Position\"]"
   ]
  },
  {
   "cell_type": "code",
   "execution_count": 624,
   "id": "0444b952",
   "metadata": {},
   "outputs": [],
   "source": [
    "# nba.Player Position"
   ]
  },
  {
   "cell_type": "markdown",
   "id": "06bfa1e0",
   "metadata": {},
   "source": [
    "### 4.6.2"
   ]
  },
  {
   "cell_type": "code",
   "execution_count": 625,
   "id": "cd7c2073",
   "metadata": {},
   "outputs": [
    {
     "data": {
      "text/html": [
       "<div>\n",
       "<style scoped>\n",
       "    .dataframe tbody tr th:only-of-type {\n",
       "        vertical-align: middle;\n",
       "    }\n",
       "\n",
       "    .dataframe tbody tr th {\n",
       "        vertical-align: top;\n",
       "    }\n",
       "\n",
       "    .dataframe thead th {\n",
       "        text-align: right;\n",
       "    }\n",
       "</style>\n",
       "<table border=\"1\" class=\"dataframe\">\n",
       "  <thead>\n",
       "    <tr style=\"text-align: right;\">\n",
       "      <th></th>\n",
       "      <th>Salary</th>\n",
       "      <th>Birthday</th>\n",
       "    </tr>\n",
       "    <tr>\n",
       "      <th>Name</th>\n",
       "      <th></th>\n",
       "      <th></th>\n",
       "    </tr>\n",
       "  </thead>\n",
       "  <tbody>\n",
       "    <tr>\n",
       "      <th>Shake Milton</th>\n",
       "      <td>1445697</td>\n",
       "      <td>1996-09-26</td>\n",
       "    </tr>\n",
       "    <tr>\n",
       "      <th>Christian Wood</th>\n",
       "      <td>1645357</td>\n",
       "      <td>1995-09-27</td>\n",
       "    </tr>\n",
       "    <tr>\n",
       "      <th>PJ Washington</th>\n",
       "      <td>3831840</td>\n",
       "      <td>1998-08-23</td>\n",
       "    </tr>\n",
       "    <tr>\n",
       "      <th>Derrick Rose</th>\n",
       "      <td>7317074</td>\n",
       "      <td>1988-10-04</td>\n",
       "    </tr>\n",
       "    <tr>\n",
       "      <th>Marial Shayok</th>\n",
       "      <td>79568</td>\n",
       "      <td>1995-07-26</td>\n",
       "    </tr>\n",
       "  </tbody>\n",
       "</table>\n",
       "</div>"
      ],
      "text/plain": [
       "                 Salary   Birthday\n",
       "Name                              \n",
       "Shake Milton    1445697 1996-09-26\n",
       "Christian Wood  1645357 1995-09-27\n",
       "PJ Washington   3831840 1998-08-23\n",
       "Derrick Rose    7317074 1988-10-04\n",
       "Marial Shayok     79568 1995-07-26"
      ]
     },
     "execution_count": 625,
     "metadata": {},
     "output_type": "execute_result"
    }
   ],
   "source": [
    "nba[[\"Salary\", \"Birthday\"]].head()"
   ]
  },
  {
   "cell_type": "code",
   "execution_count": 626,
   "id": "a92b87e1",
   "metadata": {},
   "outputs": [
    {
     "data": {
      "text/html": [
       "<div>\n",
       "<style scoped>\n",
       "    .dataframe tbody tr th:only-of-type {\n",
       "        vertical-align: middle;\n",
       "    }\n",
       "\n",
       "    .dataframe tbody tr th {\n",
       "        vertical-align: top;\n",
       "    }\n",
       "\n",
       "    .dataframe thead th {\n",
       "        text-align: right;\n",
       "    }\n",
       "</style>\n",
       "<table border=\"1\" class=\"dataframe\">\n",
       "  <thead>\n",
       "    <tr style=\"text-align: right;\">\n",
       "      <th></th>\n",
       "      <th>Birthday</th>\n",
       "      <th>Salary</th>\n",
       "    </tr>\n",
       "    <tr>\n",
       "      <th>Name</th>\n",
       "      <th></th>\n",
       "      <th></th>\n",
       "    </tr>\n",
       "  </thead>\n",
       "  <tbody>\n",
       "    <tr>\n",
       "      <th>Shake Milton</th>\n",
       "      <td>1996-09-26</td>\n",
       "      <td>1445697</td>\n",
       "    </tr>\n",
       "    <tr>\n",
       "      <th>Christian Wood</th>\n",
       "      <td>1995-09-27</td>\n",
       "      <td>1645357</td>\n",
       "    </tr>\n",
       "    <tr>\n",
       "      <th>PJ Washington</th>\n",
       "      <td>1998-08-23</td>\n",
       "      <td>3831840</td>\n",
       "    </tr>\n",
       "    <tr>\n",
       "      <th>Derrick Rose</th>\n",
       "      <td>1988-10-04</td>\n",
       "      <td>7317074</td>\n",
       "    </tr>\n",
       "    <tr>\n",
       "      <th>Marial Shayok</th>\n",
       "      <td>1995-07-26</td>\n",
       "      <td>79568</td>\n",
       "    </tr>\n",
       "  </tbody>\n",
       "</table>\n",
       "</div>"
      ],
      "text/plain": [
       "                 Birthday   Salary\n",
       "Name                              \n",
       "Shake Milton   1996-09-26  1445697\n",
       "Christian Wood 1995-09-27  1645357\n",
       "PJ Washington  1998-08-23  3831840\n",
       "Derrick Rose   1988-10-04  7317074\n",
       "Marial Shayok  1995-07-26    79568"
      ]
     },
     "execution_count": 626,
     "metadata": {},
     "output_type": "execute_result"
    }
   ],
   "source": [
    "nba[[\"Birthday\", \"Salary\"]].head()"
   ]
  },
  {
   "cell_type": "code",
   "execution_count": 627,
   "id": "fe20b3bb",
   "metadata": {},
   "outputs": [
    {
     "data": {
      "text/html": [
       "<div>\n",
       "<style scoped>\n",
       "    .dataframe tbody tr th:only-of-type {\n",
       "        vertical-align: middle;\n",
       "    }\n",
       "\n",
       "    .dataframe tbody tr th {\n",
       "        vertical-align: top;\n",
       "    }\n",
       "\n",
       "    .dataframe thead th {\n",
       "        text-align: right;\n",
       "    }\n",
       "</style>\n",
       "<table border=\"1\" class=\"dataframe\">\n",
       "  <thead>\n",
       "    <tr style=\"text-align: right;\">\n",
       "      <th></th>\n",
       "      <th>Team</th>\n",
       "      <th>Position</th>\n",
       "    </tr>\n",
       "    <tr>\n",
       "      <th>Name</th>\n",
       "      <th></th>\n",
       "      <th></th>\n",
       "    </tr>\n",
       "  </thead>\n",
       "  <tbody>\n",
       "    <tr>\n",
       "      <th>Shake Milton</th>\n",
       "      <td>Philadelphia 76ers</td>\n",
       "      <td>SG</td>\n",
       "    </tr>\n",
       "    <tr>\n",
       "      <th>Christian Wood</th>\n",
       "      <td>Detroit Pistons</td>\n",
       "      <td>PF</td>\n",
       "    </tr>\n",
       "    <tr>\n",
       "      <th>PJ Washington</th>\n",
       "      <td>Charlotte Hornets</td>\n",
       "      <td>PF</td>\n",
       "    </tr>\n",
       "    <tr>\n",
       "      <th>Derrick Rose</th>\n",
       "      <td>Detroit Pistons</td>\n",
       "      <td>PG</td>\n",
       "    </tr>\n",
       "    <tr>\n",
       "      <th>Marial Shayok</th>\n",
       "      <td>Philadelphia 76ers</td>\n",
       "      <td>G</td>\n",
       "    </tr>\n",
       "    <tr>\n",
       "      <th>...</th>\n",
       "      <td>...</td>\n",
       "      <td>...</td>\n",
       "    </tr>\n",
       "    <tr>\n",
       "      <th>Austin Rivers</th>\n",
       "      <td>Houston Rockets</td>\n",
       "      <td>PG</td>\n",
       "    </tr>\n",
       "    <tr>\n",
       "      <th>Harry Giles</th>\n",
       "      <td>Sacramento Kings</td>\n",
       "      <td>PF</td>\n",
       "    </tr>\n",
       "    <tr>\n",
       "      <th>Robin Lopez</th>\n",
       "      <td>Milwaukee Bucks</td>\n",
       "      <td>C</td>\n",
       "    </tr>\n",
       "    <tr>\n",
       "      <th>Collin Sexton</th>\n",
       "      <td>Cleveland Cavaliers</td>\n",
       "      <td>PG</td>\n",
       "    </tr>\n",
       "    <tr>\n",
       "      <th>Ricky Rubio</th>\n",
       "      <td>Phoenix Suns</td>\n",
       "      <td>PG</td>\n",
       "    </tr>\n",
       "  </tbody>\n",
       "</table>\n",
       "<p>450 rows × 2 columns</p>\n",
       "</div>"
      ],
      "text/plain": [
       "                               Team Position\n",
       "Name                                        \n",
       "Shake Milton     Philadelphia 76ers       SG\n",
       "Christian Wood      Detroit Pistons       PF\n",
       "PJ Washington     Charlotte Hornets       PF\n",
       "Derrick Rose        Detroit Pistons       PG\n",
       "Marial Shayok    Philadelphia 76ers        G\n",
       "...                             ...      ...\n",
       "Austin Rivers       Houston Rockets       PG\n",
       "Harry Giles        Sacramento Kings       PF\n",
       "Robin Lopez         Milwaukee Bucks        C\n",
       "Collin Sexton   Cleveland Cavaliers       PG\n",
       "Ricky Rubio            Phoenix Suns       PG\n",
       "\n",
       "[450 rows x 2 columns]"
      ]
     },
     "execution_count": 627,
     "metadata": {},
     "output_type": "execute_result"
    }
   ],
   "source": [
    "nba.select_dtypes(include = \"object\")"
   ]
  },
  {
   "cell_type": "code",
   "execution_count": 628,
   "id": "0fc6349b",
   "metadata": {},
   "outputs": [
    {
     "data": {
      "text/html": [
       "<div>\n",
       "<style scoped>\n",
       "    .dataframe tbody tr th:only-of-type {\n",
       "        vertical-align: middle;\n",
       "    }\n",
       "\n",
       "    .dataframe tbody tr th {\n",
       "        vertical-align: top;\n",
       "    }\n",
       "\n",
       "    .dataframe thead th {\n",
       "        text-align: right;\n",
       "    }\n",
       "</style>\n",
       "<table border=\"1\" class=\"dataframe\">\n",
       "  <thead>\n",
       "    <tr style=\"text-align: right;\">\n",
       "      <th></th>\n",
       "      <th>Birthday</th>\n",
       "    </tr>\n",
       "    <tr>\n",
       "      <th>Name</th>\n",
       "      <th></th>\n",
       "    </tr>\n",
       "  </thead>\n",
       "  <tbody>\n",
       "    <tr>\n",
       "      <th>Shake Milton</th>\n",
       "      <td>1996-09-26</td>\n",
       "    </tr>\n",
       "    <tr>\n",
       "      <th>Christian Wood</th>\n",
       "      <td>1995-09-27</td>\n",
       "    </tr>\n",
       "    <tr>\n",
       "      <th>PJ Washington</th>\n",
       "      <td>1998-08-23</td>\n",
       "    </tr>\n",
       "    <tr>\n",
       "      <th>Derrick Rose</th>\n",
       "      <td>1988-10-04</td>\n",
       "    </tr>\n",
       "    <tr>\n",
       "      <th>Marial Shayok</th>\n",
       "      <td>1995-07-26</td>\n",
       "    </tr>\n",
       "    <tr>\n",
       "      <th>...</th>\n",
       "      <td>...</td>\n",
       "    </tr>\n",
       "    <tr>\n",
       "      <th>Austin Rivers</th>\n",
       "      <td>1992-08-01</td>\n",
       "    </tr>\n",
       "    <tr>\n",
       "      <th>Harry Giles</th>\n",
       "      <td>1998-04-22</td>\n",
       "    </tr>\n",
       "    <tr>\n",
       "      <th>Robin Lopez</th>\n",
       "      <td>1988-04-01</td>\n",
       "    </tr>\n",
       "    <tr>\n",
       "      <th>Collin Sexton</th>\n",
       "      <td>1999-01-04</td>\n",
       "    </tr>\n",
       "    <tr>\n",
       "      <th>Ricky Rubio</th>\n",
       "      <td>1990-10-21</td>\n",
       "    </tr>\n",
       "  </tbody>\n",
       "</table>\n",
       "<p>450 rows × 1 columns</p>\n",
       "</div>"
      ],
      "text/plain": [
       "                 Birthday\n",
       "Name                     \n",
       "Shake Milton   1996-09-26\n",
       "Christian Wood 1995-09-27\n",
       "PJ Washington  1998-08-23\n",
       "Derrick Rose   1988-10-04\n",
       "Marial Shayok  1995-07-26\n",
       "...                   ...\n",
       "Austin Rivers  1992-08-01\n",
       "Harry Giles    1998-04-22\n",
       "Robin Lopez    1988-04-01\n",
       "Collin Sexton  1999-01-04\n",
       "Ricky Rubio    1990-10-21\n",
       "\n",
       "[450 rows x 1 columns]"
      ]
     },
     "execution_count": 628,
     "metadata": {},
     "output_type": "execute_result"
    }
   ],
   "source": [
    "nba.select_dtypes(exclude = [\"object\", \"int\"])"
   ]
  },
  {
   "cell_type": "markdown",
   "id": "5cfdd0c3",
   "metadata": {},
   "source": [
    "## 4.7"
   ]
  },
  {
   "cell_type": "markdown",
   "id": "f51294b7",
   "metadata": {},
   "source": [
    "### 4.7.1"
   ]
  },
  {
   "cell_type": "code",
   "execution_count": 629,
   "id": "bebda89c",
   "metadata": {},
   "outputs": [
    {
     "data": {
      "text/plain": [
       "Team         Los Angeles Lakers\n",
       "Position                     PF\n",
       "Birthday    1984-12-30 00:00:00\n",
       "Salary                 37436858\n",
       "Name: LeBron James, dtype: object"
      ]
     },
     "execution_count": 629,
     "metadata": {},
     "output_type": "execute_result"
    }
   ],
   "source": [
    "nba.loc[\"LeBron James\"]"
   ]
  },
  {
   "cell_type": "code",
   "execution_count": 631,
   "id": "7ec87d59",
   "metadata": {},
   "outputs": [
    {
     "data": {
      "text/html": [
       "<div>\n",
       "<style scoped>\n",
       "    .dataframe tbody tr th:only-of-type {\n",
       "        vertical-align: middle;\n",
       "    }\n",
       "\n",
       "    .dataframe tbody tr th {\n",
       "        vertical-align: top;\n",
       "    }\n",
       "\n",
       "    .dataframe thead th {\n",
       "        text-align: right;\n",
       "    }\n",
       "</style>\n",
       "<table border=\"1\" class=\"dataframe\">\n",
       "  <thead>\n",
       "    <tr style=\"text-align: right;\">\n",
       "      <th></th>\n",
       "      <th>Team</th>\n",
       "      <th>Position</th>\n",
       "      <th>Birthday</th>\n",
       "      <th>Salary</th>\n",
       "    </tr>\n",
       "    <tr>\n",
       "      <th>Name</th>\n",
       "      <th></th>\n",
       "      <th></th>\n",
       "      <th></th>\n",
       "      <th></th>\n",
       "    </tr>\n",
       "  </thead>\n",
       "  <tbody>\n",
       "    <tr>\n",
       "      <th>Kawhi Leonard</th>\n",
       "      <td>Los Angeles Clippers</td>\n",
       "      <td>SF</td>\n",
       "      <td>1991-06-29</td>\n",
       "      <td>32742000</td>\n",
       "    </tr>\n",
       "    <tr>\n",
       "      <th>Paul George</th>\n",
       "      <td>Los Angeles Clippers</td>\n",
       "      <td>SF</td>\n",
       "      <td>1990-05-02</td>\n",
       "      <td>33005556</td>\n",
       "    </tr>\n",
       "  </tbody>\n",
       "</table>\n",
       "</div>"
      ],
      "text/plain": [
       "                               Team Position   Birthday    Salary\n",
       "Name                                                             \n",
       "Kawhi Leonard  Los Angeles Clippers       SF 1991-06-29  32742000\n",
       "Paul George    Los Angeles Clippers       SF 1990-05-02  33005556"
      ]
     },
     "execution_count": 631,
     "metadata": {},
     "output_type": "execute_result"
    }
   ],
   "source": [
    "nba.loc[[\"Kawhi Leonard\", \"Paul George\"]]"
   ]
  },
  {
   "cell_type": "code",
   "execution_count": 632,
   "id": "840a2a4c",
   "metadata": {},
   "outputs": [
    {
     "data": {
      "text/html": [
       "<div>\n",
       "<style scoped>\n",
       "    .dataframe tbody tr th:only-of-type {\n",
       "        vertical-align: middle;\n",
       "    }\n",
       "\n",
       "    .dataframe tbody tr th {\n",
       "        vertical-align: top;\n",
       "    }\n",
       "\n",
       "    .dataframe thead th {\n",
       "        text-align: right;\n",
       "    }\n",
       "</style>\n",
       "<table border=\"1\" class=\"dataframe\">\n",
       "  <thead>\n",
       "    <tr style=\"text-align: right;\">\n",
       "      <th></th>\n",
       "      <th>Team</th>\n",
       "      <th>Position</th>\n",
       "      <th>Birthday</th>\n",
       "      <th>Salary</th>\n",
       "    </tr>\n",
       "    <tr>\n",
       "      <th>Name</th>\n",
       "      <th></th>\n",
       "      <th></th>\n",
       "      <th></th>\n",
       "      <th></th>\n",
       "    </tr>\n",
       "  </thead>\n",
       "  <tbody>\n",
       "    <tr>\n",
       "      <th>Paul George</th>\n",
       "      <td>Los Angeles Clippers</td>\n",
       "      <td>SF</td>\n",
       "      <td>1990-05-02</td>\n",
       "      <td>33005556</td>\n",
       "    </tr>\n",
       "    <tr>\n",
       "      <th>Kawhi Leonard</th>\n",
       "      <td>Los Angeles Clippers</td>\n",
       "      <td>SF</td>\n",
       "      <td>1991-06-29</td>\n",
       "      <td>32742000</td>\n",
       "    </tr>\n",
       "  </tbody>\n",
       "</table>\n",
       "</div>"
      ],
      "text/plain": [
       "                               Team Position   Birthday    Salary\n",
       "Name                                                             \n",
       "Paul George    Los Angeles Clippers       SF 1990-05-02  33005556\n",
       "Kawhi Leonard  Los Angeles Clippers       SF 1991-06-29  32742000"
      ]
     },
     "execution_count": 632,
     "metadata": {},
     "output_type": "execute_result"
    }
   ],
   "source": [
    "nba.loc[[\"Paul George\", \"Kawhi Leonard\"]]"
   ]
  },
  {
   "cell_type": "code",
   "execution_count": 633,
   "id": "874e941e",
   "metadata": {},
   "outputs": [
    {
     "data": {
      "text/html": [
       "<div>\n",
       "<style scoped>\n",
       "    .dataframe tbody tr th:only-of-type {\n",
       "        vertical-align: middle;\n",
       "    }\n",
       "\n",
       "    .dataframe tbody tr th {\n",
       "        vertical-align: top;\n",
       "    }\n",
       "\n",
       "    .dataframe thead th {\n",
       "        text-align: right;\n",
       "    }\n",
       "</style>\n",
       "<table border=\"1\" class=\"dataframe\">\n",
       "  <thead>\n",
       "    <tr style=\"text-align: right;\">\n",
       "      <th></th>\n",
       "      <th>Team</th>\n",
       "      <th>Position</th>\n",
       "      <th>Birthday</th>\n",
       "      <th>Salary</th>\n",
       "    </tr>\n",
       "    <tr>\n",
       "      <th>Name</th>\n",
       "      <th></th>\n",
       "      <th></th>\n",
       "      <th></th>\n",
       "      <th></th>\n",
       "    </tr>\n",
       "  </thead>\n",
       "  <tbody>\n",
       "    <tr>\n",
       "      <th>Otto Porter</th>\n",
       "      <td>Chicago Bulls</td>\n",
       "      <td>SF</td>\n",
       "      <td>1993-06-03</td>\n",
       "      <td>27250576</td>\n",
       "    </tr>\n",
       "    <tr>\n",
       "      <th>PJ Dozier</th>\n",
       "      <td>Denver Nuggets</td>\n",
       "      <td>PG</td>\n",
       "      <td>1996-10-25</td>\n",
       "      <td>79568</td>\n",
       "    </tr>\n",
       "    <tr>\n",
       "      <th>PJ Washington</th>\n",
       "      <td>Charlotte Hornets</td>\n",
       "      <td>PF</td>\n",
       "      <td>1998-08-23</td>\n",
       "      <td>3831840</td>\n",
       "    </tr>\n",
       "    <tr>\n",
       "      <th>Pascal Siakam</th>\n",
       "      <td>Toronto Raptors</td>\n",
       "      <td>PF</td>\n",
       "      <td>1994-04-02</td>\n",
       "      <td>2351838</td>\n",
       "    </tr>\n",
       "    <tr>\n",
       "      <th>Pat Connaughton</th>\n",
       "      <td>Milwaukee Bucks</td>\n",
       "      <td>SG</td>\n",
       "      <td>1993-01-06</td>\n",
       "      <td>1723050</td>\n",
       "    </tr>\n",
       "    <tr>\n",
       "      <th>Patrick Beverley</th>\n",
       "      <td>Los Angeles Clippers</td>\n",
       "      <td>PG</td>\n",
       "      <td>1988-07-12</td>\n",
       "      <td>12345680</td>\n",
       "    </tr>\n",
       "  </tbody>\n",
       "</table>\n",
       "</div>"
      ],
      "text/plain": [
       "                                  Team Position   Birthday    Salary\n",
       "Name                                                                \n",
       "Otto Porter              Chicago Bulls       SF 1993-06-03  27250576\n",
       "PJ Dozier               Denver Nuggets       PG 1996-10-25     79568\n",
       "PJ Washington        Charlotte Hornets       PF 1998-08-23   3831840\n",
       "Pascal Siakam          Toronto Raptors       PF 1994-04-02   2351838\n",
       "Pat Connaughton        Milwaukee Bucks       SG 1993-01-06   1723050\n",
       "Patrick Beverley  Los Angeles Clippers       PG 1988-07-12  12345680"
      ]
     },
     "execution_count": 633,
     "metadata": {},
     "output_type": "execute_result"
    }
   ],
   "source": [
    "nba.sort_index().loc[\"Otto Porter\":\"Patrick Beverley\"]"
   ]
  },
  {
   "cell_type": "code",
   "execution_count": 634,
   "id": "947776b9",
   "metadata": {},
   "outputs": [
    {
     "data": {
      "text/plain": [
       "['Otto Porter', 'PJ Dozier']"
      ]
     },
     "execution_count": 634,
     "metadata": {},
     "output_type": "execute_result"
    }
   ],
   "source": [
    "players = [\"Otto Porter\", \"PJ Dozier\", \"PJ Washington\"]\n",
    "players[0:2]"
   ]
  },
  {
   "cell_type": "code",
   "execution_count": 635,
   "id": "4c8588a1",
   "metadata": {},
   "outputs": [
    {
     "data": {
      "text/html": [
       "<div>\n",
       "<style scoped>\n",
       "    .dataframe tbody tr th:only-of-type {\n",
       "        vertical-align: middle;\n",
       "    }\n",
       "\n",
       "    .dataframe tbody tr th {\n",
       "        vertical-align: top;\n",
       "    }\n",
       "\n",
       "    .dataframe thead th {\n",
       "        text-align: right;\n",
       "    }\n",
       "</style>\n",
       "<table border=\"1\" class=\"dataframe\">\n",
       "  <thead>\n",
       "    <tr style=\"text-align: right;\">\n",
       "      <th></th>\n",
       "      <th>Team</th>\n",
       "      <th>Position</th>\n",
       "      <th>Birthday</th>\n",
       "      <th>Salary</th>\n",
       "    </tr>\n",
       "    <tr>\n",
       "      <th>Name</th>\n",
       "      <th></th>\n",
       "      <th></th>\n",
       "      <th></th>\n",
       "      <th></th>\n",
       "    </tr>\n",
       "  </thead>\n",
       "  <tbody>\n",
       "    <tr>\n",
       "      <th>Zach Collins</th>\n",
       "      <td>Portland Trail Blazers</td>\n",
       "      <td>C</td>\n",
       "      <td>1997-11-19</td>\n",
       "      <td>4240200</td>\n",
       "    </tr>\n",
       "    <tr>\n",
       "      <th>Zach LaVine</th>\n",
       "      <td>Chicago Bulls</td>\n",
       "      <td>PG</td>\n",
       "      <td>1995-03-10</td>\n",
       "      <td>19500000</td>\n",
       "    </tr>\n",
       "    <tr>\n",
       "      <th>Zach Norvell</th>\n",
       "      <td>Los Angeles Lakers</td>\n",
       "      <td>SG</td>\n",
       "      <td>1997-12-09</td>\n",
       "      <td>79568</td>\n",
       "    </tr>\n",
       "    <tr>\n",
       "      <th>Zhaire Smith</th>\n",
       "      <td>Philadelphia 76ers</td>\n",
       "      <td>SG</td>\n",
       "      <td>1999-06-04</td>\n",
       "      <td>3058800</td>\n",
       "    </tr>\n",
       "    <tr>\n",
       "      <th>Zion Williamson</th>\n",
       "      <td>New Orleans Pelicans</td>\n",
       "      <td>F</td>\n",
       "      <td>2000-07-06</td>\n",
       "      <td>9757440</td>\n",
       "    </tr>\n",
       "    <tr>\n",
       "      <th>Zylan Cheatham</th>\n",
       "      <td>New Orleans Pelicans</td>\n",
       "      <td>SF</td>\n",
       "      <td>1995-11-17</td>\n",
       "      <td>79568</td>\n",
       "    </tr>\n",
       "  </tbody>\n",
       "</table>\n",
       "</div>"
      ],
      "text/plain": [
       "                                   Team Position   Birthday    Salary\n",
       "Name                                                                 \n",
       "Zach Collins     Portland Trail Blazers        C 1997-11-19   4240200\n",
       "Zach LaVine               Chicago Bulls       PG 1995-03-10  19500000\n",
       "Zach Norvell         Los Angeles Lakers       SG 1997-12-09     79568\n",
       "Zhaire Smith         Philadelphia 76ers       SG 1999-06-04   3058800\n",
       "Zion Williamson    New Orleans Pelicans        F 2000-07-06   9757440\n",
       "Zylan Cheatham     New Orleans Pelicans       SF 1995-11-17     79568"
      ]
     },
     "execution_count": 635,
     "metadata": {},
     "output_type": "execute_result"
    }
   ],
   "source": [
    "nba.sort_index().loc[\"Zach Collins\":]"
   ]
  },
  {
   "cell_type": "code",
   "execution_count": 636,
   "id": "cdc10106",
   "metadata": {},
   "outputs": [
    {
     "data": {
      "text/html": [
       "<div>\n",
       "<style scoped>\n",
       "    .dataframe tbody tr th:only-of-type {\n",
       "        vertical-align: middle;\n",
       "    }\n",
       "\n",
       "    .dataframe tbody tr th {\n",
       "        vertical-align: top;\n",
       "    }\n",
       "\n",
       "    .dataframe thead th {\n",
       "        text-align: right;\n",
       "    }\n",
       "</style>\n",
       "<table border=\"1\" class=\"dataframe\">\n",
       "  <thead>\n",
       "    <tr style=\"text-align: right;\">\n",
       "      <th></th>\n",
       "      <th>Team</th>\n",
       "      <th>Position</th>\n",
       "      <th>Birthday</th>\n",
       "      <th>Salary</th>\n",
       "    </tr>\n",
       "    <tr>\n",
       "      <th>Name</th>\n",
       "      <th></th>\n",
       "      <th></th>\n",
       "      <th></th>\n",
       "      <th></th>\n",
       "    </tr>\n",
       "  </thead>\n",
       "  <tbody>\n",
       "    <tr>\n",
       "      <th>Aaron Gordon</th>\n",
       "      <td>Orlando Magic</td>\n",
       "      <td>PF</td>\n",
       "      <td>1995-09-16</td>\n",
       "      <td>19863636</td>\n",
       "    </tr>\n",
       "    <tr>\n",
       "      <th>Aaron Holiday</th>\n",
       "      <td>Indiana Pacers</td>\n",
       "      <td>PG</td>\n",
       "      <td>1996-09-30</td>\n",
       "      <td>2239200</td>\n",
       "    </tr>\n",
       "    <tr>\n",
       "      <th>Abdel Nader</th>\n",
       "      <td>Oklahoma City Thunder</td>\n",
       "      <td>SF</td>\n",
       "      <td>1993-09-25</td>\n",
       "      <td>1618520</td>\n",
       "    </tr>\n",
       "    <tr>\n",
       "      <th>Adam Mokoka</th>\n",
       "      <td>Chicago Bulls</td>\n",
       "      <td>G</td>\n",
       "      <td>1998-07-18</td>\n",
       "      <td>79568</td>\n",
       "    </tr>\n",
       "    <tr>\n",
       "      <th>Admiral Schofield</th>\n",
       "      <td>Washington Wizards</td>\n",
       "      <td>SF</td>\n",
       "      <td>1997-03-30</td>\n",
       "      <td>1000000</td>\n",
       "    </tr>\n",
       "    <tr>\n",
       "      <th>Al Horford</th>\n",
       "      <td>Philadelphia 76ers</td>\n",
       "      <td>C</td>\n",
       "      <td>1986-06-03</td>\n",
       "      <td>28000000</td>\n",
       "    </tr>\n",
       "  </tbody>\n",
       "</table>\n",
       "</div>"
      ],
      "text/plain": [
       "                                    Team Position   Birthday    Salary\n",
       "Name                                                                  \n",
       "Aaron Gordon               Orlando Magic       PF 1995-09-16  19863636\n",
       "Aaron Holiday             Indiana Pacers       PG 1996-09-30   2239200\n",
       "Abdel Nader        Oklahoma City Thunder       SF 1993-09-25   1618520\n",
       "Adam Mokoka                Chicago Bulls        G 1998-07-18     79568\n",
       "Admiral Schofield     Washington Wizards       SF 1997-03-30   1000000\n",
       "Al Horford            Philadelphia 76ers        C 1986-06-03  28000000"
      ]
     },
     "execution_count": 636,
     "metadata": {},
     "output_type": "execute_result"
    }
   ],
   "source": [
    "nba.sort_index().loc[:\"Al Horford\"]"
   ]
  },
  {
   "cell_type": "code",
   "execution_count": 638,
   "id": "4584b73e",
   "metadata": {},
   "outputs": [],
   "source": [
    "# nba.loc[\"Bugs Bunny\"]  # KeyError"
   ]
  },
  {
   "cell_type": "markdown",
   "id": "854a15a6",
   "metadata": {},
   "source": [
    "### 4.7.2"
   ]
  },
  {
   "cell_type": "code",
   "execution_count": 639,
   "id": "9fa72567",
   "metadata": {},
   "outputs": [
    {
     "data": {
      "text/plain": [
       "Team             Denver Nuggets\n",
       "Position                     PF\n",
       "Birthday    1999-04-03 00:00:00\n",
       "Salary                  1416852\n",
       "Name: Jarred Vanderbilt, dtype: object"
      ]
     },
     "execution_count": 639,
     "metadata": {},
     "output_type": "execute_result"
    }
   ],
   "source": [
    "nba.iloc[300]"
   ]
  },
  {
   "cell_type": "code",
   "execution_count": 642,
   "id": "eafe230d",
   "metadata": {},
   "outputs": [
    {
     "data": {
      "text/html": [
       "<div>\n",
       "<style scoped>\n",
       "    .dataframe tbody tr th:only-of-type {\n",
       "        vertical-align: middle;\n",
       "    }\n",
       "\n",
       "    .dataframe tbody tr th {\n",
       "        vertical-align: top;\n",
       "    }\n",
       "\n",
       "    .dataframe thead th {\n",
       "        text-align: right;\n",
       "    }\n",
       "</style>\n",
       "<table border=\"1\" class=\"dataframe\">\n",
       "  <thead>\n",
       "    <tr style=\"text-align: right;\">\n",
       "      <th></th>\n",
       "      <th>Team</th>\n",
       "      <th>Position</th>\n",
       "      <th>Birthday</th>\n",
       "      <th>Salary</th>\n",
       "    </tr>\n",
       "    <tr>\n",
       "      <th>Name</th>\n",
       "      <th></th>\n",
       "      <th></th>\n",
       "      <th></th>\n",
       "      <th></th>\n",
       "    </tr>\n",
       "  </thead>\n",
       "  <tbody>\n",
       "    <tr>\n",
       "      <th>Brian Bowen</th>\n",
       "      <td>Indiana Pacers</td>\n",
       "      <td>SG</td>\n",
       "      <td>1998-10-02</td>\n",
       "      <td>79568</td>\n",
       "    </tr>\n",
       "    <tr>\n",
       "      <th>Marco Belinelli</th>\n",
       "      <td>San Antonio Spurs</td>\n",
       "      <td>SF</td>\n",
       "      <td>1986-03-25</td>\n",
       "      <td>5846154</td>\n",
       "    </tr>\n",
       "    <tr>\n",
       "      <th>Jarred Vanderbilt</th>\n",
       "      <td>Denver Nuggets</td>\n",
       "      <td>PF</td>\n",
       "      <td>1999-04-03</td>\n",
       "      <td>1416852</td>\n",
       "    </tr>\n",
       "    <tr>\n",
       "      <th>Louis King</th>\n",
       "      <td>Detroit Pistons</td>\n",
       "      <td>F</td>\n",
       "      <td>1999-04-06</td>\n",
       "      <td>79568</td>\n",
       "    </tr>\n",
       "  </tbody>\n",
       "</table>\n",
       "</div>"
      ],
      "text/plain": [
       "                                Team Position   Birthday   Salary\n",
       "Name                                                             \n",
       "Brian Bowen           Indiana Pacers       SG 1998-10-02    79568\n",
       "Marco Belinelli    San Antonio Spurs       SF 1986-03-25  5846154\n",
       "Jarred Vanderbilt     Denver Nuggets       PF 1999-04-03  1416852\n",
       "Louis King           Detroit Pistons        F 1999-04-06    79568"
      ]
     },
     "execution_count": 642,
     "metadata": {},
     "output_type": "execute_result"
    }
   ],
   "source": [
    "nba.iloc[[100, 200, 300, 400]]"
   ]
  },
  {
   "cell_type": "code",
   "execution_count": 643,
   "id": "3120c227",
   "metadata": {},
   "outputs": [
    {
     "data": {
      "text/html": [
       "<div>\n",
       "<style scoped>\n",
       "    .dataframe tbody tr th:only-of-type {\n",
       "        vertical-align: middle;\n",
       "    }\n",
       "\n",
       "    .dataframe tbody tr th {\n",
       "        vertical-align: top;\n",
       "    }\n",
       "\n",
       "    .dataframe thead th {\n",
       "        text-align: right;\n",
       "    }\n",
       "</style>\n",
       "<table border=\"1\" class=\"dataframe\">\n",
       "  <thead>\n",
       "    <tr style=\"text-align: right;\">\n",
       "      <th></th>\n",
       "      <th>Team</th>\n",
       "      <th>Position</th>\n",
       "      <th>Birthday</th>\n",
       "      <th>Salary</th>\n",
       "    </tr>\n",
       "    <tr>\n",
       "      <th>Name</th>\n",
       "      <th></th>\n",
       "      <th></th>\n",
       "      <th></th>\n",
       "      <th></th>\n",
       "    </tr>\n",
       "  </thead>\n",
       "  <tbody>\n",
       "    <tr>\n",
       "      <th>Louis King</th>\n",
       "      <td>Detroit Pistons</td>\n",
       "      <td>F</td>\n",
       "      <td>1999-04-06</td>\n",
       "      <td>79568</td>\n",
       "    </tr>\n",
       "    <tr>\n",
       "      <th>Kostas Antetokounmpo</th>\n",
       "      <td>Los Angeles Lakers</td>\n",
       "      <td>PF</td>\n",
       "      <td>1997-11-20</td>\n",
       "      <td>79568</td>\n",
       "    </tr>\n",
       "    <tr>\n",
       "      <th>Rodions Kurucs</th>\n",
       "      <td>Brooklyn Nets</td>\n",
       "      <td>PF</td>\n",
       "      <td>1998-02-05</td>\n",
       "      <td>1699236</td>\n",
       "    </tr>\n",
       "    <tr>\n",
       "      <th>Spencer Dinwiddie</th>\n",
       "      <td>Brooklyn Nets</td>\n",
       "      <td>PG</td>\n",
       "      <td>1993-04-06</td>\n",
       "      <td>10605600</td>\n",
       "    </tr>\n",
       "  </tbody>\n",
       "</table>\n",
       "</div>"
      ],
      "text/plain": [
       "                                    Team Position   Birthday    Salary\n",
       "Name                                                                  \n",
       "Louis King               Detroit Pistons        F 1999-04-06     79568\n",
       "Kostas Antetokounmpo  Los Angeles Lakers       PF 1997-11-20     79568\n",
       "Rodions Kurucs             Brooklyn Nets       PF 1998-02-05   1699236\n",
       "Spencer Dinwiddie          Brooklyn Nets       PG 1993-04-06  10605600"
      ]
     },
     "execution_count": 643,
     "metadata": {},
     "output_type": "execute_result"
    }
   ],
   "source": [
    "nba.iloc[400:404]"
   ]
  },
  {
   "cell_type": "code",
   "execution_count": 644,
   "id": "6f402400",
   "metadata": {},
   "outputs": [
    {
     "data": {
      "text/html": [
       "<div>\n",
       "<style scoped>\n",
       "    .dataframe tbody tr th:only-of-type {\n",
       "        vertical-align: middle;\n",
       "    }\n",
       "\n",
       "    .dataframe tbody tr th {\n",
       "        vertical-align: top;\n",
       "    }\n",
       "\n",
       "    .dataframe thead th {\n",
       "        text-align: right;\n",
       "    }\n",
       "</style>\n",
       "<table border=\"1\" class=\"dataframe\">\n",
       "  <thead>\n",
       "    <tr style=\"text-align: right;\">\n",
       "      <th></th>\n",
       "      <th>Team</th>\n",
       "      <th>Position</th>\n",
       "      <th>Birthday</th>\n",
       "      <th>Salary</th>\n",
       "    </tr>\n",
       "    <tr>\n",
       "      <th>Name</th>\n",
       "      <th></th>\n",
       "      <th></th>\n",
       "      <th></th>\n",
       "      <th></th>\n",
       "    </tr>\n",
       "  </thead>\n",
       "  <tbody>\n",
       "    <tr>\n",
       "      <th>Shake Milton</th>\n",
       "      <td>Philadelphia 76ers</td>\n",
       "      <td>SG</td>\n",
       "      <td>1996-09-26</td>\n",
       "      <td>1445697</td>\n",
       "    </tr>\n",
       "    <tr>\n",
       "      <th>Christian Wood</th>\n",
       "      <td>Detroit Pistons</td>\n",
       "      <td>PF</td>\n",
       "      <td>1995-09-27</td>\n",
       "      <td>1645357</td>\n",
       "    </tr>\n",
       "  </tbody>\n",
       "</table>\n",
       "</div>"
      ],
      "text/plain": [
       "                              Team Position   Birthday   Salary\n",
       "Name                                                           \n",
       "Shake Milton    Philadelphia 76ers       SG 1996-09-26  1445697\n",
       "Christian Wood     Detroit Pistons       PF 1995-09-27  1645357"
      ]
     },
     "execution_count": 644,
     "metadata": {},
     "output_type": "execute_result"
    }
   ],
   "source": [
    "nba.iloc[:2]"
   ]
  },
  {
   "cell_type": "code",
   "execution_count": 645,
   "id": "7f45ce6a",
   "metadata": {},
   "outputs": [
    {
     "data": {
      "text/html": [
       "<div>\n",
       "<style scoped>\n",
       "    .dataframe tbody tr th:only-of-type {\n",
       "        vertical-align: middle;\n",
       "    }\n",
       "\n",
       "    .dataframe tbody tr th {\n",
       "        vertical-align: top;\n",
       "    }\n",
       "\n",
       "    .dataframe thead th {\n",
       "        text-align: right;\n",
       "    }\n",
       "</style>\n",
       "<table border=\"1\" class=\"dataframe\">\n",
       "  <thead>\n",
       "    <tr style=\"text-align: right;\">\n",
       "      <th></th>\n",
       "      <th>Team</th>\n",
       "      <th>Position</th>\n",
       "      <th>Birthday</th>\n",
       "      <th>Salary</th>\n",
       "    </tr>\n",
       "    <tr>\n",
       "      <th>Name</th>\n",
       "      <th></th>\n",
       "      <th></th>\n",
       "      <th></th>\n",
       "      <th></th>\n",
       "    </tr>\n",
       "  </thead>\n",
       "  <tbody>\n",
       "    <tr>\n",
       "      <th>Robin Lopez</th>\n",
       "      <td>Milwaukee Bucks</td>\n",
       "      <td>C</td>\n",
       "      <td>1988-04-01</td>\n",
       "      <td>4767000</td>\n",
       "    </tr>\n",
       "    <tr>\n",
       "      <th>Collin Sexton</th>\n",
       "      <td>Cleveland Cavaliers</td>\n",
       "      <td>PG</td>\n",
       "      <td>1999-01-04</td>\n",
       "      <td>4764960</td>\n",
       "    </tr>\n",
       "    <tr>\n",
       "      <th>Ricky Rubio</th>\n",
       "      <td>Phoenix Suns</td>\n",
       "      <td>PG</td>\n",
       "      <td>1990-10-21</td>\n",
       "      <td>16200000</td>\n",
       "    </tr>\n",
       "  </tbody>\n",
       "</table>\n",
       "</div>"
      ],
      "text/plain": [
       "                              Team Position   Birthday    Salary\n",
       "Name                                                            \n",
       "Robin Lopez        Milwaukee Bucks        C 1988-04-01   4767000\n",
       "Collin Sexton  Cleveland Cavaliers       PG 1999-01-04   4764960\n",
       "Ricky Rubio           Phoenix Suns       PG 1990-10-21  16200000"
      ]
     },
     "execution_count": 645,
     "metadata": {},
     "output_type": "execute_result"
    }
   ],
   "source": [
    "nba.iloc[447:]"
   ]
  },
  {
   "cell_type": "code",
   "execution_count": 646,
   "id": "b9de3d1a",
   "metadata": {},
   "outputs": [
    {
     "data": {
      "text/html": [
       "<div>\n",
       "<style scoped>\n",
       "    .dataframe tbody tr th:only-of-type {\n",
       "        vertical-align: middle;\n",
       "    }\n",
       "\n",
       "    .dataframe tbody tr th {\n",
       "        vertical-align: top;\n",
       "    }\n",
       "\n",
       "    .dataframe thead th {\n",
       "        text-align: right;\n",
       "    }\n",
       "</style>\n",
       "<table border=\"1\" class=\"dataframe\">\n",
       "  <thead>\n",
       "    <tr style=\"text-align: right;\">\n",
       "      <th></th>\n",
       "      <th>Team</th>\n",
       "      <th>Position</th>\n",
       "      <th>Birthday</th>\n",
       "      <th>Salary</th>\n",
       "    </tr>\n",
       "    <tr>\n",
       "      <th>Name</th>\n",
       "      <th></th>\n",
       "      <th></th>\n",
       "      <th></th>\n",
       "      <th></th>\n",
       "    </tr>\n",
       "  </thead>\n",
       "  <tbody>\n",
       "    <tr>\n",
       "      <th>Jared Dudley</th>\n",
       "      <td>Los Angeles Lakers</td>\n",
       "      <td>PF</td>\n",
       "      <td>1985-07-10</td>\n",
       "      <td>2564753</td>\n",
       "    </tr>\n",
       "    <tr>\n",
       "      <th>Max Strus</th>\n",
       "      <td>Chicago Bulls</td>\n",
       "      <td>SG</td>\n",
       "      <td>1996-03-28</td>\n",
       "      <td>79568</td>\n",
       "    </tr>\n",
       "    <tr>\n",
       "      <th>Kevon Looney</th>\n",
       "      <td>Golden State Warriors</td>\n",
       "      <td>C</td>\n",
       "      <td>1996-02-06</td>\n",
       "      <td>4464286</td>\n",
       "    </tr>\n",
       "    <tr>\n",
       "      <th>Willy Hernangomez</th>\n",
       "      <td>Charlotte Hornets</td>\n",
       "      <td>C</td>\n",
       "      <td>1994-05-27</td>\n",
       "      <td>1557250</td>\n",
       "    </tr>\n",
       "  </tbody>\n",
       "</table>\n",
       "</div>"
      ],
      "text/plain": [
       "                                    Team Position   Birthday   Salary\n",
       "Name                                                                 \n",
       "Jared Dudley          Los Angeles Lakers       PF 1985-07-10  2564753\n",
       "Max Strus                  Chicago Bulls       SG 1996-03-28    79568\n",
       "Kevon Looney       Golden State Warriors        C 1996-02-06  4464286\n",
       "Willy Hernangomez      Charlotte Hornets        C 1994-05-27  1557250"
      ]
     },
     "execution_count": 646,
     "metadata": {},
     "output_type": "execute_result"
    }
   ],
   "source": [
    "nba.iloc[-10:-6]"
   ]
  },
  {
   "cell_type": "code",
   "execution_count": 647,
   "id": "6715fd67",
   "metadata": {},
   "outputs": [
    {
     "data": {
      "text/html": [
       "<div>\n",
       "<style scoped>\n",
       "    .dataframe tbody tr th:only-of-type {\n",
       "        vertical-align: middle;\n",
       "    }\n",
       "\n",
       "    .dataframe tbody tr th {\n",
       "        vertical-align: top;\n",
       "    }\n",
       "\n",
       "    .dataframe thead th {\n",
       "        text-align: right;\n",
       "    }\n",
       "</style>\n",
       "<table border=\"1\" class=\"dataframe\">\n",
       "  <thead>\n",
       "    <tr style=\"text-align: right;\">\n",
       "      <th></th>\n",
       "      <th>Team</th>\n",
       "      <th>Position</th>\n",
       "      <th>Birthday</th>\n",
       "      <th>Salary</th>\n",
       "    </tr>\n",
       "    <tr>\n",
       "      <th>Name</th>\n",
       "      <th></th>\n",
       "      <th></th>\n",
       "      <th></th>\n",
       "      <th></th>\n",
       "    </tr>\n",
       "  </thead>\n",
       "  <tbody>\n",
       "    <tr>\n",
       "      <th>Shake Milton</th>\n",
       "      <td>Philadelphia 76ers</td>\n",
       "      <td>SG</td>\n",
       "      <td>1996-09-26</td>\n",
       "      <td>1445697</td>\n",
       "    </tr>\n",
       "    <tr>\n",
       "      <th>PJ Washington</th>\n",
       "      <td>Charlotte Hornets</td>\n",
       "      <td>PF</td>\n",
       "      <td>1998-08-23</td>\n",
       "      <td>3831840</td>\n",
       "    </tr>\n",
       "    <tr>\n",
       "      <th>Marial Shayok</th>\n",
       "      <td>Philadelphia 76ers</td>\n",
       "      <td>G</td>\n",
       "      <td>1995-07-26</td>\n",
       "      <td>79568</td>\n",
       "    </tr>\n",
       "    <tr>\n",
       "      <th>Kendrick Nunn</th>\n",
       "      <td>Miami Heat</td>\n",
       "      <td>SG</td>\n",
       "      <td>1995-08-03</td>\n",
       "      <td>1416852</td>\n",
       "    </tr>\n",
       "    <tr>\n",
       "      <th>Brook Lopez</th>\n",
       "      <td>Milwaukee Bucks</td>\n",
       "      <td>C</td>\n",
       "      <td>1988-04-01</td>\n",
       "      <td>12093024</td>\n",
       "    </tr>\n",
       "  </tbody>\n",
       "</table>\n",
       "</div>"
      ],
      "text/plain": [
       "                             Team Position   Birthday    Salary\n",
       "Name                                                           \n",
       "Shake Milton   Philadelphia 76ers       SG 1996-09-26   1445697\n",
       "PJ Washington   Charlotte Hornets       PF 1998-08-23   3831840\n",
       "Marial Shayok  Philadelphia 76ers        G 1995-07-26     79568\n",
       "Kendrick Nunn          Miami Heat       SG 1995-08-03   1416852\n",
       "Brook Lopez       Milwaukee Bucks        C 1988-04-01  12093024"
      ]
     },
     "execution_count": 647,
     "metadata": {},
     "output_type": "execute_result"
    }
   ],
   "source": [
    "nba.iloc[0:10:2]"
   ]
  },
  {
   "cell_type": "markdown",
   "id": "5f10cf9c",
   "metadata": {},
   "source": [
    "### 4.7.3"
   ]
  },
  {
   "cell_type": "code",
   "execution_count": 648,
   "id": "a206194e",
   "metadata": {},
   "outputs": [
    {
     "data": {
      "text/plain": [
       "'Milwaukee Bucks'"
      ]
     },
     "execution_count": 648,
     "metadata": {},
     "output_type": "execute_result"
    }
   ],
   "source": [
    "nba.loc[\"Giannis Antetokounmpo\", \"Team\"]"
   ]
  },
  {
   "cell_type": "code",
   "execution_count": 649,
   "id": "a4fd0a42",
   "metadata": {},
   "outputs": [
    {
     "data": {
      "text/plain": [
       "Position                     PG\n",
       "Birthday    1989-08-26 00:00:00\n",
       "Name: James Harden, dtype: object"
      ]
     },
     "execution_count": 649,
     "metadata": {},
     "output_type": "execute_result"
    }
   ],
   "source": [
    "nba.loc[\"James Harden\", [\"Position\", \"Birthday\"]]"
   ]
  },
  {
   "cell_type": "code",
   "execution_count": 652,
   "id": "0fdd21df",
   "metadata": {},
   "outputs": [
    {
     "data": {
      "text/html": [
       "<div>\n",
       "<style scoped>\n",
       "    .dataframe tbody tr th:only-of-type {\n",
       "        vertical-align: middle;\n",
       "    }\n",
       "\n",
       "    .dataframe tbody tr th {\n",
       "        vertical-align: top;\n",
       "    }\n",
       "\n",
       "    .dataframe thead th {\n",
       "        text-align: right;\n",
       "    }\n",
       "</style>\n",
       "<table border=\"1\" class=\"dataframe\">\n",
       "  <thead>\n",
       "    <tr style=\"text-align: right;\">\n",
       "      <th></th>\n",
       "      <th>Team</th>\n",
       "      <th>Salary</th>\n",
       "    </tr>\n",
       "    <tr>\n",
       "      <th>Name</th>\n",
       "      <th></th>\n",
       "      <th></th>\n",
       "    </tr>\n",
       "  </thead>\n",
       "  <tbody>\n",
       "    <tr>\n",
       "      <th>Russell Westbrook</th>\n",
       "      <td>Houston Rockets</td>\n",
       "      <td>38506482</td>\n",
       "    </tr>\n",
       "    <tr>\n",
       "      <th>Anthony Davis</th>\n",
       "      <td>Los Angeles Lakers</td>\n",
       "      <td>27093019</td>\n",
       "    </tr>\n",
       "  </tbody>\n",
       "</table>\n",
       "</div>"
      ],
      "text/plain": [
       "                                 Team    Salary\n",
       "Name                                           \n",
       "Russell Westbrook     Houston Rockets  38506482\n",
       "Anthony Davis      Los Angeles Lakers  27093019"
      ]
     },
     "execution_count": 652,
     "metadata": {},
     "output_type": "execute_result"
    }
   ],
   "source": [
    "nba.loc[\n",
    "    [\"Russell Westbrook\", \"Anthony Davis\"],\n",
    "    [\"Team\", \"Salary\"]\n",
    "]"
   ]
  },
  {
   "cell_type": "code",
   "execution_count": 653,
   "id": "d55a4aef",
   "metadata": {},
   "outputs": [
    {
     "data": {
      "text/plain": [
       "Position                      C\n",
       "Birthday    1994-03-16 00:00:00\n",
       "Salary                 27504630\n",
       "Name: Joel Embiid, dtype: object"
      ]
     },
     "execution_count": 653,
     "metadata": {},
     "output_type": "execute_result"
    }
   ],
   "source": [
    "nba.loc[\"Joel Embiid\", \"Position\":\"Salary\"]"
   ]
  },
  {
   "cell_type": "code",
   "execution_count": 654,
   "id": "0e0dc624",
   "metadata": {},
   "outputs": [
    {
     "data": {
      "text/plain": [
       "796806"
      ]
     },
     "execution_count": 654,
     "metadata": {},
     "output_type": "execute_result"
    }
   ],
   "source": [
    "nba.iloc[57, 3]"
   ]
  },
  {
   "cell_type": "code",
   "execution_count": 655,
   "id": "f647c479",
   "metadata": {},
   "outputs": [
    {
     "data": {
      "text/html": [
       "<div>\n",
       "<style scoped>\n",
       "    .dataframe tbody tr th:only-of-type {\n",
       "        vertical-align: middle;\n",
       "    }\n",
       "\n",
       "    .dataframe tbody tr th {\n",
       "        vertical-align: top;\n",
       "    }\n",
       "\n",
       "    .dataframe thead th {\n",
       "        text-align: right;\n",
       "    }\n",
       "</style>\n",
       "<table border=\"1\" class=\"dataframe\">\n",
       "  <thead>\n",
       "    <tr style=\"text-align: right;\">\n",
       "      <th></th>\n",
       "      <th>Team</th>\n",
       "      <th>Position</th>\n",
       "      <th>Birthday</th>\n",
       "    </tr>\n",
       "    <tr>\n",
       "      <th>Name</th>\n",
       "      <th></th>\n",
       "      <th></th>\n",
       "      <th></th>\n",
       "    </tr>\n",
       "  </thead>\n",
       "  <tbody>\n",
       "    <tr>\n",
       "      <th>Brian Bowen</th>\n",
       "      <td>Indiana Pacers</td>\n",
       "      <td>SG</td>\n",
       "      <td>1998-10-02</td>\n",
       "    </tr>\n",
       "    <tr>\n",
       "      <th>Aaron Holiday</th>\n",
       "      <td>Indiana Pacers</td>\n",
       "      <td>PG</td>\n",
       "      <td>1996-09-30</td>\n",
       "    </tr>\n",
       "    <tr>\n",
       "      <th>Troy Daniels</th>\n",
       "      <td>Los Angeles Lakers</td>\n",
       "      <td>SG</td>\n",
       "      <td>1991-07-15</td>\n",
       "    </tr>\n",
       "    <tr>\n",
       "      <th>Buddy Hield</th>\n",
       "      <td>Sacramento Kings</td>\n",
       "      <td>SG</td>\n",
       "      <td>1992-12-17</td>\n",
       "    </tr>\n",
       "  </tbody>\n",
       "</table>\n",
       "</div>"
      ],
      "text/plain": [
       "                             Team Position   Birthday\n",
       "Name                                                 \n",
       "Brian Bowen        Indiana Pacers       SG 1998-10-02\n",
       "Aaron Holiday      Indiana Pacers       PG 1996-09-30\n",
       "Troy Daniels   Los Angeles Lakers       SG 1991-07-15\n",
       "Buddy Hield      Sacramento Kings       SG 1992-12-17"
      ]
     },
     "execution_count": 655,
     "metadata": {},
     "output_type": "execute_result"
    }
   ],
   "source": [
    "nba.iloc[100:104,:3]"
   ]
  },
  {
   "cell_type": "code",
   "execution_count": 656,
   "id": "337f4162",
   "metadata": {},
   "outputs": [
    {
     "data": {
      "text/plain": [
       "Timestamp('1992-08-01 00:00:00')"
      ]
     },
     "execution_count": 656,
     "metadata": {},
     "output_type": "execute_result"
    }
   ],
   "source": [
    "nba.at[\"Austin Rivers\", \"Birthday\"]"
   ]
  },
  {
   "cell_type": "code",
   "execution_count": 657,
   "id": "11d1a31b",
   "metadata": {},
   "outputs": [
    {
     "data": {
      "text/plain": [
       "'PF'"
      ]
     },
     "execution_count": 657,
     "metadata": {},
     "output_type": "execute_result"
    }
   ],
   "source": [
    "nba.iat[263, 1]"
   ]
  },
  {
   "cell_type": "code",
   "execution_count": 659,
   "id": "99ea4535",
   "metadata": {},
   "outputs": [
    {
     "name": "stdout",
     "output_type": "stream",
     "text": [
      "2.53 µs ± 2.65 ns per loop (mean ± std. dev. of 7 runs, 100,000 loops each)\n"
     ]
    }
   ],
   "source": [
    "%%timeit\n",
    "nba.at[\"Austin Rivers\", \"Birthday\"]"
   ]
  },
  {
   "cell_type": "code",
   "execution_count": 660,
   "id": "ba8adbe0",
   "metadata": {},
   "outputs": [
    {
     "name": "stdout",
     "output_type": "stream",
     "text": [
      "4 µs ± 21.7 ns per loop (mean ± std. dev. of 7 runs, 100,000 loops each)\n"
     ]
    }
   ],
   "source": [
    "%%timeit\n",
    "nba.loc[\"Austin Rivers\", \"Birthday\"]"
   ]
  },
  {
   "cell_type": "code",
   "execution_count": 661,
   "id": "87c359a9",
   "metadata": {},
   "outputs": [
    {
     "name": "stdout",
     "output_type": "stream",
     "text": [
      "4.37 µs ± 22.7 ns per loop (mean ± std. dev. of 7 runs, 100,000 loops each)\n"
     ]
    }
   ],
   "source": [
    "%%timeit\n",
    "nba.iat[263, 1]"
   ]
  },
  {
   "cell_type": "code",
   "execution_count": 662,
   "id": "b9faaf3f",
   "metadata": {},
   "outputs": [
    {
     "name": "stdout",
     "output_type": "stream",
     "text": [
      "5.76 µs ± 31 ns per loop (mean ± std. dev. of 7 runs, 100,000 loops each)\n"
     ]
    }
   ],
   "source": [
    "%%timeit\n",
    "nba.iloc[263, 1]"
   ]
  },
  {
   "cell_type": "markdown",
   "id": "030320fe",
   "metadata": {},
   "source": [
    "## 4.8"
   ]
  },
  {
   "cell_type": "code",
   "execution_count": 663,
   "id": "911c85c3",
   "metadata": {},
   "outputs": [
    {
     "data": {
      "text/plain": [
       "29802321"
      ]
     },
     "execution_count": 663,
     "metadata": {},
     "output_type": "execute_result"
    }
   ],
   "source": [
    "nba[\"Salary\"].loc[\"Damian Lillard\"]"
   ]
  },
  {
   "cell_type": "code",
   "execution_count": 664,
   "id": "25aac28c",
   "metadata": {},
   "outputs": [
    {
     "data": {
      "text/plain": [
       "29802321"
      ]
     },
     "execution_count": 664,
     "metadata": {},
     "output_type": "execute_result"
    }
   ],
   "source": [
    "nba[\"Salary\"].at[\"Damian Lillard\"]"
   ]
  },
  {
   "cell_type": "code",
   "execution_count": 665,
   "id": "a107c2fc",
   "metadata": {},
   "outputs": [
    {
     "data": {
      "text/plain": [
       "2033160"
      ]
     },
     "execution_count": 665,
     "metadata": {},
     "output_type": "execute_result"
    }
   ],
   "source": [
    "nba[\"Salary\"].iloc[234]"
   ]
  },
  {
   "cell_type": "code",
   "execution_count": 666,
   "id": "5c046fb5",
   "metadata": {},
   "outputs": [
    {
     "data": {
      "text/plain": [
       "2033160"
      ]
     },
     "execution_count": 666,
     "metadata": {},
     "output_type": "execute_result"
    }
   ],
   "source": [
    "nba[\"Salary\"].iat[234]"
   ]
  },
  {
   "cell_type": "markdown",
   "id": "6f24ea5c",
   "metadata": {},
   "source": [
    "## 4.9"
   ]
  },
  {
   "cell_type": "code",
   "execution_count": 669,
   "id": "b19289c1",
   "metadata": {},
   "outputs": [
    {
     "data": {
      "text/plain": [
       "Index(['Team', 'Position', 'Birthday', 'Salary'], dtype='object')"
      ]
     },
     "execution_count": 669,
     "metadata": {},
     "output_type": "execute_result"
    }
   ],
   "source": [
    "nba.columns"
   ]
  },
  {
   "cell_type": "code",
   "execution_count": 670,
   "id": "9b22790e",
   "metadata": {},
   "outputs": [
    {
     "data": {
      "text/html": [
       "<div>\n",
       "<style scoped>\n",
       "    .dataframe tbody tr th:only-of-type {\n",
       "        vertical-align: middle;\n",
       "    }\n",
       "\n",
       "    .dataframe tbody tr th {\n",
       "        vertical-align: top;\n",
       "    }\n",
       "\n",
       "    .dataframe thead th {\n",
       "        text-align: right;\n",
       "    }\n",
       "</style>\n",
       "<table border=\"1\" class=\"dataframe\">\n",
       "  <thead>\n",
       "    <tr style=\"text-align: right;\">\n",
       "      <th></th>\n",
       "      <th>Team</th>\n",
       "      <th>Position</th>\n",
       "      <th>Date of Birth</th>\n",
       "      <th>Pay</th>\n",
       "    </tr>\n",
       "    <tr>\n",
       "      <th>Name</th>\n",
       "      <th></th>\n",
       "      <th></th>\n",
       "      <th></th>\n",
       "      <th></th>\n",
       "    </tr>\n",
       "  </thead>\n",
       "  <tbody>\n",
       "    <tr>\n",
       "      <th>Shake Milton</th>\n",
       "      <td>Philadelphia 76ers</td>\n",
       "      <td>SG</td>\n",
       "      <td>1996-09-26</td>\n",
       "      <td>1445697</td>\n",
       "    </tr>\n",
       "  </tbody>\n",
       "</table>\n",
       "</div>"
      ],
      "text/plain": [
       "                            Team Position Date of Birth      Pay\n",
       "Name                                                            \n",
       "Shake Milton  Philadelphia 76ers       SG    1996-09-26  1445697"
      ]
     },
     "execution_count": 670,
     "metadata": {},
     "output_type": "execute_result"
    }
   ],
   "source": [
    "nba.columns = [\"Team\", \"Position\", \"Date of Birth\", \"Pay\"]\n",
    "nba.head(1)"
   ]
  },
  {
   "cell_type": "code",
   "execution_count": 671,
   "id": "43a22b5e",
   "metadata": {},
   "outputs": [
    {
     "data": {
      "text/html": [
       "<div>\n",
       "<style scoped>\n",
       "    .dataframe tbody tr th:only-of-type {\n",
       "        vertical-align: middle;\n",
       "    }\n",
       "\n",
       "    .dataframe tbody tr th {\n",
       "        vertical-align: top;\n",
       "    }\n",
       "\n",
       "    .dataframe thead th {\n",
       "        text-align: right;\n",
       "    }\n",
       "</style>\n",
       "<table border=\"1\" class=\"dataframe\">\n",
       "  <thead>\n",
       "    <tr style=\"text-align: right;\">\n",
       "      <th></th>\n",
       "      <th>Team</th>\n",
       "      <th>Position</th>\n",
       "      <th>Birthday</th>\n",
       "      <th>Pay</th>\n",
       "    </tr>\n",
       "    <tr>\n",
       "      <th>Name</th>\n",
       "      <th></th>\n",
       "      <th></th>\n",
       "      <th></th>\n",
       "      <th></th>\n",
       "    </tr>\n",
       "  </thead>\n",
       "  <tbody>\n",
       "    <tr>\n",
       "      <th>Shake Milton</th>\n",
       "      <td>Philadelphia 76ers</td>\n",
       "      <td>SG</td>\n",
       "      <td>1996-09-26</td>\n",
       "      <td>1445697</td>\n",
       "    </tr>\n",
       "    <tr>\n",
       "      <th>Christian Wood</th>\n",
       "      <td>Detroit Pistons</td>\n",
       "      <td>PF</td>\n",
       "      <td>1995-09-27</td>\n",
       "      <td>1645357</td>\n",
       "    </tr>\n",
       "    <tr>\n",
       "      <th>PJ Washington</th>\n",
       "      <td>Charlotte Hornets</td>\n",
       "      <td>PF</td>\n",
       "      <td>1998-08-23</td>\n",
       "      <td>3831840</td>\n",
       "    </tr>\n",
       "    <tr>\n",
       "      <th>Derrick Rose</th>\n",
       "      <td>Detroit Pistons</td>\n",
       "      <td>PG</td>\n",
       "      <td>1988-10-04</td>\n",
       "      <td>7317074</td>\n",
       "    </tr>\n",
       "    <tr>\n",
       "      <th>Marial Shayok</th>\n",
       "      <td>Philadelphia 76ers</td>\n",
       "      <td>G</td>\n",
       "      <td>1995-07-26</td>\n",
       "      <td>79568</td>\n",
       "    </tr>\n",
       "    <tr>\n",
       "      <th>...</th>\n",
       "      <td>...</td>\n",
       "      <td>...</td>\n",
       "      <td>...</td>\n",
       "      <td>...</td>\n",
       "    </tr>\n",
       "    <tr>\n",
       "      <th>Austin Rivers</th>\n",
       "      <td>Houston Rockets</td>\n",
       "      <td>PG</td>\n",
       "      <td>1992-08-01</td>\n",
       "      <td>2174310</td>\n",
       "    </tr>\n",
       "    <tr>\n",
       "      <th>Harry Giles</th>\n",
       "      <td>Sacramento Kings</td>\n",
       "      <td>PF</td>\n",
       "      <td>1998-04-22</td>\n",
       "      <td>2578800</td>\n",
       "    </tr>\n",
       "    <tr>\n",
       "      <th>Robin Lopez</th>\n",
       "      <td>Milwaukee Bucks</td>\n",
       "      <td>C</td>\n",
       "      <td>1988-04-01</td>\n",
       "      <td>4767000</td>\n",
       "    </tr>\n",
       "    <tr>\n",
       "      <th>Collin Sexton</th>\n",
       "      <td>Cleveland Cavaliers</td>\n",
       "      <td>PG</td>\n",
       "      <td>1999-01-04</td>\n",
       "      <td>4764960</td>\n",
       "    </tr>\n",
       "    <tr>\n",
       "      <th>Ricky Rubio</th>\n",
       "      <td>Phoenix Suns</td>\n",
       "      <td>PG</td>\n",
       "      <td>1990-10-21</td>\n",
       "      <td>16200000</td>\n",
       "    </tr>\n",
       "  </tbody>\n",
       "</table>\n",
       "<p>450 rows × 4 columns</p>\n",
       "</div>"
      ],
      "text/plain": [
       "                               Team Position   Birthday       Pay\n",
       "Name                                                             \n",
       "Shake Milton     Philadelphia 76ers       SG 1996-09-26   1445697\n",
       "Christian Wood      Detroit Pistons       PF 1995-09-27   1645357\n",
       "PJ Washington     Charlotte Hornets       PF 1998-08-23   3831840\n",
       "Derrick Rose        Detroit Pistons       PG 1988-10-04   7317074\n",
       "Marial Shayok    Philadelphia 76ers        G 1995-07-26     79568\n",
       "...                             ...      ...        ...       ...\n",
       "Austin Rivers       Houston Rockets       PG 1992-08-01   2174310\n",
       "Harry Giles        Sacramento Kings       PF 1998-04-22   2578800\n",
       "Robin Lopez         Milwaukee Bucks        C 1988-04-01   4767000\n",
       "Collin Sexton   Cleveland Cavaliers       PG 1999-01-04   4764960\n",
       "Ricky Rubio            Phoenix Suns       PG 1990-10-21  16200000\n",
       "\n",
       "[450 rows x 4 columns]"
      ]
     },
     "execution_count": 671,
     "metadata": {},
     "output_type": "execute_result"
    }
   ],
   "source": [
    "nba.rename(columns = {\"Date of Birth\":\"Birthday\"})"
   ]
  },
  {
   "cell_type": "code",
   "execution_count": 673,
   "id": "9e50b3cf",
   "metadata": {},
   "outputs": [
    {
     "data": {
      "text/html": [
       "<div>\n",
       "<style scoped>\n",
       "    .dataframe tbody tr th:only-of-type {\n",
       "        vertical-align: middle;\n",
       "    }\n",
       "\n",
       "    .dataframe tbody tr th {\n",
       "        vertical-align: top;\n",
       "    }\n",
       "\n",
       "    .dataframe thead th {\n",
       "        text-align: right;\n",
       "    }\n",
       "</style>\n",
       "<table border=\"1\" class=\"dataframe\">\n",
       "  <thead>\n",
       "    <tr style=\"text-align: right;\">\n",
       "      <th></th>\n",
       "      <th>Team</th>\n",
       "      <th>Position</th>\n",
       "      <th>Birthday</th>\n",
       "      <th>Pay</th>\n",
       "    </tr>\n",
       "    <tr>\n",
       "      <th>Name</th>\n",
       "      <th></th>\n",
       "      <th></th>\n",
       "      <th></th>\n",
       "      <th></th>\n",
       "    </tr>\n",
       "  </thead>\n",
       "  <tbody>\n",
       "    <tr>\n",
       "      <th>Shake Milton</th>\n",
       "      <td>Philadelphia 76ers</td>\n",
       "      <td>SG</td>\n",
       "      <td>1996-09-26</td>\n",
       "      <td>1445697</td>\n",
       "    </tr>\n",
       "    <tr>\n",
       "      <th>Christian Wood</th>\n",
       "      <td>Detroit Pistons</td>\n",
       "      <td>PF</td>\n",
       "      <td>1995-09-27</td>\n",
       "      <td>1645357</td>\n",
       "    </tr>\n",
       "    <tr>\n",
       "      <th>PJ Washington</th>\n",
       "      <td>Charlotte Hornets</td>\n",
       "      <td>PF</td>\n",
       "      <td>1998-08-23</td>\n",
       "      <td>3831840</td>\n",
       "    </tr>\n",
       "    <tr>\n",
       "      <th>Derrick Rose</th>\n",
       "      <td>Detroit Pistons</td>\n",
       "      <td>PG</td>\n",
       "      <td>1988-10-04</td>\n",
       "      <td>7317074</td>\n",
       "    </tr>\n",
       "    <tr>\n",
       "      <th>Marial Shayok</th>\n",
       "      <td>Philadelphia 76ers</td>\n",
       "      <td>G</td>\n",
       "      <td>1995-07-26</td>\n",
       "      <td>79568</td>\n",
       "    </tr>\n",
       "    <tr>\n",
       "      <th>...</th>\n",
       "      <td>...</td>\n",
       "      <td>...</td>\n",
       "      <td>...</td>\n",
       "      <td>...</td>\n",
       "    </tr>\n",
       "    <tr>\n",
       "      <th>Austin Rivers</th>\n",
       "      <td>Houston Rockets</td>\n",
       "      <td>PG</td>\n",
       "      <td>1992-08-01</td>\n",
       "      <td>2174310</td>\n",
       "    </tr>\n",
       "    <tr>\n",
       "      <th>Harry Giles</th>\n",
       "      <td>Sacramento Kings</td>\n",
       "      <td>PF</td>\n",
       "      <td>1998-04-22</td>\n",
       "      <td>2578800</td>\n",
       "    </tr>\n",
       "    <tr>\n",
       "      <th>Robin Lopez</th>\n",
       "      <td>Milwaukee Bucks</td>\n",
       "      <td>C</td>\n",
       "      <td>1988-04-01</td>\n",
       "      <td>4767000</td>\n",
       "    </tr>\n",
       "    <tr>\n",
       "      <th>Collin Sexton</th>\n",
       "      <td>Cleveland Cavaliers</td>\n",
       "      <td>PG</td>\n",
       "      <td>1999-01-04</td>\n",
       "      <td>4764960</td>\n",
       "    </tr>\n",
       "    <tr>\n",
       "      <th>Ricky Rubio</th>\n",
       "      <td>Phoenix Suns</td>\n",
       "      <td>PG</td>\n",
       "      <td>1990-10-21</td>\n",
       "      <td>16200000</td>\n",
       "    </tr>\n",
       "  </tbody>\n",
       "</table>\n",
       "<p>450 rows × 4 columns</p>\n",
       "</div>"
      ],
      "text/plain": [
       "                               Team Position   Birthday       Pay\n",
       "Name                                                             \n",
       "Shake Milton     Philadelphia 76ers       SG 1996-09-26   1445697\n",
       "Christian Wood      Detroit Pistons       PF 1995-09-27   1645357\n",
       "PJ Washington     Charlotte Hornets       PF 1998-08-23   3831840\n",
       "Derrick Rose        Detroit Pistons       PG 1988-10-04   7317074\n",
       "Marial Shayok    Philadelphia 76ers        G 1995-07-26     79568\n",
       "...                             ...      ...        ...       ...\n",
       "Austin Rivers       Houston Rockets       PG 1992-08-01   2174310\n",
       "Harry Giles        Sacramento Kings       PF 1998-04-22   2578800\n",
       "Robin Lopez         Milwaukee Bucks        C 1988-04-01   4767000\n",
       "Collin Sexton   Cleveland Cavaliers       PG 1999-01-04   4764960\n",
       "Ricky Rubio            Phoenix Suns       PG 1990-10-21  16200000\n",
       "\n",
       "[450 rows x 4 columns]"
      ]
     },
     "execution_count": 673,
     "metadata": {},
     "output_type": "execute_result"
    }
   ],
   "source": [
    "nba = nba.rename(columns = {\"Date of Birth\":\"Birthday\"})\n",
    "nba"
   ]
  },
  {
   "cell_type": "code",
   "execution_count": 676,
   "id": "5bdc2097",
   "metadata": {},
   "outputs": [
    {
     "data": {
      "text/plain": [
       "Team            Milwaukee Bucks\n",
       "Position                     PF\n",
       "Birthday    1994-12-06 00:00:00\n",
       "Pay                    25842697\n",
       "Name: Giannis Antetokounmpo, dtype: object"
      ]
     },
     "execution_count": 676,
     "metadata": {},
     "output_type": "execute_result"
    }
   ],
   "source": [
    "nba.loc[\"Giannis Antetokounmpo\"]"
   ]
  },
  {
   "cell_type": "code",
   "execution_count": 679,
   "id": "79814875",
   "metadata": {},
   "outputs": [],
   "source": [
    "nba = nba.rename(\n",
    "index = {\"Giannis Antetokounmpo\" : \"Greek Freak\"})"
   ]
  },
  {
   "cell_type": "code",
   "execution_count": 680,
   "id": "720d9a08",
   "metadata": {},
   "outputs": [
    {
     "data": {
      "text/plain": [
       "Team            Milwaukee Bucks\n",
       "Position                     PF\n",
       "Birthday    1994-12-06 00:00:00\n",
       "Pay                    25842697\n",
       "Name: Greek Freak, dtype: object"
      ]
     },
     "execution_count": 680,
     "metadata": {},
     "output_type": "execute_result"
    }
   ],
   "source": [
    "nba.loc[\"Greek Freak\"]"
   ]
  },
  {
   "cell_type": "markdown",
   "id": "3f2c1ca2",
   "metadata": {},
   "source": [
    "## 4.10"
   ]
  },
  {
   "cell_type": "code",
   "execution_count": 681,
   "id": "a0760ac2",
   "metadata": {},
   "outputs": [
    {
     "data": {
      "text/html": [
       "<div>\n",
       "<style scoped>\n",
       "    .dataframe tbody tr th:only-of-type {\n",
       "        vertical-align: middle;\n",
       "    }\n",
       "\n",
       "    .dataframe tbody tr th {\n",
       "        vertical-align: top;\n",
       "    }\n",
       "\n",
       "    .dataframe thead th {\n",
       "        text-align: right;\n",
       "    }\n",
       "</style>\n",
       "<table border=\"1\" class=\"dataframe\">\n",
       "  <thead>\n",
       "    <tr style=\"text-align: right;\">\n",
       "      <th></th>\n",
       "      <th>Position</th>\n",
       "      <th>Birthday</th>\n",
       "      <th>Pay</th>\n",
       "    </tr>\n",
       "    <tr>\n",
       "      <th>Team</th>\n",
       "      <th></th>\n",
       "      <th></th>\n",
       "      <th></th>\n",
       "    </tr>\n",
       "  </thead>\n",
       "  <tbody>\n",
       "    <tr>\n",
       "      <th>Philadelphia 76ers</th>\n",
       "      <td>SG</td>\n",
       "      <td>1996-09-26</td>\n",
       "      <td>1445697</td>\n",
       "    </tr>\n",
       "    <tr>\n",
       "      <th>Detroit Pistons</th>\n",
       "      <td>PF</td>\n",
       "      <td>1995-09-27</td>\n",
       "      <td>1645357</td>\n",
       "    </tr>\n",
       "    <tr>\n",
       "      <th>Charlotte Hornets</th>\n",
       "      <td>PF</td>\n",
       "      <td>1998-08-23</td>\n",
       "      <td>3831840</td>\n",
       "    </tr>\n",
       "    <tr>\n",
       "      <th>Detroit Pistons</th>\n",
       "      <td>PG</td>\n",
       "      <td>1988-10-04</td>\n",
       "      <td>7317074</td>\n",
       "    </tr>\n",
       "    <tr>\n",
       "      <th>Philadelphia 76ers</th>\n",
       "      <td>G</td>\n",
       "      <td>1995-07-26</td>\n",
       "      <td>79568</td>\n",
       "    </tr>\n",
       "  </tbody>\n",
       "</table>\n",
       "</div>"
      ],
      "text/plain": [
       "                   Position   Birthday      Pay\n",
       "Team                                           \n",
       "Philadelphia 76ers       SG 1996-09-26  1445697\n",
       "Detroit Pistons          PF 1995-09-27  1645357\n",
       "Charlotte Hornets        PF 1998-08-23  3831840\n",
       "Detroit Pistons          PG 1988-10-04  7317074\n",
       "Philadelphia 76ers        G 1995-07-26    79568"
      ]
     },
     "execution_count": 681,
     "metadata": {},
     "output_type": "execute_result"
    }
   ],
   "source": [
    "nba.set_index(\"Team\").head()"
   ]
  },
  {
   "cell_type": "code",
   "execution_count": 682,
   "id": "ab97bd84",
   "metadata": {},
   "outputs": [
    {
     "data": {
      "text/html": [
       "<div>\n",
       "<style scoped>\n",
       "    .dataframe tbody tr th:only-of-type {\n",
       "        vertical-align: middle;\n",
       "    }\n",
       "\n",
       "    .dataframe tbody tr th {\n",
       "        vertical-align: top;\n",
       "    }\n",
       "\n",
       "    .dataframe thead th {\n",
       "        text-align: right;\n",
       "    }\n",
       "</style>\n",
       "<table border=\"1\" class=\"dataframe\">\n",
       "  <thead>\n",
       "    <tr style=\"text-align: right;\">\n",
       "      <th></th>\n",
       "      <th>Name</th>\n",
       "      <th>Team</th>\n",
       "      <th>Position</th>\n",
       "      <th>Birthday</th>\n",
       "      <th>Pay</th>\n",
       "    </tr>\n",
       "  </thead>\n",
       "  <tbody>\n",
       "    <tr>\n",
       "      <th>0</th>\n",
       "      <td>Shake Milton</td>\n",
       "      <td>Philadelphia 76ers</td>\n",
       "      <td>SG</td>\n",
       "      <td>1996-09-26</td>\n",
       "      <td>1445697</td>\n",
       "    </tr>\n",
       "    <tr>\n",
       "      <th>1</th>\n",
       "      <td>Christian Wood</td>\n",
       "      <td>Detroit Pistons</td>\n",
       "      <td>PF</td>\n",
       "      <td>1995-09-27</td>\n",
       "      <td>1645357</td>\n",
       "    </tr>\n",
       "    <tr>\n",
       "      <th>2</th>\n",
       "      <td>PJ Washington</td>\n",
       "      <td>Charlotte Hornets</td>\n",
       "      <td>PF</td>\n",
       "      <td>1998-08-23</td>\n",
       "      <td>3831840</td>\n",
       "    </tr>\n",
       "    <tr>\n",
       "      <th>3</th>\n",
       "      <td>Derrick Rose</td>\n",
       "      <td>Detroit Pistons</td>\n",
       "      <td>PG</td>\n",
       "      <td>1988-10-04</td>\n",
       "      <td>7317074</td>\n",
       "    </tr>\n",
       "    <tr>\n",
       "      <th>4</th>\n",
       "      <td>Marial Shayok</td>\n",
       "      <td>Philadelphia 76ers</td>\n",
       "      <td>G</td>\n",
       "      <td>1995-07-26</td>\n",
       "      <td>79568</td>\n",
       "    </tr>\n",
       "  </tbody>\n",
       "</table>\n",
       "</div>"
      ],
      "text/plain": [
       "             Name                Team Position   Birthday      Pay\n",
       "0    Shake Milton  Philadelphia 76ers       SG 1996-09-26  1445697\n",
       "1  Christian Wood     Detroit Pistons       PF 1995-09-27  1645357\n",
       "2   PJ Washington   Charlotte Hornets       PF 1998-08-23  3831840\n",
       "3    Derrick Rose     Detroit Pistons       PG 1988-10-04  7317074\n",
       "4   Marial Shayok  Philadelphia 76ers        G 1995-07-26    79568"
      ]
     },
     "execution_count": 682,
     "metadata": {},
     "output_type": "execute_result"
    }
   ],
   "source": [
    "nba.reset_index().head()"
   ]
  },
  {
   "cell_type": "code",
   "execution_count": 683,
   "id": "896cd5ba",
   "metadata": {},
   "outputs": [
    {
     "data": {
      "text/html": [
       "<div>\n",
       "<style scoped>\n",
       "    .dataframe tbody tr th:only-of-type {\n",
       "        vertical-align: middle;\n",
       "    }\n",
       "\n",
       "    .dataframe tbody tr th {\n",
       "        vertical-align: top;\n",
       "    }\n",
       "\n",
       "    .dataframe thead th {\n",
       "        text-align: right;\n",
       "    }\n",
       "</style>\n",
       "<table border=\"1\" class=\"dataframe\">\n",
       "  <thead>\n",
       "    <tr style=\"text-align: right;\">\n",
       "      <th></th>\n",
       "      <th>Name</th>\n",
       "      <th>Position</th>\n",
       "      <th>Birthday</th>\n",
       "      <th>Pay</th>\n",
       "    </tr>\n",
       "    <tr>\n",
       "      <th>Team</th>\n",
       "      <th></th>\n",
       "      <th></th>\n",
       "      <th></th>\n",
       "      <th></th>\n",
       "    </tr>\n",
       "  </thead>\n",
       "  <tbody>\n",
       "    <tr>\n",
       "      <th>Philadelphia 76ers</th>\n",
       "      <td>Shake Milton</td>\n",
       "      <td>SG</td>\n",
       "      <td>1996-09-26</td>\n",
       "      <td>1445697</td>\n",
       "    </tr>\n",
       "    <tr>\n",
       "      <th>Detroit Pistons</th>\n",
       "      <td>Christian Wood</td>\n",
       "      <td>PF</td>\n",
       "      <td>1995-09-27</td>\n",
       "      <td>1645357</td>\n",
       "    </tr>\n",
       "    <tr>\n",
       "      <th>Charlotte Hornets</th>\n",
       "      <td>PJ Washington</td>\n",
       "      <td>PF</td>\n",
       "      <td>1998-08-23</td>\n",
       "      <td>3831840</td>\n",
       "    </tr>\n",
       "    <tr>\n",
       "      <th>Detroit Pistons</th>\n",
       "      <td>Derrick Rose</td>\n",
       "      <td>PG</td>\n",
       "      <td>1988-10-04</td>\n",
       "      <td>7317074</td>\n",
       "    </tr>\n",
       "    <tr>\n",
       "      <th>Philadelphia 76ers</th>\n",
       "      <td>Marial Shayok</td>\n",
       "      <td>G</td>\n",
       "      <td>1995-07-26</td>\n",
       "      <td>79568</td>\n",
       "    </tr>\n",
       "  </tbody>\n",
       "</table>\n",
       "</div>"
      ],
      "text/plain": [
       "                              Name Position   Birthday      Pay\n",
       "Team                                                           \n",
       "Philadelphia 76ers    Shake Milton       SG 1996-09-26  1445697\n",
       "Detroit Pistons     Christian Wood       PF 1995-09-27  1645357\n",
       "Charlotte Hornets    PJ Washington       PF 1998-08-23  3831840\n",
       "Detroit Pistons       Derrick Rose       PG 1988-10-04  7317074\n",
       "Philadelphia 76ers   Marial Shayok        G 1995-07-26    79568"
      ]
     },
     "execution_count": 683,
     "metadata": {},
     "output_type": "execute_result"
    }
   ],
   "source": [
    "nba.reset_index().set_index(\"Team\").head()"
   ]
  },
  {
   "cell_type": "code",
   "execution_count": 684,
   "id": "df38943b",
   "metadata": {},
   "outputs": [
    {
     "data": {
      "text/html": [
       "<div>\n",
       "<style scoped>\n",
       "    .dataframe tbody tr th:only-of-type {\n",
       "        vertical-align: middle;\n",
       "    }\n",
       "\n",
       "    .dataframe tbody tr th {\n",
       "        vertical-align: top;\n",
       "    }\n",
       "\n",
       "    .dataframe thead th {\n",
       "        text-align: right;\n",
       "    }\n",
       "</style>\n",
       "<table border=\"1\" class=\"dataframe\">\n",
       "  <thead>\n",
       "    <tr style=\"text-align: right;\">\n",
       "      <th></th>\n",
       "      <th>Name</th>\n",
       "      <th>Position</th>\n",
       "      <th>Birthday</th>\n",
       "      <th>Pay</th>\n",
       "    </tr>\n",
       "    <tr>\n",
       "      <th>Team</th>\n",
       "      <th></th>\n",
       "      <th></th>\n",
       "      <th></th>\n",
       "      <th></th>\n",
       "    </tr>\n",
       "  </thead>\n",
       "  <tbody>\n",
       "    <tr>\n",
       "      <th>Philadelphia 76ers</th>\n",
       "      <td>Shake Milton</td>\n",
       "      <td>SG</td>\n",
       "      <td>1996-09-26</td>\n",
       "      <td>1445697</td>\n",
       "    </tr>\n",
       "    <tr>\n",
       "      <th>Detroit Pistons</th>\n",
       "      <td>Christian Wood</td>\n",
       "      <td>PF</td>\n",
       "      <td>1995-09-27</td>\n",
       "      <td>1645357</td>\n",
       "    </tr>\n",
       "    <tr>\n",
       "      <th>Charlotte Hornets</th>\n",
       "      <td>PJ Washington</td>\n",
       "      <td>PF</td>\n",
       "      <td>1998-08-23</td>\n",
       "      <td>3831840</td>\n",
       "    </tr>\n",
       "    <tr>\n",
       "      <th>Detroit Pistons</th>\n",
       "      <td>Derrick Rose</td>\n",
       "      <td>PG</td>\n",
       "      <td>1988-10-04</td>\n",
       "      <td>7317074</td>\n",
       "    </tr>\n",
       "    <tr>\n",
       "      <th>Philadelphia 76ers</th>\n",
       "      <td>Marial Shayok</td>\n",
       "      <td>G</td>\n",
       "      <td>1995-07-26</td>\n",
       "      <td>79568</td>\n",
       "    </tr>\n",
       "    <tr>\n",
       "      <th>...</th>\n",
       "      <td>...</td>\n",
       "      <td>...</td>\n",
       "      <td>...</td>\n",
       "      <td>...</td>\n",
       "    </tr>\n",
       "    <tr>\n",
       "      <th>Houston Rockets</th>\n",
       "      <td>Austin Rivers</td>\n",
       "      <td>PG</td>\n",
       "      <td>1992-08-01</td>\n",
       "      <td>2174310</td>\n",
       "    </tr>\n",
       "    <tr>\n",
       "      <th>Sacramento Kings</th>\n",
       "      <td>Harry Giles</td>\n",
       "      <td>PF</td>\n",
       "      <td>1998-04-22</td>\n",
       "      <td>2578800</td>\n",
       "    </tr>\n",
       "    <tr>\n",
       "      <th>Milwaukee Bucks</th>\n",
       "      <td>Robin Lopez</td>\n",
       "      <td>C</td>\n",
       "      <td>1988-04-01</td>\n",
       "      <td>4767000</td>\n",
       "    </tr>\n",
       "    <tr>\n",
       "      <th>Cleveland Cavaliers</th>\n",
       "      <td>Collin Sexton</td>\n",
       "      <td>PG</td>\n",
       "      <td>1999-01-04</td>\n",
       "      <td>4764960</td>\n",
       "    </tr>\n",
       "    <tr>\n",
       "      <th>Phoenix Suns</th>\n",
       "      <td>Ricky Rubio</td>\n",
       "      <td>PG</td>\n",
       "      <td>1990-10-21</td>\n",
       "      <td>16200000</td>\n",
       "    </tr>\n",
       "  </tbody>\n",
       "</table>\n",
       "<p>450 rows × 4 columns</p>\n",
       "</div>"
      ],
      "text/plain": [
       "                               Name Position   Birthday       Pay\n",
       "Team                                                             \n",
       "Philadelphia 76ers     Shake Milton       SG 1996-09-26   1445697\n",
       "Detroit Pistons      Christian Wood       PF 1995-09-27   1645357\n",
       "Charlotte Hornets     PJ Washington       PF 1998-08-23   3831840\n",
       "Detroit Pistons        Derrick Rose       PG 1988-10-04   7317074\n",
       "Philadelphia 76ers    Marial Shayok        G 1995-07-26     79568\n",
       "...                             ...      ...        ...       ...\n",
       "Houston Rockets       Austin Rivers       PG 1992-08-01   2174310\n",
       "Sacramento Kings        Harry Giles       PF 1998-04-22   2578800\n",
       "Milwaukee Bucks         Robin Lopez        C 1988-04-01   4767000\n",
       "Cleveland Cavaliers   Collin Sexton       PG 1999-01-04   4764960\n",
       "Phoenix Suns            Ricky Rubio       PG 1990-10-21  16200000\n",
       "\n",
       "[450 rows x 4 columns]"
      ]
     },
     "execution_count": 684,
     "metadata": {},
     "output_type": "execute_result"
    }
   ],
   "source": [
    "nba = nba.reset_index().set_index(\"Team\")\n",
    "nba"
   ]
  },
  {
   "cell_type": "code",
   "execution_count": null,
   "id": "8f235def",
   "metadata": {},
   "outputs": [],
   "source": []
  }
 ],
 "metadata": {
  "kernelspec": {
   "display_name": "Python 3 (ipykernel)",
   "language": "python",
   "name": "python3"
  },
  "language_info": {
   "codemirror_mode": {
    "name": "ipython",
    "version": 3
   },
   "file_extension": ".py",
   "mimetype": "text/x-python",
   "name": "python",
   "nbconvert_exporter": "python",
   "pygments_lexer": "ipython3",
   "version": "3.11.5"
  }
 },
 "nbformat": 4,
 "nbformat_minor": 5
}
