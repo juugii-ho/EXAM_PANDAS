{
 "cells": [
  {
   "cell_type": "markdown",
   "id": "dc53cd2f",
   "metadata": {},
   "source": [
    "# [ Series 데이터 연산]"
   ]
  },
  {
   "cell_type": "markdown",
   "id": "13855591",
   "metadata": {},
   "source": [
    "### <hr> (1) 모듈로딩"
   ]
  },
  {
   "cell_type": "code",
   "execution_count": 63,
   "id": "dbddd78a",
   "metadata": {},
   "outputs": [],
   "source": [
    "import pandas as pd\n",
    "import numpy as np\n",
    "#import math as m ==>m.nan"
   ]
  },
  {
   "cell_type": "markdown",
   "id": "95b1836e",
   "metadata": {},
   "source": [
    "### <hr> (2) 데이터 준비"
   ]
  },
  {
   "cell_type": "code",
   "execution_count": 64,
   "id": "75e09a12",
   "metadata": {},
   "outputs": [
    {
     "data": {
      "text/plain": [
       "[5, 7, nan, 9, 11]"
      ]
     },
     "execution_count": 64,
     "metadata": {},
     "output_type": "execute_result"
    }
   ],
   "source": [
    "data =[5,7, np.nan, 9, 11]\n",
    "data"
   ]
  },
  {
   "cell_type": "markdown",
   "id": "f1b06603",
   "metadata": {},
   "source": [
    "### <hr> (3) 데이터 저장 => 1차원 데이터로 Series에 저장"
   ]
  },
  {
   "cell_type": "code",
   "execution_count": 65,
   "id": "0e8f3abe",
   "metadata": {},
   "outputs": [],
   "source": [
    "sr = pd.Series(data)"
   ]
  },
  {
   "cell_type": "markdown",
   "id": "dc08182b",
   "metadata": {},
   "source": [
    "### <hr> (4) 데이터 확인"
   ]
  },
  {
   "cell_type": "code",
   "execution_count": 66,
   "id": "d6b821e7",
   "metadata": {},
   "outputs": [
    {
     "data": {
      "text/plain": [
       "(RangeIndex(start=0, stop=5, step=1), (5,), 1, dtype('float64'))"
      ]
     },
     "execution_count": 66,
     "metadata": {},
     "output_type": "execute_result"
    }
   ],
   "source": [
    "sr.index, sr.shape, sr.ndim, sr.dtypes"
   ]
  },
  {
   "cell_type": "code",
   "execution_count": 67,
   "id": "481e756a",
   "metadata": {},
   "outputs": [
    {
     "name": "stdout",
     "output_type": "stream",
     "text": [
      "<class 'pandas.core.series.Series'>\n",
      "RangeIndex: 5 entries, 0 to 4\n",
      "Series name: None\n",
      "Non-Null Count  Dtype  \n",
      "--------------  -----  \n",
      "4 non-null      float64\n",
      "dtypes: float64(1)\n",
      "memory usage: 172.0 bytes\n"
     ]
    },
    {
     "data": {
      "text/plain": [
       "(None,\n",
       " count     4.000000\n",
       " mean      8.000000\n",
       " std       2.581989\n",
       " min       5.000000\n",
       " 25%       6.500000\n",
       " 50%       8.000000\n",
       " 75%       9.500000\n",
       " max      11.000000\n",
       " dtype: float64)"
      ]
     },
     "execution_count": 67,
     "metadata": {},
     "output_type": "execute_result"
    }
   ],
   "source": [
    "sr.info(), sr.describe()"
   ]
  },
  {
   "cell_type": "code",
   "execution_count": 68,
   "id": "0fa0b60d",
   "metadata": {},
   "outputs": [
    {
     "data": {
      "text/plain": [
       "array([ 5.,  7., nan,  9., 11.])"
      ]
     },
     "execution_count": 68,
     "metadata": {},
     "output_type": "execute_result"
    }
   ],
   "source": [
    "sr.values"
   ]
  },
  {
   "cell_type": "markdown",
   "id": "041aaffc",
   "metadata": {},
   "source": [
    "### <hr> (5) 연산 수행 => Series 객체 - 연산자 - 숫자"
   ]
  },
  {
   "cell_type": "code",
   "execution_count": 69,
   "id": "f083c473",
   "metadata": {},
   "outputs": [
    {
     "data": {
      "text/plain": [
       "0    10.0\n",
       "1    12.0\n",
       "2     NaN\n",
       "3    14.0\n",
       "4    16.0\n",
       "dtype: float64"
      ]
     },
     "execution_count": 69,
     "metadata": {},
     "output_type": "execute_result"
    }
   ],
   "source": [
    "sr+5"
   ]
  },
  {
   "cell_type": "code",
   "execution_count": 70,
   "id": "d30389aa",
   "metadata": {},
   "outputs": [
    {
     "data": {
      "text/plain": [
       "0    0.0\n",
       "1    2.0\n",
       "2    NaN\n",
       "3    4.0\n",
       "4    6.0\n",
       "dtype: float64"
      ]
     },
     "execution_count": 70,
     "metadata": {},
     "output_type": "execute_result"
    }
   ],
   "source": [
    "sr-5"
   ]
  },
  {
   "cell_type": "code",
   "execution_count": 71,
   "id": "570b53bb",
   "metadata": {},
   "outputs": [
    {
     "data": {
      "text/plain": [
       "0    25.0\n",
       "1    35.0\n",
       "2     NaN\n",
       "3    45.0\n",
       "4    55.0\n",
       "dtype: float64"
      ]
     },
     "execution_count": 71,
     "metadata": {},
     "output_type": "execute_result"
    }
   ],
   "source": [
    "sr*5"
   ]
  },
  {
   "cell_type": "code",
   "execution_count": 72,
   "id": "7a55bba0",
   "metadata": {},
   "outputs": [
    {
     "data": {
      "text/plain": [
       "0    1.0\n",
       "1    1.4\n",
       "2    NaN\n",
       "3    1.8\n",
       "4    2.2\n",
       "dtype: float64"
      ]
     },
     "execution_count": 72,
     "metadata": {},
     "output_type": "execute_result"
    }
   ],
   "source": [
    "sr/5"
   ]
  },
  {
   "cell_type": "code",
   "execution_count": 73,
   "id": "a87f38df",
   "metadata": {},
   "outputs": [
    {
     "data": {
      "text/plain": [
       "0    1.0\n",
       "1    1.0\n",
       "2    NaN\n",
       "3    1.0\n",
       "4    2.0\n",
       "dtype: float64"
      ]
     },
     "execution_count": 73,
     "metadata": {},
     "output_type": "execute_result"
    }
   ],
   "source": [
    "sr//5"
   ]
  },
  {
   "cell_type": "code",
   "execution_count": 74,
   "id": "8ebde6da",
   "metadata": {},
   "outputs": [
    {
     "data": {
      "text/plain": [
       "0    0.0\n",
       "1    2.0\n",
       "2    NaN\n",
       "3    4.0\n",
       "4    1.0\n",
       "dtype: float64"
      ]
     },
     "execution_count": 74,
     "metadata": {},
     "output_type": "execute_result"
    }
   ],
   "source": [
    "sr%5"
   ]
  },
  {
   "cell_type": "code",
   "execution_count": 75,
   "id": "cb2bb79b",
   "metadata": {},
   "outputs": [
    {
     "data": {
      "text/plain": [
       "0     True\n",
       "1     True\n",
       "2    False\n",
       "3     True\n",
       "4     True\n",
       "dtype: bool"
      ]
     },
     "execution_count": 75,
     "metadata": {},
     "output_type": "execute_result"
    }
   ],
   "source": [
    "sr>=5"
   ]
  },
  {
   "cell_type": "code",
   "execution_count": 76,
   "id": "ba027606",
   "metadata": {},
   "outputs": [
    {
     "data": {
      "text/plain": [
       "0     True\n",
       "1     True\n",
       "2    False\n",
       "3     True\n",
       "4    False\n",
       "dtype: bool"
      ]
     },
     "execution_count": 76,
     "metadata": {},
     "output_type": "execute_result"
    }
   ],
   "source": [
    "sr<10"
   ]
  },
  {
   "cell_type": "markdown",
   "id": "09099857",
   "metadata": {},
   "source": [
    "- 논리연산 => & : and연산, | : or연산, ~ : not연산"
   ]
  },
  {
   "cell_type": "code",
   "execution_count": 77,
   "id": "4440f67f",
   "metadata": {},
   "outputs": [
    {
     "data": {
      "text/plain": [
       "0    False\n",
       "1     True\n",
       "2    False\n",
       "3     True\n",
       "4    False\n",
       "dtype: bool"
      ]
     },
     "execution_count": 77,
     "metadata": {},
     "output_type": "execute_result"
    }
   ],
   "source": [
    "# and, or, not 못 쓰고 &, |, ~ 사용 가능\n",
    "(sr>5) & (sr<10)"
   ]
  },
  {
   "cell_type": "code",
   "execution_count": 78,
   "id": "55aa872d",
   "metadata": {},
   "outputs": [
    {
     "data": {
      "text/plain": [
       "0     True\n",
       "1     True\n",
       "2    False\n",
       "3     True\n",
       "4     True\n",
       "dtype: bool"
      ]
     },
     "execution_count": 78,
     "metadata": {},
     "output_type": "execute_result"
    }
   ],
   "source": [
    "(sr>5) | (sr<10)"
   ]
  },
  {
   "cell_type": "code",
   "execution_count": 79,
   "id": "3651b288",
   "metadata": {},
   "outputs": [
    {
     "data": {
      "text/plain": [
       "0    True\n",
       "1    True\n",
       "2    True\n",
       "3    True\n",
       "4    True\n",
       "dtype: bool"
      ]
     },
     "execution_count": 79,
     "metadata": {},
     "output_type": "execute_result"
    }
   ],
   "source": [
    "~(sr<5)"
   ]
  },
  {
   "cell_type": "code",
   "execution_count": 80,
   "id": "579b777c",
   "metadata": {},
   "outputs": [
    {
     "data": {
      "text/plain": [
       "numpy.float64"
      ]
     },
     "execution_count": 80,
     "metadata": {},
     "output_type": "execute_result"
    }
   ],
   "source": [
    "type(sr[2])"
   ]
  },
  {
   "cell_type": "markdown",
   "id": "21a3b92a",
   "metadata": {},
   "source": [
    "### <hr> (5) 연산 수행 => Series 객체 + Series 객체"
   ]
  },
  {
   "cell_type": "code",
   "execution_count": 81,
   "id": "b5ab16b0",
   "metadata": {},
   "outputs": [
    {
     "data": {
      "text/plain": [
       "[2, 4, 6, 8, 9]"
      ]
     },
     "execution_count": 81,
     "metadata": {},
     "output_type": "execute_result"
    }
   ],
   "source": [
    "data2 =[2,4,6,8,9]\n",
    "data2"
   ]
  },
  {
   "cell_type": "code",
   "execution_count": 82,
   "id": "5f3d4d2e",
   "metadata": {},
   "outputs": [
    {
     "data": {
      "text/plain": [
       "0    2\n",
       "1    4\n",
       "2    6\n",
       "3    8\n",
       "4    9\n",
       "dtype: int64"
      ]
     },
     "execution_count": 82,
     "metadata": {},
     "output_type": "execute_result"
    }
   ],
   "source": [
    "sr2=pd.Series(data2)\n",
    "sr2"
   ]
  },
  {
   "cell_type": "code",
   "execution_count": 83,
   "id": "55f6f1a9",
   "metadata": {},
   "outputs": [
    {
     "name": "stdout",
     "output_type": "stream",
     "text": [
      "0     7.0\n",
      "1    11.0\n",
      "2     NaN\n",
      "3    17.0\n",
      "4    20.0\n",
      "dtype: float64\n",
      "\n",
      "0    3.0\n",
      "1    3.0\n",
      "2    NaN\n",
      "3    1.0\n",
      "4    2.0\n",
      "dtype: float64\n",
      "\n",
      "0    10.0\n",
      "1    28.0\n",
      "2     NaN\n",
      "3    72.0\n",
      "4    99.0\n",
      "dtype: float64\n",
      "\n",
      "0    2.500000\n",
      "1    1.750000\n",
      "2         NaN\n",
      "3    1.125000\n",
      "4    1.222222\n",
      "dtype: float64\n",
      "\n",
      "0    2.0\n",
      "1    1.0\n",
      "2    NaN\n",
      "3    1.0\n",
      "4    1.0\n",
      "dtype: float64\n",
      "\n",
      "0    1.0\n",
      "1    3.0\n",
      "2    NaN\n",
      "3    1.0\n",
      "4    2.0\n",
      "dtype: float64\n"
     ]
    }
   ],
   "source": [
    "print(sr+sr2, sr-sr2, sr*sr2, sr/sr2, sr//sr2, sr%sr2, sep='\\n\\n')"
   ]
  },
  {
   "cell_type": "code",
   "execution_count": 84,
   "id": "d4925407",
   "metadata": {},
   "outputs": [
    {
     "name": "stdout",
     "output_type": "stream",
     "text": [
      "0     True\n",
      "1     True\n",
      "2    False\n",
      "3     True\n",
      "4     True\n",
      "dtype: bool\n",
      "\n",
      "0    False\n",
      "1    False\n",
      "2    False\n",
      "3    False\n",
      "4    False\n",
      "dtype: bool\n"
     ]
    }
   ],
   "source": [
    "print(sr>sr2, sr<sr2, sep='\\n\\n')"
   ]
  },
  {
   "cell_type": "code",
   "execution_count": 85,
   "id": "2281bd52",
   "metadata": {},
   "outputs": [
    {
     "data": {
      "text/plain": [
       "2    2\n",
       "3    4\n",
       "4    6\n",
       "5    8\n",
       "6    9\n",
       "dtype: int64"
      ]
     },
     "execution_count": 85,
     "metadata": {},
     "output_type": "execute_result"
    }
   ],
   "source": [
    "sr2.index=[2,3,4,5,6]\n",
    "sr2"
   ]
  },
  {
   "cell_type": "code",
   "execution_count": 86,
   "id": "0919a326",
   "metadata": {},
   "outputs": [
    {
     "name": "stdout",
     "output_type": "stream",
     "text": [
      "   index  0\n",
      "0      2  2\n",
      "1      3  4\n",
      "2      4  6\n",
      "3      5  8\n",
      "4      6  9\n",
      "\n",
      "0    2\n",
      "1    4\n",
      "2    6\n",
      "3    8\n",
      "4    9\n",
      "dtype: int64\n"
     ]
    }
   ],
   "source": [
    "print(sr2.reset_index(),sr2.reset_index(drop=True), sep='\\n\\n')"
   ]
  },
  {
   "cell_type": "code",
   "execution_count": 87,
   "id": "1e576809",
   "metadata": {},
   "outputs": [
    {
     "data": {
      "text/plain": [
       "0     NaN\n",
       "1     NaN\n",
       "2     NaN\n",
       "3    13.0\n",
       "4    17.0\n",
       "5     NaN\n",
       "6     NaN\n",
       "dtype: float64"
      ]
     },
     "execution_count": 87,
     "metadata": {},
     "output_type": "execute_result"
    }
   ],
   "source": [
    "sr+sr2"
   ]
  },
  {
   "cell_type": "code",
   "execution_count": 88,
   "id": "3f4ffb96",
   "metadata": {},
   "outputs": [
    {
     "data": {
      "text/plain": [
       "0     7.0\n",
       "1    11.0\n",
       "2     NaN\n",
       "3    17.0\n",
       "4    20.0\n",
       "dtype: float64"
      ]
     },
     "execution_count": 88,
     "metadata": {},
     "output_type": "execute_result"
    }
   ],
   "source": [
    "sr=sr.reset_index(drop=True)\n",
    "sr2=sr2.reset_index(drop=True)\n",
    "sr+sr2"
   ]
  },
  {
   "cell_type": "markdown",
   "id": "70b82145",
   "metadata": {},
   "source": [
    "### <hr> (5) Series 연산수행 => 전용 메서드"
   ]
  },
  {
   "cell_type": "code",
   "execution_count": 91,
   "id": "3b9d4bb3",
   "metadata": {},
   "outputs": [
    {
     "name": "stdout",
     "output_type": "stream",
     "text": [
      "0    10.0\n",
      "1    12.0\n",
      "2     NaN\n",
      "3    14.0\n",
      "4    16.0\n",
      "dtype: float64\n",
      "\n",
      "0    10.0\n",
      "1    12.0\n",
      "2     5.0\n",
      "3    14.0\n",
      "4    16.0\n",
      "dtype: float64\n"
     ]
    }
   ],
   "source": [
    "print(sr.add(5), sr.add(5,fill_value=0), sep='\\n\\n')"
   ]
  },
  {
   "cell_type": "code",
   "execution_count": 92,
   "id": "dc3e2c8e",
   "metadata": {},
   "outputs": [
    {
     "name": "stdout",
     "output_type": "stream",
     "text": [
      "0    3.0\n",
      "1    3.0\n",
      "2    NaN\n",
      "3    1.0\n",
      "4    2.0\n",
      "dtype: float64\n",
      "\n",
      "0    3.0\n",
      "1    3.0\n",
      "2   -6.0\n",
      "3    1.0\n",
      "4    2.0\n",
      "dtype: float64\n"
     ]
    }
   ],
   "source": [
    "print(sr.sub(sr2), sr.sub(sr2,fill_value=0), sep='\\n\\n')"
   ]
  },
  {
   "cell_type": "code",
   "execution_count": 96,
   "id": "44beee47",
   "metadata": {},
   "outputs": [],
   "source": [
    "addSR = sr.add(sr2, fill_value=0)\n",
    "subSR = sr.sub(sr2, fill_value=0)\n",
    "mulSR = sr.mul(sr2, fill_value=0)\n",
    "divSR = sr.div(sr2, fill_value=0)"
   ]
  },
  {
   "cell_type": "code",
   "execution_count": 97,
   "id": "e0bcfe2b",
   "metadata": {},
   "outputs": [
    {
     "name": "stdout",
     "output_type": "stream",
     "text": [
      "0     7.0\n",
      "1    11.0\n",
      "2     6.0\n",
      "3    17.0\n",
      "4    20.0\n",
      "dtype: float64\n",
      "\n",
      "0    3.0\n",
      "1    3.0\n",
      "2   -6.0\n",
      "3    1.0\n",
      "4    2.0\n",
      "dtype: float64\n",
      "\n",
      "0    10.0\n",
      "1    28.0\n",
      "2     0.0\n",
      "3    72.0\n",
      "4    99.0\n",
      "dtype: float64\n",
      "\n",
      "0    2.500000\n",
      "1    1.750000\n",
      "2    0.000000\n",
      "3    1.125000\n",
      "4    1.222222\n",
      "dtype: float64\n"
     ]
    }
   ],
   "source": [
    "print(addSR, subSR, mulSR, divSR, sep=\"\\n\\n\")"
   ]
  },
  {
   "cell_type": "code",
   "execution_count": null,
   "id": "aba80d51",
   "metadata": {},
   "outputs": [],
   "source": []
  }
 ],
 "metadata": {
  "kernelspec": {
   "display_name": "Python 3 (ipykernel)",
   "language": "python",
   "name": "python3"
  },
  "language_info": {
   "codemirror_mode": {
    "name": "ipython",
    "version": 3
   },
   "file_extension": ".py",
   "mimetype": "text/x-python",
   "name": "python",
   "nbconvert_exporter": "python",
   "pygments_lexer": "ipython3",
   "version": "3.11.5"
  }
 },
 "nbformat": 4,
 "nbformat_minor": 5
}
