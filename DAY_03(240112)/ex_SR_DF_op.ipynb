{
 "cells": [
  {
   "cell_type": "markdown",
   "id": "3f411a9a",
   "metadata": {},
   "source": [
    "# [ Series 데이터 연산]"
   ]
  },
  {
   "cell_type": "markdown",
   "id": "13855591",
   "metadata": {},
   "source": [
    "### <hr> (1) 모듈로딩"
   ]
  },
  {
   "cell_type": "code",
   "execution_count": 63,
   "id": "dbddd78a",
   "metadata": {},
   "outputs": [],
   "source": [
    "import pandas as pd\n",
    "import numpy as np\n",
    "#import math as m ==>m.nan"
   ]
  },
  {
   "cell_type": "markdown",
   "id": "95b1836e",
   "metadata": {},
   "source": [
    "### <hr> (2) 데이터 준비"
   ]
  },
  {
   "cell_type": "code",
   "execution_count": 64,
   "id": "75e09a12",
   "metadata": {},
   "outputs": [
    {
     "data": {
      "text/plain": [
       "[5, 7, nan, 9, 11]"
      ]
     },
     "execution_count": 64,
     "metadata": {},
     "output_type": "execute_result"
    }
   ],
   "source": [
    "data =[5,7, np.nan, 9, 11]\n",
    "data"
   ]
  },
  {
   "cell_type": "markdown",
   "id": "f1b06603",
   "metadata": {},
   "source": [
    "### <hr> (3) 데이터 저장 => 1차원 데이터로 Series에 저장"
   ]
  },
  {
   "cell_type": "code",
   "execution_count": 65,
   "id": "0e8f3abe",
   "metadata": {},
   "outputs": [],
   "source": [
    "sr = pd.Series(data)"
   ]
  },
  {
   "cell_type": "markdown",
   "id": "dc08182b",
   "metadata": {},
   "source": [
    "### <hr> (4) 데이터 확인"
   ]
  },
  {
   "cell_type": "code",
   "execution_count": 66,
   "id": "c9260e7b",
   "metadata": {},
   "outputs": [
    {
     "data": {
      "text/plain": [
       "(RangeIndex(start=0, stop=5, step=1), (5,), 1, dtype('float64'))"
      ]
     },
     "execution_count": 66,
     "metadata": {},
     "output_type": "execute_result"
    }
   ],
   "source": [
    "sr.index, sr.shape, sr.ndim, sr.dtypes"
   ]
  },
  {
   "cell_type": "code",
   "execution_count": 67,
   "id": "dbfde588",
   "metadata": {},
   "outputs": [
    {
     "name": "stdout",
     "output_type": "stream",
     "text": [
      "<class 'pandas.core.series.Series'>\n",
      "RangeIndex: 5 entries, 0 to 4\n",
      "Series name: None\n",
      "Non-Null Count  Dtype  \n",
      "--------------  -----  \n",
      "4 non-null      float64\n",
      "dtypes: float64(1)\n",
      "memory usage: 172.0 bytes\n"
     ]
    },
    {
     "data": {
      "text/plain": [
       "(None,\n",
       " count     4.000000\n",
       " mean      8.000000\n",
       " std       2.581989\n",
       " min       5.000000\n",
       " 25%       6.500000\n",
       " 50%       8.000000\n",
       " 75%       9.500000\n",
       " max      11.000000\n",
       " dtype: float64)"
      ]
     },
     "execution_count": 67,
     "metadata": {},
     "output_type": "execute_result"
    }
   ],
   "source": [
    "sr.info(), sr.describe()"
   ]
  },
  {
   "cell_type": "code",
   "execution_count": 68,
   "id": "053fff53",
   "metadata": {},
   "outputs": [
    {
     "data": {
      "text/plain": [
       "array([ 5.,  7., nan,  9., 11.])"
      ]
     },
     "execution_count": 68,
     "metadata": {},
     "output_type": "execute_result"
    }
   ],
   "source": [
    "sr.values"
   ]
  },
  {
   "cell_type": "markdown",
   "id": "01a19e8d",
   "metadata": {},
   "source": [
    "### <hr> (5) 연산 수행 => Series 객체 - 연산자 - 숫자"
   ]
  },
  {
   "cell_type": "code",
   "execution_count": 69,
   "id": "e3a2ce45",
   "metadata": {},
   "outputs": [
    {
     "data": {
      "text/plain": [
       "0    10.0\n",
       "1    12.0\n",
       "2     NaN\n",
       "3    14.0\n",
       "4    16.0\n",
       "dtype: float64"
      ]
     },
     "execution_count": 69,
     "metadata": {},
     "output_type": "execute_result"
    }
   ],
   "source": [
    "sr+5"
   ]
  },
  {
   "cell_type": "code",
   "execution_count": 70,
   "id": "d7d20769",
   "metadata": {},
   "outputs": [
    {
     "data": {
      "text/plain": [
       "0    0.0\n",
       "1    2.0\n",
       "2    NaN\n",
       "3    4.0\n",
       "4    6.0\n",
       "dtype: float64"
      ]
     },
     "execution_count": 70,
     "metadata": {},
     "output_type": "execute_result"
    }
   ],
   "source": [
    "sr-5"
   ]
  },
  {
   "cell_type": "code",
   "execution_count": 71,
   "id": "c0e62ac0",
   "metadata": {},
   "outputs": [
    {
     "data": {
      "text/plain": [
       "0    25.0\n",
       "1    35.0\n",
       "2     NaN\n",
       "3    45.0\n",
       "4    55.0\n",
       "dtype: float64"
      ]
     },
     "execution_count": 71,
     "metadata": {},
     "output_type": "execute_result"
    }
   ],
   "source": [
    "sr*5"
   ]
  },
  {
   "cell_type": "code",
   "execution_count": 72,
   "id": "e5d6ecb4",
   "metadata": {},
   "outputs": [
    {
     "data": {
      "text/plain": [
       "0    1.0\n",
       "1    1.4\n",
       "2    NaN\n",
       "3    1.8\n",
       "4    2.2\n",
       "dtype: float64"
      ]
     },
     "execution_count": 72,
     "metadata": {},
     "output_type": "execute_result"
    }
   ],
   "source": [
    "sr/5"
   ]
  },
  {
   "cell_type": "code",
   "execution_count": 73,
   "id": "63e63a8e",
   "metadata": {},
   "outputs": [
    {
     "data": {
      "text/plain": [
       "0    1.0\n",
       "1    1.0\n",
       "2    NaN\n",
       "3    1.0\n",
       "4    2.0\n",
       "dtype: float64"
      ]
     },
     "execution_count": 73,
     "metadata": {},
     "output_type": "execute_result"
    }
   ],
   "source": [
    "sr//5"
   ]
  },
  {
   "cell_type": "code",
   "execution_count": 74,
   "id": "f2b1f870",
   "metadata": {},
   "outputs": [
    {
     "data": {
      "text/plain": [
       "0    0.0\n",
       "1    2.0\n",
       "2    NaN\n",
       "3    4.0\n",
       "4    1.0\n",
       "dtype: float64"
      ]
     },
     "execution_count": 74,
     "metadata": {},
     "output_type": "execute_result"
    }
   ],
   "source": [
    "sr%5"
   ]
  },
  {
   "cell_type": "code",
   "execution_count": 75,
   "id": "0ca3561b",
   "metadata": {},
   "outputs": [
    {
     "data": {
      "text/plain": [
       "0     True\n",
       "1     True\n",
       "2    False\n",
       "3     True\n",
       "4     True\n",
       "dtype: bool"
      ]
     },
     "execution_count": 75,
     "metadata": {},
     "output_type": "execute_result"
    }
   ],
   "source": [
    "sr>=5"
   ]
  },
  {
   "cell_type": "code",
   "execution_count": 76,
   "id": "ea430ff6",
   "metadata": {},
   "outputs": [
    {
     "data": {
      "text/plain": [
       "0     True\n",
       "1     True\n",
       "2    False\n",
       "3     True\n",
       "4    False\n",
       "dtype: bool"
      ]
     },
     "execution_count": 76,
     "metadata": {},
     "output_type": "execute_result"
    }
   ],
   "source": [
    "sr<10"
   ]
  },
  {
   "cell_type": "markdown",
   "id": "9b636a8d",
   "metadata": {},
   "source": [
    "- 논리연산 => & : and연산, | : or연산, ~ : not연산"
   ]
  },
  {
   "cell_type": "code",
   "execution_count": 77,
   "id": "c785933b",
   "metadata": {},
   "outputs": [
    {
     "data": {
      "text/plain": [
       "0    False\n",
       "1     True\n",
       "2    False\n",
       "3     True\n",
       "4    False\n",
       "dtype: bool"
      ]
     },
     "execution_count": 77,
     "metadata": {},
     "output_type": "execute_result"
    }
   ],
   "source": [
    "# and, or, not 못 쓰고 &, |, ~ 사용 가능\n",
    "(sr>5) & (sr<10)"
   ]
  },
  {
   "cell_type": "code",
   "execution_count": 78,
   "id": "96da486b",
   "metadata": {},
   "outputs": [
    {
     "data": {
      "text/plain": [
       "0     True\n",
       "1     True\n",
       "2    False\n",
       "3     True\n",
       "4     True\n",
       "dtype: bool"
      ]
     },
     "execution_count": 78,
     "metadata": {},
     "output_type": "execute_result"
    }
   ],
   "source": [
    "(sr>5) | (sr<10)"
   ]
  },
  {
   "cell_type": "code",
   "execution_count": 79,
   "id": "af40756c",
   "metadata": {},
   "outputs": [
    {
     "data": {
      "text/plain": [
       "0    True\n",
       "1    True\n",
       "2    True\n",
       "3    True\n",
       "4    True\n",
       "dtype: bool"
      ]
     },
     "execution_count": 79,
     "metadata": {},
     "output_type": "execute_result"
    }
   ],
   "source": [
    "~(sr<5)"
   ]
  },
  {
   "cell_type": "code",
   "execution_count": 80,
   "id": "286865ed",
   "metadata": {},
   "outputs": [
    {
     "data": {
      "text/plain": [
       "numpy.float64"
      ]
     },
     "execution_count": 80,
     "metadata": {},
     "output_type": "execute_result"
    }
   ],
   "source": [
    "type(sr[2])"
   ]
  },
  {
   "cell_type": "markdown",
   "id": "02fbc063",
   "metadata": {},
   "source": [
    "### <hr> (5) 연산 수행 => Series 객체 + Series 객체"
   ]
  },
  {
   "cell_type": "code",
   "execution_count": 81,
   "id": "cbfc8c41",
   "metadata": {},
   "outputs": [
    {
     "data": {
      "text/plain": [
       "[2, 4, 6, 8, 9]"
      ]
     },
     "execution_count": 81,
     "metadata": {},
     "output_type": "execute_result"
    }
   ],
   "source": [
    "data2 =[2,4,6,8,9]\n",
    "data2"
   ]
  },
  {
   "cell_type": "code",
   "execution_count": 82,
   "id": "02833807",
   "metadata": {},
   "outputs": [
    {
     "data": {
      "text/plain": [
       "0    2\n",
       "1    4\n",
       "2    6\n",
       "3    8\n",
       "4    9\n",
       "dtype: int64"
      ]
     },
     "execution_count": 82,
     "metadata": {},
     "output_type": "execute_result"
    }
   ],
   "source": [
    "sr2=pd.Series(data2)\n",
    "sr2"
   ]
  },
  {
   "cell_type": "code",
   "execution_count": 83,
   "id": "9ea77ea3",
   "metadata": {},
   "outputs": [
    {
     "name": "stdout",
     "output_type": "stream",
     "text": [
      "0     7.0\n",
      "1    11.0\n",
      "2     NaN\n",
      "3    17.0\n",
      "4    20.0\n",
      "dtype: float64\n",
      "\n",
      "0    3.0\n",
      "1    3.0\n",
      "2    NaN\n",
      "3    1.0\n",
      "4    2.0\n",
      "dtype: float64\n",
      "\n",
      "0    10.0\n",
      "1    28.0\n",
      "2     NaN\n",
      "3    72.0\n",
      "4    99.0\n",
      "dtype: float64\n",
      "\n",
      "0    2.500000\n",
      "1    1.750000\n",
      "2         NaN\n",
      "3    1.125000\n",
      "4    1.222222\n",
      "dtype: float64\n",
      "\n",
      "0    2.0\n",
      "1    1.0\n",
      "2    NaN\n",
      "3    1.0\n",
      "4    1.0\n",
      "dtype: float64\n",
      "\n",
      "0    1.0\n",
      "1    3.0\n",
      "2    NaN\n",
      "3    1.0\n",
      "4    2.0\n",
      "dtype: float64\n"
     ]
    }
   ],
   "source": [
    "print(sr+sr2, sr-sr2, sr*sr2, sr/sr2, sr//sr2, sr%sr2, sep='\\n\\n')"
   ]
  },
  {
   "cell_type": "code",
   "execution_count": 84,
   "id": "ab822fac",
   "metadata": {},
   "outputs": [
    {
     "name": "stdout",
     "output_type": "stream",
     "text": [
      "0     True\n",
      "1     True\n",
      "2    False\n",
      "3     True\n",
      "4     True\n",
      "dtype: bool\n",
      "\n",
      "0    False\n",
      "1    False\n",
      "2    False\n",
      "3    False\n",
      "4    False\n",
      "dtype: bool\n"
     ]
    }
   ],
   "source": [
    "print(sr>sr2, sr<sr2, sep='\\n\\n')"
   ]
  },
  {
   "cell_type": "code",
   "execution_count": 85,
   "id": "b66a2d74",
   "metadata": {},
   "outputs": [
    {
     "data": {
      "text/plain": [
       "2    2\n",
       "3    4\n",
       "4    6\n",
       "5    8\n",
       "6    9\n",
       "dtype: int64"
      ]
     },
     "execution_count": 85,
     "metadata": {},
     "output_type": "execute_result"
    }
   ],
   "source": [
    "sr2.index=[2,3,4,5,6]\n",
    "sr2"
   ]
  },
  {
   "cell_type": "code",
   "execution_count": 86,
   "id": "efa3b0cc",
   "metadata": {},
   "outputs": [
    {
     "name": "stdout",
     "output_type": "stream",
     "text": [
      "   index  0\n",
      "0      2  2\n",
      "1      3  4\n",
      "2      4  6\n",
      "3      5  8\n",
      "4      6  9\n",
      "\n",
      "0    2\n",
      "1    4\n",
      "2    6\n",
      "3    8\n",
      "4    9\n",
      "dtype: int64\n"
     ]
    }
   ],
   "source": [
    "print(sr2.reset_index(),sr2.reset_index(drop=True), sep='\\n\\n')"
   ]
  },
  {
   "cell_type": "code",
   "execution_count": 87,
   "id": "0fb9e7c2",
   "metadata": {},
   "outputs": [
    {
     "data": {
      "text/plain": [
       "0     NaN\n",
       "1     NaN\n",
       "2     NaN\n",
       "3    13.0\n",
       "4    17.0\n",
       "5     NaN\n",
       "6     NaN\n",
       "dtype: float64"
      ]
     },
     "execution_count": 87,
     "metadata": {},
     "output_type": "execute_result"
    }
   ],
   "source": [
    "sr+sr2"
   ]
  },
  {
   "cell_type": "code",
   "execution_count": 88,
   "id": "2f867d0f",
   "metadata": {},
   "outputs": [
    {
     "data": {
      "text/plain": [
       "0     7.0\n",
       "1    11.0\n",
       "2     NaN\n",
       "3    17.0\n",
       "4    20.0\n",
       "dtype: float64"
      ]
     },
     "execution_count": 88,
     "metadata": {},
     "output_type": "execute_result"
    }
   ],
   "source": [
    "sr=sr.reset_index(drop=True)\n",
    "sr2=sr2.reset_index(drop=True)\n",
    "sr+sr2"
   ]
  },
  {
   "cell_type": "markdown",
   "id": "51e8401e",
   "metadata": {},
   "source": [
    "### <hr> (5) Series 연산수행 => 전용 메서드"
   ]
  },
  {
   "cell_type": "code",
   "execution_count": 91,
   "id": "0b58ca0f",
   "metadata": {},
   "outputs": [
    {
     "name": "stdout",
     "output_type": "stream",
     "text": [
      "0    10.0\n",
      "1    12.0\n",
      "2     NaN\n",
      "3    14.0\n",
      "4    16.0\n",
      "dtype: float64\n",
      "\n",
      "0    10.0\n",
      "1    12.0\n",
      "2     5.0\n",
      "3    14.0\n",
      "4    16.0\n",
      "dtype: float64\n"
     ]
    }
   ],
   "source": [
    "print(sr.add(5), sr.add(5,fill_value=0), sep='\\n\\n')"
   ]
  },
  {
   "cell_type": "code",
   "execution_count": 92,
   "id": "dd9c9020",
   "metadata": {},
   "outputs": [
    {
     "name": "stdout",
     "output_type": "stream",
     "text": [
      "0    3.0\n",
      "1    3.0\n",
      "2    NaN\n",
      "3    1.0\n",
      "4    2.0\n",
      "dtype: float64\n",
      "\n",
      "0    3.0\n",
      "1    3.0\n",
      "2   -6.0\n",
      "3    1.0\n",
      "4    2.0\n",
      "dtype: float64\n"
     ]
    }
   ],
   "source": [
    "print(sr.sub(sr2), sr.sub(sr2,fill_value=0), sep='\\n\\n')"
   ]
  },
  {
   "cell_type": "code",
   "execution_count": 96,
   "id": "20d7598b",
   "metadata": {},
   "outputs": [],
   "source": [
    "addSR = sr.add(sr2, fill_value=0)\n",
    "subSR = sr.sub(sr2, fill_value=0)\n",
    "mulSR = sr.mul(sr2, fill_value=0)\n",
    "divSR = sr.div(sr2, fill_value=0)"
   ]
  },
  {
   "cell_type": "code",
   "execution_count": 97,
   "id": "fb38e60f",
   "metadata": {},
   "outputs": [
    {
     "name": "stdout",
     "output_type": "stream",
     "text": [
      "0     7.0\n",
      "1    11.0\n",
      "2     6.0\n",
      "3    17.0\n",
      "4    20.0\n",
      "dtype: float64\n",
      "\n",
      "0    3.0\n",
      "1    3.0\n",
      "2   -6.0\n",
      "3    1.0\n",
      "4    2.0\n",
      "dtype: float64\n",
      "\n",
      "0    10.0\n",
      "1    28.0\n",
      "2     0.0\n",
      "3    72.0\n",
      "4    99.0\n",
      "dtype: float64\n",
      "\n",
      "0    2.500000\n",
      "1    1.750000\n",
      "2    0.000000\n",
      "3    1.125000\n",
      "4    1.222222\n",
      "dtype: float64\n"
     ]
    }
   ],
   "source": [
    "print(addSR, subSR, mulSR, divSR, sep=\"\\n\\n\")"
   ]
  },
  {
   "cell_type": "markdown",
   "id": "79099af2",
   "metadata": {},
   "source": [
    "### <hr> (6) Series 연산수행 => 전용 메서드"
   ]
  },
  {
   "cell_type": "code",
   "execution_count": 103,
   "id": "51ada459",
   "metadata": {},
   "outputs": [],
   "source": [
    "df=pd.DataFrame([addSR, subSR, mulSR, divSR], index=['add', 'sub', 'mul', 'div'])"
   ]
  },
  {
   "cell_type": "code",
   "execution_count": 104,
   "id": "0edce4fb",
   "metadata": {},
   "outputs": [
    {
     "data": {
      "text/html": [
       "<div>\n",
       "<style scoped>\n",
       "    .dataframe tbody tr th:only-of-type {\n",
       "        vertical-align: middle;\n",
       "    }\n",
       "\n",
       "    .dataframe tbody tr th {\n",
       "        vertical-align: top;\n",
       "    }\n",
       "\n",
       "    .dataframe thead th {\n",
       "        text-align: right;\n",
       "    }\n",
       "</style>\n",
       "<table border=\"1\" class=\"dataframe\">\n",
       "  <thead>\n",
       "    <tr style=\"text-align: right;\">\n",
       "      <th></th>\n",
       "      <th>0</th>\n",
       "      <th>1</th>\n",
       "      <th>2</th>\n",
       "      <th>3</th>\n",
       "      <th>4</th>\n",
       "    </tr>\n",
       "  </thead>\n",
       "  <tbody>\n",
       "    <tr>\n",
       "      <th>add</th>\n",
       "      <td>7.0</td>\n",
       "      <td>11.00</td>\n",
       "      <td>6.0</td>\n",
       "      <td>17.000</td>\n",
       "      <td>20.000000</td>\n",
       "    </tr>\n",
       "    <tr>\n",
       "      <th>sub</th>\n",
       "      <td>3.0</td>\n",
       "      <td>3.00</td>\n",
       "      <td>-6.0</td>\n",
       "      <td>1.000</td>\n",
       "      <td>2.000000</td>\n",
       "    </tr>\n",
       "    <tr>\n",
       "      <th>mul</th>\n",
       "      <td>10.0</td>\n",
       "      <td>28.00</td>\n",
       "      <td>0.0</td>\n",
       "      <td>72.000</td>\n",
       "      <td>99.000000</td>\n",
       "    </tr>\n",
       "    <tr>\n",
       "      <th>div</th>\n",
       "      <td>2.5</td>\n",
       "      <td>1.75</td>\n",
       "      <td>0.0</td>\n",
       "      <td>1.125</td>\n",
       "      <td>1.222222</td>\n",
       "    </tr>\n",
       "  </tbody>\n",
       "</table>\n",
       "</div>"
      ],
      "text/plain": [
       "        0      1    2       3          4\n",
       "add   7.0  11.00  6.0  17.000  20.000000\n",
       "sub   3.0   3.00 -6.0   1.000   2.000000\n",
       "mul  10.0  28.00  0.0  72.000  99.000000\n",
       "div   2.5   1.75  0.0   1.125   1.222222"
      ]
     },
     "execution_count": 104,
     "metadata": {},
     "output_type": "execute_result"
    }
   ],
   "source": [
    "df"
   ]
  },
  {
   "cell_type": "markdown",
   "id": "0bfa1b3d",
   "metadata": {},
   "source": [
    "- DataFrame와 숫자 연산 수행"
   ]
  },
  {
   "cell_type": "code",
   "execution_count": 106,
   "id": "5c9cb3c6",
   "metadata": {},
   "outputs": [
    {
     "name": "stdout",
     "output_type": "stream",
     "text": [
      "        0      1     2       3           4\n",
      "add  12.0  16.00  11.0  22.000   25.000000\n",
      "sub   8.0   8.00  -1.0   6.000    7.000000\n",
      "mul  15.0  33.00   5.0  77.000  104.000000\n",
      "div   7.5   6.75   5.0   6.125    6.222222\n",
      "\n",
      "       0      1     2       3          4\n",
      "add  2.0   6.00   1.0  12.000  15.000000\n",
      "sub -2.0  -2.00 -11.0  -4.000  -3.000000\n",
      "mul  5.0  23.00  -5.0  67.000  94.000000\n",
      "div -2.5  -3.25  -5.0  -3.875  -3.777778\n"
     ]
    }
   ],
   "source": [
    "print(df+5, df-5, sep= '\\n\\n')"
   ]
  },
  {
   "cell_type": "code",
   "execution_count": 107,
   "id": "00c6f9f2",
   "metadata": {},
   "outputs": [
    {
     "name": "stdout",
     "output_type": "stream",
     "text": [
      "        0      1     2       3           4\n",
      "add  12.0  16.00  11.0  22.000   25.000000\n",
      "sub   8.0   8.00  -1.0   6.000    7.000000\n",
      "mul  15.0  33.00   5.0  77.000  104.000000\n",
      "div   7.5   6.75   5.0   6.125    6.222222\n",
      "\n",
      "       0      1     2       3          4\n",
      "add  2.0   6.00   1.0  12.000  15.000000\n",
      "sub -2.0  -2.00 -11.0  -4.000  -3.000000\n",
      "mul  5.0  23.00  -5.0  67.000  94.000000\n",
      "div -2.5  -3.25  -5.0  -3.875  -3.777778\n"
     ]
    }
   ],
   "source": [
    "print(df+5, df-5, sep= '\\n\\n')"
   ]
  },
  {
   "cell_type": "markdown",
   "id": "2e98a40b",
   "metadata": {},
   "source": [
    "- DataFrame과 DataFrame 연산 수행 => 동일 위치에 원소끼리 연산 수행"
   ]
  },
  {
   "cell_type": "code",
   "execution_count": 111,
   "id": "57f99105",
   "metadata": {},
   "outputs": [
    {
     "data": {
      "text/html": [
       "<div>\n",
       "<style scoped>\n",
       "    .dataframe tbody tr th:only-of-type {\n",
       "        vertical-align: middle;\n",
       "    }\n",
       "\n",
       "    .dataframe tbody tr th {\n",
       "        vertical-align: top;\n",
       "    }\n",
       "\n",
       "    .dataframe thead th {\n",
       "        text-align: right;\n",
       "    }\n",
       "</style>\n",
       "<table border=\"1\" class=\"dataframe\">\n",
       "  <thead>\n",
       "    <tr style=\"text-align: right;\">\n",
       "      <th></th>\n",
       "      <th>0</th>\n",
       "      <th>1</th>\n",
       "      <th>2</th>\n",
       "      <th>3</th>\n",
       "      <th>4</th>\n",
       "    </tr>\n",
       "  </thead>\n",
       "  <tbody>\n",
       "    <tr>\n",
       "      <th>add</th>\n",
       "      <td>70.0</td>\n",
       "      <td>110.0</td>\n",
       "      <td>60.0</td>\n",
       "      <td>170.00</td>\n",
       "      <td>200.000000</td>\n",
       "    </tr>\n",
       "    <tr>\n",
       "      <th>sub</th>\n",
       "      <td>30.0</td>\n",
       "      <td>30.0</td>\n",
       "      <td>-60.0</td>\n",
       "      <td>10.00</td>\n",
       "      <td>20.000000</td>\n",
       "    </tr>\n",
       "    <tr>\n",
       "      <th>mul</th>\n",
       "      <td>100.0</td>\n",
       "      <td>280.0</td>\n",
       "      <td>0.0</td>\n",
       "      <td>720.00</td>\n",
       "      <td>990.000000</td>\n",
       "    </tr>\n",
       "    <tr>\n",
       "      <th>div</th>\n",
       "      <td>25.0</td>\n",
       "      <td>17.5</td>\n",
       "      <td>0.0</td>\n",
       "      <td>11.25</td>\n",
       "      <td>12.222222</td>\n",
       "    </tr>\n",
       "  </tbody>\n",
       "</table>\n",
       "</div>"
      ],
      "text/plain": [
       "         0      1     2       3           4\n",
       "add   70.0  110.0  60.0  170.00  200.000000\n",
       "sub   30.0   30.0 -60.0   10.00   20.000000\n",
       "mul  100.0  280.0   0.0  720.00  990.000000\n",
       "div   25.0   17.5   0.0   11.25   12.222222"
      ]
     },
     "execution_count": 111,
     "metadata": {},
     "output_type": "execute_result"
    }
   ],
   "source": [
    "df2 = df*10\n",
    "df2"
   ]
  },
  {
   "cell_type": "code",
   "execution_count": 113,
   "id": "6b60578f",
   "metadata": {},
   "outputs": [
    {
     "name": "stdout",
     "output_type": "stream",
     "text": [
      "         0       1     2        3            4\n",
      "add   77.0  121.00  66.0  187.000   220.000000\n",
      "sub   33.0   33.00 -66.0   11.000    22.000000\n",
      "mul  110.0  308.00   0.0  792.000  1089.000000\n",
      "div   27.5   19.25   0.0   12.375    13.444444\n",
      "\n",
      "          0         1      2            3             4\n",
      "add   490.0  1210.000  360.0   2890.00000   4000.000000\n",
      "sub    90.0    90.000  360.0     10.00000     40.000000\n",
      "mul  1000.0  7840.000    0.0  51840.00000  98010.000000\n",
      "div    62.5    30.625    0.0     12.65625     14.938272\n"
     ]
    }
   ],
   "source": [
    "print(df+df2, df*df2, sep='\\n\\n')"
   ]
  },
  {
   "cell_type": "code",
   "execution_count": 116,
   "id": "b56c91b8",
   "metadata": {},
   "outputs": [
    {
     "data": {
      "text/plain": [
       "(Index(['add', 'sub', 'mul', 'div'], dtype='object'),\n",
       " RangeIndex(start=0, stop=5, step=1))"
      ]
     },
     "execution_count": 116,
     "metadata": {},
     "output_type": "execute_result"
    }
   ],
   "source": [
    "df.index, df.columns"
   ]
  },
  {
   "cell_type": "code",
   "execution_count": 117,
   "id": "62295a4d",
   "metadata": {},
   "outputs": [
    {
     "data": {
      "text/plain": [
       "(Index(['add', 'sub', 'mul', 'div'], dtype='object'),\n",
       " RangeIndex(start=0, stop=5, step=1))"
      ]
     },
     "execution_count": 117,
     "metadata": {},
     "output_type": "execute_result"
    }
   ],
   "source": [
    "df2.index, df2.columns"
   ]
  },
  {
   "cell_type": "code",
   "execution_count": 119,
   "id": "b0dda93a",
   "metadata": {},
   "outputs": [],
   "source": [
    "df2.index=['add', 'minus', 'mul', '/']"
   ]
  },
  {
   "cell_type": "code",
   "execution_count": 120,
   "id": "eca26ce0",
   "metadata": {},
   "outputs": [
    {
     "name": "stdout",
     "output_type": "stream",
     "text": [
      "           0      1     2      3       4\n",
      "/        NaN    NaN   NaN    NaN     NaN\n",
      "add     77.0  121.0  66.0  187.0   220.0\n",
      "div      NaN    NaN   NaN    NaN     NaN\n",
      "minus    NaN    NaN   NaN    NaN     NaN\n",
      "mul    110.0  308.0   0.0  792.0  1089.0\n",
      "sub      NaN    NaN   NaN    NaN     NaN\n",
      "\n",
      "            0       1      2        3        4\n",
      "/         NaN     NaN    NaN      NaN      NaN\n",
      "add     490.0  1210.0  360.0   2890.0   4000.0\n",
      "div       NaN     NaN    NaN      NaN      NaN\n",
      "minus     NaN     NaN    NaN      NaN      NaN\n",
      "mul    1000.0  7840.0    0.0  51840.0  98010.0\n",
      "sub       NaN     NaN    NaN      NaN      NaN\n"
     ]
    }
   ],
   "source": [
    "print(df+df2, df*df2, sep='\\n\\n')"
   ]
  },
  {
   "cell_type": "markdown",
   "id": "0c76e136",
   "metadata": {},
   "source": [
    "- 연산 수행 메소드 활용 => 결측치 즉 NaN 빈칸에 대한 처리를 수행 가능\n",
    "    * fill_value 파라미터에 값 설정"
   ]
  },
  {
   "cell_type": "code",
   "execution_count": 123,
   "id": "38dbc688",
   "metadata": {},
   "outputs": [
    {
     "data": {
      "text/html": [
       "<div>\n",
       "<style scoped>\n",
       "    .dataframe tbody tr th:only-of-type {\n",
       "        vertical-align: middle;\n",
       "    }\n",
       "\n",
       "    .dataframe tbody tr th {\n",
       "        vertical-align: top;\n",
       "    }\n",
       "\n",
       "    .dataframe thead th {\n",
       "        text-align: right;\n",
       "    }\n",
       "</style>\n",
       "<table border=\"1\" class=\"dataframe\">\n",
       "  <thead>\n",
       "    <tr style=\"text-align: right;\">\n",
       "      <th></th>\n",
       "      <th>0</th>\n",
       "      <th>1</th>\n",
       "      <th>2</th>\n",
       "      <th>3</th>\n",
       "      <th>4</th>\n",
       "    </tr>\n",
       "  </thead>\n",
       "  <tbody>\n",
       "    <tr>\n",
       "      <th>/</th>\n",
       "      <td>25.0</td>\n",
       "      <td>17.50</td>\n",
       "      <td>0.0</td>\n",
       "      <td>11.250</td>\n",
       "      <td>12.222222</td>\n",
       "    </tr>\n",
       "    <tr>\n",
       "      <th>add</th>\n",
       "      <td>77.0</td>\n",
       "      <td>121.00</td>\n",
       "      <td>66.0</td>\n",
       "      <td>187.000</td>\n",
       "      <td>220.000000</td>\n",
       "    </tr>\n",
       "    <tr>\n",
       "      <th>div</th>\n",
       "      <td>2.5</td>\n",
       "      <td>1.75</td>\n",
       "      <td>0.0</td>\n",
       "      <td>1.125</td>\n",
       "      <td>1.222222</td>\n",
       "    </tr>\n",
       "    <tr>\n",
       "      <th>minus</th>\n",
       "      <td>30.0</td>\n",
       "      <td>30.00</td>\n",
       "      <td>-60.0</td>\n",
       "      <td>10.000</td>\n",
       "      <td>20.000000</td>\n",
       "    </tr>\n",
       "    <tr>\n",
       "      <th>mul</th>\n",
       "      <td>110.0</td>\n",
       "      <td>308.00</td>\n",
       "      <td>0.0</td>\n",
       "      <td>792.000</td>\n",
       "      <td>1089.000000</td>\n",
       "    </tr>\n",
       "    <tr>\n",
       "      <th>sub</th>\n",
       "      <td>3.0</td>\n",
       "      <td>3.00</td>\n",
       "      <td>-6.0</td>\n",
       "      <td>1.000</td>\n",
       "      <td>2.000000</td>\n",
       "    </tr>\n",
       "  </tbody>\n",
       "</table>\n",
       "</div>"
      ],
      "text/plain": [
       "           0       1     2        3            4\n",
       "/       25.0   17.50   0.0   11.250    12.222222\n",
       "add     77.0  121.00  66.0  187.000   220.000000\n",
       "div      2.5    1.75   0.0    1.125     1.222222\n",
       "minus   30.0   30.00 -60.0   10.000    20.000000\n",
       "mul    110.0  308.00   0.0  792.000  1089.000000\n",
       "sub      3.0    3.00  -6.0    1.000     2.000000"
      ]
     },
     "execution_count": 123,
     "metadata": {},
     "output_type": "execute_result"
    }
   ],
   "source": [
    "df.add(df2, fill_value=0)"
   ]
  },
  {
   "cell_type": "code",
   "execution_count": 124,
   "id": "de2caaf6",
   "metadata": {},
   "outputs": [
    {
     "data": {
      "text/html": [
       "<div>\n",
       "<style scoped>\n",
       "    .dataframe tbody tr th:only-of-type {\n",
       "        vertical-align: middle;\n",
       "    }\n",
       "\n",
       "    .dataframe tbody tr th {\n",
       "        vertical-align: top;\n",
       "    }\n",
       "\n",
       "    .dataframe thead th {\n",
       "        text-align: right;\n",
       "    }\n",
       "</style>\n",
       "<table border=\"1\" class=\"dataframe\">\n",
       "  <thead>\n",
       "    <tr style=\"text-align: right;\">\n",
       "      <th></th>\n",
       "      <th>0</th>\n",
       "      <th>1</th>\n",
       "      <th>2</th>\n",
       "      <th>3</th>\n",
       "      <th>4</th>\n",
       "    </tr>\n",
       "  </thead>\n",
       "  <tbody>\n",
       "    <tr>\n",
       "      <th>/</th>\n",
       "      <td>NaN</td>\n",
       "      <td>NaN</td>\n",
       "      <td>NaN</td>\n",
       "      <td>NaN</td>\n",
       "      <td>NaN</td>\n",
       "    </tr>\n",
       "    <tr>\n",
       "      <th>add</th>\n",
       "      <td>77.0</td>\n",
       "      <td>121.0</td>\n",
       "      <td>66.0</td>\n",
       "      <td>187.0</td>\n",
       "      <td>220.0</td>\n",
       "    </tr>\n",
       "    <tr>\n",
       "      <th>div</th>\n",
       "      <td>NaN</td>\n",
       "      <td>NaN</td>\n",
       "      <td>NaN</td>\n",
       "      <td>NaN</td>\n",
       "      <td>NaN</td>\n",
       "    </tr>\n",
       "    <tr>\n",
       "      <th>minus</th>\n",
       "      <td>NaN</td>\n",
       "      <td>NaN</td>\n",
       "      <td>NaN</td>\n",
       "      <td>NaN</td>\n",
       "      <td>NaN</td>\n",
       "    </tr>\n",
       "    <tr>\n",
       "      <th>mul</th>\n",
       "      <td>110.0</td>\n",
       "      <td>308.0</td>\n",
       "      <td>0.0</td>\n",
       "      <td>792.0</td>\n",
       "      <td>1089.0</td>\n",
       "    </tr>\n",
       "    <tr>\n",
       "      <th>sub</th>\n",
       "      <td>NaN</td>\n",
       "      <td>NaN</td>\n",
       "      <td>NaN</td>\n",
       "      <td>NaN</td>\n",
       "      <td>NaN</td>\n",
       "    </tr>\n",
       "  </tbody>\n",
       "</table>\n",
       "</div>"
      ],
      "text/plain": [
       "           0      1     2      3       4\n",
       "/        NaN    NaN   NaN    NaN     NaN\n",
       "add     77.0  121.0  66.0  187.0   220.0\n",
       "div      NaN    NaN   NaN    NaN     NaN\n",
       "minus    NaN    NaN   NaN    NaN     NaN\n",
       "mul    110.0  308.0   0.0  792.0  1089.0\n",
       "sub      NaN    NaN   NaN    NaN     NaN"
      ]
     },
     "execution_count": 124,
     "metadata": {},
     "output_type": "execute_result"
    }
   ],
   "source": [
    "df.add(df2)"
   ]
  },
  {
   "cell_type": "code",
   "execution_count": null,
   "id": "4170cbf3",
   "metadata": {},
   "outputs": [],
   "source": []
  }
 ],
 "metadata": {
  "kernelspec": {
   "display_name": "Python 3 (ipykernel)",
   "language": "python",
   "name": "python3"
  },
  "language_info": {
   "codemirror_mode": {
    "name": "ipython",
    "version": 3
   },
   "file_extension": ".py",
   "mimetype": "text/x-python",
   "name": "python",
   "nbconvert_exporter": "python",
   "pygments_lexer": "ipython3",
   "version": "3.11.5"
  }
 },
 "nbformat": 4,
 "nbformat_minor": 5
}
