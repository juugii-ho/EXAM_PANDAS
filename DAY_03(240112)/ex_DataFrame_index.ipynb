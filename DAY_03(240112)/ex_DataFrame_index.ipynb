{
 "cells": [
  {
   "cell_type": "markdown",
   "id": "ae298bed",
   "metadata": {},
   "source": [
    "# [ DataFrame 인덱스 다루기 ]"
   ]
  },
  {
   "cell_type": "markdown",
   "id": "d24239bf",
   "metadata": {},
   "source": [
    "## (1) 새로운 인덱스 설정 : 컬럼 ==> 인덱스 설정"
   ]
  },
  {
   "cell_type": "markdown",
   "id": "13855591",
   "metadata": {},
   "source": [
    "### <hr> (1) 모듈로딩"
   ]
  },
  {
   "cell_type": "code",
   "execution_count": 60,
   "id": "dbddd78a",
   "metadata": {},
   "outputs": [],
   "source": [
    "import pandas as pd"
   ]
  },
  {
   "cell_type": "markdown",
   "id": "95b1836e",
   "metadata": {},
   "source": [
    "### <hr> (2) 데이터 준비"
   ]
  },
  {
   "cell_type": "code",
   "execution_count": 61,
   "id": "75e09a12",
   "metadata": {},
   "outputs": [],
   "source": [
    "# dict 타입의 데이터 생성\n",
    "exam = { '이름' : ['김재중', '김현아', '조현아', '이창민'],\n",
    "         '국어' : [78, 89 , 99, 29],\n",
    "         '수학' : [98, 49 , 89, 99],\n",
    "         '영어' : [98, 89 , 39, 49],\n",
    "         '과학' : [18, 69 , 79, 89] }"
   ]
  },
  {
   "cell_type": "markdown",
   "id": "f1b06603",
   "metadata": {},
   "source": [
    "### <hr> (3) 데이터 저장"
   ]
  },
  {
   "cell_type": "code",
   "execution_count": 62,
   "id": "0e8f3abe",
   "metadata": {},
   "outputs": [],
   "source": [
    "examDF=pd.DataFrame(exam)"
   ]
  },
  {
   "cell_type": "markdown",
   "id": "dc08182b",
   "metadata": {},
   "source": [
    "### <hr> (4) 데이터 확인"
   ]
  },
  {
   "cell_type": "code",
   "execution_count": 63,
   "id": "56909ccf",
   "metadata": {},
   "outputs": [
    {
     "data": {
      "text/html": [
       "<div>\n",
       "<style scoped>\n",
       "    .dataframe tbody tr th:only-of-type {\n",
       "        vertical-align: middle;\n",
       "    }\n",
       "\n",
       "    .dataframe tbody tr th {\n",
       "        vertical-align: top;\n",
       "    }\n",
       "\n",
       "    .dataframe thead th {\n",
       "        text-align: right;\n",
       "    }\n",
       "</style>\n",
       "<table border=\"1\" class=\"dataframe\">\n",
       "  <thead>\n",
       "    <tr style=\"text-align: right;\">\n",
       "      <th></th>\n",
       "      <th>이름</th>\n",
       "      <th>국어</th>\n",
       "      <th>수학</th>\n",
       "      <th>영어</th>\n",
       "      <th>과학</th>\n",
       "    </tr>\n",
       "  </thead>\n",
       "  <tbody>\n",
       "    <tr>\n",
       "      <th>0</th>\n",
       "      <td>김재중</td>\n",
       "      <td>78</td>\n",
       "      <td>98</td>\n",
       "      <td>98</td>\n",
       "      <td>18</td>\n",
       "    </tr>\n",
       "    <tr>\n",
       "      <th>1</th>\n",
       "      <td>김현아</td>\n",
       "      <td>89</td>\n",
       "      <td>49</td>\n",
       "      <td>89</td>\n",
       "      <td>69</td>\n",
       "    </tr>\n",
       "    <tr>\n",
       "      <th>2</th>\n",
       "      <td>조현아</td>\n",
       "      <td>99</td>\n",
       "      <td>89</td>\n",
       "      <td>39</td>\n",
       "      <td>79</td>\n",
       "    </tr>\n",
       "    <tr>\n",
       "      <th>3</th>\n",
       "      <td>이창민</td>\n",
       "      <td>29</td>\n",
       "      <td>99</td>\n",
       "      <td>49</td>\n",
       "      <td>89</td>\n",
       "    </tr>\n",
       "  </tbody>\n",
       "</table>\n",
       "</div>"
      ],
      "text/plain": [
       "    이름  국어  수학  영어  과학\n",
       "0  김재중  78  98  98  18\n",
       "1  김현아  89  49  89  69\n",
       "2  조현아  99  89  39  79\n",
       "3  이창민  29  99  49  89"
      ]
     },
     "execution_count": 63,
     "metadata": {},
     "output_type": "execute_result"
    }
   ],
   "source": [
    "examDF"
   ]
  },
  {
   "cell_type": "markdown",
   "id": "5743dcbb",
   "metadata": {},
   "source": [
    "### <hr> (5) 새로운 인덱스 설정 방법 1"
   ]
  },
  {
   "cell_type": "markdown",
   "id": "6ac74d1f",
   "metadata": {},
   "source": [
    "방법 1. 인덱스 일부 변경 DF.rename() - 일부 메소드는 inplace를 가지고 있음"
   ]
  },
  {
   "cell_type": "code",
   "execution_count": 64,
   "id": "382ff809",
   "metadata": {},
   "outputs": [
    {
     "data": {
      "text/html": [
       "<div>\n",
       "<style scoped>\n",
       "    .dataframe tbody tr th:only-of-type {\n",
       "        vertical-align: middle;\n",
       "    }\n",
       "\n",
       "    .dataframe tbody tr th {\n",
       "        vertical-align: top;\n",
       "    }\n",
       "\n",
       "    .dataframe thead th {\n",
       "        text-align: right;\n",
       "    }\n",
       "</style>\n",
       "<table border=\"1\" class=\"dataframe\">\n",
       "  <thead>\n",
       "    <tr style=\"text-align: right;\">\n",
       "      <th></th>\n",
       "      <th>이름</th>\n",
       "      <th>국어</th>\n",
       "      <th>수학</th>\n",
       "      <th>영어</th>\n",
       "      <th>과학</th>\n",
       "    </tr>\n",
       "  </thead>\n",
       "  <tbody>\n",
       "    <tr>\n",
       "      <th>zero</th>\n",
       "      <td>김재중</td>\n",
       "      <td>78</td>\n",
       "      <td>98</td>\n",
       "      <td>98</td>\n",
       "      <td>18</td>\n",
       "    </tr>\n",
       "    <tr>\n",
       "      <th>1</th>\n",
       "      <td>김현아</td>\n",
       "      <td>89</td>\n",
       "      <td>49</td>\n",
       "      <td>89</td>\n",
       "      <td>69</td>\n",
       "    </tr>\n",
       "    <tr>\n",
       "      <th>2</th>\n",
       "      <td>조현아</td>\n",
       "      <td>99</td>\n",
       "      <td>89</td>\n",
       "      <td>39</td>\n",
       "      <td>79</td>\n",
       "    </tr>\n",
       "    <tr>\n",
       "      <th>3</th>\n",
       "      <td>이창민</td>\n",
       "      <td>29</td>\n",
       "      <td>99</td>\n",
       "      <td>49</td>\n",
       "      <td>89</td>\n",
       "    </tr>\n",
       "  </tbody>\n",
       "</table>\n",
       "</div>"
      ],
      "text/plain": [
       "       이름  국어  수학  영어  과학\n",
       "zero  김재중  78  98  98  18\n",
       "1     김현아  89  49  89  69\n",
       "2     조현아  99  89  39  79\n",
       "3     이창민  29  99  49  89"
      ]
     },
     "execution_count": 64,
     "metadata": {},
     "output_type": "execute_result"
    }
   ],
   "source": [
    "# 행 인덱스 일부 변경 => index = {기존 인덱스 : 새로운 인덱스}\n",
    "examDF.rename(index={0:'zero'}) # 카피본만 보여줌"
   ]
  },
  {
   "cell_type": "code",
   "execution_count": 65,
   "id": "2321aa2a",
   "metadata": {},
   "outputs": [
    {
     "data": {
      "text/html": [
       "<div>\n",
       "<style scoped>\n",
       "    .dataframe tbody tr th:only-of-type {\n",
       "        vertical-align: middle;\n",
       "    }\n",
       "\n",
       "    .dataframe tbody tr th {\n",
       "        vertical-align: top;\n",
       "    }\n",
       "\n",
       "    .dataframe thead th {\n",
       "        text-align: right;\n",
       "    }\n",
       "</style>\n",
       "<table border=\"1\" class=\"dataframe\">\n",
       "  <thead>\n",
       "    <tr style=\"text-align: right;\">\n",
       "      <th></th>\n",
       "      <th>이름</th>\n",
       "      <th>국어</th>\n",
       "      <th>수학</th>\n",
       "      <th>영어</th>\n",
       "      <th>과학</th>\n",
       "    </tr>\n",
       "  </thead>\n",
       "  <tbody>\n",
       "    <tr>\n",
       "      <th>0</th>\n",
       "      <td>김재중</td>\n",
       "      <td>78</td>\n",
       "      <td>98</td>\n",
       "      <td>98</td>\n",
       "      <td>18</td>\n",
       "    </tr>\n",
       "    <tr>\n",
       "      <th>1</th>\n",
       "      <td>김현아</td>\n",
       "      <td>89</td>\n",
       "      <td>49</td>\n",
       "      <td>89</td>\n",
       "      <td>69</td>\n",
       "    </tr>\n",
       "    <tr>\n",
       "      <th>2</th>\n",
       "      <td>조현아</td>\n",
       "      <td>99</td>\n",
       "      <td>89</td>\n",
       "      <td>39</td>\n",
       "      <td>79</td>\n",
       "    </tr>\n",
       "    <tr>\n",
       "      <th>3</th>\n",
       "      <td>이창민</td>\n",
       "      <td>29</td>\n",
       "      <td>99</td>\n",
       "      <td>49</td>\n",
       "      <td>89</td>\n",
       "    </tr>\n",
       "  </tbody>\n",
       "</table>\n",
       "</div>"
      ],
      "text/plain": [
       "    이름  국어  수학  영어  과학\n",
       "0  김재중  78  98  98  18\n",
       "1  김현아  89  49  89  69\n",
       "2  조현아  99  89  39  79\n",
       "3  이창민  29  99  49  89"
      ]
     },
     "execution_count": 65,
     "metadata": {},
     "output_type": "execute_result"
    }
   ],
   "source": [
    "examDF # 원본 안바뀜"
   ]
  },
  {
   "cell_type": "code",
   "execution_count": 66,
   "id": "768a4041",
   "metadata": {},
   "outputs": [],
   "source": [
    "# inplace 매개변수/파라미터 \n",
    "# => 원본 DataFrame에 변경 여부 결정, 기본은 원본 변경 안함 False!!\n",
    "examDF.rename(index={0:'zero'}, inplace=True)"
   ]
  },
  {
   "cell_type": "code",
   "execution_count": 67,
   "id": "a665e413",
   "metadata": {},
   "outputs": [
    {
     "data": {
      "text/html": [
       "<div>\n",
       "<style scoped>\n",
       "    .dataframe tbody tr th:only-of-type {\n",
       "        vertical-align: middle;\n",
       "    }\n",
       "\n",
       "    .dataframe tbody tr th {\n",
       "        vertical-align: top;\n",
       "    }\n",
       "\n",
       "    .dataframe thead th {\n",
       "        text-align: right;\n",
       "    }\n",
       "</style>\n",
       "<table border=\"1\" class=\"dataframe\">\n",
       "  <thead>\n",
       "    <tr style=\"text-align: right;\">\n",
       "      <th></th>\n",
       "      <th>이름</th>\n",
       "      <th>국어</th>\n",
       "      <th>수학</th>\n",
       "      <th>영어</th>\n",
       "      <th>과학</th>\n",
       "    </tr>\n",
       "  </thead>\n",
       "  <tbody>\n",
       "    <tr>\n",
       "      <th>zero</th>\n",
       "      <td>김재중</td>\n",
       "      <td>78</td>\n",
       "      <td>98</td>\n",
       "      <td>98</td>\n",
       "      <td>18</td>\n",
       "    </tr>\n",
       "    <tr>\n",
       "      <th>1</th>\n",
       "      <td>김현아</td>\n",
       "      <td>89</td>\n",
       "      <td>49</td>\n",
       "      <td>89</td>\n",
       "      <td>69</td>\n",
       "    </tr>\n",
       "    <tr>\n",
       "      <th>2</th>\n",
       "      <td>조현아</td>\n",
       "      <td>99</td>\n",
       "      <td>89</td>\n",
       "      <td>39</td>\n",
       "      <td>79</td>\n",
       "    </tr>\n",
       "    <tr>\n",
       "      <th>3</th>\n",
       "      <td>이창민</td>\n",
       "      <td>29</td>\n",
       "      <td>99</td>\n",
       "      <td>49</td>\n",
       "      <td>89</td>\n",
       "    </tr>\n",
       "  </tbody>\n",
       "</table>\n",
       "</div>"
      ],
      "text/plain": [
       "       이름  국어  수학  영어  과학\n",
       "zero  김재중  78  98  98  18\n",
       "1     김현아  89  49  89  69\n",
       "2     조현아  99  89  39  79\n",
       "3     이창민  29  99  49  89"
      ]
     },
     "execution_count": 67,
     "metadata": {},
     "output_type": "execute_result"
    }
   ],
   "source": [
    "examDF"
   ]
  },
  {
   "cell_type": "code",
   "execution_count": 68,
   "id": "3f14e5ae",
   "metadata": {},
   "outputs": [
    {
     "data": {
      "text/html": [
       "<div>\n",
       "<style scoped>\n",
       "    .dataframe tbody tr th:only-of-type {\n",
       "        vertical-align: middle;\n",
       "    }\n",
       "\n",
       "    .dataframe tbody tr th {\n",
       "        vertical-align: top;\n",
       "    }\n",
       "\n",
       "    .dataframe thead th {\n",
       "        text-align: right;\n",
       "    }\n",
       "</style>\n",
       "<table border=\"1\" class=\"dataframe\">\n",
       "  <thead>\n",
       "    <tr style=\"text-align: right;\">\n",
       "      <th></th>\n",
       "      <th>이름</th>\n",
       "      <th>국어</th>\n",
       "      <th>math</th>\n",
       "      <th>영어</th>\n",
       "      <th>과학</th>\n",
       "    </tr>\n",
       "  </thead>\n",
       "  <tbody>\n",
       "    <tr>\n",
       "      <th>zero</th>\n",
       "      <td>김재중</td>\n",
       "      <td>78</td>\n",
       "      <td>98</td>\n",
       "      <td>98</td>\n",
       "      <td>18</td>\n",
       "    </tr>\n",
       "    <tr>\n",
       "      <th>1</th>\n",
       "      <td>김현아</td>\n",
       "      <td>89</td>\n",
       "      <td>49</td>\n",
       "      <td>89</td>\n",
       "      <td>69</td>\n",
       "    </tr>\n",
       "    <tr>\n",
       "      <th>2</th>\n",
       "      <td>조현아</td>\n",
       "      <td>99</td>\n",
       "      <td>89</td>\n",
       "      <td>39</td>\n",
       "      <td>79</td>\n",
       "    </tr>\n",
       "    <tr>\n",
       "      <th>3</th>\n",
       "      <td>이창민</td>\n",
       "      <td>29</td>\n",
       "      <td>99</td>\n",
       "      <td>49</td>\n",
       "      <td>89</td>\n",
       "    </tr>\n",
       "  </tbody>\n",
       "</table>\n",
       "</div>"
      ],
      "text/plain": [
       "       이름  국어  math  영어  과학\n",
       "zero  김재중  78    98  98  18\n",
       "1     김현아  89    49  89  69\n",
       "2     조현아  99    89  39  79\n",
       "3     이창민  29    99  49  89"
      ]
     },
     "execution_count": 68,
     "metadata": {},
     "output_type": "execute_result"
    }
   ],
   "source": [
    "# 열 이름 인덱스 일부 변경 => column = {기존 인덱스 : 새로운 인덱스}\n",
    "examDF.rename(columns={'수학':'math'}) # 카피본만 보여줌"
   ]
  },
  {
   "cell_type": "code",
   "execution_count": 69,
   "id": "a5d6fd1a",
   "metadata": {},
   "outputs": [
    {
     "data": {
      "text/plain": [
       "Index(['이름', '국어', '수학', '영어', '과학'], dtype='object')"
      ]
     },
     "execution_count": 69,
     "metadata": {},
     "output_type": "execute_result"
    }
   ],
   "source": [
    "examDF.columns"
   ]
  },
  {
   "cell_type": "code",
   "execution_count": 70,
   "id": "70d1d868",
   "metadata": {},
   "outputs": [],
   "source": [
    "examDF.rename(columns={'수학':'math'}, inplace=True)"
   ]
  },
  {
   "cell_type": "code",
   "execution_count": 102,
   "id": "67d2dde5",
   "metadata": {},
   "outputs": [
    {
     "data": {
      "text/html": [
       "<div>\n",
       "<style scoped>\n",
       "    .dataframe tbody tr th:only-of-type {\n",
       "        vertical-align: middle;\n",
       "    }\n",
       "\n",
       "    .dataframe tbody tr th {\n",
       "        vertical-align: top;\n",
       "    }\n",
       "\n",
       "    .dataframe thead th {\n",
       "        text-align: right;\n",
       "    }\n",
       "</style>\n",
       "<table border=\"1\" class=\"dataframe\">\n",
       "  <thead>\n",
       "    <tr style=\"text-align: right;\">\n",
       "      <th></th>\n",
       "      <th>이름</th>\n",
       "      <th>국어</th>\n",
       "      <th>math</th>\n",
       "      <th>영어</th>\n",
       "      <th>과학</th>\n",
       "    </tr>\n",
       "  </thead>\n",
       "  <tbody>\n",
       "    <tr>\n",
       "      <th>zero</th>\n",
       "      <td>김재중</td>\n",
       "      <td>78</td>\n",
       "      <td>98</td>\n",
       "      <td>98</td>\n",
       "      <td>18</td>\n",
       "    </tr>\n",
       "    <tr>\n",
       "      <th>1</th>\n",
       "      <td>김현아</td>\n",
       "      <td>89</td>\n",
       "      <td>49</td>\n",
       "      <td>89</td>\n",
       "      <td>69</td>\n",
       "    </tr>\n",
       "    <tr>\n",
       "      <th>2</th>\n",
       "      <td>조현아</td>\n",
       "      <td>99</td>\n",
       "      <td>89</td>\n",
       "      <td>39</td>\n",
       "      <td>79</td>\n",
       "    </tr>\n",
       "    <tr>\n",
       "      <th>3</th>\n",
       "      <td>이창민</td>\n",
       "      <td>29</td>\n",
       "      <td>99</td>\n",
       "      <td>49</td>\n",
       "      <td>89</td>\n",
       "    </tr>\n",
       "  </tbody>\n",
       "</table>\n",
       "</div>"
      ],
      "text/plain": [
       "       이름  국어  math  영어  과학\n",
       "zero  김재중  78    98  98  18\n",
       "1     김현아  89    49  89  69\n",
       "2     조현아  99    89  39  79\n",
       "3     이창민  29    99  49  89"
      ]
     },
     "execution_count": 102,
     "metadata": {},
     "output_type": "execute_result"
    }
   ],
   "source": [
    "examDF"
   ]
  },
  {
   "cell_type": "markdown",
   "id": "7babb6a5",
   "metadata": {},
   "source": [
    "### <hr> (5) 새로운 인덱스 설정 방법 2"
   ]
  },
  {
   "cell_type": "markdown",
   "id": "d9fc6705",
   "metadata": {},
   "source": [
    "<hr> 방법 2. 특정 컬럼 => 인덱스 : DF.set_index()"
   ]
  },
  {
   "cell_type": "code",
   "execution_count": 72,
   "id": "7f0f4af0",
   "metadata": {},
   "outputs": [
    {
     "data": {
      "text/plain": [
       "Index(['zero', 1, 2, 3], dtype='object')"
      ]
     },
     "execution_count": 72,
     "metadata": {},
     "output_type": "execute_result"
    }
   ],
   "source": [
    "# 현재 긱본 0~ ==> 이름 컬럼 인덱스로 사용\n",
    "examDF.index"
   ]
  },
  {
   "cell_type": "code",
   "execution_count": 80,
   "id": "c3e2312b",
   "metadata": {},
   "outputs": [
    {
     "data": {
      "text/html": [
       "<div>\n",
       "<style scoped>\n",
       "    .dataframe tbody tr th:only-of-type {\n",
       "        vertical-align: middle;\n",
       "    }\n",
       "\n",
       "    .dataframe tbody tr th {\n",
       "        vertical-align: top;\n",
       "    }\n",
       "\n",
       "    .dataframe thead th {\n",
       "        text-align: right;\n",
       "    }\n",
       "</style>\n",
       "<table border=\"1\" class=\"dataframe\">\n",
       "  <thead>\n",
       "    <tr style=\"text-align: right;\">\n",
       "      <th></th>\n",
       "      <th>국어</th>\n",
       "      <th>math</th>\n",
       "      <th>영어</th>\n",
       "      <th>과학</th>\n",
       "    </tr>\n",
       "    <tr>\n",
       "      <th>이름</th>\n",
       "      <th></th>\n",
       "      <th></th>\n",
       "      <th></th>\n",
       "      <th></th>\n",
       "    </tr>\n",
       "  </thead>\n",
       "  <tbody>\n",
       "    <tr>\n",
       "      <th>김재중</th>\n",
       "      <td>78</td>\n",
       "      <td>98</td>\n",
       "      <td>98</td>\n",
       "      <td>18</td>\n",
       "    </tr>\n",
       "    <tr>\n",
       "      <th>김현아</th>\n",
       "      <td>89</td>\n",
       "      <td>49</td>\n",
       "      <td>89</td>\n",
       "      <td>69</td>\n",
       "    </tr>\n",
       "    <tr>\n",
       "      <th>조현아</th>\n",
       "      <td>99</td>\n",
       "      <td>89</td>\n",
       "      <td>39</td>\n",
       "      <td>79</td>\n",
       "    </tr>\n",
       "    <tr>\n",
       "      <th>이창민</th>\n",
       "      <td>29</td>\n",
       "      <td>99</td>\n",
       "      <td>49</td>\n",
       "      <td>89</td>\n",
       "    </tr>\n",
       "  </tbody>\n",
       "</table>\n",
       "</div>"
      ],
      "text/plain": [
       "     국어  math  영어  과학\n",
       "이름                   \n",
       "김재중  78    98  98  18\n",
       "김현아  89    49  89  69\n",
       "조현아  99    89  39  79\n",
       "이창민  29    99  49  89"
      ]
     },
     "execution_count": 80,
     "metadata": {},
     "output_type": "execute_result"
    }
   ],
   "source": [
    "# 1개 컬럼을 인덱스로 설정. 단, inplace 파라메터가 False로 원본 적용 안됨!\n",
    "examDF2 = examDF.set_index('이름') # copy본 사용\n",
    "examDF2"
   ]
  },
  {
   "cell_type": "code",
   "execution_count": 81,
   "id": "2e283a00",
   "metadata": {},
   "outputs": [
    {
     "data": {
      "text/html": [
       "<div>\n",
       "<style scoped>\n",
       "    .dataframe tbody tr th:only-of-type {\n",
       "        vertical-align: middle;\n",
       "    }\n",
       "\n",
       "    .dataframe tbody tr th {\n",
       "        vertical-align: top;\n",
       "    }\n",
       "\n",
       "    .dataframe thead th {\n",
       "        text-align: right;\n",
       "    }\n",
       "</style>\n",
       "<table border=\"1\" class=\"dataframe\">\n",
       "  <thead>\n",
       "    <tr style=\"text-align: right;\">\n",
       "      <th></th>\n",
       "      <th>이름</th>\n",
       "      <th>국어</th>\n",
       "      <th>math</th>\n",
       "      <th>영어</th>\n",
       "      <th>과학</th>\n",
       "    </tr>\n",
       "  </thead>\n",
       "  <tbody>\n",
       "    <tr>\n",
       "      <th>zero</th>\n",
       "      <td>김재중</td>\n",
       "      <td>78</td>\n",
       "      <td>98</td>\n",
       "      <td>98</td>\n",
       "      <td>18</td>\n",
       "    </tr>\n",
       "    <tr>\n",
       "      <th>1</th>\n",
       "      <td>김현아</td>\n",
       "      <td>89</td>\n",
       "      <td>49</td>\n",
       "      <td>89</td>\n",
       "      <td>69</td>\n",
       "    </tr>\n",
       "    <tr>\n",
       "      <th>2</th>\n",
       "      <td>조현아</td>\n",
       "      <td>99</td>\n",
       "      <td>89</td>\n",
       "      <td>39</td>\n",
       "      <td>79</td>\n",
       "    </tr>\n",
       "    <tr>\n",
       "      <th>3</th>\n",
       "      <td>이창민</td>\n",
       "      <td>29</td>\n",
       "      <td>99</td>\n",
       "      <td>49</td>\n",
       "      <td>89</td>\n",
       "    </tr>\n",
       "  </tbody>\n",
       "</table>\n",
       "</div>"
      ],
      "text/plain": [
       "       이름  국어  math  영어  과학\n",
       "zero  김재중  78    98  98  18\n",
       "1     김현아  89    49  89  69\n",
       "2     조현아  99    89  39  79\n",
       "3     이창민  29    99  49  89"
      ]
     },
     "execution_count": 81,
     "metadata": {},
     "output_type": "execute_result"
    }
   ],
   "source": [
    "examDF"
   ]
  },
  {
   "cell_type": "code",
   "execution_count": 75,
   "id": "8021f113",
   "metadata": {},
   "outputs": [],
   "source": [
    "# examDF.set_index('이름', inplace=True)"
   ]
  },
  {
   "cell_type": "code",
   "execution_count": 76,
   "id": "3c25b0c6",
   "metadata": {},
   "outputs": [
    {
     "data": {
      "text/html": [
       "<div>\n",
       "<style scoped>\n",
       "    .dataframe tbody tr th:only-of-type {\n",
       "        vertical-align: middle;\n",
       "    }\n",
       "\n",
       "    .dataframe tbody tr th {\n",
       "        vertical-align: top;\n",
       "    }\n",
       "\n",
       "    .dataframe thead th {\n",
       "        text-align: right;\n",
       "    }\n",
       "</style>\n",
       "<table border=\"1\" class=\"dataframe\">\n",
       "  <thead>\n",
       "    <tr style=\"text-align: right;\">\n",
       "      <th></th>\n",
       "      <th>이름</th>\n",
       "      <th>국어</th>\n",
       "      <th>math</th>\n",
       "      <th>영어</th>\n",
       "      <th>과학</th>\n",
       "    </tr>\n",
       "  </thead>\n",
       "  <tbody>\n",
       "    <tr>\n",
       "      <th>zero</th>\n",
       "      <td>김재중</td>\n",
       "      <td>78</td>\n",
       "      <td>98</td>\n",
       "      <td>98</td>\n",
       "      <td>18</td>\n",
       "    </tr>\n",
       "    <tr>\n",
       "      <th>1</th>\n",
       "      <td>김현아</td>\n",
       "      <td>89</td>\n",
       "      <td>49</td>\n",
       "      <td>89</td>\n",
       "      <td>69</td>\n",
       "    </tr>\n",
       "    <tr>\n",
       "      <th>2</th>\n",
       "      <td>조현아</td>\n",
       "      <td>99</td>\n",
       "      <td>89</td>\n",
       "      <td>39</td>\n",
       "      <td>79</td>\n",
       "    </tr>\n",
       "    <tr>\n",
       "      <th>3</th>\n",
       "      <td>이창민</td>\n",
       "      <td>29</td>\n",
       "      <td>99</td>\n",
       "      <td>49</td>\n",
       "      <td>89</td>\n",
       "    </tr>\n",
       "  </tbody>\n",
       "</table>\n",
       "</div>"
      ],
      "text/plain": [
       "       이름  국어  math  영어  과학\n",
       "zero  김재중  78    98  98  18\n",
       "1     김현아  89    49  89  69\n",
       "2     조현아  99    89  39  79\n",
       "3     이창민  29    99  49  89"
      ]
     },
     "execution_count": 76,
     "metadata": {},
     "output_type": "execute_result"
    }
   ],
   "source": [
    "examDF"
   ]
  },
  {
   "cell_type": "code",
   "execution_count": 96,
   "id": "74142c10",
   "metadata": {},
   "outputs": [],
   "source": [
    "# 2개의 칼럼을 행 인덱스 설정. 단, inplace 파라메터가 False로 원본에 적용 안 됨!\n",
    "# examDF3 = examDF.set_index(['이름', '국어', '수학']) #이 버전에서 에러"
   ]
  },
  {
   "cell_type": "code",
   "execution_count": 97,
   "id": "0a82c4d0",
   "metadata": {},
   "outputs": [
    {
     "data": {
      "text/plain": [
       "Index(['김재중', '김현아', '조현아', '이창민'], dtype='object', name='이름')"
      ]
     },
     "execution_count": 97,
     "metadata": {},
     "output_type": "execute_result"
    }
   ],
   "source": [
    "examDF2.index"
   ]
  },
  {
   "cell_type": "code",
   "execution_count": 98,
   "id": "d4b540bc",
   "metadata": {},
   "outputs": [
    {
     "data": {
      "text/plain": [
       "국어      78\n",
       "math    98\n",
       "영어      98\n",
       "과학      18\n",
       "Name: 김재중, dtype: int64"
      ]
     },
     "execution_count": 98,
     "metadata": {},
     "output_type": "execute_result"
    }
   ],
   "source": [
    "examDF2.loc['김재중']"
   ]
  },
  {
   "cell_type": "code",
   "execution_count": 99,
   "id": "82cd7d62",
   "metadata": {},
   "outputs": [],
   "source": [
    "# examDF3 = examDF.set_index(['이름','국어','수학'])\n",
    "# examDF3.index # 이 버전에서 에러"
   ]
  },
  {
   "cell_type": "code",
   "execution_count": 101,
   "id": "c479ad98",
   "metadata": {},
   "outputs": [],
   "source": [
    "# examDF3.loc['김재중']"
   ]
  },
  {
   "cell_type": "code",
   "execution_count": null,
   "id": "8ad1dab3",
   "metadata": {},
   "outputs": [],
   "source": [
    "# KeyError => '김재중,78,98' 형식으로 78로 시작하는 Key 없음\n",
    "# examDF3.loc[78,98] # 순차적으로 검색하기 때문에 '이름'없이 검색 시작이 안됨"
   ]
  },
  {
   "cell_type": "markdown",
   "id": "23c21ecf",
   "metadata": {},
   "source": [
    "### <hr> (5) 새로운 인덱스 설정 방법 3"
   ]
  },
  {
   "cell_type": "code",
   "execution_count": 109,
   "id": "72f08715",
   "metadata": {},
   "outputs": [
    {
     "data": {
      "text/html": [
       "<div>\n",
       "<style scoped>\n",
       "    .dataframe tbody tr th:only-of-type {\n",
       "        vertical-align: middle;\n",
       "    }\n",
       "\n",
       "    .dataframe tbody tr th {\n",
       "        vertical-align: top;\n",
       "    }\n",
       "\n",
       "    .dataframe thead th {\n",
       "        text-align: right;\n",
       "    }\n",
       "</style>\n",
       "<table border=\"1\" class=\"dataframe\">\n",
       "  <thead>\n",
       "    <tr style=\"text-align: right;\">\n",
       "      <th></th>\n",
       "      <th>index</th>\n",
       "      <th>이름</th>\n",
       "      <th>국어</th>\n",
       "      <th>math</th>\n",
       "      <th>영어</th>\n",
       "      <th>과학</th>\n",
       "    </tr>\n",
       "  </thead>\n",
       "  <tbody>\n",
       "    <tr>\n",
       "      <th>0</th>\n",
       "      <td>0</td>\n",
       "      <td>김재중</td>\n",
       "      <td>78</td>\n",
       "      <td>98</td>\n",
       "      <td>98</td>\n",
       "      <td>18</td>\n",
       "    </tr>\n",
       "    <tr>\n",
       "      <th>1</th>\n",
       "      <td>1</td>\n",
       "      <td>김현아</td>\n",
       "      <td>89</td>\n",
       "      <td>49</td>\n",
       "      <td>89</td>\n",
       "      <td>69</td>\n",
       "    </tr>\n",
       "    <tr>\n",
       "      <th>2</th>\n",
       "      <td>2</td>\n",
       "      <td>조현아</td>\n",
       "      <td>99</td>\n",
       "      <td>89</td>\n",
       "      <td>39</td>\n",
       "      <td>79</td>\n",
       "    </tr>\n",
       "    <tr>\n",
       "      <th>3</th>\n",
       "      <td>3</td>\n",
       "      <td>이창민</td>\n",
       "      <td>29</td>\n",
       "      <td>99</td>\n",
       "      <td>49</td>\n",
       "      <td>89</td>\n",
       "    </tr>\n",
       "  </tbody>\n",
       "</table>\n",
       "</div>"
      ],
      "text/plain": [
       "   index   이름  국어  math  영어  과학\n",
       "0      0  김재중  78    98  98  18\n",
       "1      1  김현아  89    49  89  69\n",
       "2      2  조현아  99    89  39  79\n",
       "3      3  이창민  29    99  49  89"
      ]
     },
     "execution_count": 109,
     "metadata": {},
     "output_type": "execute_result"
    }
   ],
   "source": [
    "# 현재 행 인덱스 ==> 컬럼으로 추가\n",
    "df1 = examDF.reset_index().reset_index()\n",
    "df1"
   ]
  },
  {
   "cell_type": "code",
   "execution_count": 111,
   "id": "6d62f454",
   "metadata": {},
   "outputs": [
    {
     "data": {
      "text/html": [
       "<div>\n",
       "<style scoped>\n",
       "    .dataframe tbody tr th:only-of-type {\n",
       "        vertical-align: middle;\n",
       "    }\n",
       "\n",
       "    .dataframe tbody tr th {\n",
       "        vertical-align: top;\n",
       "    }\n",
       "\n",
       "    .dataframe thead th {\n",
       "        text-align: right;\n",
       "    }\n",
       "</style>\n",
       "<table border=\"1\" class=\"dataframe\">\n",
       "  <thead>\n",
       "    <tr style=\"text-align: right;\">\n",
       "      <th></th>\n",
       "      <th>국어</th>\n",
       "      <th>math</th>\n",
       "      <th>영어</th>\n",
       "      <th>과학</th>\n",
       "    </tr>\n",
       "  </thead>\n",
       "  <tbody>\n",
       "    <tr>\n",
       "      <th>0</th>\n",
       "      <td>78</td>\n",
       "      <td>98</td>\n",
       "      <td>98</td>\n",
       "      <td>18</td>\n",
       "    </tr>\n",
       "    <tr>\n",
       "      <th>1</th>\n",
       "      <td>89</td>\n",
       "      <td>49</td>\n",
       "      <td>89</td>\n",
       "      <td>69</td>\n",
       "    </tr>\n",
       "    <tr>\n",
       "      <th>2</th>\n",
       "      <td>99</td>\n",
       "      <td>89</td>\n",
       "      <td>39</td>\n",
       "      <td>79</td>\n",
       "    </tr>\n",
       "    <tr>\n",
       "      <th>3</th>\n",
       "      <td>29</td>\n",
       "      <td>99</td>\n",
       "      <td>49</td>\n",
       "      <td>89</td>\n",
       "    </tr>\n",
       "  </tbody>\n",
       "</table>\n",
       "</div>"
      ],
      "text/plain": [
       "   국어  math  영어  과학\n",
       "0  78    98  98  18\n",
       "1  89    49  89  69\n",
       "2  99    89  39  79\n",
       "3  29    99  49  89"
      ]
     },
     "execution_count": 111,
     "metadata": {},
     "output_type": "execute_result"
    }
   ],
   "source": [
    "# 현재 행 인덱스를 컬럼에 추가하지 않고 삭제 => drop 파라미터를 True로 설정\n",
    "df2 = examDF.reset_index(drop=True)\n",
    "df2"
   ]
  },
  {
   "cell_type": "code",
   "execution_count": null,
   "id": "2ba410d5",
   "metadata": {},
   "outputs": [],
   "source": []
  }
 ],
 "metadata": {
  "kernelspec": {
   "display_name": "Python 3 (ipykernel)",
   "language": "python",
   "name": "python3"
  },
  "language_info": {
   "codemirror_mode": {
    "name": "ipython",
    "version": 3
   },
   "file_extension": ".py",
   "mimetype": "text/x-python",
   "name": "python",
   "nbconvert_exporter": "python",
   "pygments_lexer": "ipython3",
   "version": "3.11.5"
  }
 },
 "nbformat": 4,
 "nbformat_minor": 5
}
