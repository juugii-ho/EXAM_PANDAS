{
 "cells": [
  {
   "cell_type": "markdown",
   "id": "b4e69fb4",
   "metadata": {},
   "source": [
    "<h1>시리즈(Series) 살펴보기</h1>\n",
    "- 판다스에서 데이터를 저장하는 자료 구조 중 하나  \n",
    "\n",
    "- 동일한 타입의 데이터를 연속된 메모리 공간에 저장 함  \n",
    "\n",
    "- 구성 : 인덱스 + 데이터\n",
    "  \n",
    "- 생성 : Series() 생성자 메서드  "
   ]
  },
  {
   "cell_type": "markdown",
   "id": "05246389",
   "metadata": {},
   "source": [
    "(1) 모듈 로딩 ----------------------------"
   ]
  },
  {
   "cell_type": "code",
   "execution_count": 4,
   "id": "57e30993",
   "metadata": {},
   "outputs": [],
   "source": [
    "import pandas as pd"
   ]
  },
  {
   "cell_type": "markdown",
   "id": "0b26b030",
   "metadata": {},
   "source": [
    "(2) 시리즈 객체 생성 ---------------------"
   ]
  },
  {
   "cell_type": "code",
   "execution_count": 5,
   "id": "d83970a4",
   "metadata": {},
   "outputs": [],
   "source": [
    "# 객체 생성에 사용되는 메서드 => 생성자(Constructor)\n",
    "# 데이터 타입과 동일한 이름의 메서드 => Series()\n",
    "sr=pd.Series([11,22,33])"
   ]
  },
  {
   "cell_type": "code",
   "execution_count": null,
   "id": "1490fe19-215d-433f-8025-3e4fc94b1003",
   "metadata": {},
   "outputs": [],
   "source": []
  },
  {
   "cell_type": "code",
   "execution_count": 6,
   "id": "bf66fc7e",
   "metadata": {
    "scrolled": true
   },
   "outputs": [
    {
     "data": {
      "text/plain": [
       "0    11\n",
       "1    22\n",
       "2    33\n",
       "dtype: int64"
      ]
     },
     "execution_count": 6,
     "metadata": {},
     "output_type": "execute_result"
    }
   ],
   "source": [
    "sr"
   ]
  },
  {
   "cell_type": "markdown",
   "id": "161a130c-2b89-4dcd-8231-3d6e0f68e50b",
   "metadata": {},
   "source": [
    "Series 객체의 속성(attributes)/필드(field) 살펴보기\n",
    "- 기본 : data, index,dtype\n",
    "- 읽기 : 객체변수명, 속성명\n",
    "- 쓰기 : 객체변수명, 속성명 = 새로운 값"
   ]
  },
  {
   "cell_type": "code",
   "execution_count": null,
   "id": "1f8f732e-03c0-4ef4-b805-97be2488c1c4",
   "metadata": {},
   "outputs": [],
   "source": []
  },
  {
   "cell_type": "code",
   "execution_count": 7,
   "id": "22b795ba",
   "metadata": {},
   "outputs": [
    {
     "data": {
      "text/plain": [
       "RangeIndex(start=0, stop=3, step=1)"
      ]
     },
     "execution_count": 7,
     "metadata": {},
     "output_type": "execute_result"
    }
   ],
   "source": [
    "sr.index"
   ]
  },
  {
   "cell_type": "code",
   "execution_count": 8,
   "id": "b8b04380-c2a4-42dc-8562-0e4e4388160d",
   "metadata": {},
   "outputs": [
    {
     "data": {
      "text/plain": [
       "array([11, 22, 33])"
      ]
     },
     "execution_count": 8,
     "metadata": {},
     "output_type": "execute_result"
    }
   ],
   "source": [
    "sr.values"
   ]
  },
  {
   "cell_type": "code",
   "execution_count": 9,
   "id": "6a2fd080-e6f1-497b-a5c9-5b29fff99b95",
   "metadata": {},
   "outputs": [],
   "source": [
    "# array([11,22,33], dtype=int64)"
   ]
  },
  {
   "cell_type": "code",
   "execution_count": 10,
   "id": "a135c2c7-1226-48d6-8fba-02beaa8c3d94",
   "metadata": {},
   "outputs": [],
   "source": [
    "# 시리즈 객체의 인덱스 변경\n",
    "sr.index=[100, 200, 300]"
   ]
  },
  {
   "cell_type": "code",
   "execution_count": 11,
   "id": "209f47b6-e1ac-4c36-970b-28553c12c3e3",
   "metadata": {},
   "outputs": [
    {
     "data": {
      "text/plain": [
       "100    11\n",
       "200    22\n",
       "300    33\n",
       "dtype: int64"
      ]
     },
     "execution_count": 11,
     "metadata": {},
     "output_type": "execute_result"
    }
   ],
   "source": [
    "sr"
   ]
  },
  {
   "cell_type": "code",
   "execution_count": 12,
   "id": "8dd956b5-ea97-40ef-a4bf-770f2107089e",
   "metadata": {},
   "outputs": [
    {
     "data": {
      "text/plain": [
       "A    11\n",
       "B    22\n",
       "C    33\n",
       "dtype: int64"
      ]
     },
     "execution_count": 12,
     "metadata": {},
     "output_type": "execute_result"
    }
   ],
   "source": [
    "sr.index=['A','B','C']\n",
    "sr"
   ]
  },
  {
   "cell_type": "code",
   "execution_count": 13,
   "id": "9fe1608d-8d1a-461e-9a5c-312e5824e9b6",
   "metadata": {},
   "outputs": [],
   "source": [
    "# sr.values=[777,888,999]\n",
    "# sr"
   ]
  },
  {
   "cell_type": "markdown",
   "id": "bf090d00-83ad-4d00-a191-e51b63a76392",
   "metadata": {},
   "source": [
    "- 시리즈 객체의 요소 데이터/값 제어  \n",
    "    - 읽기 : 객체변수명[인덱스]\n",
    "    - 쓰기 : 객체변수명[인덱스] = 새로운 값"
   ]
  },
  {
   "cell_type": "code",
   "execution_count": 14,
   "id": "0156d64e-f130-4284-8409-579ff9665525",
   "metadata": {},
   "outputs": [
    {
     "data": {
      "text/plain": [
       "11"
      ]
     },
     "execution_count": 14,
     "metadata": {},
     "output_type": "execute_result"
    }
   ],
   "source": [
    "sr['A']"
   ]
  },
  {
   "cell_type": "code",
   "execution_count": 15,
   "id": "e50a877f-0999-4519-b20b-f41889879e4a",
   "metadata": {},
   "outputs": [],
   "source": [
    "sr['A'] = 2024"
   ]
  },
  {
   "cell_type": "code",
   "execution_count": 16,
   "id": "77e24d6c-869b-48c0-a866-f630b19f36c6",
   "metadata": {},
   "outputs": [
    {
     "data": {
      "text/plain": [
       "A    2024\n",
       "B      22\n",
       "C      33\n",
       "dtype: int64"
      ]
     },
     "execution_count": 16,
     "metadata": {},
     "output_type": "execute_result"
    }
   ],
   "source": [
    "sr"
   ]
  },
  {
   "cell_type": "code",
   "execution_count": 17,
   "id": "35177d89-d55f-4f26-b4c4-d544f9d6a671",
   "metadata": {},
   "outputs": [
    {
     "data": {
      "text/plain": [
       "Index(['A', 'B', 'C'], dtype='object')"
      ]
     },
     "execution_count": 17,
     "metadata": {},
     "output_type": "execute_result"
    }
   ],
   "source": [
    "sr.index"
   ]
  },
  {
   "cell_type": "code",
   "execution_count": 18,
   "id": "78a5df9b-0c63-4824-b875-dc3d60695e32",
   "metadata": {},
   "outputs": [
    {
     "data": {
      "text/plain": [
       "2024"
      ]
     },
     "execution_count": 18,
     "metadata": {},
     "output_type": "execute_result"
    }
   ],
   "source": [
    "sr[0]"
   ]
  },
  {
   "cell_type": "code",
   "execution_count": 19,
   "id": "c5069593-4a7b-448b-a4cf-d397eb83212d",
   "metadata": {
    "scrolled": true
   },
   "outputs": [
    {
     "data": {
      "text/plain": [
       "numpy.int64"
      ]
     },
     "execution_count": 19,
     "metadata": {},
     "output_type": "execute_result"
    }
   ],
   "source": [
    "type(sr[0])"
   ]
  },
  {
   "cell_type": "code",
   "execution_count": 20,
   "id": "6d52ed16-4695-4a9e-b04f-92ff73185b47",
   "metadata": {},
   "outputs": [],
   "source": [
    "sr.index=[11,22,33]"
   ]
  },
  {
   "cell_type": "code",
   "execution_count": 21,
   "id": "05101981-daa8-482f-b9fb-ffa3ac83935d",
   "metadata": {},
   "outputs": [
    {
     "data": {
      "text/plain": [
       "Index([11, 22, 33], dtype='int64')"
      ]
     },
     "execution_count": 21,
     "metadata": {},
     "output_type": "execute_result"
    }
   ],
   "source": [
    "sr.index"
   ]
  },
  {
   "cell_type": "code",
   "execution_count": 22,
   "id": "b6542f4d-50fc-4a39-b728-28cea90ddf05",
   "metadata": {},
   "outputs": [],
   "source": [
    "# sr[0]"
   ]
  },
  {
   "cell_type": "code",
   "execution_count": 23,
   "id": "360c5def-2a1e-451b-9651-5d3d68dce28c",
   "metadata": {},
   "outputs": [
    {
     "name": "stdout",
     "output_type": "stream",
     "text": [
      "11 2024\n",
      "22 22\n",
      "33 33\n"
     ]
    }
   ],
   "source": [
    "for idx in sr.index:\n",
    "    print(idx, sr[idx])\n",
    "    sr[idx] = sr[idx]+1"
   ]
  },
  {
   "cell_type": "code",
   "execution_count": 24,
   "id": "d2c4a7a0-d5ac-418c-af5c-cab0ced088bd",
   "metadata": {},
   "outputs": [],
   "source": [
    "sr.index=['1','2','3']"
   ]
  },
  {
   "cell_type": "code",
   "execution_count": 25,
   "id": "2ced614c-0c61-4031-85c1-9af8b9c03277",
   "metadata": {},
   "outputs": [
    {
     "data": {
      "text/plain": [
       "(2025, 2025)"
      ]
     },
     "execution_count": 25,
     "metadata": {},
     "output_type": "execute_result"
    }
   ],
   "source": [
    "sr['1'],sr[0]"
   ]
  },
  {
   "cell_type": "code",
   "execution_count": 26,
   "id": "0d8b6756-f05a-435f-b91a-648846c99766",
   "metadata": {},
   "outputs": [
    {
     "data": {
      "text/plain": [
       "23"
      ]
     },
     "execution_count": 26,
     "metadata": {},
     "output_type": "execute_result"
    }
   ],
   "source": [
    "# 정수형 숫자로 라벨 인덱스 변경\n",
    "sr[1]"
   ]
  },
  {
   "cell_type": "code",
   "execution_count": 27,
   "id": "cd90f418-6ded-4387-b723-0467fc903286",
   "metadata": {},
   "outputs": [],
   "source": [
    "# 숫자 라벨 인덱스 지정하면 정수 위치 인덱스 => 정수 위치 인덱스 사용 불가!\n",
    "sr.index=[1,2,3]\n",
    "# sr[0]"
   ]
  },
  {
   "cell_type": "code",
   "execution_count": null,
   "id": "72c4417a-9002-468a-8fd5-22965a4b08a6",
   "metadata": {},
   "outputs": [],
   "source": []
  },
  {
   "cell_type": "markdown",
   "id": "64f0dc77-e7f1-41eb-89bc-0aa2d8269212",
   "metadata": {},
   "source": [
    "[ 다양한 Series 객체 생성 ]\n"
   ]
  },
  {
   "cell_type": "markdown",
   "id": "20e1a176-08dd-48cd-8107-59e34f84a22e",
   "metadata": {},
   "source": [
    "(1) 모듈 로딩"
   ]
  },
  {
   "cell_type": "code",
   "execution_count": 28,
   "id": "7b5c722a-fb2f-4835-98e9-f8957bd419c8",
   "metadata": {},
   "outputs": [],
   "source": [
    "import pandas as pd"
   ]
  },
  {
   "cell_type": "markdown",
   "id": "29137a8c-5aec-4841-99c9-31974f00ff42",
   "metadata": {},
   "source": [
    "### (2) Series 객체 생성 - 방법 1\n",
    "- Series( data, index=지정)\n"
   ]
  },
  {
   "cell_type": "code",
   "execution_count": null,
   "id": "67b57550-c12c-4f49-b0af-18dfbe8bde0d",
   "metadata": {},
   "outputs": [],
   "source": []
  },
  {
   "cell_type": "code",
   "execution_count": 29,
   "id": "0ca601d0-c962-4024-a342-de16a6918c49",
   "metadata": {},
   "outputs": [],
   "source": [
    "sr1 = pd.Series([11,22,33], index=['one', 'two', 'three'])"
   ]
  },
  {
   "cell_type": "code",
   "execution_count": 30,
   "id": "6d9f3e44-8e60-431e-a3d3-8e62de904c00",
   "metadata": {},
   "outputs": [
    {
     "data": {
      "text/plain": [
       "one      11\n",
       "two      22\n",
       "three    33\n",
       "dtype: int64"
      ]
     },
     "execution_count": 30,
     "metadata": {},
     "output_type": "execute_result"
    }
   ],
   "source": [
    "sr1"
   ]
  },
  {
   "cell_type": "markdown",
   "id": "53465336-1875-4e14-81c0-9dd2c3ccca16",
   "metadata": {},
   "source": [
    "### (2) Series 객체 생성 - 방법 2"
   ]
  },
  {
   "cell_type": "code",
   "execution_count": null,
   "id": "08c21be0-1054-4be1-b0db-5275aeedc0a8",
   "metadata": {},
   "outputs": [],
   "source": []
  },
  {
   "cell_type": "code",
   "execution_count": null,
   "id": "e4c36b6f-f27d-42ba-ae25-531421cc9d55",
   "metadata": {},
   "outputs": [],
   "source": []
  },
  {
   "cell_type": "code",
   "execution_count": 31,
   "id": "63a68884-561b-4459-8cd8-cf1446a8d1dd",
   "metadata": {},
   "outputs": [
    {
     "data": {
      "text/plain": [
       "one      11\n",
       "two      22\n",
       "three    33\n",
       "Name: jumsu, dtype: int64"
      ]
     },
     "execution_count": 31,
     "metadata": {},
     "output_type": "execute_result"
    }
   ],
   "source": [
    "sr1 = pd.Series([11,22,33], index=['one', 'two', 'three'], name='jumsu')\n",
    "sr1"
   ]
  },
  {
   "cell_type": "markdown",
   "id": "bfe535c7-3aaa-4700-9119-f7915e02471a",
   "metadata": {},
   "source": [
    "### (2) Series 객체 생성 - 방법 3\n"
   ]
  },
  {
   "cell_type": "code",
   "execution_count": 32,
   "id": "c808a832-dd10-49e6-87da-13dff0da0c1e",
   "metadata": {},
   "outputs": [
    {
     "data": {
      "text/plain": [
       "one      11\n",
       "two      22\n",
       "three    33\n",
       "Name: type, dtype: uint8"
      ]
     },
     "execution_count": 32,
     "metadata": {},
     "output_type": "execute_result"
    }
   ],
   "source": [
    "sr1=pd.Series([11,22,33], index=['one', 'two', 'three'], name='type', dtype='uint8')  #uint8은 0~128까지\n",
    "sr1    "
   ]
  },
  {
   "cell_type": "markdown",
   "id": "9da5f81f-0f9e-4b9d-a152-0c566c1c0f33",
   "metadata": {},
   "source": [
    "### (2) Series 객체 생성 - 방법 4 => 저장되는 데이터 dict\n",
    "\n"
   ]
  },
  {
   "cell_type": "code",
   "execution_count": 33,
   "id": "e8461bff-98b1-48d5-9137-e7c36958b25a",
   "metadata": {},
   "outputs": [
    {
     "data": {
      "text/plain": [
       "data    홍길동\n",
       "age      12\n",
       "job      도적\n",
       "dtype: object"
      ]
     },
     "execution_count": 33,
     "metadata": {},
     "output_type": "execute_result"
    }
   ],
   "source": [
    "data = {'data':'홍길동', 'age':12, 'job':'도적'}\n",
    "\n",
    "sr1 = pd.Series(data)\n",
    "sr1"
   ]
  },
  {
   "cell_type": "code",
   "execution_count": null,
   "id": "3c767b70-3ced-4bc6-810f-41f155336e0d",
   "metadata": {},
   "outputs": [],
   "source": []
  },
  {
   "cell_type": "markdown",
   "id": "ca8979e2-98f5-485f-b67d-390acc884cae",
   "metadata": {},
   "source": [
    "key가 전부 index가 됨\n"
   ]
  },
  {
   "cell_type": "code",
   "execution_count": 34,
   "id": "13e5fd23-833e-419f-941c-e77638ce70dc",
   "metadata": {},
   "outputs": [
    {
     "name": "stdout",
     "output_type": "stream",
     "text": [
      "Index(['data', 'age', 'job'], dtype='object')\n",
      "['홍길동' 12 '도적']\n"
     ]
    }
   ],
   "source": [
    "# 속성 확인하기\n",
    "print(sr1.index, sr1.values, sep='\\n')"
   ]
  },
  {
   "cell_type": "code",
   "execution_count": 35,
   "id": "25ce5dc0-d093-4d8d-8db5-8943ad2d7a26",
   "metadata": {},
   "outputs": [
    {
     "data": {
      "text/plain": [
       "(Index(['data', 'age', 'job'], dtype='object'),\n",
       " array(['홍길동', 12, '도적'], dtype=object))"
      ]
     },
     "execution_count": 35,
     "metadata": {},
     "output_type": "execute_result"
    }
   ],
   "source": [
    "sr1.index, sr1.values\n",
    "# 문자열과 숫자가 함께 있기 때문에 dtype이 object가 됨"
   ]
  },
  {
   "cell_type": "code",
   "execution_count": null,
   "id": "34725857-39fc-46b5-9ba9-edab1531bc67",
   "metadata": {},
   "outputs": [],
   "source": []
  },
  {
   "cell_type": "markdown",
   "id": "1964c0a6-65a5-4fd7-a2a2-dc6456cd4455",
   "metadata": {},
   "source": [
    "### (2) Series 객체 생성 - 방법 5 => 저장되는 데이터 set\n"
   ]
  },
  {
   "cell_type": "code",
   "execution_count": 36,
   "id": "7888f6ad-76e9-404f-8973-05d488a3d6da",
   "metadata": {},
   "outputs": [],
   "source": [
    "# data = {'홍길동', 12, '도적') #순서 없는 데이터, 중복 불허\n",
    "\n",
    "# sr1 = pd.Series(data)\n",
    "# sr1"
   ]
  },
  {
   "cell_type": "code",
   "execution_count": 37,
   "id": "1ca60fe3-f073-478f-b3a8-1e080b075348",
   "metadata": {},
   "outputs": [
    {
     "data": {
      "text/plain": [
       "1     도적\n",
       "2     12\n",
       "3    홍길동\n",
       "dtype: object"
      ]
     },
     "execution_count": 37,
     "metadata": {},
     "output_type": "execute_result"
    }
   ],
   "source": [
    "data = {'홍길동', 12, '도적'} #순서 없는 데이터, 중복 불허\n",
    "\n",
    "# 형변환 후 객체 생성 가능\n",
    "sr1 = pd.Series(list(data), index=[1,2,3] )\n",
    "sr1"
   ]
  },
  {
   "cell_type": "code",
   "execution_count": null,
   "id": "330bfbe3-7f47-433c-8fd5-b011192c6e53",
   "metadata": {},
   "outputs": [],
   "source": []
  },
  {
   "cell_type": "markdown",
   "id": "ed6703bd-799f-4955-91ae-b62e23f427eb",
   "metadata": {},
   "source": [
    "[ Series 객체 원소 인덱싱 & 슬라이싱 ]"
   ]
  },
  {
   "cell_type": "markdown",
   "id": "b289f2f1-9c69-4d3c-bb93-004cd893447e",
   "metadata": {},
   "source": [
    "(1) 모듈 로딩 -------------------------------\n"
   ]
  },
  {
   "cell_type": "code",
   "execution_count": 38,
   "id": "2cfed372-3f6f-417c-acc0-b8931cc31ec0",
   "metadata": {},
   "outputs": [],
   "source": [
    "from pandas import Series"
   ]
  },
  {
   "cell_type": "markdown",
   "id": "bda23d95-bc38-4a58-8f6f-e4d92c0c60ab",
   "metadata": {},
   "source": [
    "(2) 데이터 준비 -------------------------------"
   ]
  },
  {
   "cell_type": "code",
   "execution_count": 39,
   "id": "47ec873a-18d3-451f-8887-b69c9b1a9ad3",
   "metadata": {},
   "outputs": [],
   "source": [
    "datas = {'name':'홍길동', 'age':12, 'job':'도적'}"
   ]
  },
  {
   "cell_type": "markdown",
   "id": "dc7af30d-b173-49c0-911d-a31785361ac8",
   "metadata": {},
   "source": [
    "(3) Series 객체 생성 -------------------------------"
   ]
  },
  {
   "cell_type": "code",
   "execution_count": 40,
   "id": "b2a279cf-03af-40df-a86b-22cb78166f59",
   "metadata": {},
   "outputs": [],
   "source": [
    "sr1 = Series(datas)"
   ]
  },
  {
   "cell_type": "code",
   "execution_count": 41,
   "id": "d3d04a17-b66d-4c92-8ffd-845a935edd14",
   "metadata": {},
   "outputs": [
    {
     "data": {
      "text/plain": [
       "name    홍길동\n",
       "age      12\n",
       "job      도적\n",
       "dtype: object"
      ]
     },
     "execution_count": 41,
     "metadata": {},
     "output_type": "execute_result"
    }
   ],
   "source": [
    "sr1"
   ]
  },
  {
   "cell_type": "markdown",
   "id": "fab65728-74fc-4b31-a919-da55d43be50e",
   "metadata": {},
   "source": [
    "(4) 인덱싱으로 원소 읽기 -------------------------------"
   ]
  },
  {
   "cell_type": "markdown",
   "id": "22320bcb-6e67-440a-9e59-01aaa558583c",
   "metadata": {},
   "source": [
    "=> 1개 원소 읽기"
   ]
  },
  {
   "cell_type": "code",
   "execution_count": 42,
   "id": "45184d23-6e02-4112-af8b-4b7a6e390cda",
   "metadata": {},
   "outputs": [
    {
     "data": {
      "text/plain": [
       "(12, 12, Index(['name', 'age', 'job'], dtype='object'))"
      ]
     },
     "execution_count": 42,
     "metadata": {},
     "output_type": "execute_result"
    }
   ],
   "source": [
    "sr1['age'], sr1[1], sr1.index"
   ]
  },
  {
   "cell_type": "markdown",
   "id": "07a5526e-bb00-4c8a-8a65-d3d196f2c5c7",
   "metadata": {},
   "source": [
    "=> 2\n",
    "개 원소 읽기"
   ]
  },
  {
   "cell_type": "code",
   "execution_count": 43,
   "id": "a2b3092f-e6f6-417b-a9d0-9753acb5d224",
   "metadata": {},
   "outputs": [
    {
     "data": {
      "text/plain": [
       "('홍길동', '도적', '홍길동', '도적')"
      ]
     },
     "execution_count": 43,
     "metadata": {},
     "output_type": "execute_result"
    }
   ],
   "source": [
    "# 이름과 직업 데이터 읽기 ==> 원소 단위\n",
    "sr1['name'],sr1['job'],sr1[0],sr1[2]"
   ]
  },
  {
   "cell_type": "code",
   "execution_count": 44,
   "id": "d394458f-3ae5-4135-8aab-bd58c1bc8afd",
   "metadata": {},
   "outputs": [],
   "source": [
    "a = [1,2,3]\n",
    "b = (11,22,33)"
   ]
  },
  {
   "cell_type": "code",
   "execution_count": 45,
   "id": "7eb6867e-9573-46fd-a291-967367b2cb95",
   "metadata": {},
   "outputs": [
    {
     "data": {
      "text/plain": [
       "(1, int, [1], list)"
      ]
     },
     "execution_count": 45,
     "metadata": {},
     "output_type": "execute_result"
    }
   ],
   "source": [
    "a[0], type(a[0]), a[:1], type(a[:1])"
   ]
  },
  {
   "cell_type": "code",
   "execution_count": 46,
   "id": "5ef1dd1d-7f10-4175-afe8-eca75912015f",
   "metadata": {},
   "outputs": [
    {
     "data": {
      "text/plain": [
       "(pandas.core.series.Series,\n",
       " name    홍길동\n",
       " job      도적\n",
       " dtype: object)"
      ]
     },
     "execution_count": 46,
     "metadata": {},
     "output_type": "execute_result"
    }
   ],
   "source": [
    "# 이름과 직업 데이터 읽기 ==> 리스트 단위로 읽기 ==> 시리즈로 나옴\n",
    "ret=sr1[['name','job']]\n",
    "ret2=sr1[[0,2]]\n",
    "type(ret),ret"
   ]
  },
  {
   "cell_type": "code",
   "execution_count": 47,
   "id": "a7ed2578-fdfd-4a66-8521-662f462fb13b",
   "metadata": {},
   "outputs": [
    {
     "data": {
      "text/plain": [
       "(pandas.core.series.Series,\n",
       " name    홍길동\n",
       " job      도적\n",
       " dtype: object)"
      ]
     },
     "execution_count": 47,
     "metadata": {},
     "output_type": "execute_result"
    }
   ],
   "source": [
    "type(ret2),ret2"
   ]
  },
  {
   "cell_type": "markdown",
   "id": "73163bfd-3249-4a66-81bc-8fa82557b488",
   "metadata": {
    "jp-MarkdownHeadingCollapsed": true
   },
   "source": [
    " - 위치 인덱스로 슬라이싱 -------------------------"
   ]
  },
  {
   "cell_type": "code",
   "execution_count": 48,
   "id": "0bd97799-0cda-4da5-8e29-68b830f1e29b",
   "metadata": {},
   "outputs": [
    {
     "data": {
      "text/plain": [
       "name    홍길동\n",
       "dtype: object"
      ]
     },
     "execution_count": 48,
     "metadata": {},
     "output_type": "execute_result"
    }
   ],
   "source": [
    "sr1[:-2]"
   ]
  },
  {
   "cell_type": "code",
   "execution_count": 49,
   "id": "8e7d3b5e-d3c1-48cd-a8e1-a782cf1ee8b8",
   "metadata": {},
   "outputs": [
    {
     "data": {
      "text/plain": [
       "name    홍길동\n",
       "age      12\n",
       "dtype: object"
      ]
     },
     "execution_count": 49,
     "metadata": {},
     "output_type": "execute_result"
    }
   ],
   "source": [
    "sr1[:-1]"
   ]
  },
  {
   "cell_type": "code",
   "execution_count": 50,
   "id": "5d64ec12-2268-4843-ac00-3ce335c12900",
   "metadata": {},
   "outputs": [
    {
     "data": {
      "text/plain": [
       "age    12\n",
       "job    도적\n",
       "dtype: object"
      ]
     },
     "execution_count": 50,
     "metadata": {},
     "output_type": "execute_result"
    }
   ],
   "source": [
    "sr1[1:]"
   ]
  },
  {
   "cell_type": "markdown",
   "id": "47088158-3109-472b-a3a3-a5885833ef68",
   "metadata": {},
   "source": [
    "- 레이블 인덱스로 슬라이싱 -------------------------"
   ]
  },
  {
   "cell_type": "code",
   "execution_count": 51,
   "id": "5a540f04-e2cc-4413-8c8e-95432702ea76",
   "metadata": {},
   "outputs": [
    {
     "data": {
      "text/plain": [
       "name    홍길동\n",
       "age      12\n",
       "job      도적\n",
       "dtype: object"
      ]
     },
     "execution_count": 51,
     "metadata": {},
     "output_type": "execute_result"
    }
   ],
   "source": [
    "sr1['name':'job']       # 시작 <= ~ <= 끝 (포함됨, 닫힌 구간)"
   ]
  },
  {
   "cell_type": "code",
   "execution_count": 52,
   "id": "dc8b3bd7-ed8d-4a6b-8c90-0248f9fa001b",
   "metadata": {
    "scrolled": true
   },
   "outputs": [
    {
     "data": {
      "text/plain": [
       "name    홍길동\n",
       "age      12\n",
       "dtype: object"
      ]
     },
     "execution_count": 52,
     "metadata": {},
     "output_type": "execute_result"
    }
   ],
   "source": [
    "sr1['name':'age']       # 시작 <= ~ <= 끝 (포함됨, 닫힌 구간)"
   ]
  },
  {
   "cell_type": "code",
   "execution_count": null,
   "id": "8ac8a55a",
   "metadata": {},
   "outputs": [],
   "source": []
  },
  {
   "cell_type": "code",
   "execution_count": 53,
   "id": "597b7b19-4f0f-434e-9e5d-4778c3a9357f",
   "metadata": {},
   "outputs": [
    {
     "ename": "NameError",
     "evalue": "name 'one' is not defined",
     "output_type": "error",
     "traceback": [
      "\u001b[0;31m---------------------------------------------------------------------------\u001b[0m",
      "\u001b[0;31mNameError\u001b[0m                                 Traceback (most recent call last)",
      "Cell \u001b[0;32mIn[53], line 1\u001b[0m\n\u001b[0;32m----> 1\u001b[0m \u001b[38;5;28mtype\u001b[39m(one)\n",
      "\u001b[0;31mNameError\u001b[0m: name 'one' is not defined"
     ]
    }
   ],
   "source": [
    "type(one)"
   ]
  },
  {
   "cell_type": "code",
   "execution_count": null,
   "id": "94af34b1-a3bd-41b7-9b92-ebfbe8b771b2",
   "metadata": {},
   "outputs": [],
   "source": [
    "df1.iloc[0]"
   ]
  },
  {
   "cell_type": "code",
   "execution_count": null,
   "id": "34146fa6-ad6b-4a82-b545-af6ef649169a",
   "metadata": {},
   "outputs": [],
   "source": [
    "zero = df1.iloc[0]"
   ]
  },
  {
   "cell_type": "code",
   "execution_count": null,
   "id": "e6c8bf4a-1610-44ec-9478-6d2fca436816",
   "metadata": {},
   "outputs": [],
   "source": [
    "type(zero)"
   ]
  },
  {
   "cell_type": "markdown",
   "id": "e8cc293b-0f39-4044-b34a-c7e982736bb4",
   "metadata": {},
   "source": [
    "(6) 모든 원소를 한 번에 한 개씩만 출력"
   ]
  },
  {
   "cell_type": "code",
   "execution_count": null,
   "id": "3082fe1c-5f72-424a-8ca2-029f5e59239c",
   "metadata": {},
   "outputs": [],
   "source": [
    "df1"
   ]
  },
  {
   "cell_type": "code",
   "execution_count": null,
   "id": "12760749-41f1-43c0-81e0-33451aa8e363",
   "metadata": {},
   "outputs": [],
   "source": [
    "df1.iloc[0]"
   ]
  },
  {
   "cell_type": "code",
   "execution_count": null,
   "id": "41c935a9-8472-4958-a441-4881f1cbb14a",
   "metadata": {},
   "outputs": [],
   "source": [
    "one = df1.loc['one']\n",
    "one\n",
    "for i in range(2):\n",
    "    print(one[i])"
   ]
  },
  {
   "cell_type": "code",
   "execution_count": null,
   "id": "5509fd15-2a47-4f1e-a31d-e7e76f7c1c61",
   "metadata": {},
   "outputs": [],
   "source": [
    "for i in list(df1.index):\n",
    "    for j in list(df1.columns):\n",
    "        print(df1[j][i]) # col, row"
   ]
  },
  {
   "cell_type": "markdown",
   "id": "02c44984-c426-4327-9150-1728a015306e",
   "metadata": {},
   "source": [
    "- 객체변수명.iloc[행 인덱스, 열 인덱스] / 객체변수명.loc[행레이블, 열 인덱스 or 열 레이블]"
   ]
  },
  {
   "cell_type": "code",
   "execution_count": null,
   "id": "4a9420d4-425d-4de0-a4ec-b20b3f337625",
   "metadata": {},
   "outputs": [],
   "source": [
    "df1.iloc[0,0], df1.iloc[0,1], df1.iloc[0,2]"
   ]
  },
  {
   "cell_type": "code",
   "execution_count": null,
   "id": "da04ff9e-754e-4d30-9562-12bacfef099b",
   "metadata": {},
   "outputs": [],
   "source": [
    "df1.loc['one',0]"
   ]
  },
  {
   "cell_type": "code",
   "execution_count": null,
   "id": "c29da72e-4109-417d-abdd-85a8dd8b18d8",
   "metadata": {},
   "outputs": [],
   "source": [
    "df1.loc['one',0], df1.loc['one', 1], df1.loc['one',2], df1.loc['two',0], df1.loc['two',1], df1.loc['two',2]"
   ]
  },
  {
   "cell_type": "code",
   "execution_count": null,
   "id": "4c839308-0e13-458b-875a-6b9eaf1e232c",
   "metadata": {},
   "outputs": [],
   "source": [
    "df1.columns=['A','B','C']\n",
    "df1"
   ]
  },
  {
   "cell_type": "code",
   "execution_count": null,
   "id": "1781100c-1f3f-4895-a008-2ea4643380a7",
   "metadata": {},
   "outputs": [],
   "source": [
    "df1.loc['one']['B'], df1.loc['two']['C']"
   ]
  },
  {
   "cell_type": "code",
   "execution_count": null,
   "id": "a7f278b6-c2a8-4b22-a5cd-a18ad027e636",
   "metadata": {},
   "outputs": [],
   "source": [
    "for i in range(2):\n",
    "    print(df1.iloc[i])"
   ]
  },
  {
   "cell_type": "code",
   "execution_count": null,
   "id": "49e137af-2781-4706-be00-115ad2bf6ae4",
   "metadata": {},
   "outputs": [],
   "source": [
    "df1.iloc[0]"
   ]
  },
  {
   "cell_type": "code",
   "execution_count": null,
   "id": "2657c011-5cf3-4724-a2d3-75d185ab7266",
   "metadata": {},
   "outputs": [],
   "source": [
    "df1.iloc[0, 1], df1.iloc[1,2]"
   ]
  },
  {
   "cell_type": "code",
   "execution_count": null,
   "id": "a6a2ed49-6478-4a82-b42a-650562fea365",
   "metadata": {},
   "outputs": [],
   "source": [
    "df1.iloc[0][1], df1.iloc[1][2]"
   ]
  },
  {
   "cell_type": "code",
   "execution_count": null,
   "id": "26db88b6-f3af-4ec3-a00c-d6e6cf98f3a6",
   "metadata": {},
   "outputs": [],
   "source": [
    "zero = df1.iloc[0]\n",
    "zero"
   ]
  },
  {
   "cell_type": "code",
   "execution_count": null,
   "id": "f3f65720-7730-4d49-86d7-d921fefc3c73",
   "metadata": {},
   "outputs": [],
   "source": [
    "b=df1['B']\n",
    "b"
   ]
  },
  {
   "cell_type": "markdown",
   "id": "9300944b-ea75-423c-bdf4-e9c6f27813ae",
   "metadata": {},
   "source": [
    "개-멍청하다 진짜....\n",
    "for문 안에 print() 안해서 안 나오다니"
   ]
  },
  {
   "cell_type": "code",
   "execution_count": null,
   "id": "99d08dae-bf82-4da4-a742-a3cc4df79261",
   "metadata": {},
   "outputs": [],
   "source": [
    "df1.index, df1.columns"
   ]
  },
  {
   "cell_type": "code",
   "execution_count": null,
   "id": "d2e585e9-1b58-4d55-bd9a-63744399282b",
   "metadata": {},
   "outputs": [],
   "source": [
    "df1.shape[0], df1.shape[1]"
   ]
  },
  {
   "cell_type": "markdown",
   "id": "27cc2742-1974-4896-a4c7-5fc4221ebce1",
   "metadata": {},
   "source": [
    "- iloc를 활용한 모든 원소 출력 == 행과 열의 번호 필요"
   ]
  },
  {
   "cell_type": "code",
   "execution_count": null,
   "id": "9f01f6e1-8701-4eb4-9665-774194446c1e",
   "metadata": {},
   "outputs": [],
   "source": [
    "for row in range(df1.shape[0]):\n",
    "    # print(row)\n",
    "    for col in range(df1.shape[1]):\n",
    "        # print(row, col)\n",
    "        print(df1.iloc[row][col])"
   ]
  },
  {
   "cell_type": "code",
   "execution_count": null,
   "id": "fca4c07d-391b-4d61-87e8-a664153a56f3",
   "metadata": {},
   "outputs": [],
   "source": [
    "for i in range(df1.shape[0]):\n",
    "    for j in range(df1.shape[1]):\n",
    "        print(df1.iloc[i][j])"
   ]
  },
  {
   "cell_type": "markdown",
   "id": "a73a0614-cfab-4339-8095-adccf20a0620",
   "metadata": {},
   "source": [
    "- loc를 활용한 모든 원소 출력 ==> 행 레이블/이름과 열 레이블/이름 필요\n"
   ]
  },
  {
   "cell_type": "code",
   "execution_count": null,
   "id": "d674eb81-8bb2-446e-8186-da6eb0589918",
   "metadata": {},
   "outputs": [],
   "source": [
    "df1.index, df1.columns"
   ]
  },
  {
   "cell_type": "code",
   "execution_count": null,
   "id": "9efa1e1a-f9db-43b9-8c86-08d86e0922ec",
   "metadata": {},
   "outputs": [],
   "source": [
    "for i in df1.index:\n",
    "    for j in df1.columns:\n",
    "        print(df1.loc[i][j], end=' ')"
   ]
  },
  {
   "cell_type": "markdown",
   "id": "9a00ba4b-ab5f-4950-ab19-86f356fa2b1a",
   "metadata": {},
   "source": [
    "#### [ 문제 ] one, three 행을 선택 후 저장"
   ]
  },
  {
   "cell_type": "code",
   "execution_count": null,
   "id": "7ca1a8f1-d5dd-4d1c-8dbf-1894047558fe",
   "metadata": {},
   "outputs": [],
   "source": [
    "data1 = [[11, 22, 33], [44, 55, 66], [77, 88, 99] ]\n",
    "data1 = DataFrame(data1)\n",
    "data1"
   ]
  },
  {
   "cell_type": "code",
   "execution_count": null,
   "id": "94fc65c6-4ace-4b32-a52b-d618038a440f",
   "metadata": {},
   "outputs": [],
   "source": [
    "data1.columns=['A','B','C']\n",
    "data1.index=['one', 'two', 'three']\n",
    "data1"
   ]
  },
  {
   "cell_type": "code",
   "execution_count": null,
   "id": "44e33e3b-37c1-4223-96c8-b8aa592b8311",
   "metadata": {},
   "outputs": [],
   "source": [
    "d1 = data1.loc[['one', 'three']]\n",
    "d1"
   ]
  },
  {
   "cell_type": "code",
   "execution_count": null,
   "id": "919bf31f-3418-4c3a-a2f6-44a42605efec",
   "metadata": {},
   "outputs": [],
   "source": [
    "d2 = data1.loc[['one']]\n",
    "d2"
   ]
  },
  {
   "cell_type": "code",
   "execution_count": null,
   "id": "2ca4d1b0-5cbd-4126-b34c-134bce2718ea",
   "metadata": {},
   "outputs": [],
   "source": [
    "d3 = data1.loc['one']\n",
    "d3"
   ]
  },
  {
   "cell_type": "code",
   "execution_count": null,
   "id": "b4fdcf1b-04f9-4c0a-b418-cc72bdf6c4d7",
   "metadata": {
    "scrolled": false
   },
   "outputs": [],
   "source": [
    "data = [[11, 22, 33], [44, 55, 66], [77, 88, 99]]\n",
    "df1 = DataFrame(data, [\"one\", \"two\", \"three\"], [\"A\", \"B\", \"C\"])\n",
    "df1"
   ]
  }
 ],
 "metadata": {
  "kernelspec": {
   "display_name": "Python 3 (ipykernel)",
   "language": "python",
   "name": "python3"
  },
  "language_info": {
   "codemirror_mode": {
    "name": "ipython",
    "version": 3
   },
   "file_extension": ".py",
   "mimetype": "text/x-python",
   "name": "python",
   "nbconvert_exporter": "python",
   "pygments_lexer": "ipython3",
   "version": "3.11.5"
  }
 },
 "nbformat": 4,
 "nbformat_minor": 5
}
